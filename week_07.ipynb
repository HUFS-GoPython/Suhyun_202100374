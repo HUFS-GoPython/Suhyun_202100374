{
 "cells": [
  {
   "cell_type": "markdown",
   "id": "abd5753c-d3fa-4705-bcd3-109a3917ff3e",
   "metadata": {},
   "source": [
    "### 함수"
   ]
  },
  {
   "cell_type": "markdown",
   "id": "bddde31b-124b-47bd-a0dd-f62418646b09",
   "metadata": {},
   "source": [
    "1. 정의\n",
    "    - 코드의 덩어리, 묶음\n",
    "    - 코드의 (편리한) 재사용이 주된 목적. \n",
    "    - 정의하기(define) -> 호출하기(call)\n",
    "    - 구조\n",
    "        *정의하기*\n",
    "        def 함수이름(메개변수1,2,3,...):\n",
    "            수행문1\n",
    "            수행문2\n",
    "            ...\n",
    "            return 출력값\n",
    "        *호출하기*\n",
    "        함수이름(인수1,2,3,...)\n",
    "        - '인터페이스' 잘 설정하면 내부를 몰라도 함수를 쉽게 쓸 수 있다.\n",
    "2. 이름 짓기\n",
    "    - 소문자 사용한다. (대문자 안씀)\n",
    "    - 카멜표기법 가능 < 언더바\n",
    "    - 동사 + 명사: print_output, save_model, split_text\n",
    "    - 타인과 공유한다고 할 때: 줄임말 쓰진 말기pr_output (x), 명료하게 뜻이 전달 되도록"
   ]
  },
  {
   "cell_type": "code",
   "execution_count": 2,
   "id": "f0e8af4c-e734-4be1-9029-034cab332456",
   "metadata": {},
   "outputs": [
    {
     "ename": "NameError",
     "evalue": "name 'x' is not defined",
     "output_type": "error",
     "traceback": [
      "\u001b[1;31m---------------------------------------------------------------------------\u001b[0m",
      "\u001b[1;31mNameError\u001b[0m                                 Traceback (most recent call last)",
      "\u001b[1;32m~\\AppData\\Local\\Temp/ipykernel_7124/4266956184.py\u001b[0m in \u001b[0;36m<module>\u001b[1;34m\u001b[0m\n\u001b[1;32m----> 1\u001b[1;33m \u001b[0my\u001b[0m \u001b[1;33m=\u001b[0m \u001b[0mx\u001b[0m \u001b[1;33m+\u001b[0m \u001b[1;36m1\u001b[0m \u001b[1;31m# x가 매개변수, y는 출력값이 됨\u001b[0m\u001b[1;33m\u001b[0m\u001b[1;33m\u001b[0m\u001b[0m\n\u001b[0m",
      "\u001b[1;31mNameError\u001b[0m: name 'x' is not defined"
     ]
    }
   ],
   "source": [
    "y = x + 1 # x가 매개변수, y는 출력값이 됨"
   ]
  },
  {
   "cell_type": "markdown",
   "id": "79b7599d-e626-4a08-8fc4-3b4089262051",
   "metadata": {},
   "source": [
    "split(), join()"
   ]
  },
  {
   "cell_type": "code",
   "execution_count": 1,
   "id": "cc6b9e5e-4f0c-4577-bda4-78da7207a9f9",
   "metadata": {},
   "outputs": [],
   "source": [
    "def split():\n",
    "    ####\n",
    "    return"
   ]
  },
  {
   "cell_type": "code",
   "execution_count": 5,
   "id": "c7b942d7-b508-4682-9b8b-963eb46574e2",
   "metadata": {},
   "outputs": [
    {
     "name": "stdout",
     "output_type": "stream",
     "text": [
      "quack\n"
     ]
    }
   ],
   "source": [
    "def make_a_sound():\n",
    "    # 1. 입력 없고, 반환값 없음\n",
    "    print('quack')\n",
    "    #return None\n",
    "make_a_sound()"
   ]
  },
  {
   "cell_type": "code",
   "execution_count": 8,
   "id": "31fa976d-d132-4655-8b87-5e53b6dff646",
   "metadata": {},
   "outputs": [
    {
     "name": "stdout",
     "output_type": "stream",
     "text": [
      "quack\n"
     ]
    }
   ],
   "source": [
    "make_a_sound()\n",
    "# 다른 라인에 써도 사용 가능 , 함수의 장점"
   ]
  },
  {
   "cell_type": "code",
   "execution_count": 6,
   "id": "a6b928b2-1cdf-419d-a3c5-35f69546504b",
   "metadata": {},
   "outputs": [
    {
     "data": {
      "text/plain": [
       "True"
      ]
     },
     "execution_count": 6,
     "metadata": {},
     "output_type": "execute_result"
    }
   ],
   "source": [
    "def agree():\n",
    "    # 2. 입력 없고, 반환 있고\n",
    "    return True\n",
    "agree()"
   ]
  },
  {
   "cell_type": "code",
   "execution_count": 11,
   "id": "5a889b90-344c-4767-8b6d-36353c711d3b",
   "metadata": {},
   "outputs": [
    {
     "name": "stdout",
     "output_type": "stream",
     "text": [
      "Splendid\n"
     ]
    }
   ],
   "source": [
    "if agree():\n",
    "    print('Splendid')\n",
    "else:\n",
    "    print('that was unexpected!')"
   ]
  },
  {
   "cell_type": "code",
   "execution_count": 13,
   "id": "74b1d5c2-7611-44e6-a844-b71954562b9d",
   "metadata": {},
   "outputs": [
    {
     "name": "stdout",
     "output_type": "stream",
     "text": [
      "hello hello\n"
     ]
    }
   ],
   "source": [
    "def echo(anything):\n",
    "    # 3. 입력은 있고, 반환은 없는\n",
    "    print('{0} {0}'.format(anything))\n",
    "\n",
    "echo('hello')"
   ]
  },
  {
   "cell_type": "code",
   "execution_count": 7,
   "id": "da70196b-7371-4eae-ab82-1f3b386be11a",
   "metadata": {},
   "outputs": [],
   "source": [
    "def echo(anything):\n",
    "    # 4. 입력은 있고, 반환은 없는\n",
    "    return '{0} {0}'.format(anything)\n",
    "\n",
    "echo = echo('hello')"
   ]
  },
  {
   "cell_type": "code",
   "execution_count": 9,
   "id": "8a020c38-edf6-4cd2-940e-b865880a2184",
   "metadata": {},
   "outputs": [
    {
     "data": {
      "text/plain": [
       "'hello hello'"
      ]
     },
     "execution_count": 9,
     "metadata": {},
     "output_type": "execute_result"
    }
   ],
   "source": [
    "echo\n",
    "# 할당해서 사용가능하다/ 변수에 담을 수 있다. (차이점)"
   ]
  },
  {
   "cell_type": "markdown",
   "id": "64497fee-1962-46b4-8170-b4e4c680d6e3",
   "metadata": {},
   "source": [
    "3. 인수와 매개변수\n",
    "     - 매개변수: 정의할 때 쓰임. 인터페이스 내에서만 유효함. (anything을 쳐도 안 나옴)\n",
    "     - 인수: 호출할 때 쓰임.\n",
    "     - 함수 호출 시 인수에 할당된 값이 매개변수에 복제됨\n",
    "         - line = 'hello'\n",
    "         - anything = line ### copy되는 부분임(hello가 아니라 line 이 들어감)\n",
    "         - anything 사라짐\n",
    "- 위치 인수:\n",
    "    - positional argument\n",
    "    - 값을 순서대로 상응하는 매개변수에 복사하는 것\n",
    "- 키워드 인수:\n",
    "    - keyword argument\n",
    "    - 매개변수에 상응하는 이름을 인수에 저장한다\n",
    "    - 위치가 달라도 됨\n",
    "- 디폴트 인수:\n",
    "    - default argument\n",
    "    - 정의할 때 매개변수의 기본값을 설정\n",
    "    - 호출 시 인수가 없으면 기본값으로 적용됨\n",
    "    - default 값은 non-default값 뒤에 와야 함 "
   ]
  },
  {
   "cell_type": "code",
   "execution_count": 20,
   "id": "5d46a561-4b39-4d49-87cf-a67bc1e4b22d",
   "metadata": {},
   "outputs": [],
   "source": [
    "def commentary():\n",
    "    pass # 잘 모르겠다. 나중에 설정하고 싶다."
   ]
  },
  {
   "cell_type": "code",
   "execution_count": 11,
   "id": "878808fa-a53e-4adb-9341-d585350f5153",
   "metadata": {},
   "outputs": [
    {
     "data": {
      "text/plain": [
       "'black'"
      ]
     },
     "execution_count": 11,
     "metadata": {},
     "output_type": "execute_result"
    }
   ],
   "source": [
    "def commentary(color):\n",
    "\n",
    "    if color == 'g':\n",
    "        return 'green'\n",
    "    else:\n",
    "        return 'black'\n",
    "color = 'white'\n",
    "commentary(color)"
   ]
  },
  {
   "cell_type": "code",
   "execution_count": 12,
   "id": "ff0f9043-814b-4cff-833b-223628dcafe0",
   "metadata": {},
   "outputs": [
    {
     "name": "stdout",
     "output_type": "stream",
     "text": [
      "green\n",
      "black\n",
      "black\n"
     ]
    }
   ],
   "source": [
    "colors = ['g', 'r', 'b']\n",
    "for c in colors:\n",
    "    print(commentary(c))\n",
    "# for문을 통해 리스트를 돌면서 item을 쓰는 방법\n",
    "# 주로 많이 씀"
   ]
  },
  {
   "cell_type": "code",
   "execution_count": 24,
   "id": "b67cc68b-826c-4b18-9a2e-fdb380d669fe",
   "metadata": {},
   "outputs": [
    {
     "data": {
      "text/plain": [
       "{'wine': 'rioja', 'entree': 'cake', 'dessert': 'egg'}"
      ]
     },
     "execution_count": 24,
     "metadata": {},
     "output_type": "execute_result"
    }
   ],
   "source": [
    "def menu(wine, entree, dessert):\n",
    "    return{'wine':wine, 'entree':entree, 'dessert':dessert}\n",
    "menu('rioja', 'cake', 'egg')"
   ]
  },
  {
   "cell_type": "code",
   "execution_count": 25,
   "id": "f70c4865-9561-4255-a23e-3cc4df3d9b4a",
   "metadata": {},
   "outputs": [
    {
     "data": {
      "text/plain": [
       "{'wine': 'rioja', 'entree': 'egg', 'dessert': 'pacake'}"
      ]
     },
     "execution_count": 25,
     "metadata": {},
     "output_type": "execute_result"
    }
   ],
   "source": [
    "# keyword\n",
    "menu(entree = 'egg', wine = 'rioja', dessert = 'pacake')"
   ]
  },
  {
   "cell_type": "code",
   "execution_count": 27,
   "id": "c0511873-2d72-4ac1-aecd-9cfa2cfa25c9",
   "metadata": {},
   "outputs": [
    {
     "ename": "SyntaxError",
     "evalue": "positional argument follows keyword argument (Temp/ipykernel_7124/1767284420.py, line 1)",
     "output_type": "error",
     "traceback": [
      "\u001b[1;36m  File \u001b[1;32m\"C:\\Users\\user\\AppData\\Local\\Temp/ipykernel_7124/1767284420.py\"\u001b[1;36m, line \u001b[1;32m1\u001b[0m\n\u001b[1;33m    menu(entree = 'egg', 'rioja', 'pacake')\u001b[0m\n\u001b[1;37m                                          ^\u001b[0m\n\u001b[1;31mSyntaxError\u001b[0m\u001b[1;31m:\u001b[0m positional argument follows keyword argument\n"
     ]
    }
   ],
   "source": [
    "menu(entree = 'egg', 'rioja', 'pacake')\n",
    "# 논리적으로 맞지 않음"
   ]
  },
  {
   "cell_type": "code",
   "execution_count": 30,
   "id": "a43e69a6-aa19-4e54-947c-c30b6998c7a1",
   "metadata": {},
   "outputs": [
    {
     "data": {
      "text/plain": [
       "{'wine': 'egg', 'entree': 'rioja', 'dessert': 'pacake'}"
      ]
     },
     "execution_count": 30,
     "metadata": {},
     "output_type": "execute_result"
    }
   ],
   "source": [
    "menu('egg', 'rioja', dessert = 'pacake')\n",
    "# 위치인수, 키워드인수 혼용항 때, 위치 고려함"
   ]
  },
  {
   "cell_type": "code",
   "execution_count": 18,
   "id": "ef76f3e6-e9d9-4c4c-8f9c-bae123866218",
   "metadata": {},
   "outputs": [
    {
     "ename": "SyntaxError",
     "evalue": "non-default argument follows default argument (Temp/ipykernel_7124/1181344747.py, line 4)",
     "output_type": "error",
     "traceback": [
      "\u001b[1;36m  File \u001b[1;32m\"C:\\Users\\user\\AppData\\Local\\Temp/ipykernel_7124/1181344747.py\"\u001b[1;36m, line \u001b[1;32m4\u001b[0m\n\u001b[1;33m    def menu2(wine='merlot', entree, dessert):\u001b[0m\n\u001b[1;37m                                     ^\u001b[0m\n\u001b[1;31mSyntaxError\u001b[0m\u001b[1;31m:\u001b[0m non-default argument follows default argument\n"
     ]
    }
   ],
   "source": [
    "#default\n",
    "# 처음에는 default 못함\n",
    "# 다 default로 만들거나 뒤에가 다 default는 가능, 하지만 맨 앞은 불가능\n",
    "def menu2(wine='merlot', entree, dessert):\n",
    "    return {'wine':wine, 'entree':entree, 'dessert':dessert}\n",
    "menu2('rioja', 'cake', 'egg')\n",
    "# on-default argument follows default argument 라는 오류가 뜸\n",
    "# default 값 설정 위치가 중요함, 맨 앞은 안된다."
   ]
  },
  {
   "cell_type": "code",
   "execution_count": 20,
   "id": "9a2dbe84-ee9c-44d9-a3d5-52d6c33d399f",
   "metadata": {},
   "outputs": [
    {
     "data": {
      "text/plain": [
       "{'wine': 'rioja', 'entree': 'cake', 'dessert': 'egg'}"
      ]
     },
     "execution_count": 20,
     "metadata": {},
     "output_type": "execute_result"
    }
   ],
   "source": [
    "def menu2(wine, entree, dessert='scone'):\n",
    "    return {'wine':wine, 'entree':entree, 'dessert':dessert}\n",
    "menu2('rioja', 'cake', 'egg')"
   ]
  },
  {
   "cell_type": "code",
   "execution_count": 22,
   "id": "507e9e5e-bddc-44f9-b4df-579c7a5c915f",
   "metadata": {},
   "outputs": [
    {
     "data": {
      "text/plain": [
       "{'wine': 'merlot', 'entree': 'egg', 'dessert': 'scone'}"
      ]
     },
     "execution_count": 22,
     "metadata": {},
     "output_type": "execute_result"
    }
   ],
   "source": [
    "menu2('merlot', 'egg')\n",
    "# scone이 들어가는 것을 볼 수 있음"
   ]
  },
  {
   "cell_type": "markdown",
   "id": "d177b786-b3bb-4f30-8722-7123d98d77b9",
   "metadata": {},
   "source": [
    "### 나이 -> 연도\n",
    "def fx():\n",
    "    # 입력값 = 나이\n",
    "    # 반환값 = 출생년도 \n",
    "- input 입력 받아서 함수 사용해서 출력하기"
   ]
  },
  {
   "cell_type": "code",
   "execution_count": 31,
   "id": "bb63723e-ccab-4d7c-bde8-1e1b09bd0b96",
   "metadata": {},
   "outputs": [
    {
     "ename": "NameError",
     "evalue": "name 'fx' is not defined",
     "output_type": "error",
     "traceback": [
      "\u001b[1;31m---------------------------------------------------------------------------\u001b[0m",
      "\u001b[1;31mNameError\u001b[0m                                 Traceback (most recent call last)",
      "\u001b[1;32m~\\AppData\\Local\\Temp/ipykernel_8908/1533425509.py\u001b[0m in \u001b[0;36m<module>\u001b[1;34m\u001b[0m\n\u001b[0;32m      4\u001b[0m     \u001b[0mborn_year\u001b[0m \u001b[1;33m=\u001b[0m \u001b[0mcurr_year\u001b[0m \u001b[1;33m-\u001b[0m \u001b[0mage\u001b[0m \u001b[1;33m+\u001b[0m \u001b[1;36m1\u001b[0m\u001b[1;33m\u001b[0m\u001b[1;33m\u001b[0m\u001b[0m\n\u001b[0;32m      5\u001b[0m     \u001b[1;32mreturn\u001b[0m \u001b[0mborn_year\u001b[0m\u001b[1;33m\u001b[0m\u001b[1;33m\u001b[0m\u001b[0m\n\u001b[1;32m----> 6\u001b[1;33m \u001b[0mfx\u001b[0m\u001b[1;33m(\u001b[0m\u001b[1;33m)\u001b[0m\u001b[1;33m\u001b[0m\u001b[1;33m\u001b[0m\u001b[0m\n\u001b[0m",
      "\u001b[1;31mNameError\u001b[0m: name 'fx' is not defined"
     ]
    }
   ],
   "source": [
    "def calc_birth_year(age):\n",
    "    age = int(input())\n",
    "    curr_year = 2022\n",
    "    born_year = curr_year - age + 1\n",
    "    return born_year\n",
    "fx()"
   ]
  },
  {
   "cell_type": "code",
   "execution_count": null,
   "id": "4b7b0192-1ae7-4b97-9e0e-20289a13ba78",
   "metadata": {},
   "outputs": [],
   "source": [
    "def year_find(age): # find_year\n",
    "def year_calc(age): # calc_y\n",
    "def birth_year(num): #동사 아님\n",
    "def agCalc(age): # 언더바 더 사용\n",
    "def calc_birth_year(years_old): # 제일 나음"
   ]
  },
  {
   "cell_type": "code",
   "execution_count": 33,
   "id": "6a342f9f-543d-4c36-b8b5-28926bfc434a",
   "metadata": {},
   "outputs": [
    {
     "name": "stdin",
     "output_type": "stream",
     "text": [
      " 2\n"
     ]
    },
    {
     "data": {
      "text/plain": [
       "2021"
      ]
     },
     "execution_count": 33,
     "metadata": {},
     "output_type": "execute_result"
    }
   ],
   "source": [
    "def calc_birth_year(years_old):\n",
    "    this_year = 2022\n",
    "    return this_year - years_old +1\n",
    "age = int(input())\n",
    "calc_birth_year(age)"
   ]
  },
  {
   "cell_type": "markdown",
   "id": "e9bf6eb3-cb61-4fda-aad3-e14970adeafd",
   "metadata": {},
   "source": [
    "### 예\n",
    "- 사각형 너비 구하기\n",
    "    - 입력: 두 변 길이\n",
    "    - 변환: string = \"xx cm\"\n",
    "    - 함수이름!!\n",
    "def calc_area(side1, side2):\n",
    "    area = side1 * side2\n",
    "    return f'{area}cm'\n",
    "side1 = float(input())\n",
    "side2 = float(input())\n",
    "calc_area(area)\n"
   ]
  },
  {
   "cell_type": "code",
   "execution_count": 36,
   "id": "39b5bf3a-b9f3-4972-8756-9b77159dcf91",
   "metadata": {},
   "outputs": [
    {
     "name": "stdin",
     "output_type": "stream",
     "text": [
      " 2\n",
      " 3\n"
     ]
    },
    {
     "data": {
      "text/plain": [
       "'6.0cm'"
      ]
     },
     "execution_count": 36,
     "metadata": {},
     "output_type": "execute_result"
    }
   ],
   "source": [
    "def calc_area(side1, side2):\n",
    "    area = side1 * side2\n",
    "    return f'{area}cm'\n",
    "side1 = float(input())\n",
    "side2 = float(input())\n",
    "calc_area(side1, side2)\n"
   ]
  },
  {
   "cell_type": "markdown",
   "id": "ee03c587-c1b5-455d-aabb-a983797b9ac6",
   "metadata": {},
   "source": [
    "### 호출 방식:\n",
    "    - 정의된 부분이 메모리에 업로드 되지만 실행은 안 된다.\n",
    "    - 실행은 호출 시\n",
    "    - 값을 넘기는 방식: 참조에 의한 호출(call by reference) 메모리 주소\n",
    "    - 메모리 주소가 복사되기 때문에 가변개체가 들어갈 때 주의할 것\n",
    "        - 리스트가 계속 쌓이는 것 주의"
   ]
  },
  {
   "cell_type": "code",
   "execution_count": 41,
   "id": "734771b2-7720-4986-a56a-561699442808",
   "metadata": {},
   "outputs": [
    {
     "name": "stdout",
     "output_type": "stream",
     "text": [
      "2\n",
      "3\n",
      "1\n",
      "4\n"
     ]
    }
   ],
   "source": [
    "def calc_area(length, width):\n",
    "    print('1')\n",
    "    return length * width\n",
    "print('2')\n",
    "garo = 2\n",
    "sero = 43\n",
    "print('3')\n",
    "calc_area(garo,sero)\n",
    "print('4')"
   ]
  },
  {
   "cell_type": "code",
   "execution_count": 33,
   "id": "d3ad2dfb-214b-4509-9cfe-99de937350fd",
   "metadata": {},
   "outputs": [
    {
     "name": "stdout",
     "output_type": "stream",
     "text": [
      "['a']\n",
      "['a', 'b']\n"
     ]
    }
   ],
   "source": [
    "def buggy(arg, result=[]):\n",
    "    result.append(arg)\n",
    "    print(result)\n",
    "buggy('a')\n",
    "buggy('b')\n",
    "# 우리가 원하는건 [a], [b]인데 쌓이게 됨\n",
    "# 얕은 복사를 사용해서 메모리가 참조됨"
   ]
  },
  {
   "cell_type": "code",
   "execution_count": 34,
   "id": "bb16781c-c8a2-48dc-91c8-028613683f22",
   "metadata": {},
   "outputs": [
    {
     "name": "stdout",
     "output_type": "stream",
     "text": [
      "['a']\n",
      "['b']\n"
     ]
    }
   ],
   "source": [
    "def buggy(arg, result=[]):\n",
    "    result = [] # 리스트 비우기\n",
    "    result.append(arg)\n",
    "    print(result)\n",
    "buggy('a')\n",
    "buggy('b')"
   ]
  },
  {
   "cell_type": "code",
   "execution_count": 39,
   "id": "1a612f59-256e-4ea0-b330-6c22aca40009",
   "metadata": {},
   "outputs": [
    {
     "name": "stdout",
     "output_type": "stream",
     "text": [
      "[2, 3] eggs\n",
      "[0, 1] ham\n"
     ]
    }
   ],
   "source": [
    "# lenngth = garo # list.copy\n",
    "def spam(eggs):\n",
    "    eggs.append(1)\n",
    "    eggs = [2,3]\n",
    "    print(eggs, 'eggs')\n",
    "ham =[0]\n",
    "spam(ham)\n",
    "print(ham, 'ham')\n",
    "# 첫 번째는 비운 것\n",
    "# 두 번째는 새로운 것이 나옴\n",
    "# 리스트를 비우지 않으면 계속해서 쌓인다"
   ]
  },
  {
   "cell_type": "code",
   "execution_count": 40,
   "id": "34703b2b-5145-4ea4-a9db-efd3d00ee62f",
   "metadata": {},
   "outputs": [
    {
     "name": "stdout",
     "output_type": "stream",
     "text": [
      "b\n"
     ]
    }
   ],
   "source": [
    "### None - 두 가지를 다 쓰고 싶을 때 \n",
    "# None은 비어있는 객체 타입이다\n",
    "thing = None\n",
    "if thing:\n",
    "    print('a') #True\n",
    "else:\n",
    "    print('b')#False"
   ]
  },
  {
   "cell_type": "code",
   "execution_count": 42,
   "id": "4c19d9cf-3ac0-4c06-be70-ac714754e49d",
   "metadata": {},
   "outputs": [
    {
     "name": "stdout",
     "output_type": "stream",
     "text": [
      "a\n"
     ]
    }
   ],
   "source": [
    "# True를 반환하고싶다\n",
    "thing = None\n",
    "if thing is None:\n",
    "    print('a') #True\n",
    "elif thing:\n",
    "    print('b')\n",
    "else:\n",
    "    print('c')#False"
   ]
  },
  {
   "cell_type": "code",
   "execution_count": 45,
   "id": "2296b859-b320-480c-a8e0-579f793646b3",
   "metadata": {},
   "outputs": [
    {
     "name": "stdout",
     "output_type": "stream",
     "text": [
      "['a']\n",
      "['a', 'b']\n"
     ]
    }
   ],
   "source": [
    "# result가 None이면 빈 리스트 - result is None\n",
    "# 아니면 코드 그대로\n",
    "# 목표: 리스트 쌓이거나 바꾸는 옵션 모두 설정하도록 None 사용해서 함수 재정의하기.\n",
    "def nonbuggy(arg, result=None):\n",
    "    # 기본은 None타입으로 하기\n",
    "    if result is None:\n",
    "        result=[]\n",
    "    result.append(arg)\n",
    "    print(result)\n",
    "list_a =[]\n",
    "nonbuggy('a', list_a)\n",
    "nonbuggy('b', list_a)"
   ]
  },
  {
   "cell_type": "code",
   "execution_count": 47,
   "id": "bca1391b-18bc-4481-8b42-be8306d8df7a",
   "metadata": {},
   "outputs": [
    {
     "name": "stdout",
     "output_type": "stream",
     "text": [
      "['a']\n",
      "['b']\n"
     ]
    }
   ],
   "source": [
    "def nonbuggy(arg, result=None):\n",
    "    # 기본은 None타입으로 하기\n",
    "    if result is None:\n",
    "        result=[]\n",
    "    result.append(arg)\n",
    "    print(result)\n",
    "nonbuggy('a')\n",
    "nonbuggy('b')\n",
    "# 안쌓이게 하기"
   ]
  },
  {
   "cell_type": "code",
   "execution_count": 49,
   "id": "da61a64a-6a5f-4c4d-bdf1-85ad6943ba18",
   "metadata": {},
   "outputs": [
    {
     "ename": "NameError",
     "evalue": "name 'result' is not defined",
     "output_type": "error",
     "traceback": [
      "\u001b[1;31m---------------------------------------------------------------------------\u001b[0m",
      "\u001b[1;31mNameError\u001b[0m                                 Traceback (most recent call last)",
      "\u001b[1;32m~\\AppData\\Local\\Temp/ipykernel_7124/903186847.py\u001b[0m in \u001b[0;36m<module>\u001b[1;34m\u001b[0m\n\u001b[1;32m----> 1\u001b[1;33m \u001b[0mresult\u001b[0m\u001b[1;33m\u001b[0m\u001b[1;33m\u001b[0m\u001b[0m\n\u001b[0m\u001b[0;32m      2\u001b[0m \u001b[1;31m# result를 모른다고 뜸- 전역변수와 지역변수의 차이\u001b[0m\u001b[1;33m\u001b[0m\u001b[1;33m\u001b[0m\u001b[0m\n",
      "\u001b[1;31mNameError\u001b[0m: name 'result' is not defined"
     ]
    }
   ],
   "source": [
    "result\n",
    "# result를 모른다고 뜸- 전역변수와 지역변수의 차이"
   ]
  },
  {
   "cell_type": "markdown",
   "id": "04a1f2c7-25f6-4b71-8fa4-b6a52954f3e0",
   "metadata": {},
   "source": [
    "### 전역변수 vs. 지역변수\n",
    "- 지역변수: 함수 내에서만 사용 가능\n",
    "- 전역변수: 프로그램 전체에서 사용 가능 (매개변수는 전역변수임)\n",
    "    - global 사용"
   ]
  },
  {
   "cell_type": "code",
   "execution_count": 57,
   "id": "92a645d8-4acd-4a70-bb01-757994492440",
   "metadata": {},
   "outputs": [
    {
     "name": "stdout",
     "output_type": "stream",
     "text": [
      "london\n",
      "paris\n"
     ]
    }
   ],
   "source": [
    "def fx():\n",
    "    city = 'london'\n",
    "    print(city)\n",
    "city = 'paris'\n",
    "fx()\n",
    "print(city)\n",
    "# city가 london으로 반환 안됨"
   ]
  },
  {
   "cell_type": "code",
   "execution_count": 56,
   "id": "52d80beb-34c9-4c69-8285-49cdb238c3be",
   "metadata": {},
   "outputs": [
    {
     "name": "stdout",
     "output_type": "stream",
     "text": [
      "london\n",
      "london\n"
     ]
    }
   ],
   "source": [
    "def fx():\n",
    "    global city\n",
    "    city = 'london'\n",
    "    print(city)\n",
    "city = 'paris'\n",
    "fx()\n",
    "print(city)\n",
    "# 어디서나 london으로 반환된다"
   ]
  },
  {
   "cell_type": "code",
   "execution_count": 51,
   "id": "d6874c19-35ef-4aa9-9d3c-95175fc3f735",
   "metadata": {},
   "outputs": [
    {
     "data": {
      "text/plain": [
       "'\\ndoc string: 함수에 대한 설명\\n매개변수에 대한 설명, 타입, 함수의 의도\\n'"
      ]
     },
     "execution_count": 51,
     "metadata": {},
     "output_type": "execute_result"
    }
   ],
   "source": [
    "\"\"\"\n",
    "doc string: 함수에 대한 설명\n",
    "매개변수에 대한 설명, 타입, 함수의 의도\n",
    "\"\"\""
   ]
  },
  {
   "cell_type": "code",
   "execution_count": 54,
   "id": "0fd802d0-d294-47d3-b240-8c762e318e00",
   "metadata": {},
   "outputs": [
    {
     "name": "stdout",
     "output_type": "stream",
     "text": [
      "Help on function fx in module __main__:\n",
      "\n",
      "fx()\n",
      "\n"
     ]
    }
   ],
   "source": [
    "# 독스트링 확인하고 싶을 때\n",
    "help(fx)\n",
    "# 괄호빼고"
   ]
  },
  {
   "cell_type": "code",
   "execution_count": 58,
   "id": "137c93a4-9004-402e-ade9-cc2c8108ed03",
   "metadata": {},
   "outputs": [],
   "source": [
    "fx.__doc__"
   ]
  },
  {
   "cell_type": "markdown",
   "id": "288288ec-1fd3-4f25-ba87-464bddedfa72",
   "metadata": {},
   "source": [
    "### brown 코퍼스 정제하기"
   ]
  },
  {
   "cell_type": "code",
   "execution_count": 2,
   "id": "7cf9e861-fb13-4ea1-9545-5efeff0f6151",
   "metadata": {},
   "outputs": [
    {
     "name": "stderr",
     "output_type": "stream",
     "text": [
      "[nltk_data] Downloading package brown to\n",
      "[nltk_data]     C:\\Users\\user\\AppData\\Roaming\\nltk_data...\n",
      "[nltk_data]   Package brown is already up-to-date!\n"
     ]
    }
   ],
   "source": [
    "import nltk\n",
    "nltk.download('brown')\n",
    "\n",
    "#1. 데이터셋 가져오기\n",
    "brown = nltk.corpus.brown.raw(categories = 'romance')\n",
    "romance = brown[:5000]"
   ]
  },
  {
   "cell_type": "code",
   "execution_count": 30,
   "id": "fc149008-1d4c-4cfe-b38c-379fe5188719",
   "metadata": {
    "tags": []
   },
   "outputs": [
    {
     "data": {
      "text/plain": [
       "'\\n\\n\\tThey/pp'"
      ]
     },
     "execution_count": 30,
     "metadata": {},
     "output_type": "execute_result"
    }
   ],
   "source": [
    "romance[:10] #[[They],[neither],[liked],[]...]\n",
    "# .\n",
    "# ./.\n",
    "# \\n"
   ]
  },
  {
   "cell_type": "code",
   "execution_count": 3,
   "id": "9eba2165-8511-4e34-abd8-12bfd671a3cb",
   "metadata": {
    "tags": []
   },
   "outputs": [],
   "source": [
    "# ?, ! 끝나는 문장은 이 문제에서 제외\n",
    "sentence = [sentence.strip() for sentence in romance.split('./.')]\n",
    "# 마침표로 하면 / 이런게 남아있음 \n",
    "# \\n으로 하면 ./.이 남음"
   ]
  },
  {
   "cell_type": "code",
   "execution_count": 4,
   "id": "b755300b-9adc-41a3-9112-ef59084328bc",
   "metadata": {},
   "outputs": [
    {
     "data": {
      "text/plain": [
       "'They/ppss neither/cc liked/vbd nor/cc disliked/vbd the/at Old/jj-tl Man/nn-tl'"
      ]
     },
     "execution_count": 4,
     "metadata": {},
     "output_type": "execute_result"
    }
   ],
   "source": [
    "sentence[0]"
   ]
  },
  {
   "cell_type": "code",
   "execution_count": 14,
   "id": "52ee0b9c-95cb-4b96-98df-e5c18dad9dbc",
   "metadata": {},
   "outputs": [
    {
     "data": {
      "text/plain": [
       "['They', 'neither', 'liked', 'nor', 'disliked', 'the', 'Old', 'Man']"
      ]
     },
     "execution_count": 14,
     "metadata": {},
     "output_type": "execute_result"
    }
   ],
   "source": [
    "# 단어 분절\n",
    "example = sentence[0]\n",
    "[word.split('/')[0] for word in example.split(' ')]"
   ]
  },
  {
   "cell_type": "code",
   "execution_count": 16,
   "id": "e42be53f-cfe4-439c-9a99-c3f11290a425",
   "metadata": {},
   "outputs": [
    {
     "data": {
      "text/plain": [
       "['They', 'neither', 'liked', 'nor', 'disliked', 'the', 'Old', 'Man']"
      ]
     },
     "execution_count": 16,
     "metadata": {},
     "output_type": "execute_result"
    }
   ],
   "source": [
    "[word[:word.find('/')] for word in example.split(' ') if word.find('/')]"
   ]
  },
  {
   "cell_type": "code",
   "execution_count": 19,
   "id": "0054383a-7d16-4b39-8f42-b6688e6580c1",
   "metadata": {},
   "outputs": [],
   "source": [
    "# 전체 문장에 반영\n",
    "sentence_tokens=[[word.split('/')[0] for word in sen.split(' ')] for sen in sentence]"
   ]
  },
  {
   "cell_type": "code",
   "execution_count": 10,
   "id": "775a98f7-b365-46d3-b7eb-a5c8c2ac7114",
   "metadata": {
    "tags": []
   },
   "outputs": [
    {
     "data": {
      "text/plain": [
       "32"
      ]
     },
     "execution_count": 10,
     "metadata": {},
     "output_type": "execute_result"
    }
   ],
   "source": [
    "# 문장부호 제외\n",
    "import string\n",
    "punctuations = list(string.punctuation)\n",
    "len(punctuations)"
   ]
  },
  {
   "cell_type": "code",
   "execution_count": 7,
   "id": "3cfa64bf-9257-40f6-b7e0-68a19d077216",
   "metadata": {},
   "outputs": [
    {
     "data": {
      "text/plain": [
       "True"
      ]
     },
     "execution_count": 7,
     "metadata": {},
     "output_type": "execute_result"
    }
   ],
   "source": [
    "'%' in punctuations"
   ]
  },
  {
   "cell_type": "code",
   "execution_count": 32,
   "id": "9294d485-6afe-44b9-85b0-028c4f40a006",
   "metadata": {
    "tags": []
   },
   "outputs": [
    {
     "data": {
      "text/plain": [
       "31"
      ]
     },
     "execution_count": 32,
     "metadata": {},
     "output_type": "execute_result"
    }
   ],
   "source": [
    "sentence_tokens=[[word.split('/')[0] for word in sen.split(' ')\\\n",
    "                  if word.split('/')[0] not in punctuations]\\\n",
    "                      for sen in sentence]\n",
    "len(sentence_tokens)"
   ]
  },
  {
   "cell_type": "code",
   "execution_count": 8,
   "id": "8e0e909a-e7a9-469e-9abf-a3f72641fff8",
   "metadata": {},
   "outputs": [
    {
     "data": {
      "text/plain": [
       "[['They', 'neither', 'liked', 'nor', 'disliked', 'the', 'Old', 'Man']]"
      ]
     },
     "execution_count": 8,
     "metadata": {},
     "output_type": "execute_result"
    }
   ],
   "source": [
    "sentence_tokens=[[word.split('/')[0] for word in sen.split(' ')\\\n",
    "                  if word.split('/')[0] not in punctuations]\\\n",
    "                      for sen in sentence]\n",
    "sentence_tokens[:1]"
   ]
  },
  {
   "cell_type": "code",
   "execution_count": 12,
   "id": "669f856f-601d-4222-8cfc-1cf6e5384287",
   "metadata": {},
   "outputs": [
    {
     "ename": "NameError",
     "evalue": "name 'list_del' is not defined",
     "output_type": "error",
     "traceback": [
      "\u001b[1;31m---------------------------------------------------------------------------\u001b[0m",
      "\u001b[1;31mNameError\u001b[0m                                 Traceback (most recent call last)",
      "\u001b[1;32m~\\AppData\\Local\\Temp/ipykernel_24388/2597419875.py\u001b[0m in \u001b[0;36m<module>\u001b[1;34m\u001b[0m\n\u001b[0;32m      1\u001b[0m \u001b[1;31m# sentence_tokens에서 punctuations 없애기\u001b[0m\u001b[1;33m\u001b[0m\u001b[1;33m\u001b[0m\u001b[0m\n\u001b[1;32m----> 2\u001b[1;33m \u001b[1;32mfor\u001b[0m \u001b[0mword\u001b[0m \u001b[1;32min\u001b[0m \u001b[0mlist_del\u001b[0m\u001b[1;33m:\u001b[0m\u001b[1;33m\u001b[0m\u001b[1;33m\u001b[0m\u001b[0m\n\u001b[0m\u001b[0;32m      3\u001b[0m     \u001b[1;32mif\u001b[0m \u001b[0mword\u001b[0m \u001b[1;32min\u001b[0m \u001b[0mdelte_list\u001b[0m\u001b[1;33m:\u001b[0m\u001b[1;33m\u001b[0m\u001b[1;33m\u001b[0m\u001b[0m\n\u001b[0;32m      4\u001b[0m         \u001b[0mtemp_list\u001b[0m\u001b[1;33m.\u001b[0m\u001b[0mremove\u001b[0m\u001b[1;33m(\u001b[0m\u001b[0mword\u001b[0m\u001b[1;33m)\u001b[0m\u001b[1;33m\u001b[0m\u001b[1;33m\u001b[0m\u001b[0m\n\u001b[0;32m      5\u001b[0m \u001b[1;31m# 완성된 코드 아님 리스트컴프리핸션 써야함\u001b[0m\u001b[1;33m\u001b[0m\u001b[1;33m\u001b[0m\u001b[0m\n",
      "\u001b[1;31mNameError\u001b[0m: name 'list_del' is not defined"
     ]
    }
   ],
   "source": [
    "# sentence_tokens에서 punctuations 없애기\n",
    "for word in list_del:\n",
    "    if word in delte_list:\n",
    "        temp_list.remove(word)\n",
    "# 완성된 코드 아님 리스트컴프리핸션 써야함"
   ]
  },
  {
   "cell_type": "code",
   "execution_count": 28,
   "id": "699f7339-2654-43d6-a0ba-d5cf04530926",
   "metadata": {},
   "outputs": [],
   "source": [
    "#1. 전체 텍스트에서 punctuations에 있는 punctuation 찾아서 리스트에 추가하는 방법\n",
    "#2. 내가 손수 주기"
   ]
  },
  {
   "cell_type": "code",
   "execution_count": 29,
   "id": "4daa720f-8638-4fe0-afa5-fbf2f9823052",
   "metadata": {},
   "outputs": [
    {
     "data": {
      "text/plain": [
       "{\"''\",\n",
       " '--',\n",
       " \"It's\",\n",
       " 'Mauve-colored',\n",
       " '``',\n",
       " \"didn't\",\n",
       " 'fly-dotted',\n",
       " 'fur-piece',\n",
       " \"man's\",\n",
       " 'satin-covered',\n",
       " \"shouldn't\",\n",
       " \"that's\"}"
      ]
     },
     "execution_count": 29,
     "metadata": {},
     "output_type": "execute_result"
    }
   ],
   "source": [
    "#3. 문장부호 먼저 찾고 -> punctuations 리스트 업데이트 -> 37라인에 적용하기 user_punc\n",
    "marks = []\n",
    "for sent in sentence_tokens:\n",
    "    for word in sent:\n",
    "        if not word.isdigit() and not word.isalpha():\n",
    "            marks.append(word)\n",
    "set(marks)"
   ]
  },
  {
   "cell_type": "code",
   "execution_count": 17,
   "id": "83ace9d0-d6be-41dd-8b0e-ff193cbd0de1",
   "metadata": {},
   "outputs": [],
   "source": [
    "text_punct = set([word for sent in sentence_tokens for word in sent if not word[0].isalnum()]) # punct 제거한"
   ]
  },
  {
   "cell_type": "code",
   "execution_count": 18,
   "id": "fb716d0f-f6ee-41f9-9a7d-debbbebcde62",
   "metadata": {},
   "outputs": [],
   "source": [
    "punctuations.extend(list(text_punct))"
   ]
  },
  {
   "cell_type": "code",
   "execution_count": 19,
   "id": "eb8e6799-f7e1-4865-9b3c-bcb82ddc5c34",
   "metadata": {},
   "outputs": [
    {
     "data": {
      "text/plain": [
       "35"
      ]
     },
     "execution_count": 19,
     "metadata": {},
     "output_type": "execute_result"
    }
   ],
   "source": [
    "len(punctuations)"
   ]
  },
  {
   "cell_type": "markdown",
   "id": "3575ea70-c56c-47b9-bb89-fa75539037aa",
   "metadata": {},
   "source": [
    "# hyphen\n",
    "fur-piece => fur, piece\n",
    "\n",
    "# apostrphe => she's, don't / she, is, she, 's, she, s"
   ]
  },
  {
   "cell_type": "code",
   "execution_count": 38,
   "id": "52bd228b-37d8-4d42-8ec6-4e484a3cb02e",
   "metadata": {},
   "outputs": [
    {
     "data": {
      "text/plain": [
       "['fur', 'piece']"
      ]
     },
     "execution_count": 38,
     "metadata": {},
     "output_type": "execute_result"
    }
   ],
   "source": [
    "'fur-piece'.split('-') # -> list extend"
   ]
  },
  {
   "cell_type": "code",
   "execution_count": 39,
   "id": "466d2971-1a31-4a56-893d-f499ab065344",
   "metadata": {},
   "outputs": [
    {
     "data": {
      "text/plain": [
       "[1, 2, 3, 4]"
      ]
     },
     "execution_count": 39,
     "metadata": {},
     "output_type": "execute_result"
    }
   ],
   "source": [
    "a = [1,2]\n",
    "b=[3,4]\n",
    "a.extend(b)\n",
    "a"
   ]
  },
  {
   "cell_type": "code",
   "execution_count": 27,
   "id": "de6116bb-6007-4e25-9a03-720835dee023",
   "metadata": {},
   "outputs": [
    {
     "data": {
      "text/plain": [
       "('she', \"'s\")"
      ]
     },
     "execution_count": 27,
     "metadata": {},
     "output_type": "execute_result"
    }
   ],
   "source": [
    "word = 'she\\'s'\n",
    "index = word.find('\\'')\n",
    "word[:index], word[index:]"
   ]
  },
  {
   "cell_type": "code",
   "execution_count": 33,
   "id": "72b0b3e5-e7a6-46a3-ba33-9838293dc29e",
   "metadata": {
    "tags": []
   },
   "outputs": [
    {
     "data": {
      "text/plain": [
       "31"
      ]
     },
     "execution_count": 33,
     "metadata": {},
     "output_type": "execute_result"
    }
   ],
   "source": [
    "[word for sent in sentence_tokens for word in sent] # x\n",
    "len([[word for word in sent] for sent in sentence_tokens])"
   ]
  },
  {
   "cell_type": "code",
   "execution_count": null,
   "id": "d731bfd1-239e-445f-b62b-21ec04a613a0",
   "metadata": {},
   "outputs": [],
   "source": [
    "for loop\n",
    "    if index:\n",
    "        # hyphen\n",
    "        #'s\n",
    "        \n",
    "    # fur-piece's\n",
    "# 루프를타면서 extend"
   ]
  },
  {
   "cell_type": "code",
   "execution_count": 29,
   "id": "40f18a93-2b3b-4015-9469-1310a9485fc3",
   "metadata": {},
   "outputs": [
    {
     "data": {
      "text/plain": [
       "[False]"
      ]
     },
     "execution_count": 29,
     "metadata": {},
     "output_type": "execute_result"
    }
   ],
   "source": [
    "stopwords = nltk.corpus.stopwords.words('english')\n",
    "[word not in stopwords]\n",
    "# 불용어: 빈도수만 많고, 의미가 없는\n",
    "# 교수님 수업에서는 단어가 나왔는데 저는 왜 False로 뜨는지 모르겠습니다."
   ]
  },
  {
   "cell_type": "code",
   "execution_count": null,
   "id": "c21c2d03-127e-4121-b216-074ad00506ac",
   "metadata": {},
   "outputs": [],
   "source": []
  }
 ],
 "metadata": {
  "kernelspec": {
   "display_name": "Python 3 (ipykernel)",
   "language": "python",
   "name": "python3"
  },
  "language_info": {
   "codemirror_mode": {
    "name": "ipython",
    "version": 3
   },
   "file_extension": ".py",
   "mimetype": "text/x-python",
   "name": "python",
   "nbconvert_exporter": "python",
   "pygments_lexer": "ipython3",
   "version": "3.9.7"
  }
 },
 "nbformat": 4,
 "nbformat_minor": 5
}
