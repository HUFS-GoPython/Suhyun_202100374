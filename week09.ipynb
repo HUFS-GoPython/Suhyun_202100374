{
 "cells": [
  {
   "cell_type": "markdown",
   "id": "83a7b5b3-4f89-45cc-a4ae-35d9ac41d166",
   "metadata": {},
   "source": [
    "### Dictionary\n",
    "- 영어사전이라고 생각하면, 단어:뜻\n",
    "- 키: 값\n",
    "    - 키 값은 고유해야한다. (키가 중복이 되면 안된다)\n",
    "- 순서가 없음 => 오프셋 없음\n",
    "- 가변 객체 (수정, 추가, 삭제 가능)\n",
    "- 타입: dict, dict()\n",
    "- 생성: {k1:v1, k2:v2,...} 중괄호 사용\n",
    "- value에는 리스트, 튜플, 딕셔너리도 들어갈 수 있음."
   ]
  },
  {
   "cell_type": "code",
   "execution_count": 3,
   "id": "7247fdfb-60fd-4bbf-9304-52ad00e730cd",
   "metadata": {},
   "outputs": [
    {
     "data": {
      "text/plain": [
       "1"
      ]
     },
     "execution_count": 3,
     "metadata": {},
     "output_type": "execute_result"
    }
   ],
   "source": [
    "a = [1,2,3]\n",
    "a[0]"
   ]
  },
  {
   "cell_type": "code",
   "execution_count": 5,
   "id": "fe81878a-86e4-4f13-a8f0-8798295c3dfa",
   "metadata": {},
   "outputs": [
    {
     "data": {
      "text/plain": [
       "set"
      ]
     },
     "execution_count": 5,
     "metadata": {},
     "output_type": "execute_result"
    }
   ],
   "source": [
    "a = {} # dictionary -set아님\n",
    "a = set #set은 이렇게만\n",
    "a"
   ]
  },
  {
   "cell_type": "code",
   "execution_count": 3,
   "id": "a74d4b22-515b-434c-b464-9892238b0fef",
   "metadata": {},
   "outputs": [
    {
     "data": {
      "text/plain": [
       "{}"
      ]
     },
     "execution_count": 3,
     "metadata": {},
     "output_type": "execute_result"
    }
   ],
   "source": [
    "empty = dict()\n",
    "empty = {}\n",
    "empty"
   ]
  },
  {
   "cell_type": "code",
   "execution_count": 9,
   "id": "0535d23a-02c7-4c3e-862f-6f847bb7e61a",
   "metadata": {},
   "outputs": [
    {
     "data": {
      "text/plain": [
       "{'first': 'wile', 'middle': 'e', 'last': 'coyote'}"
      ]
     },
     "execution_count": 9,
     "metadata": {},
     "output_type": "execute_result"
    }
   ],
   "source": [
    "# 딕셔너리 표현1\n",
    "customer = {'first':'wile', 'middle':'e', 'last':'coyote'}\n",
    "customer"
   ]
  },
  {
   "cell_type": "code",
   "execution_count": 6,
   "id": "d17efc1e-e41a-478a-a364-06ff0ada0347",
   "metadata": {},
   "outputs": [
    {
     "data": {
      "text/plain": [
       "{'first': 'wile', 'middle': 'e', 'last': 'coyote'}"
      ]
     },
     "execution_count": 6,
     "metadata": {},
     "output_type": "execute_result"
    }
   ],
   "source": [
    "# 딕셔너리 표현2\n",
    "customer = dict(first = 'wile', middle = 'e', last = 'coyote') \n",
    "customer"
   ]
  },
  {
   "cell_type": "code",
   "execution_count": 8,
   "id": "fff5d9c2-148e-473c-a093-580262781bb1",
   "metadata": {},
   "outputs": [
    {
     "data": {
      "text/plain": [
       "'이름, 학번, 학과\\n제임스 202201 경영학과\\n줄리엣 202202 아랍어과\\n로버트 202203 ELLT과\\n'"
      ]
     },
     "execution_count": 8,
     "metadata": {},
     "output_type": "execute_result"
    }
   ],
   "source": [
    "# 출석부 딕셔너리 만들기\n",
    "\"\"\"이름, 학번, 학과\n",
    "제임스 202201 경영학과\n",
    "줄리엣 202202 아랍어과\n",
    "로버트 202203 ELLT과\n",
    "\"\"\"\n",
    "# 학번을 키로 가져가기, 학번은 겹칠 수 있음"
   ]
  },
  {
   "cell_type": "code",
   "execution_count": 10,
   "id": "526c7ed1-e788-4dd3-839d-dc9b8b823e3e",
   "metadata": {},
   "outputs": [
    {
     "data": {
      "text/plain": [
       "{'이름': '권수현', '학번': '202100374', '학과': '포르투갈어학과'}"
      ]
     },
     "execution_count": 10,
     "metadata": {},
     "output_type": "execute_result"
    }
   ],
   "source": [
    "student_dic = {'이름':'권수현', '학번':'202100374', '학과':'포르투갈어학과'}\n",
    "student_dic"
   ]
  },
  {
   "cell_type": "code",
   "execution_count": 10,
   "id": "890efe06-a5da-4234-8b49-df56c5d40d28",
   "metadata": {},
   "outputs": [
    {
     "data": {
      "text/plain": [
       "{'제임스': (202201, '경영학과'), '줄리엣': (202202, '아랍어과'), '로버트': (202203, 'ELLT과')}"
      ]
     },
     "execution_count": 10,
     "metadata": {},
     "output_type": "execute_result"
    }
   ],
   "source": [
    "student_dic = dict(제임스=(202201, '경영학과'), 줄리엣 =(202202,'아랍어과'), 로버트 = (202203, 'ELLT과'))\n",
    "student_dic\n",
    "# 리스트로도 가능, 튜플로 할거면 다 튜플로 해주기"
   ]
  },
  {
   "cell_type": "markdown",
   "id": "f25bce6e-555d-4a37-805c-f90f3313209f",
   "metadata": {},
   "source": [
    "### 형변환"
   ]
  },
  {
   "cell_type": "code",
   "execution_count": 11,
   "id": "d1b3b51c-de89-4acd-bb03-69f50a84f7aa",
   "metadata": {},
   "outputs": [
    {
     "data": {
      "text/plain": [
       "{1: 2, 3: 4, 5: 6}"
      ]
     },
     "execution_count": 11,
     "metadata": {},
     "output_type": "execute_result"
    }
   ],
   "source": [
    "#dict()\n",
    "# 짝이 있어야함\n",
    "ex1 = [[1,2],[3,4],[5,6]]\n",
    "dict(ex1)"
   ]
  },
  {
   "cell_type": "code",
   "execution_count": 12,
   "id": "afe2de1d-47eb-422f-9383-bdab3c817340",
   "metadata": {},
   "outputs": [
    {
     "data": {
      "text/plain": [
       "{1: 2, 3: 4, 5: 6}"
      ]
     },
     "execution_count": 12,
     "metadata": {},
     "output_type": "execute_result"
    }
   ],
   "source": [
    "# 튜플로도 짝이 있으므로 딕셔너리로 변환 가능\n",
    "ex2=[(1,2),(3,4),(5,6)]\n",
    "dict(ex2)"
   ]
  },
  {
   "cell_type": "code",
   "execution_count": 13,
   "id": "ed6eb39c-1784-4cb3-9c57-58493b48568c",
   "metadata": {},
   "outputs": [
    {
     "data": {
      "text/plain": [
       "{'a': 'b', 'b': 'c', 'c': 'd'}"
      ]
     },
     "execution_count": 13,
     "metadata": {},
     "output_type": "execute_result"
    }
   ],
   "source": [
    "# 문자열도 가능\n",
    "ex3 = ['ab', 'bc', 'cd']\n",
    "dict(ex3)"
   ]
  },
  {
   "cell_type": "code",
   "execution_count": 15,
   "id": "f74c7461-4514-4b0b-995d-419f5369b348",
   "metadata": {},
   "outputs": [
    {
     "ename": "ValueError",
     "evalue": "dictionary update sequence element #0 has length 4; 2 is required",
     "output_type": "error",
     "traceback": [
      "\u001b[1;31m---------------------------------------------------------------------------\u001b[0m",
      "\u001b[1;31mValueError\u001b[0m                                Traceback (most recent call last)",
      "\u001b[1;32m~\\AppData\\Local\\Temp/ipykernel_1296/1326779450.py\u001b[0m in \u001b[0;36m<module>\u001b[1;34m\u001b[0m\n\u001b[0;32m      1\u001b[0m \u001b[0mex3\u001b[0m \u001b[1;33m=\u001b[0m \u001b[1;33m[\u001b[0m\u001b[1;34m'abcd'\u001b[0m\u001b[1;33m,\u001b[0m \u001b[1;34m'bcdd'\u001b[0m\u001b[1;33m,\u001b[0m \u001b[1;34m'cddd'\u001b[0m\u001b[1;33m]\u001b[0m\u001b[1;33m\u001b[0m\u001b[1;33m\u001b[0m\u001b[0m\n\u001b[1;32m----> 2\u001b[1;33m \u001b[0mdict\u001b[0m\u001b[1;33m(\u001b[0m\u001b[0mex3\u001b[0m\u001b[1;33m)\u001b[0m\u001b[1;33m\u001b[0m\u001b[1;33m\u001b[0m\u001b[0m\n\u001b[0m\u001b[0;32m      3\u001b[0m \u001b[1;31m# 값이 많으면 안됨\u001b[0m\u001b[1;33m\u001b[0m\u001b[1;33m\u001b[0m\u001b[0m\n",
      "\u001b[1;31mValueError\u001b[0m: dictionary update sequence element #0 has length 4; 2 is required"
     ]
    }
   ],
   "source": [
    "ex3 = ['abcd', 'bcdd', 'cddd']\n",
    "dict(ex3)\n",
    "# 값이 많으면 안됨"
   ]
  },
  {
   "cell_type": "markdown",
   "id": "74132ebe-4b56-4aec-9fb6-33d0075ab24e",
   "metadata": {},
   "source": [
    "# 항목 조회 & 변경\n",
    "- 키로 항목을 찾아 값을 할당한다.\n",
    "- 이미 존재하는 키이면 값을 변경한다.\n",
    "- 키가 없으면 새로 생성한다."
   ]
  },
  {
   "cell_type": "code",
   "execution_count": 14,
   "id": "edb6e580-3321-4f0d-a169-df0b428b52cf",
   "metadata": {},
   "outputs": [],
   "source": [
    "pythons = {\n",
    "    'Chapman': 'Graham',\n",
    "    'Cleese':' John',\n",
    "    'Idle': 'Eric',\n",
    "    'Jones': 'Terry',\n",
    "    'Palin': 'Michael'\n",
    "}\n",
    "# 많은 때는 들여쓰기를 해서 가독성 높이기"
   ]
  },
  {
   "cell_type": "code",
   "execution_count": 16,
   "id": "97e6cf0a-abbe-44c5-83ea-de81cb1f7d31",
   "metadata": {},
   "outputs": [
    {
     "data": {
      "text/plain": [
       "'Eric'"
      ]
     },
     "execution_count": 16,
     "metadata": {},
     "output_type": "execute_result"
    }
   ],
   "source": [
    "# Idle을 찾고 싶다\n",
    "pythons['Idle']\n",
    "# 키로 value를 찾기"
   ]
  },
  {
   "cell_type": "code",
   "execution_count": 17,
   "id": "fe8b61f8-2403-4f50-9333-fddb1136931c",
   "metadata": {},
   "outputs": [
    {
     "ename": "KeyError",
     "evalue": "0",
     "output_type": "error",
     "traceback": [
      "\u001b[1;31m---------------------------------------------------------------------------\u001b[0m",
      "\u001b[1;31mKeyError\u001b[0m                                  Traceback (most recent call last)",
      "\u001b[1;32m~\\AppData\\Local\\Temp/ipykernel_2412/3810026449.py\u001b[0m in \u001b[0;36m<module>\u001b[1;34m\u001b[0m\n\u001b[1;32m----> 1\u001b[1;33m \u001b[0mpythons\u001b[0m\u001b[1;33m[\u001b[0m\u001b[1;36m0\u001b[0m\u001b[1;33m]\u001b[0m \u001b[1;31m# index 안됨\u001b[0m\u001b[1;33m\u001b[0m\u001b[1;33m\u001b[0m\u001b[0m\n\u001b[0m",
      "\u001b[1;31mKeyError\u001b[0m: 0"
     ]
    }
   ],
   "source": [
    "pythons[0] # index 안됨"
   ]
  },
  {
   "cell_type": "code",
   "execution_count": 19,
   "id": "bc423bc3-89ce-440d-b43f-78a5d7398cd5",
   "metadata": {},
   "outputs": [
    {
     "data": {
      "text/plain": [
       "{'Chapman': 'Graham',\n",
       " 'Cleese': ' John',\n",
       " 'Idle': 'Erica',\n",
       " 'Jones': 'Terry',\n",
       " 'Palin': 'Michael'}"
      ]
     },
     "execution_count": 19,
     "metadata": {},
     "output_type": "execute_result"
    }
   ],
   "source": [
    "pythons['Idle'] = 'Erica'\n",
    "pythons\n",
    "# 변경하기"
   ]
  },
  {
   "cell_type": "code",
   "execution_count": 22,
   "id": "302a0967-489f-47d4-8ce0-3a6e54e7e89e",
   "metadata": {},
   "outputs": [
    {
     "data": {
      "text/plain": [
       "{'Chapman': 'Graham',\n",
       " 'Cleese': ' John',\n",
       " 'Idle': 'Erica',\n",
       " 'Jones': 'Terry',\n",
       " 'Palin': 'Josh'}"
      ]
     },
     "execution_count": 22,
     "metadata": {},
     "output_type": "execute_result"
    }
   ],
   "source": [
    "pythons['Palin'] = 'Josh'\n",
    "pythons\n",
    "# 추가가 아니라 변경\n",
    "# 중복이 안되므로"
   ]
  },
  {
   "cell_type": "code",
   "execution_count": 74,
   "id": "c649eee2-7fa8-420f-b549-f4df60eb02b9",
   "metadata": {},
   "outputs": [
    {
     "data": {
      "text/plain": [
       "{'Chapman': 'Graham',\n",
       " 'Cleese': ' John',\n",
       " 'Idle': 'Eric',\n",
       " 'Jones': 'Terry',\n",
       " 'Palin': 'Michael',\n",
       " 'Marx': 'Groucho',\n",
       " 'Howard': 'Moe',\n",
       " 'Kim': 'Laura'}"
      ]
     },
     "execution_count": 74,
     "metadata": {},
     "output_type": "execute_result"
    }
   ],
   "source": [
    "pythons['Kim'] = 'Laura'\n",
    "pythons\n",
    "# 마지막에 추가된다"
   ]
  },
  {
   "cell_type": "code",
   "execution_count": 27,
   "id": "bf1043db-79a0-45f5-bd75-3372a253b1af",
   "metadata": {},
   "outputs": [
    {
     "ename": "KeyError",
     "evalue": "'Lee'",
     "output_type": "error",
     "traceback": [
      "\u001b[1;31m---------------------------------------------------------------------------\u001b[0m",
      "\u001b[1;31mKeyError\u001b[0m                                  Traceback (most recent call last)",
      "\u001b[1;32m~\\AppData\\Local\\Temp/ipykernel_2412/3916125383.py\u001b[0m in \u001b[0;36m<module>\u001b[1;34m\u001b[0m\n\u001b[1;32m----> 1\u001b[1;33m \u001b[0mpythons\u001b[0m\u001b[1;33m[\u001b[0m\u001b[1;34m'Lee'\u001b[0m\u001b[1;33m]\u001b[0m\u001b[1;33m\u001b[0m\u001b[1;33m\u001b[0m\u001b[0m\n\u001b[0m\u001b[0;32m      2\u001b[0m \u001b[1;31m# value가 없을 때 찾으면 오류가 뜸\u001b[0m\u001b[1;33m\u001b[0m\u001b[1;33m\u001b[0m\u001b[0m\n",
      "\u001b[1;31mKeyError\u001b[0m: 'Lee'"
     ]
    }
   ],
   "source": [
    "pythons['Lee']\n",
    "# value가 없을 때 찾으면 오류가 뜸"
   ]
  },
  {
   "cell_type": "code",
   "execution_count": 35,
   "id": "4a4c8e1e-a733-482a-bd30-ae8f62a736be",
   "metadata": {},
   "outputs": [
    {
     "data": {
      "text/plain": [
       "False"
      ]
     },
     "execution_count": 35,
     "metadata": {},
     "output_type": "execute_result"
    }
   ],
   "source": [
    "'Lee' in pythons\n",
    "# False면 안타면 됨, 오류 안남\n",
    "# membership 연산자 사용하기, 코드 안에서 찾지 말고"
   ]
  },
  {
   "cell_type": "code",
   "execution_count": 29,
   "id": "fcb2d7a7-4901-4efa-901c-f2be90fd7a09",
   "metadata": {},
   "outputs": [],
   "source": [
    "pythons.get('Lee')\n",
    "# 없으면 None이 나옴"
   ]
  },
  {
   "cell_type": "code",
   "execution_count": 32,
   "id": "acec280f-c809-4e93-8443-18d8a37f9e09",
   "metadata": {},
   "outputs": [
    {
     "data": {
      "text/plain": [
       "'Laura'"
      ]
     },
     "execution_count": 32,
     "metadata": {},
     "output_type": "execute_result"
    }
   ],
   "source": [
    "pythons.get('Kim',0)"
   ]
  },
  {
   "cell_type": "code",
   "execution_count": 34,
   "id": "fc8401e2-7067-46a9-a9f9-5cdbe1357283",
   "metadata": {},
   "outputs": [
    {
     "data": {
      "text/plain": [
       "0"
      ]
     },
     "execution_count": 34,
     "metadata": {},
     "output_type": "execute_result"
    }
   ],
   "source": [
    "pythons.get('Choi',0)\n",
    "# 없으면 0이 되고, 있으면 있는 값이 나옴"
   ]
  },
  {
   "cell_type": "markdown",
   "id": "92fdd19b-9691-4cb1-b7e3-959e54afcbac",
   "metadata": {},
   "source": [
    "### keys(), values(), items()\n",
    "- keys\n",
    "- values \n",
    "- items"
   ]
  },
  {
   "cell_type": "code",
   "execution_count": 36,
   "id": "7321953d-8650-47ca-8705-513b8839d2c7",
   "metadata": {},
   "outputs": [
    {
     "data": {
      "text/plain": [
       "dict_keys(['Chapman', 'Cleese', 'Idle', 'Jones', 'Palin', 'Kim'])"
      ]
     },
     "execution_count": 36,
     "metadata": {},
     "output_type": "execute_result"
    }
   ],
   "source": [
    "pythons.keys()"
   ]
  },
  {
   "cell_type": "code",
   "execution_count": 42,
   "id": "df426a7a-5ce2-40f1-8956-c68023861801",
   "metadata": {},
   "outputs": [
    {
     "data": {
      "text/plain": [
       "['Chapman', 'Cleese', 'Idle', 'Jones', 'Palin', 'Kim']"
      ]
     },
     "execution_count": 42,
     "metadata": {},
     "output_type": "execute_result"
    }
   ],
   "source": [
    "# 만약에 리스트로 바꾸고 싶다면 형변환 하기\n",
    "list(pythons.keys())\n",
    "# python.keys.tolist()는 안됨"
   ]
  },
  {
   "cell_type": "code",
   "execution_count": 37,
   "id": "95de2f57-0b2f-4c98-9def-772dea871f68",
   "metadata": {},
   "outputs": [
    {
     "data": {
      "text/plain": [
       "dict_values(['Graham', ' John', 'Erica', 'Terry', 'Josh', 'Laura'])"
      ]
     },
     "execution_count": 37,
     "metadata": {},
     "output_type": "execute_result"
    }
   ],
   "source": [
    "pythons.values()"
   ]
  },
  {
   "cell_type": "code",
   "execution_count": 45,
   "id": "e298c03c-19c0-47c7-8c6d-3281cfa91bd8",
   "metadata": {},
   "outputs": [
    {
     "data": {
      "text/plain": [
       "dict_items([('Chapman', 'Graham'), ('Cleese', ' John'), ('Idle', 'Erica'), ('Jones', 'Terry'), ('Palin', 'Josh'), ('Kim', 'Laura')])"
      ]
     },
     "execution_count": 45,
     "metadata": {},
     "output_type": "execute_result"
    }
   ],
   "source": [
    "pythons.items()\n",
    "# 메모리 저장하는데 도움이 됨\n",
    "# 순회 시 사용"
   ]
  },
  {
   "cell_type": "code",
   "execution_count": 46,
   "id": "f74c78bc-bba9-43f5-9827-ff2e66730515",
   "metadata": {},
   "outputs": [
    {
     "data": {
      "text/plain": [
       "['Chapman', 'Cleese', 'Idle', 'Jones', 'Palin', 'Kim']"
      ]
     },
     "execution_count": 46,
     "metadata": {},
     "output_type": "execute_result"
    }
   ],
   "source": [
    "[x[0] for x in pythons.items()]\n",
    "# 0으로 하면 키\n",
    "# 1로 하면 value\n",
    "# 인덱싱 가능하다 - item을 탈 때에는 가능"
   ]
  },
  {
   "cell_type": "code",
   "execution_count": 51,
   "id": "01fd3fb8-1993-4ec6-9c19-4b2145ab5532",
   "metadata": {},
   "outputs": [
    {
     "name": "stdout",
     "output_type": "stream",
     "text": [
      "{'cat': 4, 'snake': 0, 'monkey': 2, 'ant': 4, 'spider': 8}\n"
     ]
    }
   ],
   "source": [
    "animal = 'cat snake monkey ant spider'.split()\n",
    "legs =4,0,2,4,8\n",
    "# for loop이용해서 animal:legs 이용한 딕셔너리 만들기\n",
    "\n",
    "#[x[0:2] for x in animal.items()]\n",
    "di =[]\n",
    "for i in range(len(animal)):\n",
    "    key_value = [animal[i], legs[i]]\n",
    "    di.append(key_value)\n",
    "    \n",
    "print(dict(di))\n",
    "# 리스트를 하고 딕셔너리로 바꿔줌 "
   ]
  },
  {
   "cell_type": "code",
   "execution_count": 52,
   "id": "1e5448fc-0760-41dd-b7c0-623af36458e5",
   "metadata": {},
   "outputs": [
    {
     "data": {
      "text/plain": [
       "{'cat': 4, 'snake': 0, 'monkey': 2, 'ant': 4, 'spider': 8}"
      ]
     },
     "execution_count": 52,
     "metadata": {},
     "output_type": "execute_result"
    }
   ],
   "source": [
    "animals = {}\n",
    "for i in range(len(animal)):\n",
    "    animals[animal[i]] = legs[i]\n",
    "animals"
   ]
  },
  {
   "cell_type": "code",
   "execution_count": 53,
   "id": "5ee93be2-aa32-4e35-a616-260ee72e3f2f",
   "metadata": {},
   "outputs": [
    {
     "data": {
      "text/plain": [
       "{'cat': 4, 'snake': 0, 'monkey': 2, 'ant': 4, 'spider': 8}"
      ]
     },
     "execution_count": 53,
     "metadata": {},
     "output_type": "execute_result"
    }
   ],
   "source": [
    "animal_dic={}\n",
    "for k,v in zip(animals, legs):\n",
    "    animal_dic[k] = v\n",
    "animal_dic"
   ]
  },
  {
   "cell_type": "code",
   "execution_count": 55,
   "id": "8a65f199-d7b7-43e3-b054-9e0cfe929d4b",
   "metadata": {},
   "outputs": [
    {
     "data": {
      "text/plain": [
       "['Chapman', 'Cleese', 'Idle', 'Jones', 'Palin', 'Kim']"
      ]
     },
     "execution_count": 55,
     "metadata": {},
     "output_type": "execute_result"
    }
   ],
   "source": [
    "[x for x in pythons]\n",
    "# 아무것도 안하고 리스트컴프리핸션이면 key들이 나옴"
   ]
  },
  {
   "cell_type": "code",
   "execution_count": 64,
   "id": "8d9042c4-8d85-47f4-97f2-df3a051cd390",
   "metadata": {},
   "outputs": [
    {
     "data": {
      "text/plain": [
       "[('Chapman', 'Graham'),\n",
       " ('Cleese', ' John'),\n",
       " ('Idle', 'Eric'),\n",
       " ('Jones', 'Terry'),\n",
       " ('Palin', 'Michael')]"
      ]
     },
     "execution_count": 64,
     "metadata": {},
     "output_type": "execute_result"
    }
   ],
   "source": [
    "[(k,v) for k,v in pythons.items()]\n",
    "# key랑 value를 탈 수 있음"
   ]
  },
  {
   "cell_type": "code",
   "execution_count": 75,
   "id": "fdb87662-2a8a-4867-88b5-b78876121f74",
   "metadata": {},
   "outputs": [
    {
     "data": {
      "text/plain": [
       "[('C', 6),\n",
       " ('C', 5),\n",
       " ('I', 4),\n",
       " ('J', 5),\n",
       " ('P', 7),\n",
       " ('M', 7),\n",
       " ('H', 3),\n",
       " ('K', 5)]"
      ]
     },
     "execution_count": 75,
     "metadata": {},
     "output_type": "execute_result"
    }
   ],
   "source": [
    "#pythons에서 성:이름 => 리스트컴프리핸션 이용해서 [(성 앞글자, 이름의 글자 수)]\n",
    "[(x[0][0],len(x[1])) for x in pythons.items()]"
   ]
  },
  {
   "cell_type": "code",
   "execution_count": 76,
   "id": "edc5a6f4-b801-4205-883b-25761ccbeb09",
   "metadata": {},
   "outputs": [
    {
     "data": {
      "text/plain": [
       "[('C', 6),\n",
       " ('C', 5),\n",
       " ('I', 4),\n",
       " ('J', 5),\n",
       " ('P', 7),\n",
       " ('M', 7),\n",
       " ('H', 3),\n",
       " ('K', 5)]"
      ]
     },
     "execution_count": 76,
     "metadata": {},
     "output_type": "execute_result"
    }
   ],
   "source": [
    "[(k[0], len(v)) for k,v in pythons.items()]"
   ]
  },
  {
   "cell_type": "markdown",
   "id": "01030879-b125-41fd-8cf2-4739e0411447",
   "metadata": {},
   "source": [
    "### 값 수정, 삭제, 복제"
   ]
  },
  {
   "cell_type": "code",
   "execution_count": 35,
   "id": "499e5832-8814-4276-81ac-c40b658ca18c",
   "metadata": {},
   "outputs": [
    {
     "data": {
      "text/plain": [
       "{'Chapman': 'Graham',\n",
       " 'Cleese': ' John',\n",
       " 'Idle': 'Eric',\n",
       " 'Jones': 'Terry',\n",
       " 'Palin': 'Michael'}"
      ]
     },
     "execution_count": 35,
     "metadata": {},
     "output_type": "execute_result"
    }
   ],
   "source": [
    "pythons"
   ]
  },
  {
   "cell_type": "code",
   "execution_count": 85,
   "id": "cb811311-17f0-4e7b-9ad3-35f14d849b05",
   "metadata": {},
   "outputs": [],
   "source": [
    "others = { \n",
    "    'Marx':'Groucho',\n",
    "    'Howard': 'Moe'\n",
    "}"
   ]
  },
  {
   "cell_type": "code",
   "execution_count": 86,
   "id": "fd4d2df9-873b-4558-93e4-a0d4ad5ada05",
   "metadata": {},
   "outputs": [],
   "source": [
    "pythons.update(others)\n",
    "# 마지막에 추가됨"
   ]
  },
  {
   "cell_type": "code",
   "execution_count": 87,
   "id": "2e0858cf-3817-4b0b-b8d8-69dca60c4292",
   "metadata": {},
   "outputs": [
    {
     "data": {
      "text/plain": [
       "{'Chapman': 'Graham',\n",
       " 'Cleese': ' John',\n",
       " 'Idle': 'Eric',\n",
       " 'Jones': 'Terry',\n",
       " 'Palin': 'Michael',\n",
       " 'Howard': 'Moe',\n",
       " 'Marx': 'Groucho'}"
      ]
     },
     "execution_count": 87,
     "metadata": {},
     "output_type": "execute_result"
    }
   ],
   "source": [
    "pythons"
   ]
  },
  {
   "cell_type": "code",
   "execution_count": 83,
   "id": "f75c67a8-6b2f-4191-b1d2-6754df7a1fa8",
   "metadata": {},
   "outputs": [
    {
     "data": {
      "text/plain": [
       "{'Marx': 'Groucho',\n",
       " 'Howard': 'Moe',\n",
       " 'Chapman': 'Graham',\n",
       " 'Cleese': ' John',\n",
       " 'Idle': 'Eric',\n",
       " 'Jones': 'Terry',\n",
       " 'Palin': 'Michael'}"
      ]
     },
     "execution_count": 83,
     "metadata": {},
     "output_type": "execute_result"
    }
   ],
   "source": [
    "{**others, **pythons}\n",
    "# 앞에 추가됨\n",
    "# python3 가능\n",
    "# 헷갈리면 잊어버리기"
   ]
  },
  {
   "cell_type": "code",
   "execution_count": 39,
   "id": "28368f17-359e-4ed2-a9dc-540b673d2786",
   "metadata": {},
   "outputs": [
    {
     "data": {
      "text/plain": [
       "{}"
      ]
     },
     "execution_count": 39,
     "metadata": {},
     "output_type": "execute_result"
    }
   ],
   "source": [
    "{}"
   ]
  },
  {
   "cell_type": "code",
   "execution_count": 77,
   "id": "90d6457d-0c32-4356-8592-918350a0ec0d",
   "metadata": {},
   "outputs": [],
   "source": [
    "# 삭제\n",
    "del pythons['Kim']"
   ]
  },
  {
   "cell_type": "code",
   "execution_count": 81,
   "id": "c83c6f84-1e22-4a02-bb70-18fe824251a2",
   "metadata": {},
   "outputs": [
    {
     "data": {
      "text/plain": [
       "{'Chapman': 'Graham',\n",
       " 'Cleese': ' John',\n",
       " 'Idle': 'Eric',\n",
       " 'Jones': 'Terry',\n",
       " 'Palin': 'Michael',\n",
       " 'Howard': 'Moe'}"
      ]
     },
     "execution_count": 81,
     "metadata": {},
     "output_type": "execute_result"
    }
   ],
   "source": [
    "pythons"
   ]
  },
  {
   "cell_type": "code",
   "execution_count": 88,
   "id": "7c222cc0-475f-4f34-8dd9-1916e091360b",
   "metadata": {},
   "outputs": [
    {
     "data": {
      "text/plain": [
       "'Groucho'"
      ]
     },
     "execution_count": 88,
     "metadata": {},
     "output_type": "execute_result"
    }
   ],
   "source": [
    "# 함수를 쓰고 싶다면\n",
    "pythons.pop('Marx')\n",
    "# Marx의 값이 무엇인지 알려주고 삭제됨\n",
    "# 없는 값을 삭제하고 싶을 때 에러가 뜸 "
   ]
  },
  {
   "cell_type": "code",
   "execution_count": 89,
   "id": "daf67d2c-8c98-459f-a3a0-c3941fbfa7db",
   "metadata": {},
   "outputs": [
    {
     "data": {
      "text/plain": [
       "0"
      ]
     },
     "execution_count": 89,
     "metadata": {},
     "output_type": "execute_result"
    }
   ],
   "source": [
    "pythons.pop('Marx',0) # get과 비슷한 성질 가짐 , del보다 pop이 나음"
   ]
  },
  {
   "cell_type": "code",
   "execution_count": 90,
   "id": "6d5929c1-526c-44cc-bd1b-707582b23706",
   "metadata": {},
   "outputs": [],
   "source": [
    "pythons.clear() # 다 삭제하고싶다"
   ]
  },
  {
   "cell_type": "code",
   "execution_count": 91,
   "id": "9fd68fb4-4178-473c-ac86-80cf996f2848",
   "metadata": {},
   "outputs": [],
   "source": [
    "pythons={} # 다 삭제하고싶디"
   ]
  },
  {
   "cell_type": "code",
   "execution_count": 92,
   "id": "304eb672-3543-4e47-80ec-4e60db334bdf",
   "metadata": {},
   "outputs": [
    {
     "data": {
      "text/plain": [
       "{}"
      ]
     },
     "execution_count": 92,
     "metadata": {},
     "output_type": "execute_result"
    }
   ],
   "source": [
    "pythons"
   ]
  },
  {
   "cell_type": "code",
   "execution_count": 93,
   "id": "88a77321-07cb-4218-9872-e946f5b01ace",
   "metadata": {},
   "outputs": [],
   "source": [
    "# 복제 copy\n",
    "# 1. 할당\n",
    "# 2. 얕은 복사\n",
    "# 3. 깊은 복사"
   ]
  },
  {
   "cell_type": "code",
   "execution_count": 94,
   "id": "2ff725b5-b424-4a10-a60f-288a7547ccc9",
   "metadata": {},
   "outputs": [
    {
     "data": {
      "text/plain": [
       "({1: 10, 2: 3, 3: 4}, {1: 10, 2: 3, 3: 4})"
      ]
     },
     "execution_count": 94,
     "metadata": {},
     "output_type": "execute_result"
    }
   ],
   "source": [
    "a = {1:2, 2:3, 3:4}\n",
    "b=a\n",
    "a[1] = 10\n",
    "\n",
    "a,b\n",
    "# 할당했으므로\n",
    "# 둘다 바뀐다 (같은 것을 참조하기때문)"
   ]
  },
  {
   "cell_type": "code",
   "execution_count": 95,
   "id": "616a4b23-d783-4b75-aef7-4fc32fbcad0f",
   "metadata": {},
   "outputs": [
    {
     "data": {
      "text/plain": [
       "({1: 100, 2: 3, 3: 4}, {1: 10, 2: 3, 3: 4})"
      ]
     },
     "execution_count": 95,
     "metadata": {},
     "output_type": "execute_result"
    }
   ],
   "source": [
    "b= a.copy()\n",
    "a[1] = 100\n",
    "a,b\n",
    "# 얕은 복사"
   ]
  },
  {
   "cell_type": "code",
   "execution_count": 96,
   "id": "be5d3aa5-ecfc-41ec-9724-095f1b7dd619",
   "metadata": {},
   "outputs": [
    {
     "data": {
      "text/plain": [
       "({1: [100, 2, 2], 2: [1, 1, 1]}, {1: [100, 2, 2], 2: [1, 1, 1]})"
      ]
     },
     "execution_count": 96,
     "metadata": {},
     "output_type": "execute_result"
    }
   ],
   "source": [
    "a = {1:[2,2,2], 2:[1,1,1]}\n",
    "b = a.copy()\n",
    "a[1][0] = 100\n",
    "a,b\n",
    "# 얕은 복사이므로 가변객체 안에 있는 가변객체는 복사에서 제외됨"
   ]
  },
  {
   "cell_type": "code",
   "execution_count": 97,
   "id": "48036107-52a3-42e1-8315-e9ddaa64b0f7",
   "metadata": {},
   "outputs": [
    {
     "data": {
      "text/plain": [
       "({1: [9, 2, 2], 2: [1, 1, 1]}, {1: [100, 2, 2], 2: [1, 1, 1]})"
      ]
     },
     "execution_count": 97,
     "metadata": {},
     "output_type": "execute_result"
    }
   ],
   "source": [
    "import copy\n",
    "b = copy.deepcopy(a)\n",
    "a[1][0] =9\n",
    "a,b\n",
    "# 깊은 복사"
   ]
  },
  {
   "cell_type": "code",
   "execution_count": 98,
   "id": "93388f0d-4d84-40cc-88d6-0f848d5cf978",
   "metadata": {},
   "outputs": [
    {
     "data": {
      "text/plain": [
       "({1: [9, 2, 2], 2: [1, 1, 1]}, {1: [100, 2, 2], 2: [1, 1, 1]})"
      ]
     },
     "execution_count": 98,
     "metadata": {},
     "output_type": "execute_result"
    }
   ],
   "source": [
    "# 값 비교: 같고 다르고만 됨\n",
    "a,b\n",
    "# 리스트는 값 비교 가능, 딕셔너리는 크다 작다는 안된다."
   ]
  },
  {
   "cell_type": "code",
   "execution_count": 100,
   "id": "6d08016e-b267-4e32-bcb3-6db1d03cbae2",
   "metadata": {},
   "outputs": [
    {
     "data": {
      "text/plain": [
       "True"
      ]
     },
     "execution_count": 100,
     "metadata": {},
     "output_type": "execute_result"
    }
   ],
   "source": [
    "a==b"
   ]
  },
  {
   "cell_type": "code",
   "execution_count": 54,
   "id": "1e17155a-03e9-47e8-bbec-3dda2385335b",
   "metadata": {},
   "outputs": [
    {
     "data": {
      "text/plain": [
       "False"
      ]
     },
     "execution_count": 54,
     "metadata": {},
     "output_type": "execute_result"
    }
   ],
   "source": [
    "a!=b"
   ]
  },
  {
   "cell_type": "markdown",
   "id": "5d24a701-6a12-45a3-b8ca-3627dfabe7f0",
   "metadata": {},
   "source": [
    "### ex\n",
    "- 두 개의 리스트"
   ]
  },
  {
   "cell_type": "code",
   "execution_count": 117,
   "id": "c1998830-a166-4da3-bd62-51e8fd0afb5a",
   "metadata": {},
   "outputs": [
    {
     "data": {
      "text/plain": [
       "[('수성', 'mercury'),\n",
       " ('금성', 'venus'),\n",
       " ('화성', 'mars'),\n",
       " ('목성', 'jupiter'),\n",
       " ('토성', 'saturn'),\n",
       " ('천왕성', 'uranus'),\n",
       " ('해왕성', 'neptune'),\n",
       " ('명왕성', 'pluto')]"
      ]
     },
     "execution_count": 117,
     "metadata": {},
     "output_type": "execute_result"
    }
   ],
   "source": [
    "solar_kor = '태양 수성 금성 지구 화성 목성 토성 천왕성 해왕성'.split()\n",
    "solar_eng = 'sun mercury venus earth mars jupiter saturn uranus neptune'.split()\n",
    "\n",
    "solar_dict = {}\n",
    "for i in range(len(solar_kor)):\n",
    "    solar_dict[solar_kor[i]] = solar_eng[i]\n",
    "solar_dict['명왕성']='pluto'\n",
    "\n",
    "solar_dict = [x for x in solar_dict.items() if x[0][-1] =='성']\n",
    "solar_dict"
   ]
  },
  {
   "cell_type": "code",
   "execution_count": 123,
   "id": "c9fe7fde-a867-4dcd-983b-574550f732ce",
   "metadata": {},
   "outputs": [
    {
     "data": {
      "text/plain": [
       "{'태양': 'sun',\n",
       " '수성': 'mercury',\n",
       " '금성': 'venus',\n",
       " '지구': 'earth',\n",
       " '화성': 'mars',\n",
       " '목성': 'jupiter',\n",
       " '토성': 'saturn',\n",
       " '천왕성': 'uranus',\n",
       " '해왕성': 'neptune'}"
      ]
     },
     "execution_count": 123,
     "metadata": {},
     "output_type": "execute_result"
    }
   ],
   "source": [
    "solar_system = {}\n",
    "for ko, en in zip(solar_kor, solar_eng):\n",
    "    solar_system[ko] = en\n",
    "solar_system"
   ]
  },
  {
   "cell_type": "code",
   "execution_count": 125,
   "id": "66da7cdc-61bf-4178-b591-fcb009d17845",
   "metadata": {},
   "outputs": [
    {
     "data": {
      "text/plain": [
       "{'태양': 'sun',\n",
       " '수성': 'mercury',\n",
       " '금성': 'venus',\n",
       " '지구': 'earth',\n",
       " '화성': 'mars',\n",
       " '목성': 'jupiter',\n",
       " '토성': 'saturn',\n",
       " '천왕성': 'uranus',\n",
       " '해왕성': 'neptune',\n",
       " '명왕성': 'pluto'}"
      ]
     },
     "execution_count": 125,
     "metadata": {},
     "output_type": "execute_result"
    }
   ],
   "source": [
    "solar_system['명왕성']='pluto'\n",
    "solar_system\n",
    "# 명왕성 추가하기"
   ]
  },
  {
   "cell_type": "code",
   "execution_count": 128,
   "id": "17269096-ca56-46ce-8083-627862df1536",
   "metadata": {},
   "outputs": [
    {
     "data": {
      "text/plain": [
       "{'금성', '명왕성', '목성', '수성', '지구', '천왕성', '태양', '토성', '해왕성', '화성'}"
      ]
     },
     "execution_count": 128,
     "metadata": {},
     "output_type": "execute_result"
    }
   ],
   "source": [
    "{k for k in solar_system}"
   ]
  },
  {
   "cell_type": "code",
   "execution_count": 146,
   "id": "c54c4c82-9884-4a77-887d-2213df516784",
   "metadata": {},
   "outputs": [
    {
     "data": {
      "text/plain": [
       "{'수성': 'mercury',\n",
       " '금성': 'venus',\n",
       " '화성': 'mars',\n",
       " '목성': 'jupiter',\n",
       " '토성': 'saturn',\n",
       " '천왕성': 'uranus',\n",
       " '해왕성': 'neptune',\n",
       " '명왕성': 'pluto'}"
      ]
     },
     "execution_count": 146,
     "metadata": {},
     "output_type": "execute_result"
    }
   ],
   "source": [
    "solar =[(k,v) for k,v in solar_system.items() if '성' in k]\n",
    "solar = dict(solar)\n",
    "{k: solar[k] for k in solar_system if k.endswith('성')}"
   ]
  },
  {
   "cell_type": "code",
   "execution_count": 130,
   "id": "3d5bbceb-29ad-446e-ab12-8560b0d36527",
   "metadata": {},
   "outputs": [
    {
     "data": {
      "text/plain": [
       "{'태양': 'sun',\n",
       " '수성': 'mercury',\n",
       " '금성': 'venus',\n",
       " '지구': 'earth',\n",
       " '화성': 'mars',\n",
       " '목성': 'jupiter',\n",
       " '토성': 'saturn',\n",
       " '천왕성': 'uranus',\n",
       " '해왕성': 'neptune',\n",
       " '명왕성': 'pluto'}"
      ]
     },
     "execution_count": 130,
     "metadata": {},
     "output_type": "execute_result"
    }
   ],
   "source": [
    "{k:v for k,v in solar_system.items()}"
   ]
  },
  {
   "cell_type": "code",
   "execution_count": 140,
   "id": "f67688ab-7330-4276-a8b2-a35f7069f3a7",
   "metadata": {},
   "outputs": [],
   "source": [
    "def function(s):\n",
    "    return[1]"
   ]
  },
  {
   "cell_type": "code",
   "execution_count": 138,
   "id": "e7b20104-8ed8-4cfa-9e39-1684b5f9c376",
   "metadata": {},
   "outputs": [
    {
     "data": {
      "text/plain": [
       "[('태양', 'sun'),\n",
       " ('수성', 'mercury'),\n",
       " ('금성', 'venus'),\n",
       " ('지구', 'earth'),\n",
       " ('화성', 'mars'),\n",
       " ('목성', 'jupiter'),\n",
       " ('토성', 'saturn'),\n",
       " ('천왕성', 'uranus'),\n",
       " ('해왕성', 'neptune'),\n",
       " ('명왕성', 'pluto')]"
      ]
     },
     "execution_count": 138,
     "metadata": {},
     "output_type": "execute_result"
    }
   ],
   "source": [
    "sorted(solar_system.items(), key = function)\n",
    "# 리스트를 sorted하는 것과 같음"
   ]
  },
  {
   "cell_type": "code",
   "execution_count": 141,
   "id": "6fc607fb-c2f8-4f31-ac43-905a0d6555c5",
   "metadata": {},
   "outputs": [
    {
     "data": {
      "text/plain": [
       "[('지구', 'earth'),\n",
       " ('목성', 'jupiter'),\n",
       " ('화성', 'mars'),\n",
       " ('수성', 'mercury'),\n",
       " ('해왕성', 'neptune'),\n",
       " ('명왕성', 'pluto'),\n",
       " ('토성', 'saturn'),\n",
       " ('태양', 'sun'),\n",
       " ('천왕성', 'uranus'),\n",
       " ('금성', 'venus')]"
      ]
     },
     "execution_count": 141,
     "metadata": {},
     "output_type": "execute_result"
    }
   ],
   "source": [
    "sorted(solar_system.items(), key=lambda x: x[1])"
   ]
  },
  {
   "cell_type": "code",
   "execution_count": 79,
   "id": "044d75c5-57ca-438a-952d-e9a48ef8dd33",
   "metadata": {},
   "outputs": [
    {
     "name": "stdout",
     "output_type": "stream",
     "text": [
      "room has the contents ballroom\n",
      "weapen has the contents lead pipe\n",
      "person has the contents Col.Mustard\n"
     ]
    }
   ],
   "source": [
    "accusation = {'room':'ballroom', 'weapen':'lead pipe', 'person':'Col.Mustard'}\n",
    "for k,v in accusation.items():\n",
    "    print(f'{k} has the contents {v}')"
   ]
  },
  {
   "cell_type": "code",
   "execution_count": 80,
   "id": "08cb789b-019b-4717-b233-5bdbfdcdab00",
   "metadata": {},
   "outputs": [
    {
     "data": {
      "text/plain": [
       "{'l': 1, 'p': 2, 'a': 1, 'e': 1}"
      ]
     },
     "execution_count": 80,
     "metadata": {},
     "output_type": "execute_result"
    }
   ],
   "source": [
    "letter= 'apple'\n",
    "#\n",
    "{ch: letter.count(ch) for ch in set(letter)}"
   ]
  },
  {
   "cell_type": "code",
   "execution_count": 85,
   "id": "dab17aa1-f16e-4bab-bd16-76024a535b16",
   "metadata": {},
   "outputs": [
    {
     "data": {
      "text/plain": [
       "{'a': 2, 'e': 1, 'i': 1, 'o': 4, 'u': 0}"
      ]
     },
     "execution_count": 85,
     "metadata": {},
     "output_type": "execute_result"
    }
   ],
   "source": [
    "vowels = 'aeiou'\n",
    "word = 'onomatopoeia'\n",
    "{v for v in vowels}\n",
    "{ch for ch in word}\n",
    "{v: word.count(v) for v in sorted(set(vowels))}"
   ]
  },
  {
   "cell_type": "markdown",
   "id": "ad314140-640b-4b9a-a996-85c0af24c04a",
   "metadata": {},
   "source": [
    "### set\n",
    "- 딕셔너리에서 키만 모아놓음 => 중복없음\n",
    "- 수학의 집합 개념 => 교집합, 합집합, 차집합,...\n",
    "- 데이터 자료, 순서 없고, 인덱싱 없고"
   ]
  },
  {
   "cell_type": "code",
   "execution_count": 87,
   "id": "158c4539-4e1a-427e-a0fa-ab94669fa00c",
   "metadata": {},
   "outputs": [
    {
     "data": {
      "text/plain": [
       "(set(), {})"
      ]
     },
     "execution_count": 87,
     "metadata": {},
     "output_type": "execute_result"
    }
   ],
   "source": [
    "empty = set()\n",
    "empty1 = {} #dict\n",
    "empty, empty1"
   ]
  },
  {
   "cell_type": "code",
   "execution_count": 147,
   "id": "0ffc4f6b-4801-479f-8579-d67ce5ad2481",
   "metadata": {},
   "outputs": [
    {
     "data": {
      "text/plain": [
       "set"
      ]
     },
     "execution_count": 147,
     "metadata": {},
     "output_type": "execute_result"
    }
   ],
   "source": [
    "a = {1,2,3}\n",
    "type(a)\n",
    "# 딕셔너리는 key, value 있어야함"
   ]
  },
  {
   "cell_type": "code",
   "execution_count": 89,
   "id": "742b1c5b-aa54-4a63-89e1-974bd1903834",
   "metadata": {},
   "outputs": [],
   "source": [
    "b = set([1,2,3,3,3,3])"
   ]
  },
  {
   "cell_type": "code",
   "execution_count": 90,
   "id": "e03d05dd-6336-4298-bcd2-b0d76357ac4a",
   "metadata": {},
   "outputs": [
    {
     "data": {
      "text/plain": [
       "{1, 2, 3}"
      ]
     },
     "execution_count": 90,
     "metadata": {},
     "output_type": "execute_result"
    }
   ],
   "source": [
    "b"
   ]
  },
  {
   "cell_type": "code",
   "execution_count": 92,
   "id": "74eea77b-05cb-4a79-8c3b-17b2ca47b2e0",
   "metadata": {},
   "outputs": [
    {
     "data": {
      "text/plain": [
       "{1, 2, 3, 4}"
      ]
     },
     "execution_count": 92,
     "metadata": {},
     "output_type": "execute_result"
    }
   ],
   "source": [
    "# 추가하기\n",
    "a.add(4)\n",
    "a\n",
    "# 마지막에 추가됨"
   ]
  },
  {
   "cell_type": "code",
   "execution_count": 93,
   "id": "46ccaca2-99d4-48ed-b0ba-a78ee9b7fb15",
   "metadata": {},
   "outputs": [
    {
     "data": {
      "text/plain": [
       "{1, 2, 3}"
      ]
     },
     "execution_count": 93,
     "metadata": {},
     "output_type": "execute_result"
    }
   ],
   "source": [
    "a.remove(4)\n",
    "a"
   ]
  },
  {
   "cell_type": "code",
   "execution_count": 94,
   "id": "a69efaed-9616-4452-8331-ba688f0f2bb4",
   "metadata": {},
   "outputs": [
    {
     "data": {
      "text/plain": [
       "{1, 2}"
      ]
     },
     "execution_count": 94,
     "metadata": {},
     "output_type": "execute_result"
    }
   ],
   "source": [
    "a.discard(3)\n",
    "a"
   ]
  },
  {
   "cell_type": "code",
   "execution_count": 101,
   "id": "dab77d15-b1be-461a-b696-1219d8797c01",
   "metadata": {},
   "outputs": [
    {
     "name": "stdout",
     "output_type": "stream",
     "text": [
      "martini\n",
      "black russian\n",
      "white russian\n",
      "screwdriver\n",
      "black russian\n",
      "screwdriver\n"
     ]
    }
   ],
   "source": [
    "drinks = {\n",
    "    'martini':{'vodka','vermouth'},\n",
    "    'black russian':{'vodka', 'kahlua'},\n",
    "    'white russian':{'cream', 'kahlua', 'vodka'},\n",
    "    'mahattam':{'rye', 'vermouth', 'bitters'},\n",
    "    'screwdriver':{'orange juice','vodka'}\n",
    "}\n",
    "\n",
    "# vodka가 있는 키 골라내기 (출력)\n",
    "for k,v in drinks.items():\n",
    "    if 'vodka' in v:\n",
    "        print(k)\n",
    "# 보드카가 있는데 크림이나 버무스가 있으면 프린트하지 않기        \n",
    "for k,v in drinks.items():\n",
    "    if 'vodka' in v and not ('cream' in v or 'vermouth' in v):\n",
    "        print(k)"
   ]
  },
  {
   "cell_type": "code",
   "execution_count": 106,
   "id": "1069741c-515c-4384-8043-d0daf0615137",
   "metadata": {},
   "outputs": [
    {
     "data": {
      "text/plain": [
       "{4}"
      ]
     },
     "execution_count": 106,
     "metadata": {},
     "output_type": "execute_result"
    }
   ],
   "source": [
    "a = {1,2,3}\n",
    "b = {2,3,4}\n",
    "\n",
    "# 교집합:intersection\n",
    "a.intersection(b) # a & b 이렇게도 씀\n",
    "# 합집합: union\n",
    "a.union(b) # a | b (중복없이 다 나옴)\n",
    "# 차집합: difference\n",
    "a.difference(b) # a - b\n",
    "b - a"
   ]
  },
  {
   "cell_type": "code",
   "execution_count": 107,
   "id": "6a3b16fe-507e-4108-9197-f8f750c89400",
   "metadata": {},
   "outputs": [
    {
     "name": "stdout",
     "output_type": "stream",
     "text": [
      "black russian\n",
      "white russian\n",
      "screwdriver\n"
     ]
    }
   ],
   "source": [
    "for k,v in drinks.items():\n",
    "    if 'vodka' in v and not v & {'cream' in v or 'vermouth'}:\n",
    "        print(k)"
   ]
  },
  {
   "cell_type": "code",
   "execution_count": 110,
   "id": "72fd50dd-3239-49d5-aa0a-430a6bd27c07",
   "metadata": {},
   "outputs": [
    {
     "data": {
      "text/plain": [
       "{1, 2, 3}"
      ]
     },
     "execution_count": 110,
     "metadata": {},
     "output_type": "execute_result"
    }
   ],
   "source": [
    "# comprehennsion 가능\n",
    "{s for s in a}"
   ]
  },
  {
   "cell_type": "code",
   "execution_count": 112,
   "id": "20b76f52-1a22-4e45-a30d-8d22f35214fa",
   "metadata": {},
   "outputs": [
    {
     "data": {
      "text/plain": [
       "frozenset({1, 2, 3})"
      ]
     },
     "execution_count": 112,
     "metadata": {},
     "output_type": "execute_result"
    }
   ],
   "source": [
    "# frozenset\n",
    "# 가변객체에서 불변으로 만들기\n",
    "fs = frozenset([1,2,3])\n",
    "fs"
   ]
  }
 ],
 "metadata": {
  "kernelspec": {
   "display_name": "Python 3 (ipykernel)",
   "language": "python",
   "name": "python3"
  },
  "language_info": {
   "codemirror_mode": {
    "name": "ipython",
    "version": 3
   },
   "file_extension": ".py",
   "mimetype": "text/x-python",
   "name": "python",
   "nbconvert_exporter": "python",
   "pygments_lexer": "ipython3",
   "version": "3.9.7"
  }
 },
 "nbformat": 4,
 "nbformat_minor": 5
}
