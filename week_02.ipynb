{
 "cells": [
  {
   "cell_type": "markdown",
   "id": "3615f46c-53e5-4c86-9f9f-806284f51c27",
   "metadata": {},
   "source": [
    "# Ch2. Variables"
   ]
  },
  {
   "cell_type": "markdown",
   "id": "e19f0f33-2443-43a6-b356-ba265c3f8d67",
   "metadata": {},
   "source": [
    "## 자료형 변환하기\n",
    "- int, str, float, bool"
   ]
  },
  {
   "cell_type": "code",
   "execution_count": 2,
   "id": "2788d72e-1582-416a-b4c2-d3ddd0cd0635",
   "metadata": {},
   "outputs": [
    {
     "data": {
      "text/plain": [
       "int"
      ]
     },
     "execution_count": 2,
     "metadata": {},
     "output_type": "execute_result"
    }
   ],
   "source": [
    "a = 10\n",
    "type(a)"
   ]
  },
  {
   "cell_type": "code",
   "execution_count": 3,
   "id": "d34cb43a-9475-4d5b-a477-526d31b85c16",
   "metadata": {},
   "outputs": [
    {
     "data": {
      "text/plain": [
       "10.0"
      ]
     },
     "execution_count": 3,
     "metadata": {},
     "output_type": "execute_result"
    }
   ],
   "source": [
    "# int => float\n",
    "float(a)"
   ]
  },
  {
   "cell_type": "code",
   "execution_count": 4,
   "id": "70a0bfd4-fd62-4aed-9f27-5a0c3d02d1c8",
   "metadata": {},
   "outputs": [
    {
     "data": {
      "text/plain": [
       "'10'"
      ]
     },
     "execution_count": 4,
     "metadata": {},
     "output_type": "execute_result"
    }
   ],
   "source": [
    "# int => str\n",
    "str(a)"
   ]
  },
  {
   "cell_type": "code",
   "execution_count": 5,
   "id": "163fa001-f4ee-495f-887b-e03426c285df",
   "metadata": {},
   "outputs": [
    {
     "data": {
      "text/plain": [
       "True"
      ]
     },
     "execution_count": 5,
     "metadata": {},
     "output_type": "execute_result"
    }
   ],
   "source": [
    "# int => bool\n",
    "bool(10)"
   ]
  },
  {
   "cell_type": "code",
   "execution_count": 8,
   "id": "f9940ce2-541d-43f9-bf9b-94280400ff6e",
   "metadata": {},
   "outputs": [
    {
     "data": {
      "text/plain": [
       "10"
      ]
     },
     "execution_count": 8,
     "metadata": {},
     "output_type": "execute_result"
    }
   ],
   "source": [
    "# float => int: 10.6 => 정수형 변환 시 소수점 이하 값 버린다.\n",
    "# 반올림 하는 것이 아님.\n",
    "int(10.9)"
   ]
  },
  {
   "cell_type": "code",
   "execution_count": 10,
   "id": "55c2e910-a052-4b2c-8e62-087ca87d9702",
   "metadata": {},
   "outputs": [
    {
     "name": "stdout",
     "output_type": "stream",
     "text": [
      "12\n",
      "11\n"
     ]
    }
   ],
   "source": [
    "x = 4.6\n",
    "y = 7.9\n",
    "\n",
    "print(int(x + y)) # 12.xx ==> int: 정수형 변환으로 소수점 이하 버림 ==> 12\n",
    "print(int(x) + int(y)) # 4 + 7 \n",
    "# int(정수형)으로 먼저 바꿔주는 것과 나중에 바꿔주는 것은 차이가 있음."
   ]
  },
  {
   "cell_type": "code",
   "execution_count": 11,
   "id": "913b67da-825c-4df0-ac0e-82f9e7a7dfd8",
   "metadata": {},
   "outputs": [
    {
     "data": {
      "text/plain": [
       "88.3"
      ]
     },
     "execution_count": 11,
     "metadata": {},
     "output_type": "execute_result"
    }
   ],
   "source": [
    "# str => int\n",
    "p = '88.3'\n",
    "# int(p)는 오류 뜸\n",
    "# str에서 int로 바꿀 때는 int타입에 맞게 정수이어야한다.\n",
    "# str에서 p가 소수이므로 float를 사용하여야 한다.\n",
    "float(p)"
   ]
  },
  {
   "cell_type": "markdown",
   "id": "d5d068c6-0046-4d56-9ec2-254a97082b1a",
   "metadata": {},
   "source": [
    "### 꿀팁\n",
    "`print()`"
   ]
  },
  {
   "cell_type": "code",
   "execution_count": 12,
   "id": "12c97478-073a-4737-9ae3-bb5d29cf4f53",
   "metadata": {},
   "outputs": [
    {
     "name": "stdout",
     "output_type": "stream",
     "text": [
      "orange apple tomato\n",
      "the next line\n"
     ]
    }
   ],
   "source": [
    "print('orange', 'apple', 'tomato') # default: 띄어쓰기, 줄 바꾸기\n",
    "print(\"the next line\")"
   ]
  },
  {
   "cell_type": "code",
   "execution_count": 13,
   "id": "fab28e97-6ae8-4c23-ad1e-19e65c3f9c61",
   "metadata": {},
   "outputs": [
    {
     "name": "stdout",
     "output_type": "stream",
     "text": [
      "orangeappletomato\n",
      "orange apple tomato\n",
      "orange_apple_tomato\n",
      "\n",
      "EOL\n"
     ]
    }
   ],
   "source": [
    "orange = 'orange'\n",
    "apple = 'apple'\n",
    "tomato= 'tomato'\n",
    "\n",
    "#1.\n",
    "print(orange + apple + tomato) # + 연결 가능하지만 원소들간의 공백 사라진다\n",
    "print(orange, apple, tomato, sep = ' ', end = '\\n') # default\n",
    "print(orange, apple, tomato, sep = '_', end = '\\n\\n') # 연결자 간 설정을 해줌\n",
    "print('EOL')"
   ]
  },
  {
   "cell_type": "code",
   "execution_count": 14,
   "id": "0642d0da-56dc-42b0-b9e6-09ea7fb39f39",
   "metadata": {},
   "outputs": [],
   "source": [
    "# 라인이 짧을 때 => ; 사용\n",
    "orange = 'orange'; apple = 'apple'; tomato= 'tomato'"
   ]
  },
  {
   "cell_type": "code",
   "execution_count": 15,
   "id": "a5c0c1c9-d97a-442a-9404-cd59242753d0",
   "metadata": {},
   "outputs": [
    {
     "name": "stdout",
     "output_type": "stream",
     "text": [
      "5\n"
     ]
    }
   ],
   "source": [
    "num = 5; print(num)"
   ]
  },
  {
   "cell_type": "markdown",
   "id": "fde791b4-cdf1-4b3c-a28a-d3362781a894",
   "metadata": {},
   "source": [
    "## input()\n",
    "- console에서 사용자에게 값을 입력 받는 함수\n",
    "- 입출력 관련된\n",
    "- 입력 받는 값의 타입은 문자열(str)\n",
    "- 입력 받은 값을 변수에 담아서 사용한다."
   ]
  },
  {
   "cell_type": "code",
   "execution_count": 16,
   "id": "d4e82d45-9099-4262-82eb-22d574d2db8c",
   "metadata": {},
   "outputs": [
    {
     "name": "stdin",
     "output_type": "stream",
     "text": [
      "What's your name? kim\n"
     ]
    },
    {
     "data": {
      "text/plain": [
       "'kim'"
      ]
     },
     "execution_count": 16,
     "metadata": {},
     "output_type": "execute_result"
    }
   ],
   "source": [
    "input(\"What's your name?\")"
   ]
  },
  {
   "cell_type": "code",
   "execution_count": 17,
   "id": "d5671608-e750-44ed-bebb-e6de4ef9f201",
   "metadata": {},
   "outputs": [
    {
     "name": "stdin",
     "output_type": "stream",
     "text": [
      "What's your name? kwon\n"
     ]
    }
   ],
   "source": [
    "#1.\n",
    "name = input(\"What's your name?\")"
   ]
  },
  {
   "cell_type": "code",
   "execution_count": 18,
   "id": "d871f417-8593-43e7-8ac7-8cf68b2e8a9d",
   "metadata": {},
   "outputs": [
    {
     "data": {
      "text/plain": [
       "'kwon'"
      ]
     },
     "execution_count": 18,
     "metadata": {},
     "output_type": "execute_result"
    }
   ],
   "source": [
    "name"
   ]
  },
  {
   "cell_type": "code",
   "execution_count": 19,
   "id": "f429ccc2-e21e-4473-beea-24a3dcadc4a1",
   "metadata": {},
   "outputs": [
    {
     "name": "stdout",
     "output_type": "stream",
     "text": [
      "What's your name?\n"
     ]
    },
    {
     "name": "stdin",
     "output_type": "stream",
     "text": [
      " kwonsuhyun\n"
     ]
    }
   ],
   "source": [
    "#2.\n",
    "print(\"What's your name?\")\n",
    "name = input()"
   ]
  },
  {
   "cell_type": "code",
   "execution_count": 20,
   "id": "aad199b4-6e65-4bbc-bf71-c9dfb9965629",
   "metadata": {},
   "outputs": [
    {
     "name": "stdout",
     "output_type": "stream",
     "text": [
      "kwonsuhyun\n"
     ]
    }
   ],
   "source": [
    "print(name)"
   ]
  },
  {
   "cell_type": "markdown",
   "id": "ed7ed88d-5930-48fd-98ea-7919b64b6676",
   "metadata": {},
   "source": [
    "input을 str이 아닌 다른 타입으로 사용하고 싶을 때는 형 변환을 미리 해준다."
   ]
  },
  {
   "cell_type": "code",
   "execution_count": 21,
   "id": "38e7d756-a609-405a-8359-f8cde397a687",
   "metadata": {},
   "outputs": [
    {
     "name": "stdin",
     "output_type": "stream",
     "text": [
      "How old are you? 20\n"
     ]
    }
   ],
   "source": [
    "age = input(\"How old are you?\") #타입이 str으로 나오기 때문에 형을 변환시켜 주어야 한다."
   ]
  },
  {
   "cell_type": "code",
   "execution_count": 22,
   "id": "55fa2dd9-21ce-41f6-badc-ad4e71e99ba0",
   "metadata": {},
   "outputs": [
    {
     "data": {
      "text/plain": [
       "str"
      ]
     },
     "execution_count": 22,
     "metadata": {},
     "output_type": "execute_result"
    }
   ],
   "source": [
    "type(age)"
   ]
  },
  {
   "cell_type": "code",
   "execution_count": 23,
   "id": "dd43dc83-d23e-49c0-aabc-65ac12015038",
   "metadata": {},
   "outputs": [
    {
     "name": "stdin",
     "output_type": "stream",
     "text": [
      "How old are you? 21\n"
     ]
    }
   ],
   "source": [
    "age = int(input(\"How old are you?\")) #int로 바꿔주기"
   ]
  },
  {
   "cell_type": "code",
   "execution_count": 24,
   "id": "ac587dc3-3d4e-4be4-b0be-ca9cbd8280f2",
   "metadata": {},
   "outputs": [
    {
     "data": {
      "text/plain": [
       "int"
      ]
     },
     "execution_count": 24,
     "metadata": {},
     "output_type": "execute_result"
    }
   ],
   "source": [
    "type(age)"
   ]
  },
  {
   "cell_type": "code",
   "execution_count": 25,
   "id": "dc0f2165-a05b-4103-ab46-ad05530726c0",
   "metadata": {},
   "outputs": [
    {
     "name": "stdout",
     "output_type": "stream",
     "text": [
      "당신이 태어난 해는 2002 입니다.\n"
     ]
    }
   ],
   "source": [
    "print(\"당신이 태어난 해는\", 2022 - age +1, '입니다.') # 연산 가능해짐 - int로 바꿨기 때문."
   ]
  },
  {
   "cell_type": "markdown",
   "id": "5a2ffb8b-134b-4ae3-9074-20539be37c42",
   "metadata": {},
   "source": [
    "### printing"
   ]
  },
  {
   "cell_type": "code",
   "execution_count": 26,
   "id": "440d9e32-087a-45dd-9784-090e7af136b1",
   "metadata": {},
   "outputs": [
    {
     "name": "stdout",
     "output_type": "stream",
     "text": [
      "당신이 태어난 해는 21년입니다!\n"
     ]
    }
   ],
   "source": [
    "print(f'당신이 태어난 해는 {age}년입니다!') # {}사이에 들어가는 것은 변수로 인식함\n",
    "# print(f'{<variable>}')"
   ]
  },
  {
   "cell_type": "code",
   "execution_count": 27,
   "id": "5c5bbb52-5f98-4920-b0cf-aecf151534c6",
   "metadata": {},
   "outputs": [
    {
     "name": "stdout",
     "output_type": "stream",
     "text": [
      "당신이 태어난 해는 2002년입니다!\n"
     ]
    }
   ],
   "source": [
    "print(f'당신이 태어난 해는 {2022 - age + 1}년입니다!') "
   ]
  },
  {
   "cell_type": "code",
   "execution_count": 28,
   "id": "296c1280-52f4-4b4d-80eb-dc0c74cebc7f",
   "metadata": {},
   "outputs": [],
   "source": [
    "#Quiz. 택배 정보를 입력 받고 무게에 따른 값 선정하기"
   ]
  },
  {
   "cell_type": "code",
   "execution_count": 29,
   "id": "b01781fc-888d-4b12-b86b-b2a43fbe7827",
   "metadata": {},
   "outputs": [
    {
     "name": "stdin",
     "output_type": "stream",
     "text": [
      "수취인의 성명: 권수현\n",
      "수취인의 주소: 서울\n",
      "물건 무게: 5\n"
     ]
    }
   ],
   "source": [
    "name = input(\"수취인의 성명:\")\n",
    "add = input(\"수취인의 주소:\")\n",
    "wei= float(input(\"물건 무게:\"))"
   ]
  },
  {
   "cell_type": "code",
   "execution_count": 30,
   "id": "af80166f-6cba-41b5-9595-bf261703971c",
   "metadata": {},
   "outputs": [
    {
     "name": "stdout",
     "output_type": "stream",
     "text": [
      "수취인의 성명: 권수현\n",
      "수취인의 주소: 서울\n",
      "배송비: 3000원\n",
      "물건 비용: 25.0원\n",
      "총 합계: 3025.0원\n"
     ]
    }
   ],
   "source": [
    "print(f'수취인의 성명: {name}')\n",
    "print(f'수취인의 주소: {add}')\n",
    "print(f'배송비: 3000원')\n",
    "print(f'물건 비용: {wei*5}원')\n",
    "print(f'총 합계: {wei*5+3000}원' )"
   ]
  },
  {
   "cell_type": "code",
   "execution_count": 31,
   "id": "07897968-4775-4605-94b8-d18fbdcffcac",
   "metadata": {},
   "outputs": [
    {
     "name": "stdin",
     "output_type": "stream",
     "text": [
      "수취인의 성명: 권수현\n",
      "수취인의 주소: 서울\n",
      "배송비: 4000\n",
      "물건 무게: 5\n"
     ]
    }
   ],
   "source": [
    "# 배송비도 입력 받았을 때\n",
    "name = input(\"수취인의 성명:\")\n",
    "add = input(\"수취인의 주소:\")\n",
    "deli = int(input(\"배송비:\"))\n",
    "wei = float(input(\"물건 무게:\"))"
   ]
  },
  {
   "cell_type": "code",
   "execution_count": 32,
   "id": "8a4ab5a8-9745-446b-af3a-ce33606f76fd",
   "metadata": {},
   "outputs": [
    {
     "name": "stdout",
     "output_type": "stream",
     "text": [
      "수취인의 성명: 권수현\n",
      "수취인의 주소: 서울\n",
      "배송비: 4000원\n",
      "물건 비용: 25.0원\n",
      "총 합계: 4025.0원\n"
     ]
    }
   ],
   "source": [
    "print(f'수취인의 성명: {name}')\n",
    "print(f'수취인의 주소: {add}')\n",
    "print(f'배송비: {deli}원')\n",
    "print(f'물건 비용: {wei*5}원')\n",
    "print(f'총 합계: {wei*5+deli}원' )"
   ]
  },
  {
   "cell_type": "markdown",
   "id": "0e09da0f-50ab-4a11-901c-df772cc030d6",
   "metadata": {},
   "source": [
    "## Ch03. numbers"
   ]
  },
  {
   "cell_type": "markdown",
   "id": "1b2ee07d-8118-4cbc-ab1b-1e3a4d319140",
   "metadata": {},
   "source": [
    "### boolean\n",
    "- True(참)/False(거짓)\n",
    "    - 이 값을 직접 사용하기도 하고, 어떤 값에서 타입의 진위 확인을 위해 사용하기도 함\n",
    "    - 파이썬 특수 함수 bool()은 모든 파이썬 데이터 타입을 불리언으로 변환\n",
    "- False인 값\n",
    "- if문 (조건식): \"만약 어떤 값이 True면,...\""
   ]
  },
  {
   "cell_type": "code",
   "execution_count": 33,
   "id": "9aa91e9d-653b-41c4-9699-0d772382434c",
   "metadata": {},
   "outputs": [
    {
     "data": {
      "text/plain": [
       "False"
      ]
     },
     "execution_count": 33,
     "metadata": {},
     "output_type": "execute_result"
    }
   ],
   "source": [
    "bool(0)"
   ]
  },
  {
   "cell_type": "code",
   "execution_count": 34,
   "id": "d185c492-dca4-42d1-bb29-851e9419f84f",
   "metadata": {},
   "outputs": [
    {
     "data": {
      "text/plain": [
       "True"
      ]
     },
     "execution_count": 34,
     "metadata": {},
     "output_type": "execute_result"
    }
   ],
   "source": [
    "bool(' ')"
   ]
  },
  {
   "cell_type": "code",
   "execution_count": 35,
   "id": "6945fe4e-bc45-4ad6-9924-83c2b54019a9",
   "metadata": {},
   "outputs": [
    {
     "data": {
      "text/plain": [
       "False"
      ]
     },
     "execution_count": 35,
     "metadata": {},
     "output_type": "execute_result"
    }
   ],
   "source": [
    "bool(None)"
   ]
  },
  {
   "cell_type": "markdown",
   "id": "189e134c-f203-4b42-b024-f791895176e4",
   "metadata": {},
   "source": [
    "### Integer\n",
    "- 분수나 소수가 아닌 정수\n",
    "- 음수는 '-'기호를 붙인다: i.e., -50\n",
    "    - 정수 앞에 부호가 올 수 있으며, 일반적인 10진수 외 다른 진수로 표현할 수 있음\n",
    "- default = 양수\n",
    "- 숫자 앞에는 0을 쓰지 못한다. i.e., 09\n",
    "    - 0bxx(10진수가 아닌)\n",
    "    - 숫자 0은 가능\n",
    "- 숫자 사이에 쉼표를 쓰면 오류: 100,000(x) => 100_000=> 숫자 사이의 언더바는 인식하지 않는다는 의미\n",
    "    - 첫 번째 숫자 이후 모든 위치에 언더바를 사용할 수 있음\n",
    "    - 결과를 출력할 때는 언더바를 무시하고 숫자만 출력!\n"
   ]
  },
  {
   "cell_type": "code",
   "execution_count": 36,
   "id": "050e99c5-a6c4-48d9-af79-0e81aeb988d4",
   "metadata": {},
   "outputs": [],
   "source": [
    "# a = 09 ==> 이 경우 오류 발생함."
   ]
  },
  {
   "cell_type": "code",
   "execution_count": 37,
   "id": "19a9ef70-c08d-4e18-970b-76ae337d566b",
   "metadata": {},
   "outputs": [
    {
     "data": {
      "text/plain": [
       "-1"
      ]
     },
     "execution_count": 37,
     "metadata": {},
     "output_type": "execute_result"
    }
   ],
   "source": [
    "a = -50\n",
    "b = 49\n",
    "a + b"
   ]
  },
  {
   "cell_type": "markdown",
   "id": "862d0c21-69c6-4baf-a958-94f128f40dc2",
   "metadata": {},
   "source": [
    "## 연산자| operator\n",
    "- +, -, *,/\n",
    "- 피연산자|oerand: 1,2,...\n",
    "- 수식|expression"
   ]
  },
  {
   "cell_type": "code",
   "execution_count": 38,
   "id": "934b77c9-85df-44c2-8c0d-9403d77095ad",
   "metadata": {},
   "outputs": [
    {
     "data": {
      "text/plain": [
       "6561"
      ]
     },
     "execution_count": 38,
     "metadata": {},
     "output_type": "execute_result"
    }
   ],
   "source": [
    "x = 9\n",
    "y = 4\n",
    "\n",
    "# 연산\n",
    "x + y\n",
    "x - y\n",
    "x * y\n",
    "x / y\n",
    "x ** y # 거듭제곱|exponential\n",
    "\n",
    "# 연산순서- 곱셈, 나눗셈이 덧셈, 뺄셈에 우선, ()로 묶일 시 우선"
   ]
  },
  {
   "cell_type": "markdown",
   "id": "2418db6c-8048-488a-8d83-4ed84d4fd941",
   "metadata": {},
   "source": [
    "나눗셈 = 몫, 나머지"
   ]
  },
  {
   "cell_type": "code",
   "execution_count": 39,
   "id": "6774075c-3c63-4772-b163-6ed3a2b48c74",
   "metadata": {},
   "outputs": [
    {
     "data": {
      "text/plain": [
       "1"
      ]
     },
     "execution_count": 39,
     "metadata": {},
     "output_type": "execute_result"
    }
   ],
   "source": [
    "x / y # 결과물\n",
    "x // y # 몫\n",
    "x % y # 나머지"
   ]
  },
  {
   "cell_type": "code",
   "execution_count": 40,
   "id": "ed665ab5-4ee3-4fc3-a3b9-74c82aafa258",
   "metadata": {},
   "outputs": [
    {
     "data": {
      "text/plain": [
       "(2, 1)"
      ]
     },
     "execution_count": 40,
     "metadata": {},
     "output_type": "execute_result"
    }
   ],
   "source": [
    "divmod(x, y) # (몫, 나머지)\n",
    "# 튜플이라고 하는 두 항목의 결과로 반환"
   ]
  },
  {
   "cell_type": "code",
   "execution_count": 41,
   "id": "646cc71f-3b54-4ba2-82df-c0b78af14e31",
   "metadata": {},
   "outputs": [],
   "source": [
    "# division by zero 항시 유의"
   ]
  },
  {
   "cell_type": "markdown",
   "id": "c9a62366-046f-4e57-8472-32556ad52501",
   "metadata": {},
   "source": [
    "### 복합 대입 연산자|compound assignment operator"
   ]
  },
  {
   "cell_type": "code",
   "execution_count": 42,
   "id": "1b54dd9e-0124-4a4e-9523-5004bd5b8013",
   "metadata": {},
   "outputs": [
    {
     "name": "stdout",
     "output_type": "stream",
     "text": [
      "5\n"
     ]
    }
   ],
   "source": [
    "x = 5\n",
    "x - 3\n",
    "print(x)\n",
    "# x를 다시 정의해주어야함 ==> 계산할 식을 임시변수에 담아 x를 다시 정의해주기"
   ]
  },
  {
   "cell_type": "code",
   "execution_count": 43,
   "id": "3b83ec0b-aa0d-44af-9d68-64c5a7e6134f",
   "metadata": {},
   "outputs": [
    {
     "name": "stdout",
     "output_type": "stream",
     "text": [
      "2\n"
     ]
    }
   ],
   "source": [
    "x = x - 3\n",
    "print(x)\n",
    "\n",
    "#1. x - 3 계산\n",
    "#2. temp = x - 3 (임시변수에 담는다)\n",
    "#3. x = temp"
   ]
  },
  {
   "cell_type": "code",
   "execution_count": 44,
   "id": "1d20c561-dfb6-489f-a94c-535869381e04",
   "metadata": {},
   "outputs": [
    {
     "name": "stdout",
     "output_type": "stream",
     "text": [
      "-1\n"
     ]
    }
   ],
   "source": [
    "x -= 3\n",
    "print(x) #2 - 3"
   ]
  },
  {
   "cell_type": "code",
   "execution_count": 45,
   "id": "1b5e7c27-60a5-427c-83f0-67b69784fbdf",
   "metadata": {},
   "outputs": [],
   "source": [
    "x += 3\n",
    "x -= 3\n",
    "x *= 3\n",
    "x /= 3\n",
    "\n",
    "x += 1"
   ]
  },
  {
   "cell_type": "markdown",
   "id": "dfbf89cb-7fef-44cc-8f4f-4be785917489",
   "metadata": {},
   "source": [
    "### 지수표현\n",
    "- 예: 1.0e-4\n",
    "- e의 앞부분은 소수, 정수 둘다 됨\n",
    "- 뒷부분은 정수여야함\n",
    "- 뒷부분이 음수면 소수점 자릿수를 의미함\n",
    "- e,E 둘다 사용 가능함"
   ]
  },
  {
   "cell_type": "code",
   "execution_count": 46,
   "id": "1ca93120-7453-447f-949f-79ce673b2571",
   "metadata": {},
   "outputs": [
    {
     "data": {
      "text/plain": [
       "0.0004005"
      ]
     },
     "execution_count": 46,
     "metadata": {},
     "output_type": "execute_result"
    }
   ],
   "source": [
    "# 0.0004005 ==> 지수로 표현\n",
    "4.005e-4"
   ]
  },
  {
   "cell_type": "markdown",
   "id": "67bf0630-5c85-4806-a8bb-4d3e6add72c7",
   "metadata": {},
   "source": [
    "### Quiz 1.\n",
    "- 반지름을 입력 받아서 원의 면적 구하기\n",
    "- 면적 = pi * r제곱"
   ]
  },
  {
   "cell_type": "code",
   "execution_count": 47,
   "id": "ddf67264-c20d-4f30-a655-33c974826df9",
   "metadata": {},
   "outputs": [
    {
     "name": "stdin",
     "output_type": "stream",
     "text": [
      "반지름: 5\n"
     ]
    },
    {
     "name": "stdout",
     "output_type": "stream",
     "text": [
      "78.5\n"
     ]
    }
   ],
   "source": [
    "rad = int(input(\"반지름:\"))\n",
    "wid = 3.14 * (rad ** 2)\n",
    "print(wid)"
   ]
  },
  {
   "cell_type": "markdown",
   "id": "c9a3d9ed-ef87-4451-a26f-4b619e14d37c",
   "metadata": {},
   "source": [
    "### Quiz 2.\n",
    "- 숫자를 입력 받고 3의 배수인지 확인하기\n",
    "- 숫자를 입력 받고 홀수인지 확인하기"
   ]
  },
  {
   "cell_type": "code",
   "execution_count": 48,
   "id": "ae3bf301-5dc8-49e9-95db-a305b9d57fb5",
   "metadata": {},
   "outputs": [
    {
     "name": "stdin",
     "output_type": "stream",
     "text": [
      "숫자 입력: 3\n"
     ]
    },
    {
     "name": "stdout",
     "output_type": "stream",
     "text": [
      "3의 배수입니다.\n"
     ]
    }
   ],
   "source": [
    "num = int(input(\"숫자 입력:\"))\n",
    "if num % 3 == 0:\n",
    "    print(\"3의 배수입니다.\")\n",
    "\n",
    "else :\n",
    "    print(\"3의 배수가 아닙니다.\")\n"
   ]
  },
  {
   "cell_type": "code",
   "execution_count": 49,
   "id": "09f94a9e-2ad7-4bc5-b95d-fcd11db336b9",
   "metadata": {},
   "outputs": [
    {
     "name": "stdin",
     "output_type": "stream",
     "text": [
      "숫자 입력: 8\n"
     ]
    },
    {
     "name": "stdout",
     "output_type": "stream",
     "text": [
      "짝수입니다.\n"
     ]
    }
   ],
   "source": [
    "num = int(input(\"숫자 입력:\"))\n",
    "if num % 2 == 0:\n",
    "    print(\"짝수입니다.\")\n",
    "\n",
    "else :\n",
    "    print(\"홀수입니다.\")"
   ]
  },
  {
   "cell_type": "markdown",
   "id": "a95571dd-c88f-4db9-a25b-7fcd3bad23ce",
   "metadata": {},
   "source": [
    "### IF 조건문"
   ]
  },
  {
   "cell_type": "markdown",
   "id": "151216b8-e245-41ea-bc13-fdd19b27e0c1",
   "metadata": {},
   "source": [
    "### 코드 짜는 팁\n",
    "- 주석 달기\n",
    "    - `#` hash, sharp, ...\n",
    "    - `#` 시작 지점부터 라인 끝까지 주석 처리됨, 라인이 바뀌면 코드로 인식\n",
    "    - \"\"\" \"\"\" : 긴 주석\n",
    "    - 문자열 안에 있는 sharp는 부호로 인식한다\n",
    "    - 이유? 코드에 대한 설명은 최대한 하지않는다. 의도를 나타나기 위해, 오류가 있다거나, ...\n",
    "\n",
    "- 라인 유지하기\n",
    "    - 들여쓰기 (default space 4개, 탭을 이용해서)\n",
    "    - 논리 구조를 나타내기 때문에 굉장히 중요함.\n",
    "    - 한 라인에 80자 정도 (백슬래시로 라인을 끊어준다 (\\))"
   ]
  },
  {
   "cell_type": "code",
   "execution_count": 50,
   "id": "d4eb42d1-bb7a-4eb3-a548-9bf90b81327d",
   "metadata": {},
   "outputs": [
    {
     "name": "stdout",
     "output_type": "stream",
     "text": [
      "3\n"
     ]
    }
   ],
   "source": [
    "a = 3 # 주석입니다\n",
    "\"\"\"\n",
    "주석1\n",
    "주석2\n",
    "주석3\n",
    "\"\"\"\n",
    "print(a)"
   ]
  },
  {
   "cell_type": "code",
   "execution_count": 51,
   "id": "0cc6bd98-58c4-44be-be08-31687a860cc5",
   "metadata": {},
   "outputs": [
    {
     "name": "stdout",
     "output_type": "stream",
     "text": [
      "hey, there #\n"
     ]
    }
   ],
   "source": [
    "print('hey, there #')"
   ]
  },
  {
   "cell_type": "markdown",
   "id": "b4dd65c4-6569-4717-bebc-3ac4b57d6bf0",
   "metadata": {},
   "source": [
    "### if\n",
    "if <조건식>:\n",
    "    <실핼할 코드>"
   ]
  },
  {
   "cell_type": "code",
   "execution_count": 52,
   "id": "0140eed6-4333-43bb-9b3c-a0cce7846403",
   "metadata": {},
   "outputs": [
    {
     "name": "stdout",
     "output_type": "stream",
     "text": [
      "두 수는 같지 않다\n"
     ]
    }
   ],
   "source": [
    "if 3 != 1:\n",
    "    print(\"두 수는 같지 않다\")"
   ]
  },
  {
   "cell_type": "markdown",
   "id": "7a11fb8d-db91-411d-815c-ba4b2c6cd1e8",
   "metadata": {},
   "source": [
    "- if-else\n",
    "if <조건식>:\n",
    "    <실행할 코드>\n",
    "else:\n",
    "    <실행할 코드2>"
   ]
  },
  {
   "cell_type": "code",
   "execution_count": 54,
   "id": "28d161a2-b063-4e8e-9958-13b82b4cb1b7",
   "metadata": {},
   "outputs": [
    {
     "name": "stdout",
     "output_type": "stream",
     "text": [
      "두 수는 같지 않다\n"
     ]
    }
   ],
   "source": [
    "if 3 != 1:\n",
    "    print(\"두 수는 같지 않다\")\n",
    "else:\n",
    "    print(\"두 수가 같다\")\n",
    "# 만약에 같다를 표현할 때는 ==을 사용, 같지 않다를 표현할 때는 !=을 사용한다."
   ]
  },
  {
   "cell_type": "markdown",
   "id": "da24b9f6-5f06-48c0-b4cd-2c5f3490a66f",
   "metadata": {},
   "source": [
    "- if-elif-else\n",
    "if <조건식>:\n",
    "    <실행할 코드1>\n",
    "elif <조건식2>:\n",
    "    <실행할 코드2>\n",
    "else:\n",
    "    <실행할 코드3>"
   ]
  },
  {
   "cell_type": "code",
   "execution_count": 55,
   "id": "d57ab112-2db9-4080-85df-11acb59fdd26",
   "metadata": {},
   "outputs": [
    {
     "name": "stdout",
     "output_type": "stream",
     "text": [
      "3보다 크다\n"
     ]
    }
   ],
   "source": [
    "a = 4\n",
    "\n",
    "if a < 3:\n",
    "    print(\"3보다 작다\")\n",
    "elif a == 3:\n",
    "    print(\"3이다\")\n",
    "else:\n",
    "    print(\"3보다 크다\")"
   ]
  },
  {
   "cell_type": "markdown",
   "id": "5e618cf2-d352-4d8e-ae6e-36639341e38b",
   "metadata": {},
   "source": [
    "### 비교연산자\n",
    "- x < y   (x는 y보다 작다)\n",
    "- x > y  (x는 y보다 크다)\n",
    "- x >= y  (x는 y보다 크거나 같다)\n",
    "- x <= y  (x는 y보다 작거나 같다)\n",
    "- x == y  (x는 y와 같다)\n",
    "- x != y  (x는 y와 다르다)\n",
    "- x is y (값, 메모리주소)-주소가 다를 수 있음\n",
    "- x is not y"
   ]
  },
  {
   "cell_type": "markdown",
   "id": "158037e2-8a41-4971-8265-b6df8b4b12b7",
   "metadata": {},
   "source": [
    "### Quiz\n",
    "- 1. 시험 점수를 입력 받고, 80점 이상이면 True, 아니면 False 반환하기\n",
    "- 2. 시험 점수를 입력 받고, 95점 이상 A+, 85점 이상 B+, 나머지 F로 출력하세요."
   ]
  },
  {
   "cell_type": "code",
   "execution_count": 56,
   "id": "e4b2bf48-b71b-47c7-b613-17f0a2382a38",
   "metadata": {},
   "outputs": [
    {
     "name": "stdin",
     "output_type": "stream",
     "text": [
      "시험 점수: 66\n"
     ]
    },
    {
     "name": "stdout",
     "output_type": "stream",
     "text": [
      "False\n"
     ]
    }
   ],
   "source": [
    "score = int(input(\"시험 점수:\"))\n",
    "if score >= 80:\n",
    "    print(True)\n",
    "else:\n",
    "    print(False)\n",
    "    "
   ]
  },
  {
   "cell_type": "code",
   "execution_count": 57,
   "id": "a854696c-9a1d-4b4a-80c4-25bd4ad44e26",
   "metadata": {},
   "outputs": [
    {
     "name": "stdin",
     "output_type": "stream",
     "text": [
      "시험 점수: 99\n"
     ]
    },
    {
     "name": "stdout",
     "output_type": "stream",
     "text": [
      "A+\n"
     ]
    }
   ],
   "source": [
    "score = int(input(\"시험 점수:\"))\n",
    "if score >= 95:\n",
    "    print(\"A+\")\n",
    "elif score >= 90:\n",
    "    print(\"A\")\n",
    "elif score >= 85:\n",
    "    print(\"B+\")\n",
    "else:\n",
    "    print(\"F\")"
   ]
  },
  {
   "cell_type": "code",
   "execution_count": 60,
   "id": "7ee5589f-fda5-4273-9ba6-fb1b5ce2ca7e",
   "metadata": {},
   "outputs": [
    {
     "name": "stdout",
     "output_type": "stream",
     "text": [
      "3600\n",
      "3600\n",
      "86400\n",
      "24.0\n",
      "24\n"
     ]
    }
   ],
   "source": [
    "### Ch03 연습문제\n",
    "#1. 1시간은 몇 초인가? 대화식 인터프리터를 계산기로 사용해서 계산기로 사용해서 1시간(60분)에 1분(60초)을 곱하기\n",
    "print(60 * 60)\n",
    "#2. 계산한 결과를 seconds_per_hour 변수에 저장\n",
    "seconds_per_hour = 60 *60\n",
    "print(seconds_per_hour)\n",
    "#3. 1일은 몇 초인가? (seconds_per_hour 변수를 사용)\n",
    "print(seconds_per_hour * 24)\n",
    "#4. 계산한 결과를 seconds_per_day 변수에 저장\n",
    "seconds_per_day = seconds_per_hour * 24\n",
    "#5. 부동소수점(/) 나눗셈을 사용해서 seconds_per_day를 seconds_per_hour로 나누기\n",
    "print(seconds_per_day / seconds_per_hour)\n",
    "#6. 정수(//) 나눗셈을 사용해서 seconds_per_day를 seconds_per_hour로 나누기. (#5번 문제 결과에서 본 .0 부분을 제외하고 결과가 같은가?)\n",
    "print(seconds_per_day // seconds_per_hour)"
   ]
  },
  {
   "cell_type": "code",
   "execution_count": null,
   "id": "d81c7f61-9238-453d-85bb-8b19ae67242c",
   "metadata": {},
   "outputs": [],
   "source": [
    "### Ch04 연습문제\n",
    "#1. 1~10 사이의 숫자를 선택해서 secret 변수에 할당. 그리고 1~10 사이의 다른 숫자를 선택해서 guess 변수에 할당. \n",
    "# (if, elif, else 문을 사용하여 guess 변수가 secret 변수보다 작으면 'too low', 크면 'too high’, 일치하면 'just right'를 출력)\n",
    " \n",
    "secret = int(input(\"1~10 사이의 숫자를 하나 선택하시오:\"))\n",
    "guess = int(input(\"1~10 사이의 다른 숫자를 하나 선택하시오:\"))\n",
    "\n",
    "if guess < secret:\n",
    "    print(\"too low\")\n",
    "elif guess > secret:\n",
    "    print(\"too high\")\n",
    "else:\n",
    "    print(\"just right\")"
   ]
  },
  {
   "cell_type": "code",
   "execution_count": null,
   "id": "a82de961-7aba-446a-b11a-a87c8f66feec",
   "metadata": {},
   "outputs": [],
   "source": []
  }
 ],
 "metadata": {
  "kernelspec": {
   "display_name": "Python 3 (ipykernel)",
   "language": "python",
   "name": "python3"
  },
  "language_info": {
   "codemirror_mode": {
    "name": "ipython",
    "version": 3
   },
   "file_extension": ".py",
   "mimetype": "text/x-python",
   "name": "python",
   "nbconvert_exporter": "python",
   "pygments_lexer": "ipython3",
   "version": "3.9.7"
  }
 },
 "nbformat": 4,
 "nbformat_minor": 5
}
