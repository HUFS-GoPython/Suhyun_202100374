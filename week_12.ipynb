{
 "cells": [
  {
   "cell_type": "markdown",
   "id": "d5875b9a-53c8-475a-9176-0fd896621c3b",
   "metadata": {},
   "source": [
    "### 함수II\n"
   ]
  },
  {
   "cell_type": "markdown",
   "id": "829ae4b0-3c8e-4aa6-8801-6a6bfd85b67e",
   "metadata": {},
   "source": [
    "#### asterisk (stars)*, **"
   ]
  },
  {
   "cell_type": "code",
   "execution_count": 42,
   "id": "d4ac9717-65ca-4af2-a7fd-8098d800367e",
   "metadata": {},
   "outputs": [
    {
     "name": "stdout",
     "output_type": "stream",
     "text": [
      "hey\n"
     ]
    }
   ],
   "source": [
    "def print_arg(args):\n",
    "    print(args)\n",
    "    \n",
    "print_arg('hey')"
   ]
  },
  {
   "cell_type": "code",
   "execution_count": 4,
   "id": "8ac6398b-ca4f-4cdb-8b9e-7ea93ca88715",
   "metadata": {},
   "outputs": [
    {
     "name": "stdout",
     "output_type": "stream",
     "text": [
      "('hey', 'hello', 'hi')\n"
     ]
    }
   ],
   "source": [
    "def print_arg(*args):\n",
    "    # 인자(arg)를 튜플로 묶어서 활용하는 역할 -별을 넣어주면\n",
    "    print(args)\n",
    "    \n",
    "print_arg('hey', 'hello', 'hi')\n",
    "# 여러가지가 들어갈 수 있다."
   ]
  },
  {
   "cell_type": "code",
   "execution_count": 45,
   "id": "d5b6e6e4-cb6f-45a6-ac8a-43d547573b31",
   "metadata": {},
   "outputs": [
    {
     "name": "stdout",
     "output_type": "stream",
     "text": [
      "hey hello hi\n"
     ]
    }
   ],
   "source": [
    "def print_arg(*args): #1. 튜플로 묶기\n",
    "    print(*args) #2. 언패킹 (튜플 -> 인자로)\n",
    "    # print에서 star를 쓰면 괄호가 없어져서 하나하나 따로 프린트해줌\n",
    "    \n",
    "print_arg('hey', 'hello', 'hi')\n",
    "# 여러개여도 가능"
   ]
  },
  {
   "cell_type": "code",
   "execution_count": 48,
   "id": "cd60e71f-ae9e-4305-b1a1-e0f783cc9474",
   "metadata": {},
   "outputs": [
    {
     "name": "stdout",
     "output_type": "stream",
     "text": [
      "obligatory book\n",
      "1 2 3 4\n"
     ]
    }
   ],
   "source": [
    "def print_arg2(name, *args):\n",
    "    print('obligatory',name)\n",
    "    print(*args)\n",
    "    \n",
    "print_arg2('book', 1,2,3,4)\n",
    "# name은 꼭 필요하고 나머지는 있으면 출력하겠다.\n",
    "# 특별한 이유 아니면 *args로 활용- 이렇게 안해서 코드가 안돌아가진 않음"
   ]
  },
  {
   "cell_type": "code",
   "execution_count": 59,
   "id": "50c8fde3-096c-4836-9443-ea93fa46d8a2",
   "metadata": {},
   "outputs": [
    {
     "name": "stdout",
     "output_type": "stream",
     "text": [
      "obligatory book\n",
      "1 2 3 4\n",
      "obligatory book\n",
      "(1, 2, 3, 4)\n",
      "obligatory book\n",
      "1 2 3 4\n"
     ]
    }
   ],
   "source": [
    "def print_arg2(name, *args):\n",
    "    print('obligatory',name)\n",
    "    print(*args) # 인덱싱도 가능하지만 주의하기 (변수 설정 가능)\n",
    "    \n",
    "print_arg2('book', 1,2,3,4)\n",
    "nums = (1,2,3,4)\n",
    "x = print_arg2('book', nums) # 하나를 하나로 본 것\n",
    "y = print_arg2('book', *nums) # 하나를 다섯개로 본 것"
   ]
  },
  {
   "cell_type": "markdown",
   "id": "192a0aef-f645-4ae7-aea8-e124bc902614",
   "metadata": {},
   "source": [
    "#### 외부에서 활용하기\n",
    "- 컬렉션 자료형 언패킹 출력 시\n",
    "- zip()\n",
    "- 키워드 전용 인수 선언\n",
    "    - 별 뒤에 오는 매개변수들은 반드시 키워드 인수로 들어오도록 설정하는 역할\n",
    "    - (keyword arguments)kargs와 혼선을 빚지 않기 위해 (start =1, end =0 이렇게 하는 이유)"
   ]
  },
  {
   "cell_type": "code",
   "execution_count": 51,
   "id": "4ee480c9-e75f-4382-9bfa-62ebebb298f7",
   "metadata": {},
   "outputs": [
    {
     "name": "stdout",
     "output_type": "stream",
     "text": [
      "[0, 1, 2, 3, 4]\n",
      "0 1 2 3 4\n"
     ]
    }
   ],
   "source": [
    "nums = list(range(5))\n",
    "print(nums) # 리스트로 나타남\n",
    "print(*nums) # 인자 각각으로 나타남-언패킹\n",
    "# 함수 안에서만 아니고 외부에서도 가능"
   ]
  },
  {
   "cell_type": "code",
   "execution_count": 57,
   "id": "ffb108f9-9918-4996-ac4d-4f38867d19dd",
   "metadata": {},
   "outputs": [
    {
     "name": "stdout",
     "output_type": "stream",
     "text": [
      "[1, 2]\n",
      "[3, 4]\n",
      "[5, 6]\n",
      "(1, 3, 5)\n",
      "(2, 4, 6)\n"
     ]
    }
   ],
   "source": [
    "# 행, 열이나 테이블\n",
    "a = [\n",
    "    [1, 2],\n",
    "    [3, 4],\n",
    "    [5, 6]\n",
    "]\n",
    "\n",
    "# 1,3,5 / 2,4,6 (열을 출력하고 싶다)\n",
    "for row in a:\n",
    "    print(row)\n",
    "for row in zip(*a): #zip으로 감쌀 수 있음\n",
    "    print(row)"
   ]
  },
  {
   "cell_type": "code",
   "execution_count": 61,
   "id": "f9181089-3d34-4b2e-9d28-1e439d90b574",
   "metadata": {},
   "outputs": [
    {
     "name": "stdout",
     "output_type": "stream",
     "text": [
      "2\n",
      "3\n"
     ]
    }
   ],
   "source": [
    "def print_data(data, *, start, end): # start, end -> start = 0 (그냥 0,1 이렇게 설정은 안됨)\n",
    "    for value in data[start:end]:\n",
    "                      print(value)\n",
    "            \n",
    "print_data(nums, start = 1, end = 3)"
   ]
  },
  {
   "cell_type": "markdown",
   "id": "ba5e71df-2bc5-4d3a-8fb4-cdf23809a1b9",
   "metadata": {},
   "source": [
    "### ** (karg)"
   ]
  },
  {
   "cell_type": "code",
   "execution_count": 64,
   "id": "6736dec4-af8e-49ba-ba86-3a83ee05ea46",
   "metadata": {},
   "outputs": [
    {
     "name": "stdout",
     "output_type": "stream",
     "text": [
      "{'wine': 'merlot', 'dessert': 'cake'}\n"
     ]
    }
   ],
   "source": [
    "def print_kargs(**kargs): # 변수를 딕셔너리로 묶는 기능\n",
    "    print(kargs)\n",
    "    # print(kargs['wine'], 'is semi-sweet') # 여기서 오류나면 get(key, default)\n",
    "    # 언팩킹 기능이 없으므로 print(**kargs 안됨)\n",
    "    \n",
    "print_kargs(wine = 'merlot', dessert = 'cake')"
   ]
  },
  {
   "cell_type": "code",
   "execution_count": 63,
   "id": "cf65d59b-2c78-46a0-bd84-c18038d4f6e0",
   "metadata": {},
   "outputs": [
    {
     "name": "stdout",
     "output_type": "stream",
     "text": [
      "{'wine': 'merlot', 'dessert': 'scone'}\n",
      "{'wine': 'cabernet', 'dessert': 'scone'}\n",
      "{'wine': 'crianza', 'dessert': 'scone'}\n"
     ]
    }
   ],
   "source": [
    "# 활용\n",
    "wine_list = 'merlot cabernet crianza'.split()\n",
    "for wine in wine_list:\n",
    "    print_kargs(wine=wine, dessert='scone')"
   ]
  },
  {
   "cell_type": "code",
   "execution_count": 69,
   "id": "b52b9075-6519-4fa9-ab04-2b6fd5c73f13",
   "metadata": {},
   "outputs": [
    {
     "name": "stdout",
     "output_type": "stream",
     "text": [
      "15\n",
      "{'first': 1, 'second': 2}\n"
     ]
    }
   ],
   "source": [
    "# 두 개 같이 쓰기\n",
    "def print_both(one, two, *args, **kargs): # 위치인구(positional args) > args > kargs # 자리 주의 \n",
    "    print(one + two + sum(args))\n",
    "    print(kargs)\n",
    "    \n",
    "print_both(1,2,3,4,5,first = 1,second=2) # 1: one 2: two 3,4,5: args first~second:kargs"
   ]
  },
  {
   "cell_type": "code",
   "execution_count": 72,
   "id": "74466dc1-ea45-4e71-b100-f994aae0eb4a",
   "metadata": {},
   "outputs": [
    {
     "ename": "TypeError",
     "evalue": "print_both() got multiple values for argument 'one'",
     "output_type": "error",
     "traceback": [
      "\u001b[1;31m---------------------------------------------------------------------------\u001b[0m",
      "\u001b[1;31mTypeError\u001b[0m                                 Traceback (most recent call last)",
      "\u001b[1;32m~\\AppData\\Local\\Temp/ipykernel_20888/1148059014.py\u001b[0m in \u001b[0;36m<module>\u001b[1;34m\u001b[0m\n\u001b[0;32m      3\u001b[0m     \u001b[0mprint\u001b[0m\u001b[1;33m(\u001b[0m\u001b[0mkargs\u001b[0m\u001b[1;33m)\u001b[0m\u001b[1;33m\u001b[0m\u001b[1;33m\u001b[0m\u001b[0m\n\u001b[0;32m      4\u001b[0m \u001b[1;33m\u001b[0m\u001b[0m\n\u001b[1;32m----> 5\u001b[1;33m \u001b[0mprint_both\u001b[0m\u001b[1;33m(\u001b[0m\u001b[1;36m1\u001b[0m\u001b[1;33m,\u001b[0m\u001b[1;36m2\u001b[0m\u001b[1;33m,\u001b[0m\u001b[1;36m3\u001b[0m\u001b[1;33m,\u001b[0m\u001b[1;36m4\u001b[0m\u001b[1;33m,\u001b[0m\u001b[1;36m5\u001b[0m\u001b[1;33m,\u001b[0m\u001b[0mone\u001b[0m \u001b[1;33m=\u001b[0m \u001b[1;36m1\u001b[0m\u001b[1;33m,\u001b[0m\u001b[0msecond\u001b[0m\u001b[1;33m=\u001b[0m\u001b[1;36m2\u001b[0m\u001b[1;33m)\u001b[0m\u001b[1;33m\u001b[0m\u001b[1;33m\u001b[0m\u001b[0m\n\u001b[0m\u001b[0;32m      6\u001b[0m \u001b[1;31m# one이 있는데 또 있으면 오류 생김- 이런 것의 혼선을 주지 않기위해\u001b[0m\u001b[1;33m\u001b[0m\u001b[1;33m\u001b[0m\u001b[0m\n",
      "\u001b[1;31mTypeError\u001b[0m: print_both() got multiple values for argument 'one'"
     ]
    }
   ],
   "source": [
    "def print_both(one, two, *args, **kargs): \n",
    "    print(one + two + sum(args))\n",
    "    print(kargs)\n",
    "    \n",
    "print_both(1,2,3,4,5,one = 1,second=2)\n",
    "# one이 있는데 또 있으면 오류 생김- 이런 것의 혼선을 주지 않기위해"
   ]
  },
  {
   "cell_type": "markdown",
   "id": "7bc15357-2b23-45ed-a965-6094e9d4147a",
   "metadata": {},
   "source": [
    "#### 딕셔너리 결합할 때 사용할 수 있다 (3.5 이상)"
   ]
  },
  {
   "cell_type": "code",
   "execution_count": 26,
   "id": "1c13f451-5e63-48e7-a358-5cba8e9e1466",
   "metadata": {},
   "outputs": [],
   "source": [
    "x = {1: 'a', 2: 'b'}\n",
    "y = {2: 'c', 3: 'd'}\n",
    "z = {**x, **y}"
   ]
  },
  {
   "cell_type": "markdown",
   "id": "e7a5100e-7545-4636-8c86-bbe687929964",
   "metadata": {},
   "source": [
    "### 일급객체\n",
    "- forst class object / first class citizen (일반적으로 객체가 가지는 성질)\n",
    "- 함수도 객체다.\n",
    "- 함수의 인자로 전달 가능\n",
    "- 변환값이 될 수 있다.\n",
    "- 수정, 할당할 수 있다."
   ]
  },
  {
   "cell_type": "code",
   "execution_count": 73,
   "id": "8dd4eae5-4222-4e60-baa9-dd59d28a2bf0",
   "metadata": {},
   "outputs": [
    {
     "name": "stdout",
     "output_type": "stream",
     "text": [
      "43\n",
      "43\n"
     ]
    }
   ],
   "source": [
    "def answer():\n",
    "    print(43)\n",
    "    \n",
    "def run_something(func): ## 파이썬에서만, 함수가 객체이므로\n",
    "    func()\n",
    "    \n",
    "run_something(answer) # 함수를 인자로 받을 수 있음\n",
    "\n",
    "def run_anything(func):\n",
    "    return func\n",
    "# function이 반환이 됨\n",
    "\n",
    "run_anything(answer)() # 괄호 -> 실행"
   ]
  },
  {
   "cell_type": "code",
   "execution_count": 32,
   "id": "d371897c-769a-4507-95ec-d3db5f5074fb",
   "metadata": {},
   "outputs": [
    {
     "data": {
      "text/plain": [
       "13"
      ]
     },
     "execution_count": 32,
     "metadata": {},
     "output_type": "execute_result"
    }
   ],
   "source": [
    "def sum_args(*args):\n",
    "    return sum(args)\n",
    "\n",
    "def run_with_positional_args(func, *args):\n",
    "    return func(*args)\n",
    "\n",
    "run_with_positional_args(sum_args,1,3,4,5)"
   ]
  },
  {
   "cell_type": "code",
   "execution_count": 75,
   "id": "ce187eda-75b6-44dc-a17f-6551c29e9539",
   "metadata": {},
   "outputs": [],
   "source": [
    "# 가변 인자, 불변 인자\n",
    "# 가변 인자일 때 => 초기화하지 않으면 변수 내용이 변할 수 있음 (주의)\n",
    "\n",
    "def func(num_list):\n",
    "    # 변할 수 있음을 문서화할 것, 혹은 다른 방법 찾아볼 것\n",
    "    sum_num = sum(num_list)\n",
    "    num_list.append(sum_num)\n",
    "    \n",
    "a = [1,3,5]\n",
    "func(a) "
   ]
  },
  {
   "cell_type": "code",
   "execution_count": 34,
   "id": "f17db3cb-081c-4664-a3a4-c9a23fb07386",
   "metadata": {},
   "outputs": [
    {
     "data": {
      "text/plain": [
       "[1, 3, 5, 9]"
      ]
     },
     "execution_count": 34,
     "metadata": {},
     "output_type": "execute_result"
    }
   ],
   "source": [
    "a"
   ]
  },
  {
   "cell_type": "code",
   "execution_count": 76,
   "id": "6d8885c7-0ad6-4237-9fd1-2e4bf94ced5c",
   "metadata": {},
   "outputs": [],
   "source": [
    "func(a)"
   ]
  },
  {
   "cell_type": "code",
   "execution_count": 77,
   "id": "832e2aeb-472d-4861-bed7-5968fc65d2db",
   "metadata": {},
   "outputs": [
    {
     "data": {
      "text/plain": [
       "[1, 3, 5, 9, 18]"
      ]
     },
     "execution_count": 77,
     "metadata": {},
     "output_type": "execute_result"
    }
   ],
   "source": [
    "a"
   ]
  },
  {
   "cell_type": "markdown",
   "id": "140689c5-9e70-424f-a69c-0793107f8402",
   "metadata": {},
   "source": [
    "### 내복함수 => 다음주"
   ]
  },
  {
   "cell_type": "markdown",
   "id": "65eb6d3d-82d2-424e-b8db-c39c96ccfc41",
   "metadata": {},
   "source": [
    "### 익명함수 (람다)\n",
    "- lambda\n",
    "- 함수인데 이름이 없음 (def, return 쓰지 않음)\n",
    "- 왜? 단순한 함수를 사용할 때\n",
    "- 단, 잦은 사용은 권장하지 않는다. => 직관적이지 않고 재활용 낮다.\n",
    "- lambda x: <x를 요리할 코드> - x를 어떻게 바꿀 것인지"
   ]
  },
  {
   "cell_type": "code",
   "execution_count": 78,
   "id": "f93c21cc-8a8e-47b1-a09d-cf32b18dfdf3",
   "metadata": {},
   "outputs": [
    {
     "data": {
      "text/plain": [
       "'ok'"
      ]
     },
     "execution_count": 78,
     "metadata": {},
     "output_type": "execute_result"
    }
   ],
   "source": [
    "# lambda x: x.lower()\n",
    "def f(x):\n",
    "    return x.lower()\n",
    "\n",
    "f2 = lambda x: x.lower()\n",
    "f2('Ok')"
   ]
  },
  {
   "cell_type": "code",
   "execution_count": 40,
   "id": "96ed3bc4-8ffb-44aa-b3d6-c3cf226a4767",
   "metadata": {},
   "outputs": [
    {
     "data": {
      "text/plain": [
       "'ok'"
      ]
     },
     "execution_count": 40,
     "metadata": {},
     "output_type": "execute_result"
    }
   ],
   "source": [
    "(lambda x: x.lower())('Ok')"
   ]
  },
  {
   "cell_type": "code",
   "execution_count": 41,
   "id": "a12d80e4-e5d9-42ca-b036-252f56e67441",
   "metadata": {},
   "outputs": [
    {
     "data": {
      "text/plain": [
       "10"
      ]
     },
     "execution_count": 41,
     "metadata": {},
     "output_type": "execute_result"
    }
   ],
   "source": [
    "f3 = lambda x, y: x + y\n",
    "f3(5,5)"
   ]
  },
  {
   "cell_type": "code",
   "execution_count": 81,
   "id": "b5d7c8fb-53fe-46b8-acc3-cb75c8e2682d",
   "metadata": {},
   "outputs": [
    {
     "data": {
      "text/plain": [
       "'Abc!'"
      ]
     },
     "execution_count": 81,
     "metadata": {},
     "output_type": "execute_result"
    }
   ],
   "source": [
    "# abc -> Abc!\n",
    "#capitalizer(), title() +'!'\n",
    "'abc'.title()+'!'"
   ]
  }
 ],
 "metadata": {
  "kernelspec": {
   "display_name": "Python 3 (ipykernel)",
   "language": "python",
   "name": "python3"
  },
  "language_info": {
   "codemirror_mode": {
    "name": "ipython",
    "version": 3
   },
   "file_extension": ".py",
   "mimetype": "text/x-python",
   "name": "python",
   "nbconvert_exporter": "python",
   "pygments_lexer": "ipython3",
   "version": "3.9.7"
  }
 },
 "nbformat": 4,
 "nbformat_minor": 5
}
