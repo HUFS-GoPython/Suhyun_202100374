{
 "cells": [
  {
   "cell_type": "markdown",
   "id": "24fde80c-f7b0-43ea-bcb2-ffc18fc008b7",
   "metadata": {},
   "source": [
    "### NLTK"
   ]
  },
  {
   "cell_type": "code",
   "execution_count": 3,
   "id": "6b8be20a-5eb6-4fe3-a16c-d3789d4c1a01",
   "metadata": {},
   "outputs": [
    {
     "name": "stdout",
     "output_type": "stream",
     "text": [
      "*** Introductory Examples for the NLTK Book ***\n",
      "Loading text1, ..., text9 and sent1, ..., sent9\n",
      "Type the name of the text or sentence to view it.\n",
      "Type: 'texts()' or 'sents()' to list the materials.\n",
      "text1: Moby Dick by Herman Melville 1851\n",
      "text2: Sense and Sensibility by Jane Austen 1811\n",
      "text3: The Book of Genesis\n",
      "text4: Inaugural Address Corpus\n",
      "text5: Chat Corpus\n",
      "text6: Monty Python and the Holy Grail\n",
      "text7: Wall Street Journal\n",
      "text8: Personals Corpus\n",
      "text9: The Man Who Was Thursday by G . K . Chesterton 1908\n"
     ]
    },
    {
     "data": {
      "text/plain": [
       "True"
      ]
     },
     "execution_count": 3,
     "metadata": {},
     "output_type": "execute_result"
    }
   ],
   "source": [
    "# nltk book import\n",
    "import nltk\n",
    "from nltk.book import *\n",
    "nltk.download('book', quiet = True)"
   ]
  },
  {
   "cell_type": "markdown",
   "id": "fc8bf2e1-237e-40ae-bbc4-c7b190a9ba4d",
   "metadata": {},
   "source": [
    "### 함수 I\n",
    "y = 3x + 1\n",
    "- '<str>'.fx(<요소>)\n",
    "- count(): 텍스트에서 어떤 요소의 개수를 세는\n",
    "- replace(): A -> B\n",
    "- strip(): 불필요한 공백, 등등 원하는 요소 제거하는 역할\n",
    "- find(): 원하는 문자열 찾기\n",
    "-index(): 원하는 문자열의 인덱스 반환"
   ]
  },
  {
   "cell_type": "code",
   "execution_count": 4,
   "id": "747165ec-63d4-49b1-acc5-2d2531867683",
   "metadata": {},
   "outputs": [
    {
     "data": {
      "text/plain": [
       "13721"
      ]
     },
     "execution_count": 4,
     "metadata": {},
     "output_type": "execute_result"
    }
   ],
   "source": [
    "# count()\n",
    "text1.count('the') # The, THE 대소문자 구분한다"
   ]
  },
  {
   "cell_type": "code",
   "execution_count": 5,
   "id": "18ec2e7b-9070-413e-a928-a5c6e7918898",
   "metadata": {},
   "outputs": [
    {
     "data": {
      "text/plain": [
       "3861"
      ]
     },
     "execution_count": 5,
     "metadata": {},
     "output_type": "execute_result"
    }
   ],
   "source": [
    "text2.count('the')"
   ]
  },
  {
   "cell_type": "code",
   "execution_count": 6,
   "id": "9fa3d14d-4784-4002-8afb-6787eec0e0f4",
   "metadata": {},
   "outputs": [],
   "source": [
    "# replace(A, B)\n",
    "word = 'the'\n",
    "word = word.replace('t', 'T')"
   ]
  },
  {
   "cell_type": "code",
   "execution_count": 7,
   "id": "bc4e402c-a43f-401c-ba37-007fe35b48c2",
   "metadata": {},
   "outputs": [
    {
     "data": {
      "text/plain": [
       "'The'"
      ]
     },
     "execution_count": 7,
     "metadata": {},
     "output_type": "execute_result"
    }
   ],
   "source": [
    "word"
   ]
  },
  {
   "cell_type": "code",
   "execution_count": 11,
   "id": "b5d977d2-70d4-4351-bd97-3f84e5044b89",
   "metadata": {},
   "outputs": [
    {
     "data": {
      "text/plain": [
       "'word'"
      ]
     },
     "execution_count": 11,
     "metadata": {},
     "output_type": "execute_result"
    }
   ],
   "source": [
    "# strip(), rstrip(), lstrip()\n",
    "word1 = '          word'\n",
    "word1.strip()"
   ]
  },
  {
   "cell_type": "code",
   "execution_count": 13,
   "id": "224814cf-5867-4bb7-99a3-3d79552c0308",
   "metadata": {},
   "outputs": [
    {
     "data": {
      "text/plain": [
       "'word'"
      ]
     },
     "execution_count": 13,
     "metadata": {},
     "output_type": "execute_result"
    }
   ],
   "source": [
    "# strip()은 lstrip()과 같이 왼쪽으로 나타난다\n",
    "word1.lstrip()\n",
    "# 하지만 만약 word1이 '     word   '라면 'word   '이렇게 나타난다."
   ]
  },
  {
   "cell_type": "code",
   "execution_count": 7,
   "id": "d2907657-b839-4899-a193-bf0b662df19d",
   "metadata": {},
   "outputs": [
    {
     "data": {
      "text/plain": [
       "'word'"
      ]
     },
     "execution_count": 7,
     "metadata": {},
     "output_type": "execute_result"
    }
   ],
   "source": [
    "# 만약 사이에 탭이 있다하더라도 사라진다\n",
    "word2 = '        \\t  word'\n",
    "word2.strip()\n",
    "# 공백문자(' ', '\\t', '\\n')도 제거한다."
   ]
  },
  {
   "cell_type": "code",
   "execution_count": 17,
   "id": "f71810e8-3889-4264-a6ac-5d374d9a7622",
   "metadata": {},
   "outputs": [
    {
     "data": {
      "text/plain": [
       "'Work'"
      ]
     },
     "execution_count": 17,
     "metadata": {},
     "output_type": "execute_result"
    }
   ],
   "source": [
    "word2.lstrip().replace('w', 'W').replace('d','k')\n",
    "# 계속해서 추가해줄 수 있다.(연속적으로 string에 붙일 수 있음)"
   ]
  },
  {
   "cell_type": "code",
   "execution_count": 18,
   "id": "2d465ab6-83b7-4d30-89ab-cbe18d06da50",
   "metadata": {},
   "outputs": [
    {
     "data": {
      "text/plain": [
       "13"
      ]
     },
     "execution_count": 18,
     "metadata": {},
     "output_type": "execute_result"
    }
   ],
   "source": [
    "# find: 첫 번째 발견한 r의 인덱스\n",
    "word2.find('r')\n",
    "# 공백을 다 세어줌"
   ]
  },
  {
   "cell_type": "code",
   "execution_count": 19,
   "id": "9176718f-e415-472f-8775-b7e1f2f79646",
   "metadata": {},
   "outputs": [
    {
     "data": {
      "text/plain": [
       "3"
      ]
     },
     "execution_count": 19,
     "metadata": {},
     "output_type": "execute_result"
    }
   ],
   "source": [
    "word3 = 'I have a pen.'\n",
    "word3.find('a')"
   ]
  },
  {
   "cell_type": "code",
   "execution_count": 24,
   "id": "a00356d2-c794-4444-8495-b4e7e6525513",
   "metadata": {},
   "outputs": [
    {
     "data": {
      "text/plain": [
       "3"
      ]
     },
     "execution_count": 24,
     "metadata": {},
     "output_type": "execute_result"
    }
   ],
   "source": [
    "word3.index('a')\n",
    "# find 함수와 똑같이 나옴"
   ]
  },
  {
   "cell_type": "code",
   "execution_count": 26,
   "id": "32b4596f-a387-40c2-8f25-c240f446112f",
   "metadata": {},
   "outputs": [
    {
     "data": {
      "text/plain": [
       "-1"
      ]
     },
     "execution_count": 26,
     "metadata": {},
     "output_type": "execute_result"
    }
   ],
   "source": [
    "# find와 index의 차이점\n",
    "word3.find('k')\n",
    "# find는 없는 문자열을 입력하였을 때 -1로 나타남"
   ]
  },
  {
   "cell_type": "code",
   "execution_count": 27,
   "id": "3115b930-bc1c-4215-8dc5-6e733435391d",
   "metadata": {},
   "outputs": [
    {
     "ename": "ValueError",
     "evalue": "substring not found",
     "output_type": "error",
     "traceback": [
      "\u001b[1;31m---------------------------------------------------------------------------\u001b[0m",
      "\u001b[1;31mValueError\u001b[0m                                Traceback (most recent call last)",
      "\u001b[1;32m~\\AppData\\Local\\Temp/ipykernel_8668/4005456089.py\u001b[0m in \u001b[0;36m<module>\u001b[1;34m\u001b[0m\n\u001b[1;32m----> 1\u001b[1;33m \u001b[0mword3\u001b[0m\u001b[1;33m.\u001b[0m\u001b[0mindex\u001b[0m\u001b[1;33m(\u001b[0m\u001b[1;34m'k'\u001b[0m\u001b[1;33m)\u001b[0m\u001b[1;33m\u001b[0m\u001b[1;33m\u001b[0m\u001b[0m\n\u001b[0m",
      "\u001b[1;31mValueError\u001b[0m: substring not found"
     ]
    }
   ],
   "source": [
    "word3.index('k')\n",
    "# index는 없는 문자열을 입력하였을 때 오류가 뜸\n",
    "# 오류가 뜨냐 안뜨냐는 큰 문제임"
   ]
  },
  {
   "cell_type": "markdown",
   "id": "73bc6f30-74fa-4841-accf-0650cee3772f",
   "metadata": {},
   "source": [
    "### 함수 II\n",
    "- NLTK 전용\n",
    "- concordance(): 특정 스트링이 어떤 문맥에서 쓰이는지\n",
    "- similar(): 주어진 스트링과 비슷한 문맥에서 쓰이는 단어들을 보여줌 \n",
    "- common_contexts(리스트): 주어진 스트링들이 공유하는 문맥\n",
    "- dispersion_plot(리스트): 주어진 스트링들이 텍스트의 어느 위치에 나오는지 이미지로 보여줌"
   ]
  },
  {
   "cell_type": "code",
   "execution_count": 28,
   "id": "4b0e9bfe-5428-4992-9f06-1dcc89724c7c",
   "metadata": {
    "collapsed": true,
    "jupyter": {
     "outputs_hidden": true
    },
    "tags": []
   },
   "outputs": [
    {
     "name": "stdout",
     "output_type": "stream",
     "text": [
      "Displaying 25 of 1226 matches:\n",
      "s , and to teach them by what name a whale - fish is to be called in our tongue\n",
      "t which is not true .\" -- HACKLUYT \" WHALE . ... Sw . and Dan . HVAL . This ani\n",
      "ulted .\" -- WEBSTER ' S DICTIONARY \" WHALE . ... It is more immediately from th\n",
      "ISH . WAL , DUTCH . HWAL , SWEDISH . WHALE , ICELANDIC . WHALE , ENGLISH . BALE\n",
      "HWAL , SWEDISH . WHALE , ICELANDIC . WHALE , ENGLISH . BALEINE , FRENCH . BALLE\n",
      "least , take the higgledy - piggledy whale statements , however authentic , in \n",
      " dreadful gulf of this monster ' s ( whale ' s ) mouth , are immediately lost a\n",
      " patient Job .\" -- RABELAIS . \" This whale ' s liver was two cartloads .\" -- ST\n",
      " Touching that monstrous bulk of the whale or ork we have received nothing cert\n",
      " of oil will be extracted out of one whale .\" -- IBID . \" HISTORY OF LIFE AND D\n",
      "ise .\" -- KING HENRY . \" Very like a whale .\" -- HAMLET . \" Which to secure , n\n",
      "restless paine , Like as the wounded whale to shore flies thro ' the maine .\" -\n",
      ". OF SPERMA CETI AND THE SPERMA CETI WHALE . VIDE HIS V . E . \" Like Spencer ' \n",
      "t had been a sprat in the mouth of a whale .\" -- PILGRIM ' S PROGRESS . \" That \n",
      "EN ' S ANNUS MIRABILIS . \" While the whale is floating at the stern of the ship\n",
      "e ship called The Jonas - in - the - Whale . ... Some say the whale can ' t ope\n",
      " in - the - Whale . ... Some say the whale can ' t open his mouth , but that is\n",
      " masts to see whether they can see a whale , for the first discoverer has a duc\n",
      " for his pains . ... I was told of a whale taken near Shetland , that had above\n",
      "oneers told me that he caught once a whale in Spitzbergen that was white all ov\n",
      "2 , one eighty feet in length of the whale - bone kind came in , which ( as I w\n",
      "n master and kill this Sperma - ceti whale , for I could never hear of any of t\n",
      " . 1729 . \"... and the breath of the whale is frequendy attended with such an i\n",
      "ed with hoops and armed with ribs of whale .\" -- RAPE OF THE LOCK . \" If we com\n",
      "contemptible in the comparison . The whale is doubtless the largest animal in c\n"
     ]
    }
   ],
   "source": [
    "text1.concordance('whale')"
   ]
  },
  {
   "cell_type": "code",
   "execution_count": 29,
   "id": "fda7e4de-db3f-47e7-a0d4-6819533e6763",
   "metadata": {},
   "outputs": [
    {
     "name": "stdout",
     "output_type": "stream",
     "text": [
      "ship boat sea time captain world man deck pequod other whales air\n",
      "water head crew line thing side way body\n"
     ]
    }
   ],
   "source": [
    "text1.similar('whale')"
   ]
  },
  {
   "cell_type": "code",
   "execution_count": 31,
   "id": "9759f1fa-2ae6-4fbd-a68d-0488d6b6f13d",
   "metadata": {},
   "outputs": [
    {
     "name": "stdout",
     "output_type": "stream",
     "text": [
      "ship boat sea time captain world man deck pequod other whales air\n",
      "water head crew line thing side way body\n"
     ]
    },
    {
     "data": {
      "text/plain": [
       "NoneType"
      ]
     },
     "execution_count": 31,
     "metadata": {},
     "output_type": "execute_result"
    }
   ],
   "source": [
    "type(text1.similar('whale'))\n",
    "# none type은 변수에 담아서 쓸 수 없음\n",
    "# a = text1.similar('whale') 이렇게 못쓴다는것"
   ]
  },
  {
   "cell_type": "code",
   "execution_count": 32,
   "id": "2afc93e6-4cf0-467b-b733-c0084bb71f64",
   "metadata": {},
   "outputs": [
    {
     "data": {
      "text/plain": [
       "<Text: Sense and Sensibility by Jane Austen 1811>"
      ]
     },
     "execution_count": 32,
     "metadata": {},
     "output_type": "execute_result"
    }
   ],
   "source": [
    "text2"
   ]
  },
  {
   "cell_type": "code",
   "execution_count": 35,
   "id": "2fffa60b-06c5-4301-a7b7-eaab1b175fe7",
   "metadata": {},
   "outputs": [
    {
     "name": "stdout",
     "output_type": "stream",
     "text": [
      "am_glad a_pretty a_lucky is_pretty be_glad\n"
     ]
    }
   ],
   "source": [
    "text2.common_contexts(['monstrous', 'very'])\n",
    "# 이 두개가 공유하는 contexts는 뭔가요?\n",
    "# 스트링들이어서 리스트로 들어가야함"
   ]
  },
  {
   "cell_type": "code",
   "execution_count": 38,
   "id": "8dd1985a-8053-4861-af21-34336a675714",
   "metadata": {},
   "outputs": [
    {
     "data": {
      "text/plain": [
       "<Text: Inaugural Address Corpus>"
      ]
     },
     "execution_count": 38,
     "metadata": {},
     "output_type": "execute_result"
    }
   ],
   "source": [
    "text4"
   ]
  },
  {
   "cell_type": "code",
   "execution_count": 37,
   "id": "699695ce-1ac6-4ff2-84f9-8e80f9436d7d",
   "metadata": {},
   "outputs": [
    {
     "data": {
      "image/png": "[encoded data removed]",
      "text/plain": [
       "<Figure size 432x288 with 1 Axes>"
      ]
     },
     "metadata": {
      "needs_background": "light"
     },
     "output_type": "display_data"
    }
   ],
   "source": [
    "text4.dispersion_plot(['citizens', 'democracy', 'America'])\n",
    "# 얼마나 분배되어 있는지? 여러개를 주면 좋다."
   ]
  },
  {
   "cell_type": "markdown",
   "id": "11a574aa-b658-4e3d-9a90-001418216959",
   "metadata": {},
   "source": [
    "### 리스트 & 리스트컴프리헨션\n",
    "- 프로그래밍에서 '배열'에 해당, 파이썬에서는 리스트라고 부른다.\n",
    "- 하나의 변수에 여러 값을 할당하는 자료형\n",
    "    - example = [1, 2, 3, 4]\n",
    "-대괄호를 사용한다.\n",
    "- 내부요소들의 자료형은 같을 필요 없다.\n",
    "    - example = [1,'yes', True]\n",
    "- 순서가 있는 자료형 => 슬라이싱, 인덱싱\n",
    "- 빈 리스트 선언: set(), []"
   ]
  },
  {
   "cell_type": "code",
   "execution_count": 7,
   "id": "a23b2c57-cb2f-4fc2-8a56-48c8ac801432",
   "metadata": {},
   "outputs": [],
   "source": [
    "empty = []"
   ]
  },
  {
   "cell_type": "code",
   "execution_count": 8,
   "id": "e202a9db-68a6-4041-8a3a-587e1135f7ce",
   "metadata": {},
   "outputs": [
    {
     "data": {
      "text/plain": [
       "'blue'"
      ]
     },
     "execution_count": 8,
     "metadata": {},
     "output_type": "execute_result"
    }
   ],
   "source": [
    "colors = ['blue', 'yellow', 'white']\n",
    "colors[0]"
   ]
  },
  {
   "cell_type": "code",
   "execution_count": 39,
   "id": "d1e50943-644c-490f-949e-8ca572385f55",
   "metadata": {},
   "outputs": [],
   "source": [
    "# colors[02] 안됨\n",
    "# colors['blue'] 안됨"
   ]
  },
  {
   "cell_type": "code",
   "execution_count": 10,
   "id": "a0877686-15bd-4227-a240-f1c673ed2acf",
   "metadata": {},
   "outputs": [
    {
     "data": {
      "text/plain": [
       "['white', 'yellow', 'blue']"
      ]
     },
     "execution_count": 10,
     "metadata": {},
     "output_type": "execute_result"
    }
   ],
   "source": [
    "colors[::-1]"
   ]
  },
  {
   "cell_type": "markdown",
   "id": "16404d81-6348-48f2-a3b1-4de880ace717",
   "metadata": {},
   "source": [
    "### list comprehension\n",
    "- 포함형/ 지능형/ 축약형 리스트\n",
    "- 하나의 리스트에서 그걸 포함하여 다른 리스트를 만든다.\n",
    "- list + for loop\n",
    "- [A for A' in C]\n",
    "    - C에 있는 B에서 A를 가져와라 => 리스트에 담아서 변환\n",
    "    - A: 내가원하는 출력 상태\n",
    "    - A': C의 형태\n",
    "    - C: 반복 가능한 자료형(리스트)\n",
    "- 조건 추가: [A for A' in C if ...]"
   ]
  },
  {
   "cell_type": "code",
   "execution_count": 11,
   "id": "b3aa87b0-050a-44ea-b40e-0417d84188cd",
   "metadata": {},
   "outputs": [
    {
     "data": {
      "text/plain": [
       "['blue', 'yellow', 'white']"
      ]
     },
     "execution_count": 11,
     "metadata": {},
     "output_type": "execute_result"
    }
   ],
   "source": [
    "[color for color in colors]"
   ]
  },
  {
   "cell_type": "code",
   "execution_count": 12,
   "id": "a8bde5e1-5ee3-4ad4-bb47-d29bd3bd9219",
   "metadata": {},
   "outputs": [
    {
     "data": {
      "text/plain": [
       "['b', 'y', 'w']"
      ]
     },
     "execution_count": 12,
     "metadata": {},
     "output_type": "execute_result"
    }
   ],
   "source": [
    "[color[0] for color in colors]\n",
    "# colors의 color를 돌며 0번째 인덱스만 나타냄"
   ]
  },
  {
   "cell_type": "code",
   "execution_count": 40,
   "id": "94399c83-a65d-4ac7-8ca2-184486aa4918",
   "metadata": {},
   "outputs": [
    {
     "data": {
      "text/plain": [
       "['[', 'y', 'k', 'y', 'n', 'e', '1', ']', 'Y', '.']"
      ]
     },
     "execution_count": 40,
     "metadata": {},
     "output_type": "execute_result"
    }
   ],
   "source": [
    "# text1의 토큰 중 처음 10개 단어에서 마지막 알파벳 반환 \n",
    "[text1.tokens]\n",
    "[word for word in text1.tokens[:10]]\n",
    "[word[-1] for word in text1.tokens[:10]]"
   ]
  },
  {
   "cell_type": "code",
   "execution_count": 42,
   "id": "b6506b64-25b8-473a-80d1-37e980868c24",
   "metadata": {},
   "outputs": [
    {
     "data": {
      "text/plain": [
       "['[', 'y', ']', '.']"
      ]
     },
     "execution_count": 42,
     "metadata": {},
     "output_type": "execute_result"
    }
   ],
   "source": [
    "[word[-1] for word in text1.tokens[:10] if (len(word) < 3)]\n",
    "# 조건식이 붙은 list comprehension"
   ]
  },
  {
   "cell_type": "code",
   "execution_count": 44,
   "id": "242c310d-cbd5-457c-8abb-a61492b4b99f",
   "metadata": {},
   "outputs": [
    {
     "data": {
      "text/plain": [
       "['.']"
      ]
     },
     "execution_count": 44,
     "metadata": {},
     "output_type": "execute_result"
    }
   ],
   "source": [
    "[word[-1] for word in text1.tokens[:10] if (len(word) < 3) and (word == '.')]\n",
    "# 조건을 더 붙일 수 있음"
   ]
  },
  {
   "cell_type": "code",
   "execution_count": 6,
   "id": "abe102d3-8c04-4604-a238-a92e18e3e0df",
   "metadata": {
    "collapsed": true,
    "jupyter": {
     "outputs_hidden": true
    },
    "tags": []
   },
   "outputs": [
    {
     "data": {
      "text/plain": [
       "['iamahotniplickme',\n",
       " '!!!!!!!!!!!!!!!!',\n",
       " 'iamahotnipwithpics',\n",
       " 'iamahotnipwithhotnippics',\n",
       " '--------------------',\n",
       " '..............................',\n",
       " '!!!!!!!!!!!!!!!!',\n",
       " 'mikeeeeeeeeeeeeeeeeeeeeeeeeee',\n",
       " 'oooooooooooooonnnnnnnnnnnneeeeeeeeeeeeeeesssssssss',\n",
       " 'WEEEEEEEEEEEEEEEEEE']"
      ]
     },
     "execution_count": 6,
     "metadata": {},
     "output_type": "execute_result"
    }
   ],
   "source": [
    "#1. text5에서 길이가 15 이상인 단어 추출하기\n",
    "[text5.tokens]\n",
    "[word for word in text5.tokens if (len(word) >=15)][:10]\n",
    "# 많아서 10개만 나타내기"
   ]
  },
  {
   "cell_type": "code",
   "execution_count": 4,
   "id": "620f28ec-9f92-41da-80a7-3ab431a3e960",
   "metadata": {
    "collapsed": true,
    "jupyter": {
     "outputs_hidden": true
    },
    "tags": []
   },
   "outputs": [
    {
     "data": {
      "text/plain": [
       "['i', 'i', 'lord', 'lord', 'lord', 'lord', 'lord', 'lord', 'lord', 'lord']"
      ]
     },
     "execution_count": 4,
     "metadata": {},
     "output_type": "execute_result"
    }
   ],
   "source": [
    "#2. text3에서 대문자인 단어를 소문자로 반환: isupper(), lower() 사용하기\n",
    "[text3.tokens]\n",
    "[word.lower() for word in text3.tokens if word.isupper()][:10]\n",
    "# 많아서 10개만 나타내기"
   ]
  },
  {
   "cell_type": "code",
   "execution_count": 45,
   "id": "e6f21216-fbea-4281-8f7f-60dd9a006fa2",
   "metadata": {},
   "outputs": [
    {
     "data": {
      "text/plain": [
       "False"
      ]
     },
     "execution_count": 45,
     "metadata": {},
     "output_type": "execute_result"
    }
   ],
   "source": [
    "'hey'.isupper()\n",
    "# 대문자가 아니므로 False가 뜬다"
   ]
  },
  {
   "cell_type": "code",
   "execution_count": 46,
   "id": "3a7638c3-64b2-448a-91dc-643d5ab2be86",
   "metadata": {},
   "outputs": [
    {
     "data": {
      "text/plain": [
       "'her'"
      ]
     },
     "execution_count": 46,
     "metadata": {},
     "output_type": "execute_result"
    }
   ],
   "source": [
    "'HER'.lower()\n",
    "# 대문자를 소문자로 바꿔줌"
   ]
  },
  {
   "cell_type": "code",
   "execution_count": 9,
   "id": "40ef0cf0-218a-4134-ad56-c3201eda4684",
   "metadata": {},
   "outputs": [
    {
     "data": {
      "text/plain": [
       "0"
      ]
     },
     "execution_count": 9,
     "metadata": {},
     "output_type": "execute_result"
    }
   ],
   "source": [
    "colors = ['blue', 'yellow', 'white']\n",
    "colors.index('blue')\n",
    "# index로 찾는 것은 가능하다"
   ]
  },
  {
   "cell_type": "markdown",
   "id": "c01a50fe-7d8f-4ff5-ad5f-265abb508635",
   "metadata": {},
   "source": [
    "### cased, uncased\n",
    "- 변환: `upper(), lower(), titlle(), swapcase()`\n",
    "    - 추가로 capitalize()도 있음: 첫 번째 단어를 대문자로 바꿔줌\n",
    "- 형태 체크: `isupper(), islower(), istitle()`\n",
    "    - `endswith(<string>), startswith()`\n",
    "    - isalpha(): 문자냐"
   ]
  },
  {
   "cell_type": "code",
   "execution_count": 4,
   "id": "2047008e-5204-45d4-90b7-60700f3dbe5f",
   "metadata": {},
   "outputs": [
    {
     "data": {
      "text/plain": [
       "['comfortableness',\n",
       " 'honourableness',\n",
       " 'immutableness',\n",
       " 'indispensableness',\n",
       " 'indomitableness',\n",
       " 'intolerableness',\n",
       " 'palpableness',\n",
       " 'reasonableness',\n",
       " 'uncomfortableness']"
      ]
     },
     "execution_count": 4,
     "metadata": {},
     "output_type": "execute_result"
    }
   ],
   "source": [
    "# text1에서 'ableness'로 끝나는 단어를 중복없이, 정렬해서\n",
    "# [word for word in text1] 이걸로 먼저 시작하기\n",
    "# 이후 조건이 있으면 뒤에 추가해주기\n",
    "sorted(set([word for word in text1 if word.endswith('ableness')]))"
   ]
  },
  {
   "cell_type": "code",
   "execution_count": 5,
   "id": "7482ec3f-90db-4981-80dc-f80f6ba12c67",
   "metadata": {},
   "outputs": [
    {
     "data": {
      "text/plain": [
       "['uncomfortableness',\n",
       " 'reasonableness',\n",
       " 'palpableness',\n",
       " 'intolerableness',\n",
       " 'indomitableness',\n",
       " 'indispensableness',\n",
       " 'immutableness',\n",
       " 'honourableness',\n",
       " 'comfortableness']"
      ]
     },
     "execution_count": 5,
     "metadata": {},
     "output_type": "execute_result"
    }
   ],
   "source": [
    "sorted(set([word for word in text1.tokens if word.endswith('ableness')]),reverse = True)"
   ]
  },
  {
   "cell_type": "code",
   "execution_count": 149,
   "id": "b45373a8-3697-471a-b35b-80092a1a5259",
   "metadata": {
    "collapsed": true,
    "jupyter": {
     "outputs_hidden": true
    },
    "tags": []
   },
   "outputs": [
    {
     "data": {
      "text/plain": [
       "['sovereignty',\n",
       " 'sovereignty',\n",
       " 'sovereignty',\n",
       " 'sovereignty',\n",
       " 'sovereignty',\n",
       " 'sovereignty',\n",
       " 'sovereignty',\n",
       " 'sovereignty',\n",
       " 'sovereignty',\n",
       " 'sovereignties',\n",
       " 'sovereignties',\n",
       " 'sovereignty',\n",
       " 'sovereignties',\n",
       " 'sovereignty',\n",
       " 'sovereignty',\n",
       " 'sovereignty',\n",
       " 'sovereignty',\n",
       " 'sovereignty',\n",
       " 'sovereignty',\n",
       " 'sovereignty',\n",
       " 'sovereignty',\n",
       " 'sovereignty',\n",
       " 'sovereignty',\n",
       " 'sovereignty',\n",
       " 'sovereignty',\n",
       " 'sovereignty',\n",
       " 'sovereignties',\n",
       " 'sovereignty',\n",
       " 'sovereignty',\n",
       " 'sovereignty',\n",
       " 'sovereignty']"
      ]
     },
     "execution_count": 149,
     "metadata": {},
     "output_type": "execute_result"
    }
   ],
   "source": [
    "# text4에서 'gnt'가 포함된 단어들을 소문자로 리스트 반환\n",
    "[word.lower() for word in text4.tokens if 'gnt' in word]"
   ]
  },
  {
   "cell_type": "code",
   "execution_count": 50,
   "id": "545a1a33-a86b-4fda-ad83-3d6338868e15",
   "metadata": {},
   "outputs": [],
   "source": [
    "a = [word.lower() for word in set(text4.tokens) if 'gnt' in word] \n",
    "# 중복을 없애고 진행하는 것/ 여전히 중복이 남음\n",
    "b = set([word.lower() for word in text4.tokens if 'gnt' in word]) \n",
    "# 다 한 뒤에 중복을 없앰/ 중복이 남지 않음\n",
    "# set을 두는 위치에 따라 출력 값이 다름"
   ]
  },
  {
   "cell_type": "code",
   "execution_count": 29,
   "id": "eade7413-cb68-42db-a49b-d13666b6ea3b",
   "metadata": {},
   "outputs": [
    {
     "data": {
      "text/plain": [
       "(3, 31)"
      ]
     },
     "execution_count": 29,
     "metadata": {},
     "output_type": "execute_result"
    }
   ],
   "source": [
    "len(a), len(b)"
   ]
  },
  {
   "cell_type": "code",
   "execution_count": 55,
   "id": "eb6c5eb2-6806-462f-84dd-b15a2c807b27",
   "metadata": {},
   "outputs": [
    {
     "name": "stdout",
     "output_type": "stream",
     "text": [
      "['sovereignty', 'sovereignties', 'sovereignty']\n",
      "{'sovereignty', 'sovereignties'}\n"
     ]
    }
   ],
   "source": [
    "print([word.lower() for word in set(text4.tokens) if 'gnt' in word])\n",
    "# 중복 있음\n",
    "print(set([word.lower() for word in text4.tokens if 'gnt' in word]))\n",
    "# 중복 없음"
   ]
  },
  {
   "cell_type": "markdown",
   "id": "51d1ecf2-e4c7-4696-a8d0-18e0442113f5",
   "metadata": {},
   "source": [
    "### NLTK\n",
    "- Frequency Distribution: 단어가 몇 번 출현했는지 (빈도수)\n",
    "- 텍스트의 성질을 알기 위해\n",
    "    - 단어 개수 세기\n",
    "    - 단어 빈도수 (얼마나 자주 나오나)\n",
    "- FreqDist(text)"
   ]
  },
  {
   "cell_type": "code",
   "execution_count": 92,
   "id": "bbbae63b-3a33-468b-a105-5d932e265a22",
   "metadata": {},
   "outputs": [],
   "source": [
    "import nltk\n",
    "from nltk.book import *"
   ]
  },
  {
   "cell_type": "code",
   "execution_count": 84,
   "id": "3b6b9de1-90cf-4501-8925-ebee62a1b28c",
   "metadata": {},
   "outputs": [
    {
     "data": {
      "text/plain": [
       "<Text: Moby Dick by Herman Melville 1851>"
      ]
     },
     "execution_count": 84,
     "metadata": {},
     "output_type": "execute_result"
    }
   ],
   "source": [
    "text1"
   ]
  },
  {
   "cell_type": "code",
   "execution_count": 97,
   "id": "491d7a70-3505-4eba-a142-6c146c265d1e",
   "metadata": {},
   "outputs": [],
   "source": [
    "fdist = FreqDist(text1) # cased"
   ]
  },
  {
   "cell_type": "code",
   "execution_count": 98,
   "id": "02396b7f-bb4b-4d3d-b4f4-499764b70b42",
   "metadata": {},
   "outputs": [
    {
     "data": {
      "text/plain": [
       "FreqDist({',': 18713, 'the': 13721, '.': 6862, 'of': 6536, 'and': 6024, 'a': 4569, 'to': 4542, ';': 4072, 'in': 3916, 'that': 2982, ...})"
      ]
     },
     "execution_count": 98,
     "metadata": {},
     "output_type": "execute_result"
    }
   ],
   "source": [
    "fdist"
   ]
  },
  {
   "cell_type": "code",
   "execution_count": 34,
   "id": "d6b89cf6-4f19-4622-a658-8f5213459730",
   "metadata": {},
   "outputs": [
    {
     "data": {
      "text/plain": [
       "[(',', 18713),\n",
       " ('the', 13721),\n",
       " ('.', 6862),\n",
       " ('of', 6536),\n",
       " ('and', 6024),\n",
       " ('a', 4569),\n",
       " ('to', 4542),\n",
       " (';', 4072),\n",
       " ('in', 3916),\n",
       " ('that', 2982)]"
      ]
     },
     "execution_count": 34,
     "metadata": {},
     "output_type": "execute_result"
    }
   ],
   "source": [
    "fdist.most_common(10) #list comprehension으로 . 없애기\n",
    "# 상위 가장 빈번한 것을 뽑아줌"
   ]
  },
  {
   "cell_type": "code",
   "execution_count": 35,
   "id": "50093ca0-1c6f-4221-bce6-fd2baaedf658",
   "metadata": {},
   "outputs": [
    {
     "data": {
      "text/plain": [
       "(2982, 2982)"
      ]
     },
     "execution_count": 35,
     "metadata": {},
     "output_type": "execute_result"
    }
   ],
   "source": [
    "fdist['that'], text1.count('that')\n",
    "# that이 몇 번 나왔는지"
   ]
  },
  {
   "cell_type": "code",
   "execution_count": 36,
   "id": "f92bee6f-b71e-4524-a840-a51574325421",
   "metadata": {},
   "outputs": [
    {
     "data": {
      "text/plain": [
       "0.011433216138394826"
      ]
     },
     "execution_count": 36,
     "metadata": {},
     "output_type": "execute_result"
    }
   ],
   "source": [
    "fdist.freq('that')\n",
    "# 이 단어가 몇 퍼센트를 차지하는지"
   ]
  },
  {
   "cell_type": "code",
   "execution_count": 37,
   "id": "79ecf2fb-1652-44b9-a529-226067b10e80",
   "metadata": {},
   "outputs": [
    {
     "data": {
      "image/png": "[encoded data removed]",
      "text/plain": [
       "<Figure size 432x288 with 1 Axes>"
      ]
     },
     "metadata": {
      "needs_background": "light"
     },
     "output_type": "display_data"
    },
    {
     "data": {
      "text/plain": [
       "<AxesSubplot:xlabel='Samples', ylabel='Cumulative Counts'>"
      ]
     },
     "execution_count": 37,
     "metadata": {},
     "output_type": "execute_result"
    }
   ],
   "source": [
    "fdist.plot(50, cumulative = True)\n",
    "# 그림으로 나타내기\n",
    "# 곡선이 완화가 될 수록 더 나타나는 것임"
   ]
  },
  {
   "cell_type": "code",
   "execution_count": 79,
   "id": "1479f6a8-9ded-4bc3-b1a5-e3264fda52b3",
   "metadata": {
    "collapsed": true,
    "jupyter": {
     "outputs_hidden": true
    },
    "tags": []
   },
   "outputs": [
    {
     "name": "stdout",
     "output_type": "stream",
     "text": [
      "Requirement already satisfied: matplotlib in c:\\programdata\\anaconda3\\lib\\site-packages (3.4.3)\n",
      "Requirement already satisfied: pyparsing>=2.2.1 in c:\\programdata\\anaconda3\\lib\\site-packages (from matplotlib) (3.0.4)\n",
      "Requirement already satisfied: kiwisolver>=1.0.1 in c:\\programdata\\anaconda3\\lib\\site-packages (from matplotlib) (1.3.1)\n",
      "Requirement already satisfied: python-dateutil>=2.7 in c:\\programdata\\anaconda3\\lib\\site-packages (from matplotlib) (2.8.2)\n",
      "Requirement already satisfied: numpy>=1.16 in c:\\programdata\\anaconda3\\lib\\site-packages (from matplotlib) (1.20.3)\n",
      "Requirement already satisfied: pillow>=6.2.0 in c:\\programdata\\anaconda3\\lib\\site-packages (from matplotlib) (8.4.0)\n",
      "Requirement already satisfied: cycler>=0.10 in c:\\programdata\\anaconda3\\lib\\site-packages (from matplotlib) (0.10.0)\n",
      "Requirement already satisfied: six in c:\\programdata\\anaconda3\\lib\\site-packages (from cycler>=0.10->matplotlib) (1.16.0)\n"
     ]
    }
   ],
   "source": [
    "!pip install matplotlib\n",
    "# 그래프 안나오면 다운로드 받기"
   ]
  },
  {
   "cell_type": "code",
   "execution_count": 96,
   "id": "1bb62e3f-b0c4-4172-bcec-969ad8c3afc8",
   "metadata": {
    "tags": []
   },
   "outputs": [
    {
     "data": {
      "text/plain": [
       "9002"
      ]
     },
     "execution_count": 96,
     "metadata": {},
     "output_type": "execute_result"
    }
   ],
   "source": [
    "# 가장 빈번하지 않은 것 => 1번만 나타나는 단어들\n",
    "# 알파벳만 리스트에 담아보기, 중복없이\n",
    "import nltk\n",
    "from nltk.book import *\n",
    "\n",
    "fdist = FreqDist(text1)\n",
    "len(fdist.hapaxes())"
   ]
  },
  {
   "cell_type": "code",
   "execution_count": 150,
   "id": "fff99c52-0558-49d3-9325-325e4e6b533b",
   "metadata": {
    "collapsed": true,
    "jupyter": {
     "outputs_hidden": true
    },
    "tags": []
   },
   "outputs": [
    {
     "data": {
      "text/plain": [
       "{'balloon',\n",
       " 'potencies',\n",
       " 'serpentines',\n",
       " 'soberly',\n",
       " 'ASPECT',\n",
       " 'instructions',\n",
       " 'commotions',\n",
       " 'Michael',\n",
       " 'saplings',\n",
       " 'availle',\n",
       " 'Wife',\n",
       " 'kills',\n",
       " 'Powers',\n",
       " 'refuses',\n",
       " 'diagonal',\n",
       " 'BEWARE',\n",
       " 'crumpled',\n",
       " 'snowhowdahed',\n",
       " 'Dome',\n",
       " 'unearthed',\n",
       " 'Square',\n",
       " 'WHITE',\n",
       " 'stabs',\n",
       " 'resemblances',\n",
       " 'shipkeepers',\n",
       " 'WHALEBONE',\n",
       " 'recrossed',\n",
       " 'ISOLATOES',\n",
       " 'frail',\n",
       " 'disinfecting',\n",
       " 'desks',\n",
       " 'Unhinge',\n",
       " 'dispel',\n",
       " 'ditto',\n",
       " 'railing',\n",
       " 'enjoined',\n",
       " 'completing',\n",
       " 'ARCTIC',\n",
       " 'suction',\n",
       " 'deriding',\n",
       " 'equivalent',\n",
       " 'happenest',\n",
       " 'omnipresent',\n",
       " 'scrutinizing',\n",
       " 'technicals',\n",
       " 'Touching',\n",
       " 'shutter',\n",
       " 'Bendigoes',\n",
       " 'haggardly',\n",
       " 'Aldrovandi',\n",
       " 'Vision',\n",
       " 'HATCHWAY',\n",
       " 'slogan',\n",
       " 'ramblings',\n",
       " 'Shifting',\n",
       " 'Alive',\n",
       " 'tempering',\n",
       " 'innocently',\n",
       " 'HEAD',\n",
       " 'observance',\n",
       " 'budged',\n",
       " 'apportioned',\n",
       " 'pony',\n",
       " 'objected',\n",
       " 'providentially',\n",
       " 'gleaming',\n",
       " 'Excuse',\n",
       " 'appointments',\n",
       " 'scuttling',\n",
       " 'Balaene',\n",
       " 'interfering',\n",
       " 'lividly',\n",
       " 'lexicographer',\n",
       " 'inkstand',\n",
       " 'convict',\n",
       " 'Twenty',\n",
       " 'Archbishop',\n",
       " 'tick',\n",
       " 'Baling',\n",
       " 'Susan',\n",
       " 'shortness',\n",
       " 'MIRIAM',\n",
       " 'forswearing',\n",
       " 'unsuffusing',\n",
       " 'blameworthy',\n",
       " 'Immortal',\n",
       " 'likenesses',\n",
       " 'unseamanlike',\n",
       " 'ravines',\n",
       " 'achieve',\n",
       " 'embattling',\n",
       " 'baleful',\n",
       " 'sweepers',\n",
       " 'RESUMING',\n",
       " 'congeal',\n",
       " 'shabbily',\n",
       " 'Symphony',\n",
       " 'slobgollion',\n",
       " 'listlessness',\n",
       " 'fusee',\n",
       " 'furls',\n",
       " 'abortion',\n",
       " 'confine',\n",
       " 'statutory',\n",
       " 'inflated',\n",
       " 'dis',\n",
       " 'unbent',\n",
       " 'raved',\n",
       " 'AROUND',\n",
       " 'clerical',\n",
       " 'thanks',\n",
       " 'SENTENCE',\n",
       " 'Madness',\n",
       " 'valves',\n",
       " 'wittiness',\n",
       " 'Ahabs',\n",
       " 'smites',\n",
       " 'spearings',\n",
       " 'Folgers',\n",
       " 'overhung',\n",
       " 'ratifying',\n",
       " 'charnel',\n",
       " 'shooks',\n",
       " 'wainscots',\n",
       " 'infidelities',\n",
       " 'Silently',\n",
       " 'uncorking',\n",
       " 'tigress',\n",
       " 'Franklin',\n",
       " 'create',\n",
       " 'wery',\n",
       " 'itch',\n",
       " 'Anno',\n",
       " 'engrafted',\n",
       " 'entangle',\n",
       " 'cargoes',\n",
       " 'voracious',\n",
       " 'overleap',\n",
       " 'cinders',\n",
       " 'gaffs',\n",
       " 'recovers',\n",
       " 'trampled',\n",
       " 'Jinglers',\n",
       " 'cognisable',\n",
       " 'shrivel',\n",
       " 'Brisson',\n",
       " 'sheltered',\n",
       " 'circulate',\n",
       " 'plaintiveness',\n",
       " 'imponderable',\n",
       " 'betakes',\n",
       " 'Stir',\n",
       " 'philosophical',\n",
       " 'Testament',\n",
       " 'consecrated',\n",
       " 'thriving',\n",
       " 'unstarched',\n",
       " 'damndest',\n",
       " 'tips',\n",
       " 'PURCHAS',\n",
       " 'asylum',\n",
       " 'instituted',\n",
       " 'propped',\n",
       " 'Pisces',\n",
       " 'purposeless',\n",
       " 'curvetting',\n",
       " 'exordium',\n",
       " 'carlines',\n",
       " 'sketching',\n",
       " 'Sway',\n",
       " 'Ashore',\n",
       " 'deficiencies',\n",
       " 'Scorning',\n",
       " 'gases',\n",
       " 'Monadnock',\n",
       " 'mastering',\n",
       " 'WATCH',\n",
       " 'crannies',\n",
       " 'languages',\n",
       " 'resounded',\n",
       " 'timberheads',\n",
       " 'initiate',\n",
       " 'WHIFF',\n",
       " 'indiscreet',\n",
       " 'undergraduate',\n",
       " 'deposited',\n",
       " 'dismissed',\n",
       " 'wanes',\n",
       " 'manfully',\n",
       " 'stifling',\n",
       " 'precedence',\n",
       " 'fictitious',\n",
       " 'COMES',\n",
       " 'vicissitude',\n",
       " 'plebeian',\n",
       " 'kidnap',\n",
       " 'Vice',\n",
       " 'unfriendly',\n",
       " 'cartridge',\n",
       " 'urging',\n",
       " 'Physiognomist',\n",
       " 'Unobserved',\n",
       " 'Childe',\n",
       " 'obscures',\n",
       " 'Ripplingly',\n",
       " 'unremoved',\n",
       " 'confronted',\n",
       " 'disease',\n",
       " 'hurling',\n",
       " 'Commanded',\n",
       " 'tallies',\n",
       " 'scaled',\n",
       " 'pilfering',\n",
       " 'richly',\n",
       " 'chasm',\n",
       " 'topic',\n",
       " 'lately',\n",
       " 'assurance',\n",
       " 'HOW',\n",
       " 'flavorish',\n",
       " 'glutinous',\n",
       " 'Stylites',\n",
       " 'infected',\n",
       " 'Crotch',\n",
       " 'SNEEZING',\n",
       " 'springy',\n",
       " 'Issuing',\n",
       " 'spoils',\n",
       " 'circled',\n",
       " 'Cervantes',\n",
       " 'exasperate',\n",
       " 'liberation',\n",
       " 'formally',\n",
       " 'MONTAIGNE',\n",
       " 'unscathed',\n",
       " 'Methuselah',\n",
       " 'limitless',\n",
       " 'simplicity',\n",
       " 'cleft',\n",
       " 'warmed',\n",
       " 'Norse',\n",
       " 'suicide',\n",
       " 'adoption',\n",
       " 'Tiger',\n",
       " 'backwoods',\n",
       " 'WHEN',\n",
       " 'viol',\n",
       " 'abstraction',\n",
       " 'heir',\n",
       " 'Candles',\n",
       " 'oftenest',\n",
       " 'panels',\n",
       " 'Flat',\n",
       " 'manifest',\n",
       " 'SOLUS',\n",
       " 'APPROACHING',\n",
       " 'Booble',\n",
       " 'unachieved',\n",
       " 'haply',\n",
       " 'hone',\n",
       " 'Kick',\n",
       " 'sprains',\n",
       " 'Talus',\n",
       " 'gulfs',\n",
       " 'paternity',\n",
       " 'invunerable',\n",
       " 'groups',\n",
       " 'dreamiest',\n",
       " 'unthinking',\n",
       " 'veracious',\n",
       " 'sways',\n",
       " 'trudging',\n",
       " 'frogs',\n",
       " 'abhorrent',\n",
       " 'Whelped',\n",
       " 'fortunately',\n",
       " 'woodpecker',\n",
       " 'SULKY',\n",
       " 'cloths',\n",
       " 'fittings',\n",
       " 'panellings',\n",
       " 'characterized',\n",
       " 'Morgana',\n",
       " 'quoggy',\n",
       " 'narrations',\n",
       " 'pedestals',\n",
       " 'determination',\n",
       " 'Abednego',\n",
       " 'interpret',\n",
       " 'con',\n",
       " 'honouring',\n",
       " 'beater',\n",
       " 'Lighting',\n",
       " 'constrainings',\n",
       " 'pattern',\n",
       " 'brushwood',\n",
       " 'thicker',\n",
       " 'sereneness',\n",
       " 'rearward',\n",
       " 'afoul',\n",
       " 'caulked',\n",
       " 'animate',\n",
       " 'Grampus',\n",
       " 'greenly',\n",
       " 'splashing',\n",
       " 'winks',\n",
       " 'Pipe',\n",
       " 'testily',\n",
       " 'fewer',\n",
       " 'bigot',\n",
       " 'Fiercely',\n",
       " 'wearies',\n",
       " 'ropeyarn',\n",
       " 'askance',\n",
       " 'signers',\n",
       " 'Shipmate',\n",
       " 'sugary',\n",
       " 'SOLANDER',\n",
       " 'recluse',\n",
       " 'undress',\n",
       " 'flanked',\n",
       " 'Fernandes',\n",
       " 'funereally',\n",
       " 'BALEINE',\n",
       " 'wonderingly',\n",
       " 'grandmother',\n",
       " 'fa',\n",
       " 'sartainty',\n",
       " 'scrouge',\n",
       " 'fourteen',\n",
       " 'canticle',\n",
       " 'alewives',\n",
       " 'windbound',\n",
       " 'hesitatingly',\n",
       " 'uncapturable',\n",
       " 'TWICE',\n",
       " 'Midwifery',\n",
       " 'uncompromisedness',\n",
       " 'speculative',\n",
       " 'tilbury',\n",
       " 'hummingly',\n",
       " 'WHARTON',\n",
       " 'hies',\n",
       " 'conflicting',\n",
       " 'exaggerate',\n",
       " 'translated',\n",
       " 'spiritually',\n",
       " 'deepening',\n",
       " 'indebted',\n",
       " 'flattening',\n",
       " 'wounds',\n",
       " 'statues',\n",
       " 'perusal',\n",
       " 'apprise',\n",
       " 'patronise',\n",
       " 'counsels',\n",
       " 'keg',\n",
       " 'quaff',\n",
       " 'museum',\n",
       " 'upbubble',\n",
       " 'Abominable',\n",
       " 'ironical',\n",
       " 'Throttling',\n",
       " 'monotonously',\n",
       " 'howls',\n",
       " 'MONTGOMERY',\n",
       " 'cleanliest',\n",
       " 'contusions',\n",
       " 'Merrily',\n",
       " 'butterflies',\n",
       " 'moors',\n",
       " 'appoint',\n",
       " 'noiselessness',\n",
       " 'squattings',\n",
       " 'pampered',\n",
       " 'compendious',\n",
       " 'aimed',\n",
       " 'Tarsus',\n",
       " 'Euclid',\n",
       " 'imprecations',\n",
       " 'appellations',\n",
       " 'flailings',\n",
       " 'scrabble',\n",
       " 'masculine',\n",
       " 'unshunned',\n",
       " 'Nightgown',\n",
       " 'barriers',\n",
       " 'withdrawals',\n",
       " 'greener',\n",
       " 'Societies',\n",
       " 'cone',\n",
       " 'Growlands',\n",
       " 'alpacas',\n",
       " 'aspiring',\n",
       " 'beaker',\n",
       " 'susceptible',\n",
       " 'sogger',\n",
       " 'adulterer',\n",
       " 'Gold',\n",
       " 'rugged',\n",
       " 'Shooting',\n",
       " 'inoffensive',\n",
       " 'unicorns',\n",
       " 'lege',\n",
       " 'questionable',\n",
       " 'pleasantness',\n",
       " 'Blanco',\n",
       " 'anathemas',\n",
       " 'perfumery',\n",
       " 'genera',\n",
       " 'prevents',\n",
       " 'falsified',\n",
       " 'unpoetical',\n",
       " 'mangles',\n",
       " 'birthmark',\n",
       " 'wipe',\n",
       " 'Slid',\n",
       " 'bruised',\n",
       " 'blackest',\n",
       " 'baton',\n",
       " 'imitated',\n",
       " 'puddings',\n",
       " 'inducing',\n",
       " 'UNITED',\n",
       " 'whalin',\n",
       " 'Walking',\n",
       " 'describing',\n",
       " 'Adverse',\n",
       " 'unstaggering',\n",
       " 'notched',\n",
       " 'thundered',\n",
       " 'elevate',\n",
       " 'smiled',\n",
       " 'tugged',\n",
       " 'polishing',\n",
       " 'partook',\n",
       " 'Parisians',\n",
       " 'creed',\n",
       " 'demigorgon',\n",
       " 'unreluctantly',\n",
       " 'phase',\n",
       " 'ARE',\n",
       " 'skimming',\n",
       " 'chested',\n",
       " 'citation',\n",
       " 'Pale',\n",
       " 'FISHERMAN',\n",
       " 'creak',\n",
       " 'ANNUS',\n",
       " 'Glimpses',\n",
       " 'cankerous',\n",
       " 'Argo',\n",
       " 'bridegrooms',\n",
       " 'Plains',\n",
       " 'overdoing',\n",
       " 'SOUTH',\n",
       " 'valise',\n",
       " 'stems',\n",
       " 'Pity',\n",
       " 'bunting',\n",
       " 'insider',\n",
       " 'sawed',\n",
       " 'Wind',\n",
       " 'reiterating',\n",
       " 'bough',\n",
       " 'HAWTHORNE',\n",
       " 'lunatic',\n",
       " 'thunderings',\n",
       " 'forewarnings',\n",
       " 'Kingdom',\n",
       " 'breezy',\n",
       " 'mockingly',\n",
       " 'colony',\n",
       " 'chronically',\n",
       " 'BREACH',\n",
       " 'baulks',\n",
       " 'unhooped',\n",
       " 'Mufti',\n",
       " 'compile',\n",
       " 'hems',\n",
       " 'wafted',\n",
       " 'napping',\n",
       " 'tinder',\n",
       " 'exterminated',\n",
       " 'localness',\n",
       " 'Transported',\n",
       " 'Remote',\n",
       " 'dewy',\n",
       " 'tearin',\n",
       " 'migrating',\n",
       " 'gasped',\n",
       " 'Friends',\n",
       " 'absurdly',\n",
       " 'CRUIZE',\n",
       " 'potatoes',\n",
       " 'demonstrable',\n",
       " 'Crushed',\n",
       " 'sentimentally',\n",
       " 'Rarmai',\n",
       " 'upbraidings',\n",
       " 'Trumpa',\n",
       " 'craziness',\n",
       " 'overawing',\n",
       " 'intrepidly',\n",
       " 'reasonableness',\n",
       " 'mills',\n",
       " 'compound',\n",
       " 'supernaturalness',\n",
       " 'Mingling',\n",
       " 'eventual',\n",
       " 'czar',\n",
       " 'poker',\n",
       " 'Inlanders',\n",
       " 'adopting',\n",
       " 'unsightly',\n",
       " 'Feegee',\n",
       " 'Loveliness',\n",
       " 'peddlin',\n",
       " 'HARDY',\n",
       " 'undecipherable',\n",
       " 'merest',\n",
       " 'Fashioned',\n",
       " 'MIRABILIS',\n",
       " 'platters',\n",
       " 'coincidings',\n",
       " 'Fits',\n",
       " 'moaning',\n",
       " 'craters',\n",
       " 'medicament',\n",
       " 'Wrinkled',\n",
       " 'profitably',\n",
       " 'Cannibal',\n",
       " 'hurl',\n",
       " 'expanding',\n",
       " 'sneezing',\n",
       " 'morbid',\n",
       " 'creativeness',\n",
       " 'expedition',\n",
       " 'lava',\n",
       " 'enchanting',\n",
       " 'scratched',\n",
       " 'Stood',\n",
       " 'slash',\n",
       " 'spiracles',\n",
       " 'communion',\n",
       " 'cloaked',\n",
       " 'climate',\n",
       " 'modelled',\n",
       " 'pennant',\n",
       " 'perspectives',\n",
       " 'malefactors',\n",
       " 'FORECASTLE',\n",
       " 'ascertained',\n",
       " 'watcher',\n",
       " 'scrambled',\n",
       " 'Snatching',\n",
       " 'habitudes',\n",
       " 'crackled',\n",
       " 'abortions',\n",
       " 'machine',\n",
       " 'nipper',\n",
       " 'blueness',\n",
       " 'Historically',\n",
       " 'rob',\n",
       " 'deathful',\n",
       " 'HAMLET',\n",
       " 'softest',\n",
       " 'pillars',\n",
       " 'CREWS',\n",
       " 'REFERENCE',\n",
       " 'frontiers',\n",
       " 'Cods',\n",
       " 'pavement',\n",
       " 'regale',\n",
       " 'CATCHES',\n",
       " 'giddily',\n",
       " 'Presbyterians',\n",
       " 'potentates',\n",
       " 'sunshine',\n",
       " 'Ptolemy',\n",
       " 'tracery',\n",
       " 'baffle',\n",
       " 'Goldsmith',\n",
       " 'outwardly',\n",
       " 'feebly',\n",
       " 'savoury',\n",
       " 'MATES',\n",
       " 'Prodigies',\n",
       " 'toothless',\n",
       " 'contributory',\n",
       " 'hind',\n",
       " 'resorting',\n",
       " 'harmony',\n",
       " 'Japans',\n",
       " 'Bench',\n",
       " 'scarred',\n",
       " 'jibs',\n",
       " 'coercing',\n",
       " 'Sperma',\n",
       " 'victories',\n",
       " 'evinces',\n",
       " 'foggy',\n",
       " 'domed',\n",
       " 'Folding',\n",
       " 'Stripped',\n",
       " 'bids',\n",
       " 'eave',\n",
       " 'snooze',\n",
       " 'literature',\n",
       " 'brazen',\n",
       " 'boyhood',\n",
       " 'dimmed',\n",
       " 'wretchedly',\n",
       " 'warringly',\n",
       " 'boa',\n",
       " 'nomenclature',\n",
       " 'Ultimately',\n",
       " 'uncharted',\n",
       " 'darkling',\n",
       " 'evincing',\n",
       " 'disciple',\n",
       " 'brats',\n",
       " 'Whilst',\n",
       " 'Eh',\n",
       " 'sultanically',\n",
       " 'Dart',\n",
       " 'versions',\n",
       " 'webbed',\n",
       " 'Birmah',\n",
       " 'serenest',\n",
       " 'futures',\n",
       " 'Conversation',\n",
       " 'fornication',\n",
       " 'pistoles',\n",
       " 'Tattoo',\n",
       " 'speckled',\n",
       " 'slits',\n",
       " 'studs',\n",
       " 'Short',\n",
       " 'pryed',\n",
       " 'privation',\n",
       " 'magnification',\n",
       " 'RETAKING',\n",
       " 'underwent',\n",
       " 'halters',\n",
       " 'vineyards',\n",
       " 'atmospheres',\n",
       " 'dungeoned',\n",
       " 'unsurrendered',\n",
       " 'droves',\n",
       " 'temperance',\n",
       " 'laughter',\n",
       " 'lounge',\n",
       " 'superinduced',\n",
       " 'wights',\n",
       " 'Coleman',\n",
       " 'feminam',\n",
       " 'battened',\n",
       " 'succeeds',\n",
       " 'holders',\n",
       " 'assigns',\n",
       " 'membranes',\n",
       " 'bowline',\n",
       " 'baptism',\n",
       " 'comply',\n",
       " 'feebler',\n",
       " 'moulder',\n",
       " 'eloquent',\n",
       " 'unprecedentedly',\n",
       " 'truthful',\n",
       " 'dissent',\n",
       " 'soggy',\n",
       " 'Cruelty',\n",
       " 'intimacy',\n",
       " 'heeling',\n",
       " 'teetering',\n",
       " 'blossoms',\n",
       " 'Mendanna',\n",
       " 'PROGRESS',\n",
       " 'VERBAL',\n",
       " 'Syracuse',\n",
       " 'OFF',\n",
       " 'organizations',\n",
       " 'kingdom',\n",
       " 'crept',\n",
       " 'Virgo',\n",
       " 'Yon',\n",
       " 'Vishnu',\n",
       " 'Regarding',\n",
       " 'Carey',\n",
       " 'reverse',\n",
       " 'patch',\n",
       " 'shallowest',\n",
       " 'HOMINUM',\n",
       " 'tacks',\n",
       " 'Lackaday',\n",
       " 'rescuing',\n",
       " 'weaker',\n",
       " 'today',\n",
       " 'Excellent',\n",
       " 'retaken',\n",
       " 'rockings',\n",
       " 'intermitting',\n",
       " 'Champagne',\n",
       " 'Ireland',\n",
       " 'mutes',\n",
       " 'unentered',\n",
       " 'BARON',\n",
       " 'ETCHINGS',\n",
       " 'affixed',\n",
       " 'massacre',\n",
       " 'plough',\n",
       " 'cones',\n",
       " 'crackers',\n",
       " 'swindle',\n",
       " 'LAYS',\n",
       " 'hits',\n",
       " 'wooded',\n",
       " 'Salem',\n",
       " 'disorders',\n",
       " 'impossibility',\n",
       " 'tougher',\n",
       " 'blanks',\n",
       " 'Late',\n",
       " 'SPERMACETI',\n",
       " 'religionists',\n",
       " 'smacks',\n",
       " 'SORTS',\n",
       " 'rapscallions',\n",
       " 'FIRST',\n",
       " 'Fishiest',\n",
       " 'digressively',\n",
       " 'inheritor',\n",
       " 'contributed',\n",
       " 'contingencies',\n",
       " 'wayward',\n",
       " 'Whisper',\n",
       " 'basin',\n",
       " 'endued',\n",
       " 'sorcery',\n",
       " 'unrolled',\n",
       " 'sawn',\n",
       " 'confirmation',\n",
       " 'diadem',\n",
       " 'NATURALIST',\n",
       " 'doctored',\n",
       " 'FLAMES',\n",
       " 'CHINA',\n",
       " 'abstained',\n",
       " 'menial',\n",
       " 'homeless',\n",
       " 'feigned',\n",
       " 'jokes',\n",
       " 'Arched',\n",
       " 'ignominious',\n",
       " 'LEAPS',\n",
       " 'ENTER',\n",
       " 'Rafters',\n",
       " 'allegiance',\n",
       " 'grappling',\n",
       " 'windrowed',\n",
       " 'AMERICA',\n",
       " 'skrimshander',\n",
       " 'aptitudes',\n",
       " 'trinity',\n",
       " 'pommel',\n",
       " 'miserly',\n",
       " 'markest',\n",
       " 'unreverenced',\n",
       " 'candid',\n",
       " 'unshorn',\n",
       " 'Tennessee',\n",
       " 'Lashed',\n",
       " 'Giver',\n",
       " 'repeating',\n",
       " 'witch',\n",
       " 'stoopingly',\n",
       " 'vignettes',\n",
       " 'bakers',\n",
       " 'promissory',\n",
       " 'clime',\n",
       " 'Omen',\n",
       " 'unaided',\n",
       " 'Paris',\n",
       " 'lasso',\n",
       " 'chronometer',\n",
       " 'LETTERS',\n",
       " 'entangling',\n",
       " 'roosting',\n",
       " 'comedies',\n",
       " 'Clootz',\n",
       " 'ignore',\n",
       " 'Walks',\n",
       " 'smugglers',\n",
       " 'unvexed',\n",
       " 'compress',\n",
       " 'hypochondriac',\n",
       " 'surcoat',\n",
       " 'tinkerings',\n",
       " 'injunctions',\n",
       " 'deserving',\n",
       " 'Tisbury',\n",
       " 'giddy',\n",
       " 'LEG',\n",
       " 'heated',\n",
       " 'inviting',\n",
       " 'lodgings',\n",
       " 'Bone',\n",
       " 'virtuous',\n",
       " 'overawed',\n",
       " 'credulities',\n",
       " 'Westers',\n",
       " 'initiated',\n",
       " 'enactment',\n",
       " 'reforming',\n",
       " 'combed',\n",
       " 'cockpits',\n",
       " 'unsolicited',\n",
       " 'halloo',\n",
       " 'charging',\n",
       " 'hob',\n",
       " 'merciless',\n",
       " 'RABELAIS',\n",
       " 'generated',\n",
       " 'Apoplexy',\n",
       " 'Science',\n",
       " 'Sermon',\n",
       " 'feasted',\n",
       " 'exceeds',\n",
       " 'Dodge',\n",
       " 'amain',\n",
       " 'ADDITIONAL',\n",
       " 'theology',\n",
       " 'Tekel',\n",
       " 'KETOS',\n",
       " 'reliance',\n",
       " 'thirstily',\n",
       " 'designates',\n",
       " 'blunted',\n",
       " 'houseless',\n",
       " 'ENSUING',\n",
       " 'punctures',\n",
       " 'Vermonters',\n",
       " 'undefiled',\n",
       " 'blossom',\n",
       " 'wavings',\n",
       " 'unbelief',\n",
       " 'footfall',\n",
       " 'excuse',\n",
       " 'sequential',\n",
       " 'enjoyments',\n",
       " 'fur',\n",
       " 'Dead',\n",
       " 'lens',\n",
       " 'PARLIAMENT',\n",
       " 'unprofessional',\n",
       " 'shrines',\n",
       " 'snortings',\n",
       " 'honing',\n",
       " 'slaughtering',\n",
       " 'musically',\n",
       " 'counteracting',\n",
       " 'rapping',\n",
       " 'masted',\n",
       " 'PALEY',\n",
       " 'disguise',\n",
       " 'Rue',\n",
       " 'agreeable',\n",
       " 'shilling',\n",
       " 'ignite',\n",
       " 'conjured',\n",
       " 'defection',\n",
       " 'overruns',\n",
       " 'tissued',\n",
       " 'eels',\n",
       " 'dedicates',\n",
       " 'pendants',\n",
       " 'passer',\n",
       " 'LUCIAN',\n",
       " 'UNPUBLISHED',\n",
       " 'sellin',\n",
       " 'Yorkshire',\n",
       " 'discoverers',\n",
       " 'primeval',\n",
       " 'Canaris',\n",
       " 'milestones',\n",
       " 'diabolically',\n",
       " 'essayed',\n",
       " 'phospher',\n",
       " 'Epitome',\n",
       " 'Berlin',\n",
       " 'consulted',\n",
       " 'ink',\n",
       " 'engraven',\n",
       " 'dazed',\n",
       " 'robbers',\n",
       " 'fatalists',\n",
       " 'Near',\n",
       " 'periodicalness',\n",
       " 'Won',\n",
       " 'disgorge',\n",
       " 'suffusingly',\n",
       " 'firewood',\n",
       " 'duke',\n",
       " 'sly',\n",
       " 'Mote',\n",
       " 'perpetuates',\n",
       " 'Bite',\n",
       " 'p',\n",
       " 'genuineness',\n",
       " 'Pines',\n",
       " 'abided',\n",
       " 'entrenched',\n",
       " 'thickens',\n",
       " 'immensity',\n",
       " 'GONDIBERT',\n",
       " 'Planted',\n",
       " 'oversight',\n",
       " 'centipede',\n",
       " 'specifically',\n",
       " 'sartin',\n",
       " 'destroyer',\n",
       " 'struggles',\n",
       " 'barreller',\n",
       " 'destroys',\n",
       " 'Rhenish',\n",
       " 'til',\n",
       " 'deprecating',\n",
       " 'upliftings',\n",
       " 'Conjuror',\n",
       " 'dwarfed',\n",
       " 'practices',\n",
       " 'Vengeance',\n",
       " 'Hampton',\n",
       " 'dawned',\n",
       " 'abate',\n",
       " 'deduction',\n",
       " 'legerdemain',\n",
       " 'GOETHE',\n",
       " 'concerns',\n",
       " 'forerunning',\n",
       " 'excursion',\n",
       " 'zephyr',\n",
       " 'relatively',\n",
       " 'swoop',\n",
       " 'tissues',\n",
       " 'vats',\n",
       " 'zay',\n",
       " 'remonstrate',\n",
       " 'daresn',\n",
       " 'visitants',\n",
       " 'leans',\n",
       " 'sweeps',\n",
       " 'cleanse',\n",
       " 'Fa',\n",
       " 'unexaggerated',\n",
       " 'REPEATED',\n",
       " 'Exploring',\n",
       " 'staved',\n",
       " 'chipping',\n",
       " 'partners',\n",
       " 'Cato',\n",
       " 'Manchester',\n",
       " 'Western',\n",
       " 'shy',\n",
       " 'dozen',\n",
       " 'unceremoniously',\n",
       " 'healthful',\n",
       " 'thawed',\n",
       " 'drizzly',\n",
       " 'overcome',\n",
       " 'westerly',\n",
       " 'tilt',\n",
       " 'Blanc',\n",
       " 'Durand',\n",
       " 'rustles',\n",
       " 'unsettled',\n",
       " 'grub',\n",
       " 'hitching',\n",
       " 'refugees',\n",
       " 'tethered',\n",
       " 'inhabitable',\n",
       " 'wasps',\n",
       " 'sheaf',\n",
       " 'warningly',\n",
       " 'mummeries',\n",
       " 'frontier',\n",
       " 'hamlets',\n",
       " 'Euclidean',\n",
       " 'Albicore',\n",
       " 'encircles',\n",
       " 'preparatives',\n",
       " 'Connecticut',\n",
       " 'divings',\n",
       " 'phrenologist',\n",
       " 'parti',\n",
       " 'capturing',\n",
       " 'vanquished',\n",
       " 'padlock',\n",
       " 'planned',\n",
       " ...}"
      ]
     },
     "execution_count": 150,
     "metadata": {},
     "output_type": "execute_result"
    }
   ],
   "source": [
    "set([word for word in fdist.hapaxes() if word.isalpha()])"
   ]
  },
  {
   "cell_type": "code",
   "execution_count": 80,
   "id": "93b9f60f-3c2a-4963-9641-ebcc35c56337",
   "metadata": {},
   "outputs": [
    {
     "data": {
      "text/plain": [
       "14431"
      ]
     },
     "execution_count": 80,
     "metadata": {},
     "output_type": "execute_result"
    }
   ],
   "source": [
    "# 대소문자 구분 없이 freq dist 만드려면? the는 1500번, The는 600번 => 21000번으로 나오게 하고싶다\n",
    "    # 리스트 -> 리스트\n",
    "# set 해주면 안됨 -> 중복 없앰 -> 빈도수가 1이 됨\n",
    "fdist2 = FreqDist([word.lower() for word in text1])\n",
    "fdist2['the']"
   ]
  },
  {
   "cell_type": "code",
   "execution_count": 151,
   "id": "9b45f1a2-6c23-438a-a705-520291f1342b",
   "metadata": {},
   "outputs": [
    {
     "data": {
      "text/plain": [
       "0"
      ]
     },
     "execution_count": 151,
     "metadata": {},
     "output_type": "execute_result"
    }
   ],
   "source": [
    "fdist2['The']\n",
    "# lower()을 썼기 때문에 대문자가 없어짐 -> 0으로 나옴"
   ]
  },
  {
   "cell_type": "code",
   "execution_count": null,
   "id": "59b0d8e9-fb4c-4877-87ba-2cc14c24208f",
   "metadata": {},
   "outputs": [],
   "source": [
    "fsidt = FreqDist(text1) # 대소문자 있음, 첫글자만 대문자 the, The, THE\n",
    "fdist2 = FreqDist([word.lower() for word in text1]) # 한꺼번에 나타낼 수 있도록"
   ]
  },
  {
   "cell_type": "code",
   "execution_count": null,
   "id": "2cea1704-00df-4422-a154-611cd5153312",
   "metadata": {},
   "outputs": [],
   "source": [
    "# text2에서 길이가 3자 이하이고, 빈도수가 5 이상\n",
    "# [word for word in text2 if (len(word) <= 3) and FreqDist(word) >= 5]"
   ]
  },
  {
   "cell_type": "code",
   "execution_count": 100,
   "id": "4c18a211-838f-4afa-b6a1-55d5221c0c3b",
   "metadata": {},
   "outputs": [],
   "source": [
    "# fdist3 = FreqDist([word.lower() for word in text2] if word <= 3 and fre)fdist3 = FreqDist([word.lower() for word in text2] if word <= 3 and (text2.count(word) == 5))"
   ]
  },
  {
   "cell_type": "code",
   "execution_count": 101,
   "id": "b1837343-ec99-419b-a226-9c16d3061799",
   "metadata": {},
   "outputs": [],
   "source": [
    "# [word for word in text2 if (len(word) <= 3) and FreqDist(word) >= 5]"
   ]
  },
  {
   "cell_type": "code",
   "execution_count": null,
   "id": "572cd33c-4241-4e8e-b99d-30de894f65ce",
   "metadata": {},
   "outputs": [],
   "source": [
    "[word for (word, count) in FreqDist(text2).items()\\\n",
    "    if (len(word) <= 3) and (count >= 5)] # 자료형이 dictionary임 - items()필요"
   ]
  },
  {
   "cell_type": "markdown",
   "id": "d8e95e11-38f0-48d7-869f-0a24c1ad5db7",
   "metadata": {},
   "source": [
    "### 리스트 <-> 스트링\n",
    "- split(): string.split(seperator)\n",
    "    - 문자열 이름을 입력하고 .을 입력한 후 함수 이름과 인수를 입력\n",
    "    - 인수없이 split()를 호출할 때에도 중괄호가 필요()\n",
    "    - default = ' '\n",
    "- join(): seperator.join(string)\n",
    "    - 문자열 결합하기 "
   ]
  },
  {
   "cell_type": "code",
   "execution_count": 109,
   "id": "bda380e2-4de8-42c8-8560-53ea9fa315a4",
   "metadata": {},
   "outputs": [
    {
     "data": {
      "text/plain": [
       "['I', ' have', ' a', ' car']"
      ]
     },
     "execution_count": 109,
     "metadata": {},
     "output_type": "execute_result"
    }
   ],
   "source": [
    "sent = 'I, have, a, car'\n",
    "# ['I', 'have','a,'car'] tokens\n",
    "sent.split(',')\n",
    "# 공백이 나옴"
   ]
  },
  {
   "cell_type": "code",
   "execution_count": 105,
   "id": "e020cf6a-05ca-441a-917f-c455deaee60f",
   "metadata": {},
   "outputs": [
    {
     "ename": "AttributeError",
     "evalue": "'list' object has no attribute 'strp'",
     "output_type": "error",
     "traceback": [
      "\u001b[1;31m---------------------------------------------------------------------------\u001b[0m",
      "\u001b[1;31mAttributeError\u001b[0m                            Traceback (most recent call last)",
      "\u001b[1;32m~\\AppData\\Local\\Temp/ipykernel_8668/3940907450.py\u001b[0m in \u001b[0;36m<module>\u001b[1;34m\u001b[0m\n\u001b[0;32m      1\u001b[0m \u001b[0msent\u001b[0m \u001b[1;33m=\u001b[0m \u001b[1;34m'I, have, a, car'\u001b[0m\u001b[1;33m\u001b[0m\u001b[1;33m\u001b[0m\u001b[0m\n\u001b[1;32m----> 2\u001b[1;33m \u001b[0msent\u001b[0m\u001b[1;33m.\u001b[0m\u001b[0msplit\u001b[0m\u001b[1;33m(\u001b[0m\u001b[1;34m','\u001b[0m\u001b[1;33m)\u001b[0m\u001b[1;33m.\u001b[0m\u001b[0mstrp\u001b[0m\u001b[1;33m(\u001b[0m\u001b[1;33m)\u001b[0m\u001b[1;33m\u001b[0m\u001b[1;33m\u001b[0m\u001b[0m\n\u001b[0m",
      "\u001b[1;31mAttributeError\u001b[0m: 'list' object has no attribute 'strp'"
     ]
    }
   ],
   "source": [
    "sent = 'I, have, a, car'\n",
    "sent.split(',').strip() # 오류가 뜸 string.strip()으로 써야함"
   ]
  },
  {
   "cell_type": "code",
   "execution_count": 112,
   "id": "c65c4012-c146-4678-89ad-3884262edbd3",
   "metadata": {},
   "outputs": [
    {
     "data": {
      "text/plain": [
       "['I', 'have', 'a', 'car']"
      ]
     },
     "execution_count": 112,
     "metadata": {},
     "output_type": "execute_result"
    }
   ],
   "source": [
    "# 단어들 사이에 공백 없애기 solution\n",
    "sent_tokens = [word.strip() for word in sent.split(',')]\n",
    "sent_tokens\n",
    "# lstrip 써도 됨"
   ]
  },
  {
   "cell_type": "code",
   "execution_count": 113,
   "id": "f027d80f-8d7b-4a94-bec1-760c09caca54",
   "metadata": {},
   "outputs": [
    {
     "data": {
      "text/plain": [
       "'I have a car'"
      ]
     },
     "execution_count": 113,
     "metadata": {},
     "output_type": "execute_result"
    }
   ],
   "source": [
    "# ['I', 'have', 'a', 'car'] => 'I have a car'\n",
    "' '.join(sent_tokens)"
   ]
  },
  {
   "cell_type": "code",
   "execution_count": 114,
   "id": "50b8365e-de51-4102-b266-3728e884932a",
   "metadata": {},
   "outputs": [
    {
     "data": {
      "text/plain": [
       "'I-have-a-car'"
      ]
     },
     "execution_count": 114,
     "metadata": {},
     "output_type": "execute_result"
    }
   ],
   "source": [
    "'-'.join(sent_tokens)"
   ]
  },
  {
   "cell_type": "markdown",
   "id": "f522de12-82d5-4177-bdb6-6d98591a4f97",
   "metadata": {},
   "source": [
    "# 반복문 맛보기\n",
    "- 자료구조를 순회할 때 사용\n",
    "- 시작조건, 종료조건, 수행조건\n",
    "- for 변수 in <반복 범위>:\n",
    "  <들여쓰기> <수행명령>\n",
    "- [<수행명령> for 변수 in <변수 범위>]\n",
    "- range(start, end, step): 숫자 순회할 때\n",
    "    - 0부터 시작\n",
    "    - 인덱스랑 다른 점은 : -> ,"
   ]
  },
  {
   "cell_type": "code",
   "execution_count": 116,
   "id": "93dd824b-4476-489f-9ebf-a66832fb034b",
   "metadata": {},
   "outputs": [
    {
     "data": {
      "text/plain": [
       "['I', 'have', 'a', 'car']"
      ]
     },
     "execution_count": 116,
     "metadata": {},
     "output_type": "execute_result"
    }
   ],
   "source": [
    "[word for word in sent_tokens]"
   ]
  },
  {
   "cell_type": "code",
   "execution_count": 117,
   "id": "83afc507-dcd4-462b-8242-bc462cb7af15",
   "metadata": {},
   "outputs": [
    {
     "name": "stdout",
     "output_type": "stream",
     "text": [
      "I\n",
      "have\n",
      "a\n",
      "car\n"
     ]
    }
   ],
   "source": [
    "for word in sent_tokens:\n",
    "    print(word)\n",
    "# list comprehension을 사용한 후 적용한 것과 그냥 문장을 적용한 것은 다르게 나타남"
   ]
  },
  {
   "cell_type": "code",
   "execution_count": 152,
   "id": "df69ddfc-6d9a-4dc2-b47f-06d989fc56e5",
   "metadata": {},
   "outputs": [
    {
     "name": "stdout",
     "output_type": "stream",
     "text": [
      "0\n",
      "1\n",
      "2\n",
      "3\n",
      "4\n",
      "5\n",
      "6\n",
      "7\n",
      "8\n",
      "9\n"
     ]
    }
   ],
   "source": [
    "# 1에서 10까지 출력\n",
    "for i in range(10):\n",
    "    print(i)"
   ]
  },
  {
   "cell_type": "code",
   "execution_count": null,
   "id": "74e34bdf-bbd9-4d3f-83fe-a15d14247f9d",
   "metadata": {},
   "outputs": [],
   "source": [
    "### Ex\n",
    "- 1. text6에서 길이가 4자 이하인 알파벳 중 ie를 포함하는 단어를 단어 개수로 출력하시오.\n",
    "    - 예: [1, 3, 4, 3]\n",
    "- 2. text2에서 ch로 끝나는 단어를 출력하는데 \n",
    "    - 중복 없고\n",
    "    - 첫 글자와 ch 남기고 가운데는 모두 -로 기려라.\n",
    "        예: much -> m-ch\n",
    "        - ch로 시작하면 바꾸면 안됨\n",
    "    - 정렬:\n",
    "        - 문자 길이로 정렬하기"
   ]
  },
  {
   "cell_type": "code",
   "execution_count": 11,
   "id": "fb1a1da5-38c0-42d2-bac2-774ac5db4a1c",
   "metadata": {},
   "outputs": [
    {
     "data": {
      "text/plain": [
       "[2, 10, 10, 10, 10, 2, 4, 10, 10, 2, 1, 1, 4, 3, 3, 4, 2, 10, 10, 10, 10, 3, 4]"
      ]
     },
     "execution_count": 11,
     "metadata": {},
     "output_type": "execute_result"
    }
   ],
   "source": [
    "[text6.count(word) for word in text6.tokens if len(word) <= 4 and ('ie' in word)]"
   ]
  },
  {
   "cell_type": "code",
   "execution_count": 24,
   "id": "6b23dba7-284a-402c-9d57-b1f3cdc6f7b5",
   "metadata": {},
   "outputs": [
    {
     "name": "stdout",
     "output_type": "stream",
     "text": [
      "church\n",
      "{'w--ch', 't--ch', 'E-ch', 'b--ch', 'a---ch', 'i-ch', 'e---ch', 'W--ch', 'a-----ch', 'S-ch', 'e-ch', 'r--ch', 's---ch', 'M-ch', 'b---ch', 'm-ch', 'c---ch', 'r-ch', 'd-----ch', 'f--ch', 'p--ch', 'm--ch', 's----ch', 's-ch', 'M--ch', 'c--ch', 'r-----ch'}\n"
     ]
    }
   ],
   "source": [
    "pro = [word for word in text2.tokens if word.endswith('ch')]\n",
    "for word in pro:\n",
    "    if word.startswith('ch'):\n",
    "        result = word  \n",
    "print(result)\n",
    "\n",
    "for word in pro:\n",
    "        result = set([word.replace(word[1:-2], '-'*len(word[1:-2])) for word in pro])\n",
    "\n",
    "print(result)\n",
    "    "
   ]
  },
  {
   "cell_type": "code",
   "execution_count": 8,
   "id": "431238a8",
   "metadata": {},
   "outputs": [
    {
     "ename": "TypeError",
     "evalue": "unhashable type: 'set'",
     "output_type": "error",
     "traceback": [
      "\u001b[1;31m---------------------------------------------------------------------------\u001b[0m",
      "\u001b[1;31mTypeError\u001b[0m                                 Traceback (most recent call last)",
      "\u001b[1;32m~\\AppData\\Local\\Temp/ipykernel_16240/280456731.py\u001b[0m in \u001b[0;36m<module>\u001b[1;34m\u001b[0m\n\u001b[0;32m      9\u001b[0m         \u001b[0mlist1\u001b[0m\u001b[1;33m.\u001b[0m\u001b[0mappend\u001b[0m\u001b[1;33m(\u001b[0m\u001b[0mresult\u001b[0m\u001b[1;33m)\u001b[0m\u001b[1;33m\u001b[0m\u001b[1;33m\u001b[0m\u001b[0m\n\u001b[0;32m     10\u001b[0m \u001b[1;33m\u001b[0m\u001b[0m\n\u001b[1;32m---> 11\u001b[1;33m \u001b[0mtext2_res\u001b[0m \u001b[1;33m=\u001b[0m \u001b[0mset\u001b[0m\u001b[1;33m(\u001b[0m\u001b[0mlist1\u001b[0m\u001b[1;33m)\u001b[0m\u001b[1;33m\u001b[0m\u001b[1;33m\u001b[0m\u001b[0m\n\u001b[0m\u001b[0;32m     12\u001b[0m \u001b[1;33m\u001b[0m\u001b[0m\n",
      "\u001b[1;31mTypeError\u001b[0m: unhashable type: 'set'"
     ]
    }
   ],
   "source": [
    "pro = [word for word in text2.tokens if word.endswith('ch')]\n",
    "list1=[]\n",
    "for word in pro:\n",
    "    if word.startswith('ch'):\n",
    "        result = word \n",
    "        list1.append(result)\n",
    "    else:\n",
    "        result = set([word.replace(word[1:-2], '-'*len(word[1:-2])) for word in pro])\n",
    "        list1.append(result)\n",
    "\n",
    "text2_res = set(list1)\n",
    "# set을 사용할 수 없다는 오류가 뜸, 더 생각해봐야겠다."
   ]
  },
  {
   "cell_type": "code",
   "execution_count": 23,
   "id": "50b88704-dbb0-4b7f-93d9-96913f732e3e",
   "metadata": {},
   "outputs": [
    {
     "data": {
      "text/plain": [
       "['MORAY!']"
      ]
     },
     "execution_count": 23,
     "metadata": {},
     "output_type": "execute_result"
    }
   ],
   "source": [
    "# 5.1 연습문제\n",
    "# m으로 시작하는 단어를 대문자로 만들기\n",
    "song = 'When an eel grabs your arm,\\n And it causes great harm,\\n That\\'s - a moray!'\n",
    "[word.upper() for word in song.split() if word.startswith('m')]"
   ]
  }
 ],
 "metadata": {
  "kernelspec": {
   "display_name": "Python 3 (ipykernel)",
   "language": "python",
   "name": "python3"
  },
  "language_info": {
   "codemirror_mode": {
    "name": "ipython",
    "version": 3
   },
   "file_extension": ".py",
   "mimetype": "text/x-python",
   "name": "python",
   "nbconvert_exporter": "python",
   "pygments_lexer": "ipython3",
   "version": "3.9.7"
  }
 },
 "nbformat": 4,
 "nbformat_minor": 5
}
