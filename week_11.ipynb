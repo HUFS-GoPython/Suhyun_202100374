{
 "cells": [
  {
   "cell_type": "markdown",
   "id": "1044ae02-c483-4f97-a1a9-6aadc7c78e16",
   "metadata": {},
   "source": [
    "### 상속 | inheritance\n",
    "- 이전 클래스의 내용을 추가, 변경해야 할 경우\n",
    "- 코드 재사용에 유용함!\n",
    "- 기준: vehicle, parent, super, base. 부모클래스\n",
    "- 상속 받는 클래스: child, sub, derived. 자식클래스\n",
    "- Vehicle <- Car\n",
    "    - 부모클래스를 자식클래스가 구체화시킨다.\n",
    "    - Car is-a-Vehicle (is-a 관계)-유의해야함\n",
    "    - has-a: Notebook has-a-Note"
   ]
  },
  {
   "cell_type": "code",
   "execution_count": 60,
   "id": "6e81df69-3528-4b8e-b93b-70e7f0bc0127",
   "metadata": {},
   "outputs": [],
   "source": [
    "class Vehicle:\n",
    "    def __init__(self, speed): #초기화 시키기, speed 설정\n",
    "        self.speed = speed\n",
    "    \n",
    "    def go(self):\n",
    "        print(f'{self.speed}의 속력으로 달린다.')\n",
    "\n",
    "# 자식클래스\n",
    "class Car(Vehicle): # 상속 받을 클래스명을 괄호 안에 넣기\n",
    "    pass # 아무것도 설정하지 않음"
   ]
  },
  {
   "cell_type": "code",
   "execution_count": 61,
   "id": "7f17c642-c87a-4b60-b7cd-0145c6b56aad",
   "metadata": {},
   "outputs": [],
   "source": [
    "car = Car('15km/h')"
   ]
  },
  {
   "cell_type": "code",
   "execution_count": 62,
   "id": "7b6cf7ba-fd08-4834-b8cb-70634902c388",
   "metadata": {},
   "outputs": [
    {
     "name": "stdout",
     "output_type": "stream",
     "text": [
      "15km/h의 속력으로 달린다.\n"
     ]
    }
   ],
   "source": [
    "car.go()"
   ]
  },
  {
   "cell_type": "markdown",
   "id": "2daf9bd5-aa11-400b-ae6e-f279d902c78c",
   "metadata": {},
   "source": [
    "## 추가, 변경\n",
    "- 속성(변수)"
   ]
  },
  {
   "cell_type": "code",
   "execution_count": 64,
   "id": "7e2c39e7-d1d2-4ff3-8036-f340b11b09f3",
   "metadata": {},
   "outputs": [
    {
     "data": {
      "text/plain": [
       "'15km/h'"
      ]
     },
     "execution_count": 64,
     "metadata": {},
     "output_type": "execute_result"
    }
   ],
   "source": [
    "car.speed"
   ]
  },
  {
   "cell_type": "code",
   "execution_count": 76,
   "id": "610dffc7-738e-42cb-97cb-f21b87fef189",
   "metadata": {},
   "outputs": [],
   "source": [
    "class Car(Vehicle):\n",
    "    def __init__(self, speed, brand): # 스피드와 브랜드\n",
    "        # self.speed = speed\n",
    "        # self.brand = brand\n",
    "        # 이렇게 안 함\n",
    "        super().__init__(speed) # 선택적 인수 설정하기 - 부모한테 speed를 가져옴\n",
    "        self.brand = brand # 추가한 변수 \n",
    "        # self == 나 자신, super() == 부모"
   ]
  },
  {
   "cell_type": "code",
   "execution_count": 66,
   "id": "544b7fc2-d261-4bb7-8528-f03c72424edf",
   "metadata": {},
   "outputs": [],
   "source": [
    "car2 = Car('14km/h', 'kia')"
   ]
  },
  {
   "cell_type": "code",
   "execution_count": 68,
   "id": "d374803c-137a-46b8-9a8a-72d01e4c5e9d",
   "metadata": {},
   "outputs": [
    {
     "data": {
      "text/plain": [
       "'14km/h'"
      ]
     },
     "execution_count": 68,
     "metadata": {},
     "output_type": "execute_result"
    }
   ],
   "source": [
    "car2.speed\n",
    "# 부모는 자식꺼 안됨, 자식은 가능\n",
    "# 부모한테 다 안받아와도 됨 - super().__init__(speed) 여기서 선택적으로/ self 안 씀"
   ]
  },
  {
   "cell_type": "code",
   "execution_count": 70,
   "id": "60078545-97a7-4d23-9cf4-b8dcbbe0cd05",
   "metadata": {},
   "outputs": [
    {
     "name": "stdout",
     "output_type": "stream",
     "text": [
      "14km/h의 속력으로 달린다.\n"
     ]
    }
   ],
   "source": [
    "car2.go()\n",
    "# 부모의 메소드를 가져옴"
   ]
  },
  {
   "cell_type": "code",
   "execution_count": 77,
   "id": "1ad547cf-1a17-4243-a317-dbf0cbba1a36",
   "metadata": {},
   "outputs": [
    {
     "ename": "AttributeError",
     "evalue": "'Vehicle' object has no attribute 'brand'",
     "output_type": "error",
     "traceback": [
      "\u001b[1;31m---------------------------------------------------------------------------\u001b[0m",
      "\u001b[1;31mAttributeError\u001b[0m                            Traceback (most recent call last)",
      "\u001b[1;32m~\\AppData\\Local\\Temp/ipykernel_17964/1688364980.py\u001b[0m in \u001b[0;36m<module>\u001b[1;34m\u001b[0m\n\u001b[0;32m      1\u001b[0m \u001b[0mv\u001b[0m \u001b[1;33m=\u001b[0m \u001b[0mVehicle\u001b[0m\u001b[1;33m(\u001b[0m\u001b[1;34m'15km/h'\u001b[0m\u001b[1;33m)\u001b[0m\u001b[1;33m\u001b[0m\u001b[1;33m\u001b[0m\u001b[0m\n\u001b[1;32m----> 2\u001b[1;33m \u001b[0mv\u001b[0m\u001b[1;33m.\u001b[0m\u001b[0mbrand\u001b[0m\u001b[1;33m\u001b[0m\u001b[1;33m\u001b[0m\u001b[0m\n\u001b[0m\u001b[0;32m      3\u001b[0m \u001b[1;31m# 부모클래스는 자식클래스만 가지고 있는걸 못함\u001b[0m\u001b[1;33m\u001b[0m\u001b[1;33m\u001b[0m\u001b[0m\n",
      "\u001b[1;31mAttributeError\u001b[0m: 'Vehicle' object has no attribute 'brand'"
     ]
    }
   ],
   "source": [
    "v = Vehicle('15km/h')\n",
    "v.brand\n",
    "# 부모클래스는 자식클래스만 가지고 있는걸 못함"
   ]
  },
  {
   "cell_type": "markdown",
   "id": "c5a7c594-1620-4d91-b5e9-068a3cc2f947",
   "metadata": {},
   "source": [
    "- 매소드 변경 => 오버라이드(override), 재정의"
   ]
  },
  {
   "cell_type": "code",
   "execution_count": 71,
   "id": "ae1ee254-964f-4d08-9736-2ffbad9db442",
   "metadata": {},
   "outputs": [],
   "source": [
    "class Car(Vehicle):\n",
    "    def __init__(self, speed, brand):\n",
    "        super().__init__(speed) \n",
    "        self.brand = brand\n",
    "        \n",
    "    def go(self):\n",
    "        print(f'차종은 {self.brand}')"
   ]
  },
  {
   "cell_type": "code",
   "execution_count": 73,
   "id": "02cb396d-a247-419b-b0a9-1ea19388e4a4",
   "metadata": {},
   "outputs": [
    {
     "name": "stdout",
     "output_type": "stream",
     "text": [
      "차종은 nissan\n"
     ]
    }
   ],
   "source": [
    "car3 = Car('15km/h', 'nissan')\n",
    "car3.go()\n",
    "# 자식 클래스의 메소드를 타게 됨 \n",
    "# override"
   ]
  },
  {
   "cell_type": "code",
   "execution_count": 78,
   "id": "a02ed819-58d9-45a9-ba6b-25348dd37495",
   "metadata": {},
   "outputs": [],
   "source": [
    "# 부모의 go도 같이 타고싶다\n",
    "class Car(Vehicle):\n",
    "    def __init__(self, speed, brand):\n",
    "        super().__init__(speed) \n",
    "        self.brand = brand\n",
    "        \n",
    "    def go(self):\n",
    "        super().go()\n",
    "        print(f'차종은 {self.brand}') # 부모꺼 먼저 타고, 자식꺼 탐"
   ]
  },
  {
   "cell_type": "code",
   "execution_count": 75,
   "id": "9044629c-0b12-4b95-8520-5478dc945153",
   "metadata": {},
   "outputs": [
    {
     "name": "stdout",
     "output_type": "stream",
     "text": [
      "15km/h의 속력으로 달린다.\n",
      "차종은 nissan\n"
     ]
    }
   ],
   "source": [
    "car3 = Car('15km/h', 'nissan')\n",
    "car3.go()"
   ]
  },
  {
   "cell_type": "code",
   "execution_count": 81,
   "id": "42a9f664-0fff-449d-8c85-26334bed4531",
   "metadata": {},
   "outputs": [],
   "source": [
    "# 부모클래스와 차별성을 가지게 되는 부분에 주목할 것\n",
    "class Car(Vehicle):\n",
    "    def __init__(self, speed, brand):\n",
    "        super().__init__(speed) \n",
    "        self.brand = brand\n",
    "        \n",
    "    def go(self):\n",
    "        super().go()\n",
    "        print(f'차종은 {self.brand}')\n",
    "        \n",
    "    def stop(self): # 부모클래스에 없는 메소드(자식만 가지고 있음)\n",
    "        print('차가 멈춘다.')\n",
    "        # 자식은 가능, 부모는 불가능"
   ]
  },
  {
   "cell_type": "code",
   "execution_count": 82,
   "id": "38573a60-1c81-46bf-b45b-d0b2ee039fa1",
   "metadata": {},
   "outputs": [
    {
     "name": "stdout",
     "output_type": "stream",
     "text": [
      "15km/h의 속력으로 달린다.\n",
      "차종은 nissan\n",
      "차가 멈춘다.\n"
     ]
    }
   ],
   "source": [
    "car3 = Car('15km/h', 'nissan')\n",
    "car3.go()\n",
    "car3.stop()"
   ]
  },
  {
   "cell_type": "code",
   "execution_count": 89,
   "id": "431d496e-e441-4dd8-ae59-c04cf0ba8de5",
   "metadata": {},
   "outputs": [
    {
     "data": {
      "text/plain": [
       "'Person <- Doctor (상속)\\n          <- Female\\n          <- Male\\n'"
      ]
     },
     "execution_count": 89,
     "metadata": {},
     "output_type": "execute_result"
    }
   ],
   "source": [
    "### 실습:\n",
    "class Person:\n",
    "    # name\n",
    "    def __init__(self, name):\n",
    "        self.name = name\n",
    "class Doctor(Person):\n",
    "    # 'Dr.name'\n",
    "    def __init__(self, name):\n",
    "        super().__init__('Dr.'+ name) #f'\n",
    "class Male(Person):\n",
    "    # 'Mr.name'\n",
    "    def __init__(self, name):\n",
    "        super().__init__('Mr.'+name)\n",
    "class Female(Person):\n",
    "    # 'Mrs. name'\n",
    "    def __init__(self, name):\n",
    "        super().__init__('Mrs.'+name)\n",
    "    \n",
    "\"\"\"Person <- Doctor (상속)\n",
    "          <- Female\n",
    "          <- Male\n",
    "\"\"\""
   ]
  },
  {
   "cell_type": "code",
   "execution_count": 90,
   "id": "e5d5250f-440a-460b-8540-a5482bf4e03f",
   "metadata": {},
   "outputs": [
    {
     "data": {
      "text/plain": [
       "'Dr.suhyun'"
      ]
     },
     "execution_count": 90,
     "metadata": {},
     "output_type": "execute_result"
    }
   ],
   "source": [
    "Doctor('suhyun').name"
   ]
  },
  {
   "cell_type": "code",
   "execution_count": 91,
   "id": "978d8c99-55ba-42c8-99df-2e7ca6cb0b43",
   "metadata": {},
   "outputs": [
    {
     "data": {
      "text/plain": [
       "'Mr.suhyun'"
      ]
     },
     "execution_count": 91,
     "metadata": {},
     "output_type": "execute_result"
    }
   ],
   "source": [
    "Male('suhyun').name"
   ]
  },
  {
   "cell_type": "code",
   "execution_count": 92,
   "id": "99e34ce9-8e83-4b7d-a938-2ce61c81d685",
   "metadata": {},
   "outputs": [
    {
     "data": {
      "text/plain": [
       "'Mrs.suhyun'"
      ]
     },
     "execution_count": 92,
     "metadata": {},
     "output_type": "execute_result"
    }
   ],
   "source": [
    "Female('suhyun').name"
   ]
  },
  {
   "cell_type": "markdown",
   "id": "e869716a-7a85-4ce6-b171-3e595e3fb026",
   "metadata": {},
   "source": [
    "### 다중 상속\n",
    "- method resolution order(MRO)\n",
    "-\n",
    "Animal <- Horse\n",
    "       <- Donkey\n",
    "                <- Mule (donkey > horse) # donkey의 성격이 더 강함\n",
    "                <- Hinny (horse > donkey) # horse의 성격이 더 강함           "
   ]
  },
  {
   "cell_type": "code",
   "execution_count": 94,
   "id": "c757dc39-f7c3-4567-873c-9d70d350b001",
   "metadata": {},
   "outputs": [],
   "source": [
    "class Animal:\n",
    "    def says(self):\n",
    "        return '동물이 운다'\n",
    "\n",
    "# ---------------------- child\n",
    "class Horse(Animal):\n",
    "    def says(self):\n",
    "        return '히히힝'\n",
    "    \n",
    "class Donkey(Animal):\n",
    "    def says(self):\n",
    "        return '히이호'\n",
    "# ---------------------- grandchild    \n",
    "class Mule(Donkey, Horse):\n",
    "    pass\n",
    "\n",
    "class Hinny(Horse, Donkey):\n",
    "    pass\n",
    "# 순서가 중요- 먼저 쓰인게 더 가깝다"
   ]
  },
  {
   "cell_type": "code",
   "execution_count": 29,
   "id": "e596be81-cd64-472b-b713-047e8d648c5e",
   "metadata": {},
   "outputs": [
    {
     "data": {
      "text/plain": [
       "'히이호'"
      ]
     },
     "execution_count": 29,
     "metadata": {},
     "output_type": "execute_result"
    }
   ],
   "source": [
    "Mule().says()"
   ]
  },
  {
   "cell_type": "code",
   "execution_count": 30,
   "id": "274c2a07-6169-4a49-946b-cb7d360ae506",
   "metadata": {},
   "outputs": [
    {
     "data": {
      "text/plain": [
       "'히히힝'"
      ]
     },
     "execution_count": 30,
     "metadata": {},
     "output_type": "execute_result"
    }
   ],
   "source": [
    "Hinny().says()"
   ]
  },
  {
   "cell_type": "code",
   "execution_count": 95,
   "id": "09323584-bbae-4fc0-a848-9cc821dd24d2",
   "metadata": {},
   "outputs": [
    {
     "data": {
      "text/plain": [
       "[__main__.Mule, __main__.Donkey, __main__.Horse, __main__.Animal, object]"
      ]
     },
     "execution_count": 95,
     "metadata": {},
     "output_type": "execute_result"
    }
   ],
   "source": [
    "Mule.mro() # 가까운 순서대로 나옴"
   ]
  },
  {
   "cell_type": "markdown",
   "id": "330964e4-59e9-4b69-9652-30c4052f9fab",
   "metadata": {},
   "source": [
    "### 다형성, duck typing"
   ]
  },
  {
   "cell_type": "code",
   "execution_count": 96,
   "id": "81b8f6a8-30c6-4d43-9706-1cb7f501cb8c",
   "metadata": {},
   "outputs": [
    {
     "name": "stdout",
     "output_type": "stream",
     "text": [
      "동물이 운다\n",
      "히히힝\n",
      "히이호\n"
     ]
    }
   ],
   "source": [
    "for animal in [Animal(), Horse(), Mule()]:\n",
    "    print(animal.says()) # 각각을 돌면서 코드를 탈 수 있음"
   ]
  },
  {
   "cell_type": "markdown",
   "id": "56dee3ff-c56c-455f-98d2-3de943e85382",
   "metadata": {},
   "source": [
    "### 메서드\n",
    "- 인스턴스 메서드: \n",
    "    - 첫 번째 인수가 self인 메서드\n",
    "    - 우리가 지금까지 배운 메서드\n",
    "    - 객체 생성 -> 사용 가능\n",
    "- 클래스 메서드:\n",
    "    - 객체마다 달라지지 않음 \n",
    "    - 모든 객체가 공유하는 (클래스)변수, (클래스)메소드\n",
    "    - cls\n",
    "    - 데코레이터 @classmethos사용한다.\n",
    "    - 객체 생성하지 않고 메서드에 접근 가능\n",
    "- 정적 메서드:\n",
    "    - 1번째 인수가 self아님\n",
    "    - 클래스나 인스턴스에 접근하지 않는 메서드\n",
    "    - 비슷한 유틸리티라서 클래스 내에 묶어둘 때 사용한다.\n",
    "    - 객체 생성하지 않고 메서드 접근 가능\n",
    "    - @staticmethod\n",
    "- 추상 메서드:\n",
    "    - abstract\n",
    "    - @abstractmethod"
   ]
  },
  {
   "cell_type": "code",
   "execution_count": 97,
   "id": "8ea9c290-630d-4f1c-af7f-09403e450a61",
   "metadata": {},
   "outputs": [
    {
     "data": {
      "text/plain": [
       "'히히힝'"
      ]
     },
     "execution_count": 97,
     "metadata": {},
     "output_type": "execute_result"
    }
   ],
   "source": [
    "h = Hinny() # 객체 생성\n",
    "h.says()\n",
    "# 인스턴스 메서드"
   ]
  },
  {
   "cell_type": "code",
   "execution_count": 100,
   "id": "0609c149-4d90-4e21-a7af-e43cbea88999",
   "metadata": {},
   "outputs": [],
   "source": [
    "# 클래스 메서드\n",
    "class A:\n",
    "    cnt = 0\n",
    "    \n",
    "    @classmethod\n",
    "    def move(cls): #self, super,cls\n",
    "        print(cls.cnt) #클래스에 접근하는 것이므로 self가 아니라 cls"
   ]
  },
  {
   "cell_type": "code",
   "execution_count": 101,
   "id": "da695fdc-578d-4792-90fe-332b41e7288b",
   "metadata": {},
   "outputs": [
    {
     "name": "stdout",
     "output_type": "stream",
     "text": [
      "0\n"
     ]
    }
   ],
   "source": [
    "A().move()"
   ]
  },
  {
   "cell_type": "code",
   "execution_count": 102,
   "id": "c7d593f6-f5f4-47a2-a880-f1fee560c388",
   "metadata": {},
   "outputs": [],
   "source": [
    "class B:\n",
    "    cnt = 0\n",
    "    def __init__(self):\n",
    "        B.cnt +=1\n",
    "   \n",
    "    # class method\n",
    "    @classmethod\n",
    "    def count(cls):\n",
    "        print(cls.cnt)\n",
    "        # 객체가 생성될 때마다 횟수 증가해서 프린트하기      "
   ]
  },
  {
   "cell_type": "code",
   "execution_count": 103,
   "id": "97d29152-2b78-4af2-bbd9-6d0722c1b86e",
   "metadata": {},
   "outputs": [
    {
     "name": "stdout",
     "output_type": "stream",
     "text": [
      "4\n"
     ]
    }
   ],
   "source": [
    "B()\n",
    "B()\n",
    "B()\n",
    "B().count()"
   ]
  },
  {
   "cell_type": "code",
   "execution_count": 108,
   "id": "27ecc8f1-63ac-4d54-877c-39f2e47c2c12",
   "metadata": {},
   "outputs": [],
   "source": [
    "class Person:\n",
    "    def __init__(self, name, age):\n",
    "        self.name = name\n",
    "        self.age = age\n",
    "        \n",
    "    @classmethod\n",
    "    def tuple_object(cls, args):\n",
    "        # 튜플로 인자를 받아서 객체 생성하는 메서드 만들기\n",
    "        return cls(args[0], args[1]) #name,age\n",
    "    \n",
    "name = 'hong'\n",
    "age = 24\n",
    "\n",
    "p = Person(name, age)\n",
    "\n",
    "info = name, age\n",
    "p = Person.tuple_object(info) # 객체 생성하지 않고 메서드에 접근함\n",
    "# 클래스이어서 객체 생성하지 않음"
   ]
  },
  {
   "cell_type": "code",
   "execution_count": 105,
   "id": "9510bc37-a8f4-4232-a364-f2b94d352939",
   "metadata": {},
   "outputs": [
    {
     "data": {
      "text/plain": [
       "'hong'"
      ]
     },
     "execution_count": 105,
     "metadata": {},
     "output_type": "execute_result"
    }
   ],
   "source": [
    "p.name"
   ]
  },
  {
   "cell_type": "code",
   "execution_count": 106,
   "id": "47cc2c76-1032-46c9-b0b7-7a20ce57d950",
   "metadata": {},
   "outputs": [
    {
     "data": {
      "text/plain": [
       "24"
      ]
     },
     "execution_count": 106,
     "metadata": {},
     "output_type": "execute_result"
    }
   ],
   "source": [
    "p.age"
   ]
  },
  {
   "cell_type": "code",
   "execution_count": 111,
   "id": "eeef1c60-b4cb-4596-ae09-90988598a50f",
   "metadata": {},
   "outputs": [
    {
     "data": {
      "text/plain": [
       "'hi'"
      ]
     },
     "execution_count": 111,
     "metadata": {},
     "output_type": "execute_result"
    }
   ],
   "source": [
    "#@staticmethod\n",
    "class Coyote:\n",
    "    \n",
    "    @staticmethod\n",
    "    def says(): # self 없음\n",
    "        return 'hi'\n",
    "    \n",
    "Coyote.says()\n",
    "# 외부에서도 쉽게 쓸 수 있다"
   ]
  },
  {
   "cell_type": "code",
   "execution_count": 113,
   "id": "e01067b5-d876-4a1d-80b0-a891c6c74700",
   "metadata": {},
   "outputs": [
    {
     "ename": "TypeError",
     "evalue": "says() missing 1 required positional argument: 'cry'",
     "output_type": "error",
     "traceback": [
      "\u001b[1;31m---------------------------------------------------------------------------\u001b[0m",
      "\u001b[1;31mTypeError\u001b[0m                                 Traceback (most recent call last)",
      "\u001b[1;32m~\\AppData\\Local\\Temp/ipykernel_17964/527395953.py\u001b[0m in \u001b[0;36m<module>\u001b[1;34m\u001b[0m\n\u001b[0;32m      4\u001b[0m     \u001b[1;32mdef\u001b[0m \u001b[0msays\u001b[0m\u001b[1;33m(\u001b[0m\u001b[0mcry\u001b[0m\u001b[1;33m)\u001b[0m\u001b[1;33m:\u001b[0m\u001b[1;33m\u001b[0m\u001b[1;33m\u001b[0m\u001b[0m\n\u001b[0;32m      5\u001b[0m         \u001b[1;32mreturn\u001b[0m \u001b[1;34m'hi'\u001b[0m \u001b[1;33m+\u001b[0m \u001b[0mcry\u001b[0m\u001b[1;33m\u001b[0m\u001b[1;33m\u001b[0m\u001b[0m\n\u001b[1;32m----> 6\u001b[1;33m \u001b[0mCoyote\u001b[0m\u001b[1;33m.\u001b[0m\u001b[0msays\u001b[0m\u001b[1;33m(\u001b[0m\u001b[1;33m)\u001b[0m\u001b[1;33m\u001b[0m\u001b[1;33m\u001b[0m\u001b[0m\n\u001b[0m\u001b[0;32m      7\u001b[0m \u001b[1;31m# class랑은 연관없음 self를 쓰지 않는다\u001b[0m\u001b[1;33m\u001b[0m\u001b[1;33m\u001b[0m\u001b[0m\n",
      "\u001b[1;31mTypeError\u001b[0m: says() missing 1 required positional argument: 'cry'"
     ]
    }
   ],
   "source": [
    "class Coyote:\n",
    "    \n",
    "    @staticmethod\n",
    "    def says(cry):\n",
    "        return 'hi' + cry\n",
    "Coyote.says()\n",
    "# class랑은 연관없음 self를 쓰지 않는다"
   ]
  },
  {
   "cell_type": "code",
   "execution_count": 114,
   "id": "d0fafe87-c3a8-493c-b79d-b2a2c3d1ca06",
   "metadata": {},
   "outputs": [],
   "source": [
    "# 추상 메서드\n",
    "from abc import * \n",
    "\n",
    "class Vehicle(metaclass = ABCMeta): #추상 클래스\n",
    "    # 변수에 뭘 넣을지 정의하기\n",
    "    speed = '속도'\n",
    "    \n",
    "    # 자식 클래스가 오버라이드해야 하는 메서드 정의, 구체화하지 않는다.\n",
    "    @abstractmethod\n",
    "    def drive(self):\n",
    "        print('교통수단에 관하여') # 보통은 pass를 함\n",
    "        \n",
    "    def stop(self):\n",
    "        pass\n",
    "    \n",
    "    def go(self):\n",
    "        pass\n",
    "        \n",
    "class Car(Vehicle):\n",
    "    def drive(self):\n",
    "        return super().speed\n",
    "    # 재정의가 필요하다"
   ]
  },
  {
   "cell_type": "markdown",
   "id": "3b1d32cc-1979-4db7-a591-05f63cfc5a1b",
   "metadata": {},
   "source": [
    "### 매직매서드\n",
    "- __init__ : special method # 일반적으로 정의할 땐 쓰지말기\n",
    "\n",
    "- object 클래스 메서드 재정의하는 것\n",
    "- __str__\n",
    "- __repr__"
   ]
  },
  {
   "cell_type": "code",
   "execution_count": 122,
   "id": "b3d3aaeb-488a-4ac6-b50e-e3601027d978",
   "metadata": {},
   "outputs": [],
   "source": [
    "class Person:\n",
    "    def __init__(self, name):\n",
    "        self.name = name\n",
    "    def __str__(self):\n",
    "        # 인스턴스를 스트링으로 출력: 이름, 메모리주소\n",
    "        # print(인스턴스)했을 때 출력되는 값\n",
    "        return self.name\n",
    "    def __repr__(self):\n",
    "        # 사용자가 이해할 수 있게 객체를 출력하고 싶을 때 사용한다.\n",
    "        return f'Person({self.name})'"
   ]
  },
  {
   "cell_type": "code",
   "execution_count": 123,
   "id": "1208e1d1-9301-446f-92e2-f8f19cdb6475",
   "metadata": {},
   "outputs": [],
   "source": [
    "p = Person('lee')"
   ]
  },
  {
   "cell_type": "code",
   "execution_count": 124,
   "id": "9493e9ba-e0eb-4486-b108-cd76eb5cae38",
   "metadata": {},
   "outputs": [
    {
     "data": {
      "text/plain": [
       "Person(lee)"
      ]
     },
     "execution_count": 124,
     "metadata": {},
     "output_type": "execute_result"
    }
   ],
   "source": [
    "p"
   ]
  },
  {
   "cell_type": "code",
   "execution_count": 125,
   "id": "1a320fe8-2a83-40ec-8ead-b60448a31069",
   "metadata": {},
   "outputs": [
    {
     "name": "stdout",
     "output_type": "stream",
     "text": [
      "lee\n"
     ]
    }
   ],
   "source": [
    "print(p)"
   ]
  },
  {
   "cell_type": "code",
   "execution_count": 126,
   "id": "d62a94be-3c44-4b20-8cd4-037aad25654f",
   "metadata": {},
   "outputs": [
    {
     "data": {
      "text/plain": [
       "'Person(lee)'"
      ]
     },
     "execution_count": 126,
     "metadata": {},
     "output_type": "execute_result"
    }
   ],
   "source": [
    "repr(p)"
   ]
  },
  {
   "cell_type": "markdown",
   "id": "c67cdfbd-7633-4dcf-8d8c-1d82662b3928",
   "metadata": {},
   "source": [
    "### namedtuple, dateclass\n",
    "- 변수만 있는 클래스 설정할 때 더 효율적으로 사용하는 수단\n",
    "- 딕셔너리 키와 같은 기능\n",
    "- 불변 객체"
   ]
  },
  {
   "cell_type": "code",
   "execution_count": 128,
   "id": "4b6c8790-25ab-41ac-81ca-91a6d38b9a02",
   "metadata": {},
   "outputs": [],
   "source": [
    "from collections import namedtuple\n",
    "\n",
    "Person = namedtuple('Person', 'name age')\n",
    "a = Person('kim', 33)"
   ]
  },
  {
   "cell_type": "code",
   "execution_count": 129,
   "id": "c5aee5f3-38f6-47fe-844e-0c37d6dcf985",
   "metadata": {},
   "outputs": [
    {
     "data": {
      "text/plain": [
       "'kim'"
      ]
     },
     "execution_count": 129,
     "metadata": {},
     "output_type": "execute_result"
    }
   ],
   "source": [
    "a.name"
   ]
  },
  {
   "cell_type": "code",
   "execution_count": 130,
   "id": "2bb8529e-cffc-41eb-a35b-4d2c933fc3c1",
   "metadata": {},
   "outputs": [
    {
     "data": {
      "text/plain": [
       "33"
      ]
     },
     "execution_count": 130,
     "metadata": {},
     "output_type": "execute_result"
    }
   ],
   "source": [
    "a.age"
   ]
  },
  {
   "cell_type": "code",
   "execution_count": 132,
   "id": "4d823b55-4e21-4045-bbee-7b75a8d9ba6f",
   "metadata": {},
   "outputs": [],
   "source": [
    "b = a._replace(name = 'lee')"
   ]
  },
  {
   "cell_type": "code",
   "execution_count": 133,
   "id": "60d2fb03-fb23-4e20-bf12-00c388bef60c",
   "metadata": {},
   "outputs": [],
   "source": [
    "from dataclasses import dataclass\n",
    "\n",
    "@dataclass\n",
    "class Person:\n",
    "    name: str\n",
    "    age: int"
   ]
  },
  {
   "cell_type": "code",
   "execution_count": 134,
   "id": "6ba3e0fc-b292-4fbd-b774-82fd007358ec",
   "metadata": {},
   "outputs": [],
   "source": [
    "a = Person('kim', 33)"
   ]
  },
  {
   "cell_type": "code",
   "execution_count": 135,
   "id": "ce641216-ec99-4917-bda7-f9b043807d1b",
   "metadata": {},
   "outputs": [
    {
     "data": {
      "text/plain": [
       "33"
      ]
     },
     "execution_count": 135,
     "metadata": {},
     "output_type": "execute_result"
    }
   ],
   "source": [
    "a.age"
   ]
  },
  {
   "cell_type": "code",
   "execution_count": 136,
   "id": "2835d6e3-5813-4c60-9b4b-d0bdcd097871",
   "metadata": {},
   "outputs": [
    {
     "data": {
      "text/plain": [
       "'kim'"
      ]
     },
     "execution_count": 136,
     "metadata": {},
     "output_type": "execute_result"
    }
   ],
   "source": [
    "a.name"
   ]
  }
 ],
 "metadata": {
  "kernelspec": {
   "display_name": "Python 3 (ipykernel)",
   "language": "python",
   "name": "python3"
  },
  "language_info": {
   "codemirror_mode": {
    "name": "ipython",
    "version": 3
   },
   "file_extension": ".py",
   "mimetype": "text/x-python",
   "name": "python",
   "nbconvert_exporter": "python",
   "pygments_lexer": "ipython3",
   "version": "3.9.7"
  }
 },
 "nbformat": 4,
 "nbformat_minor": 5
}
