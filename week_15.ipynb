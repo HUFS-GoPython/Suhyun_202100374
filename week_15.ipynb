{
 "cells": [
  {
   "cell_type": "markdown",
   "id": "e342f561-0c90-45ab-8fa9-28cbb6ac243f",
   "metadata": {},
   "source": [
    "### 파일과 디렉터리\n",
    "- 파일: 컴퓨터를 실행할 때 가장 기본이 되는 단위\n",
    "- 디렉터리: 폴더, 파일을 논리적으로 묶어놓은 단위\n",
    "    - 지빠구리: a, b, c,...\n",
    "- 파일 = 파일명 + 확장자(.txt, csv, ...)\n",
    "- 바이너리, 텍스트\n",
    "    - 바이너리: 엑셀, 워드, ...\n",
    "    - 텍스트: 바이너리 -> 문자로 변환\n",
    "        - 메모장, python, html, ...\n",
    "        - 기준: 아스키코드, 유니코드 제정 (\"인코딩\")\n",
    "        - utf-8 (한국에서 주로 사용)\n",
    "        - cp494 (윈도우의 경우 가능)"
   ]
  },
  {
   "cell_type": "markdown",
   "id": "991e4a6d-43fc-4997-9801-fe7e53d7c134",
   "metadata": {},
   "source": [
    "f = open(파일명, 모드)\n",
    "    - r: read (default)\n",
    "    - w: write (없으면 새로 만들고 있으면 덮어쓴다)\n",
    "    - a: add (기존 파일에 마지막에 추가)\n",
    "    - x: write (없을 때만 쓸 수 있게)\n",
    "    \n",
    "    - b: 바이너리(많이 안씀)\n",
    "    - t:(default) 텍스트\n",
    "        - rb, rt, ..."
   ]
  },
  {
   "cell_type": "code",
   "execution_count": 9,
   "id": "b63eaa47-6445-4c1e-8a3f-aec0581eaeb9",
   "metadata": {},
   "outputs": [],
   "source": [
    "f = open('test.txt', 'r')\n",
    "data = f.read(10)\n",
    "# 파일 열기"
   ]
  },
  {
   "cell_type": "code",
   "execution_count": 10,
   "id": "fb75758e-b193-4af3-9447-746f84da9091",
   "metadata": {},
   "outputs": [
    {
     "data": {
      "text/plain": [
       "'hello worl'"
      ]
     },
     "execution_count": 10,
     "metadata": {},
     "output_type": "execute_result"
    }
   ],
   "source": [
    "data"
   ]
  },
  {
   "cell_type": "code",
   "execution_count": 4,
   "id": "35fd19e5-7b71-4347-bd3e-5a1105c83ef6",
   "metadata": {},
   "outputs": [
    {
     "data": {
      "text/plain": [
       "''"
      ]
     },
     "execution_count": 4,
     "metadata": {},
     "output_type": "execute_result"
    }
   ],
   "source": [
    "f.read()\n",
    "f.read(10)\n",
    "# read는 개수도 지정할 수 있음 앞에 10개 읽음\n",
    "# 이후 또 10 쓰면 이어서 10개 나옴"
   ]
  },
  {
   "cell_type": "code",
   "execution_count": 11,
   "id": "3fa7d7dd-b2f9-48e8-98fb-10113c3d2a05",
   "metadata": {},
   "outputs": [],
   "source": [
    "data = f.read()\n",
    "f.close()\n",
    "# 파일은 열면 닫아줘야함\n",
    "# 자원 해제 -> 다른 프로그램에서 동시에 호출하면 에러남"
   ]
  },
  {
   "cell_type": "markdown",
   "id": "6dff95d6-f0e3-49b0-8d66-086f0124aa9f",
   "metadata": {},
   "source": [
    "with open(파일, 모드) as f:\n",
    "    ....open 함수 기능이 유지되는 블록\n",
    "    data = f.read()\n",
    "    \n",
    "자원해제됨(자동)\n",
    "#close 안써도 된다"
   ]
  },
  {
   "cell_type": "code",
   "execution_count": 6,
   "id": "7f6174ae-23e2-40dd-a8b3-018a1877447a",
   "metadata": {},
   "outputs": [
    {
     "data": {
      "text/plain": [
       "<function TextIOWrapper.read(size=-1, /)>"
      ]
     },
     "execution_count": 6,
     "metadata": {},
     "output_type": "execute_result"
    }
   ],
   "source": [
    "with open('test.txt', 'r') as f:\n",
    "    data = f.read\n",
    "data"
   ]
  },
  {
   "cell_type": "code",
   "execution_count": 7,
   "id": "0a03fbe1-00b7-418c-a584-6b5e36b35ae6",
   "metadata": {},
   "outputs": [
    {
     "data": {
      "text/plain": [
       "<function TextIOWrapper.readline(size=-1, /)>"
      ]
     },
     "execution_count": 7,
     "metadata": {},
     "output_type": "execute_result"
    }
   ],
   "source": [
    "with open('test.txt', 'r') as f:\n",
    "    data = f.readline\n",
    "data"
   ]
  },
  {
   "cell_type": "code",
   "execution_count": 13,
   "id": "f5e537ac-f79c-461d-bfb4-565d0f0f6239",
   "metadata": {},
   "outputs": [
    {
     "data": {
      "text/plain": [
       "['hello world']"
      ]
     },
     "execution_count": 13,
     "metadata": {},
     "output_type": "execute_result"
    }
   ],
   "source": [
    "with open('test.txt', 'r') as f:\n",
    "    data = f.readlines()\n",
    "    # 텍스트 정제\n",
    "    data = [line.strip() for line in data]\n",
    "data"
   ]
  },
  {
   "cell_type": "code",
   "execution_count": 8,
   "id": "1814ccbf-0eff-4ec7-a18d-356c84e2e595",
   "metadata": {},
   "outputs": [],
   "source": [
    "# read(): str\n",
    "# readline(): 한줄씩\n",
    "# readlines(): 전체를 한줄씩 str 담아서 리스트로"
   ]
  },
  {
   "cell_type": "code",
   "execution_count": 9,
   "id": "40ed8b07-a36f-495b-afd9-0b2cffa84c00",
   "metadata": {},
   "outputs": [
    {
     "ename": "FileNotFoundError",
     "evalue": "[Errno 2] No such file or directory: 'text2.txt'",
     "output_type": "error",
     "traceback": [
      "\u001b[1;31m---------------------------------------------------------------------------\u001b[0m",
      "\u001b[1;31mFileNotFoundError\u001b[0m                         Traceback (most recent call last)",
      "\u001b[1;32m~\\AppData\\Local\\Temp/ipykernel_19296/557995884.py\u001b[0m in \u001b[0;36m<module>\u001b[1;34m\u001b[0m\n\u001b[0;32m      1\u001b[0m \u001b[0mfile\u001b[0m \u001b[1;33m=\u001b[0m \u001b[1;34m'text2.txt'\u001b[0m\u001b[1;33m\u001b[0m\u001b[1;33m\u001b[0m\u001b[0m\n\u001b[1;32m----> 2\u001b[1;33m \u001b[1;32mwith\u001b[0m \u001b[0mopen\u001b[0m\u001b[1;33m(\u001b[0m\u001b[0mfile\u001b[0m\u001b[1;33m)\u001b[0m \u001b[1;32mas\u001b[0m \u001b[0mf\u001b[0m\u001b[1;33m:\u001b[0m\u001b[1;33m\u001b[0m\u001b[1;33m\u001b[0m\u001b[0m\n\u001b[0m\u001b[0;32m      3\u001b[0m     \u001b[0mf\u001b[0m\u001b[1;33m.\u001b[0m\u001b[0mread\u001b[0m\u001b[1;33m(\u001b[0m\u001b[1;33m)\u001b[0m\u001b[1;33m\u001b[0m\u001b[1;33m\u001b[0m\u001b[0m\n\u001b[0;32m      4\u001b[0m \u001b[1;31m# 경로를 맞추어야함 . 활용\u001b[0m\u001b[1;33m\u001b[0m\u001b[1;33m\u001b[0m\u001b[0m\n",
      "\u001b[1;31mFileNotFoundError\u001b[0m: [Errno 2] No such file or directory: 'text2.txt'"
     ]
    }
   ],
   "source": [
    "file = 'text2.txt'\n",
    "with open(file) as f:\n",
    "    f.read()\n",
    "# 경로를 맞추어야함 . 활용"
   ]
  },
  {
   "cell_type": "code",
   "execution_count": null,
   "id": "c0afaffe-9cc9-4751-82a1-343e439a54b6",
   "metadata": {},
   "outputs": [],
   "source": [
    "file = '../text2.txt'\n",
    "with open(file) as f:\n",
    "    f.read()\n",
    "# 경로를 맞추어야함 . 활용"
   ]
  },
  {
   "cell_type": "code",
   "execution_count": 10,
   "id": "e612d3d2-cf25-4252-97aa-3f7a870134e7",
   "metadata": {},
   "outputs": [],
   "source": [
    "# .: 현재 위치\n",
    "# ..: 상위 디렉터리"
   ]
  },
  {
   "cell_type": "markdown",
   "id": "611399c5-cd8b-4a79-a0c0-381279b2439b",
   "metadata": {},
   "source": [
    "### 쓰기"
   ]
  },
  {
   "cell_type": "code",
   "execution_count": 18,
   "id": "c8806e44-cfde-4693-aaa4-2fdc7b306640",
   "metadata": {},
   "outputs": [],
   "source": [
    "file = 'test3.txt'\n",
    "f = open(file, 'w', encoding = 'utf-8')\n",
    "# 모드를 w로, encoding으로 해야 안전\n",
    "# 없으면 만들고 있으면 덮어쓴다"
   ]
  },
  {
   "cell_type": "code",
   "execution_count": 16,
   "id": "55bc4d78-9e25-4bf7-98f8-8ba84f40ac18",
   "metadata": {},
   "outputs": [],
   "source": [
    "for i in range(10):\n",
    "    data = f'{i}번째 줄입니다.\\n'\n",
    "    f.write(data)"
   ]
  },
  {
   "cell_type": "code",
   "execution_count": 17,
   "id": "42899b35-3561-4d56-bbbe-a4d1126bd848",
   "metadata": {},
   "outputs": [],
   "source": [
    "f.close()"
   ]
  },
  {
   "cell_type": "code",
   "execution_count": 19,
   "id": "7f5f5cdb-56d5-43b4-8e01-10a4a2997f80",
   "metadata": {},
   "outputs": [],
   "source": [
    "f = open(file, 'a')\n",
    "print('새로운 줄 추가', file = f)\n",
    "# print이용해서 쓰기"
   ]
  },
  {
   "cell_type": "code",
   "execution_count": 20,
   "id": "24c5ff6c-09d6-4488-bb7c-5a63b9da429e",
   "metadata": {},
   "outputs": [],
   "source": [
    "f.close()"
   ]
  },
  {
   "cell_type": "markdown",
   "id": "e8c49281-57bd-4335-899c-6ac1469f751e",
   "metadata": {},
   "source": [
    "### 다른 디렉토리에 파일 쓰기\n",
    "os"
   ]
  },
  {
   "cell_type": "code",
   "execution_count": 23,
   "id": "1eaa9674-a020-4969-8b4f-bdc1a84d3005",
   "metadata": {},
   "outputs": [],
   "source": [
    "import os"
   ]
  },
  {
   "cell_type": "code",
   "execution_count": 31,
   "id": "dbf36c0e-b9d4-4bdf-8af0-1f28a00a63c5",
   "metadata": {},
   "outputs": [],
   "source": [
    "file = './folder1/test3.txt' # / 필요함\n",
    "f = open(file, 'w', encoding = 'utf-8')\n",
    "f.close()\n",
    "# 밑에서 만들어줘서 에러가 안나는 것임 "
   ]
  },
  {
   "cell_type": "code",
   "execution_count": 25,
   "id": "1cc09bf9-7aeb-481a-94fd-a0324c907363",
   "metadata": {},
   "outputs": [],
   "source": [
    "# folder 만들고\n",
    "os.mkdir('folder1') # 원히는 directory 넣기\n",
    "# 파일 쓰기"
   ]
  },
  {
   "cell_type": "code",
   "execution_count": 29,
   "id": "6d47c623-6f6e-4420-9224-1a97bde85b00",
   "metadata": {},
   "outputs": [
    {
     "data": {
      "text/plain": [
       "True"
      ]
     },
     "execution_count": 29,
     "metadata": {},
     "output_type": "execute_result"
    }
   ],
   "source": [
    "# 없을 때 만들어라\n",
    "if not os.path.isdir('folder1'):\n",
    "    os.mkdir('folder1')\n",
    "os.path.exists(file) # assert"
   ]
  },
  {
   "cell_type": "code",
   "execution_count": 32,
   "id": "ff9879e8-3db2-4324-9dd7-a5be44f5174f",
   "metadata": {},
   "outputs": [
    {
     "ename": "SyntaxError",
     "evalue": "invalid syntax (Temp/ipykernel_14060/865429071.py, line 2)",
     "output_type": "error",
     "traceback": [
      "\u001b[1;36m  File \u001b[1;32m\"C:\\Users\\user\\AppData\\Local\\Temp/ipykernel_14060/865429071.py\"\u001b[1;36m, line \u001b[1;32m2\u001b[0m\n\u001b[1;33m    0s.rmdir(dir_name) #디렉터리 지우고싶으면\u001b[0m\n\u001b[1;37m     ^\u001b[0m\n\u001b[1;31mSyntaxError\u001b[0m\u001b[1;31m:\u001b[0m invalid syntax\n"
     ]
    }
   ],
   "source": [
    "os.remove(file) # 파일 지우고 싶으면\n",
    "0s.rmdir(dir_name) #디렉터리 지우고싶으면"
   ]
  },
  {
   "cell_type": "code",
   "execution_count": 33,
   "id": "cbd3c6b7-9fb1-4660-93c9-f7c8f92780fe",
   "metadata": {},
   "outputs": [],
   "source": [
    "# folder: 하위폴더 새로 만들고\n",
    "# 파일 쓰기: 내용 아무거나\n",
    "# 열기"
   ]
  },
  {
   "cell_type": "code",
   "execution_count": 24,
   "id": "aeecf0aa-b7db-40b9-a11d-4786d9ac06fe",
   "metadata": {},
   "outputs": [],
   "source": [
    "os.rmdir('folder1')"
   ]
  },
  {
   "cell_type": "code",
   "execution_count": 35,
   "id": "7407592d-609a-429e-804b-6a9deab9edea",
   "metadata": {},
   "outputs": [],
   "source": [
    "import shutil\n",
    "shutil.rmtree('folder1')\n",
    "# 강제 삭제"
   ]
  },
  {
   "cell_type": "code",
   "execution_count": 38,
   "id": "67b28d7b-35d2-4480-a40b-d682ad33d73b",
   "metadata": {},
   "outputs": [
    {
     "data": {
      "text/plain": [
       "'C:\\\\Users\\\\user'"
      ]
     },
     "execution_count": 38,
     "metadata": {},
     "output_type": "execute_result"
    }
   ],
   "source": [
    "# 상위 폴더로 쓰고 싶다\n",
    "os.getcwd()"
   ]
  },
  {
   "cell_type": "code",
   "execution_count": 37,
   "id": "1ba2c701-cb3c-4576-8407-2301f68cb741",
   "metadata": {},
   "outputs": [],
   "source": [
    "os.chdir('..')\n",
    "# 하나 더 위로 가고싶을 때"
   ]
  },
  {
   "cell_type": "markdown",
   "id": "97123b0b-e669-4571-9c76-849ce22e7fbd",
   "metadata": {},
   "source": [
    "# pickle\n",
    "- 객체를 저장, 불러들일 수 있다.\n",
    "- 저장: pickle.dump(변수, 파일명)\n",
    "- 열 때: 변수명 = pickle.load(파일)"
   ]
  },
  {
   "cell_type": "code",
   "execution_count": 29,
   "id": "d491e018-e967-4368-b769-7a921752ae82",
   "metadata": {},
   "outputs": [],
   "source": [
    "import pickle"
   ]
  },
  {
   "cell_type": "code",
   "execution_count": 33,
   "id": "2e305f17-987f-4025-b087-2522ce7d268d",
   "metadata": {},
   "outputs": [],
   "source": [
    "f = open('test.pickle', 'wb')\n",
    "pickle.dump(num, f) # 저장 dump로 \n",
    "f.close()"
   ]
  },
  {
   "cell_type": "code",
   "execution_count": 34,
   "id": "5565ab1d-2009-48f6-9d75-086bc733c28c",
   "metadata": {},
   "outputs": [
    {
     "data": {
      "text/plain": [
       "[0, 1, 2, 3, 4, 5, 6, 7, 8, 9]"
      ]
     },
     "execution_count": 34,
     "metadata": {},
     "output_type": "execute_result"
    }
   ],
   "source": [
    "num = list(range(10))\n",
    "num"
   ]
  },
  {
   "cell_type": "code",
   "execution_count": null,
   "id": "0ee04635-2008-4427-be2d-7bfc22ec07c4",
   "metadata": {},
   "outputs": [],
   "source": []
  }
 ],
 "metadata": {
  "kernelspec": {
   "display_name": "Python 3 (ipykernel)",
   "language": "python",
   "name": "python3"
  },
  "language_info": {
   "codemirror_mode": {
    "name": "ipython",
    "version": 3
   },
   "file_extension": ".py",
   "mimetype": "text/x-python",
   "name": "python",
   "nbconvert_exporter": "python",
   "pygments_lexer": "ipython3",
   "version": "3.9.7"
  }
 },
 "nbformat": 4,
 "nbformat_minor": 5
}
