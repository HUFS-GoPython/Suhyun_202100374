{
 "cells": [
  {
   "cell_type": "code",
   "execution_count": 1,
   "id": "a739ebc8-cb2c-4e78-8fb7-f0d9df70aa2a",
   "metadata": {},
   "outputs": [
    {
     "name": "stdout",
     "output_type": "stream",
     "text": [
      "*** Introductory Examples for the NLTK Book ***\n",
      "Loading text1, ..., text9 and sent1, ..., sent9\n",
      "Type the name of the text or sentence to view it.\n",
      "Type: 'texts()' or 'sents()' to list the materials.\n",
      "text1: Moby Dick by Herman Melville 1851\n",
      "text2: Sense and Sensibility by Jane Austen 1811\n",
      "text3: The Book of Genesis\n",
      "text4: Inaugural Address Corpus\n",
      "text5: Chat Corpus\n",
      "text6: Monty Python and the Holy Grail\n",
      "text7: Wall Street Journal\n",
      "text8: Personals Corpus\n",
      "text9: The Man Who Was Thursday by G . K . Chesterton 1908\n"
     ]
    },
    {
     "data": {
      "text/plain": [
       "True"
      ]
     },
     "execution_count": 1,
     "metadata": {},
     "output_type": "execute_result"
    }
   ],
   "source": [
    "import nltk\n",
    "from nltk.book import *\n",
    "nltk.download(['book'], quiet = True)"
   ]
  },
  {
   "cell_type": "code",
   "execution_count": 3,
   "id": "04980ae6-9d0b-407f-8f79-d71b8a901177",
   "metadata": {},
   "outputs": [
    {
     "ename": "AttributeError",
     "evalue": "'set' object has no attribute 'startswith'",
     "output_type": "error",
     "traceback": [
      "\u001b[1;31m---------------------------------------------------------------------------\u001b[0m",
      "\u001b[1;31mAttributeError\u001b[0m                            Traceback (most recent call last)",
      "\u001b[1;32m~\\AppData\\Local\\Temp/ipykernel_8260/1238983695.py\u001b[0m in \u001b[0;36m<module>\u001b[1;34m\u001b[0m\n\u001b[0;32m      5\u001b[0m \u001b[0mwords\u001b[0m \u001b[1;33m=\u001b[0m \u001b[0mset\u001b[0m\u001b[1;33m(\u001b[0m\u001b[1;33m[\u001b[0m\u001b[0mwords\u001b[0m \u001b[1;32mfor\u001b[0m \u001b[0mwords\u001b[0m \u001b[1;32min\u001b[0m \u001b[0mtext2\u001b[0m\u001b[1;33m.\u001b[0m\u001b[0mtokens\u001b[0m \u001b[1;32mif\u001b[0m \u001b[0mwords\u001b[0m\u001b[1;33m.\u001b[0m\u001b[0mendswith\u001b[0m\u001b[1;33m(\u001b[0m\u001b[1;34m'ch'\u001b[0m\u001b[1;33m)\u001b[0m\u001b[1;33m]\u001b[0m\u001b[1;33m)\u001b[0m\u001b[1;33m\u001b[0m\u001b[1;33m\u001b[0m\u001b[0m\n\u001b[0;32m      6\u001b[0m \u001b[0mword\u001b[0m \u001b[1;33m=\u001b[0m \u001b[1;33m[\u001b[0m\u001b[0mword\u001b[0m\u001b[1;33m[\u001b[0m\u001b[1;36m0\u001b[0m\u001b[1;33m]\u001b[0m\u001b[1;33m.\u001b[0m\u001b[0mupper\u001b[0m\u001b[1;33m(\u001b[0m\u001b[1;33m)\u001b[0m \u001b[1;33m+\u001b[0m \u001b[1;34m'-'\u001b[0m\u001b[1;33m*\u001b[0m\u001b[1;33m(\u001b[0m\u001b[0mlen\u001b[0m\u001b[1;33m(\u001b[0m\u001b[0mword\u001b[0m\u001b[1;33m)\u001b[0m\u001b[1;33m-\u001b[0m\u001b[1;36m3\u001b[0m\u001b[1;33m)\u001b[0m \u001b[1;33m+\u001b[0m \u001b[1;34m'ch'\u001b[0m \u001b[1;32mfor\u001b[0m \u001b[0mword\u001b[0m \u001b[1;32min\u001b[0m \u001b[0mwords\u001b[0m\u001b[1;33m]\u001b[0m\u001b[1;33m\u001b[0m\u001b[1;33m\u001b[0m\u001b[0m\n\u001b[1;32m----> 7\u001b[1;33m \u001b[0mword_res\u001b[0m \u001b[1;33m=\u001b[0m \u001b[1;33m[\u001b[0m\u001b[0mres\u001b[0m \u001b[1;32mfor\u001b[0m \u001b[0mres\u001b[0m \u001b[1;32min\u001b[0m \u001b[0mwords\u001b[0m \u001b[1;32mif\u001b[0m \u001b[0mwords\u001b[0m\u001b[1;33m.\u001b[0m\u001b[0mstartswith\u001b[0m\u001b[1;33m(\u001b[0m\u001b[1;34m'ch'\u001b[0m\u001b[1;33m)\u001b[0m\u001b[1;33m]\u001b[0m\u001b[1;33m\u001b[0m\u001b[1;33m\u001b[0m\u001b[0m\n\u001b[0m\u001b[0;32m      8\u001b[0m \u001b[1;33m\u001b[0m\u001b[0m\n\u001b[0;32m      9\u001b[0m \u001b[0mprint\u001b[0m\u001b[1;33m(\u001b[0m\u001b[0mword\u001b[0m\u001b[1;33m,\u001b[0m \u001b[0mword_res\u001b[0m\u001b[1;33m)\u001b[0m\u001b[1;33m\u001b[0m\u001b[1;33m\u001b[0m\u001b[0m\n",
      "\u001b[1;32m~\\AppData\\Local\\Temp/ipykernel_8260/1238983695.py\u001b[0m in \u001b[0;36m<listcomp>\u001b[1;34m(.0)\u001b[0m\n\u001b[0;32m      5\u001b[0m \u001b[0mwords\u001b[0m \u001b[1;33m=\u001b[0m \u001b[0mset\u001b[0m\u001b[1;33m(\u001b[0m\u001b[1;33m[\u001b[0m\u001b[0mwords\u001b[0m \u001b[1;32mfor\u001b[0m \u001b[0mwords\u001b[0m \u001b[1;32min\u001b[0m \u001b[0mtext2\u001b[0m\u001b[1;33m.\u001b[0m\u001b[0mtokens\u001b[0m \u001b[1;32mif\u001b[0m \u001b[0mwords\u001b[0m\u001b[1;33m.\u001b[0m\u001b[0mendswith\u001b[0m\u001b[1;33m(\u001b[0m\u001b[1;34m'ch'\u001b[0m\u001b[1;33m)\u001b[0m\u001b[1;33m]\u001b[0m\u001b[1;33m)\u001b[0m\u001b[1;33m\u001b[0m\u001b[1;33m\u001b[0m\u001b[0m\n\u001b[0;32m      6\u001b[0m \u001b[0mword\u001b[0m \u001b[1;33m=\u001b[0m \u001b[1;33m[\u001b[0m\u001b[0mword\u001b[0m\u001b[1;33m[\u001b[0m\u001b[1;36m0\u001b[0m\u001b[1;33m]\u001b[0m\u001b[1;33m.\u001b[0m\u001b[0mupper\u001b[0m\u001b[1;33m(\u001b[0m\u001b[1;33m)\u001b[0m \u001b[1;33m+\u001b[0m \u001b[1;34m'-'\u001b[0m\u001b[1;33m*\u001b[0m\u001b[1;33m(\u001b[0m\u001b[0mlen\u001b[0m\u001b[1;33m(\u001b[0m\u001b[0mword\u001b[0m\u001b[1;33m)\u001b[0m\u001b[1;33m-\u001b[0m\u001b[1;36m3\u001b[0m\u001b[1;33m)\u001b[0m \u001b[1;33m+\u001b[0m \u001b[1;34m'ch'\u001b[0m \u001b[1;32mfor\u001b[0m \u001b[0mword\u001b[0m \u001b[1;32min\u001b[0m \u001b[0mwords\u001b[0m\u001b[1;33m]\u001b[0m\u001b[1;33m\u001b[0m\u001b[1;33m\u001b[0m\u001b[0m\n\u001b[1;32m----> 7\u001b[1;33m \u001b[0mword_res\u001b[0m \u001b[1;33m=\u001b[0m \u001b[1;33m[\u001b[0m\u001b[0mres\u001b[0m \u001b[1;32mfor\u001b[0m \u001b[0mres\u001b[0m \u001b[1;32min\u001b[0m \u001b[0mwords\u001b[0m \u001b[1;32mif\u001b[0m \u001b[0mwords\u001b[0m\u001b[1;33m.\u001b[0m\u001b[0mstartswith\u001b[0m\u001b[1;33m(\u001b[0m\u001b[1;34m'ch'\u001b[0m\u001b[1;33m)\u001b[0m\u001b[1;33m]\u001b[0m\u001b[1;33m\u001b[0m\u001b[1;33m\u001b[0m\u001b[0m\n\u001b[0m\u001b[0;32m      8\u001b[0m \u001b[1;33m\u001b[0m\u001b[0m\n\u001b[0;32m      9\u001b[0m \u001b[0mprint\u001b[0m\u001b[1;33m(\u001b[0m\u001b[0mword\u001b[0m\u001b[1;33m,\u001b[0m \u001b[0mword_res\u001b[0m\u001b[1;33m)\u001b[0m\u001b[1;33m\u001b[0m\u001b[1;33m\u001b[0m\u001b[0m\n",
      "\u001b[1;31mAttributeError\u001b[0m: 'set' object has no attribute 'startswith'"
     ]
    }
   ],
   "source": [
    "# 저번 과제 2번 다른 방법으로 풀어보기\n",
    "import nltk\n",
    "from nltk.book import *\n",
    "\n",
    "words = set([words for words in text2.tokens if words.endswith('ch')])\n",
    "word = [word[0].upper() + '-'*(len(word)-3) + 'ch' for word in words]\n",
    "word_res = [res for res in words if words.startswith('ch')]\n",
    "\n",
    "print(word, word_res)\n",
    "# 'ch'로 시작하는 단어를 그대로 출력하는 방법을 모르겠습니다."
   ]
  },
  {
   "cell_type": "markdown",
   "id": "86e8e429-96f0-4c10-a2c6-6d0fcf1ef5ee",
   "metadata": {},
   "source": [
    "## 반복문\n",
    "- for, while\n",
    "\n",
    "### while\n",
    "- 어떤 조건이 만족할 때까지 블록 수행(범위가 아니라 조건이 주어짐)\n",
    "- 해당 조건이 거짓이면 수행을 멈춘다\n",
    "    - 먼저 빠져나오는지 정확히 알아야한다\n",
    "- for + if\n",
    "### for vs. while\n",
    "- for loop:반복 횟수 정확히 알고, 반복 횟수 변하지 않을 때\n",
    "    - 예: 전체 학생 성적 산출\n",
    "- while loop: 반복 횟수 정확하지 않고, 어떤 조건을 만족시킬 때 프로그램 종료하고 싶다면 사용\n",
    "    - 예: 가위바위보로 이기면 종료"
   ]
  },
  {
   "cell_type": "code",
   "execution_count": 2,
   "id": "a463118d-7593-453c-835a-b323f4b1aaa3",
   "metadata": {},
   "outputs": [
    {
     "name": "stdout",
     "output_type": "stream",
     "text": [
      "0\n",
      "1\n",
      "2\n",
      "3\n",
      "4\n",
      "5\n",
      "6\n",
      "7\n",
      "8\n",
      "9\n"
     ]
    }
   ],
   "source": [
    "for i in range(10):\n",
    "    print(i)"
   ]
  },
  {
   "cell_type": "code",
   "execution_count": 14,
   "id": "ad588364-0ae8-490f-bd4a-770d3851698c",
   "metadata": {},
   "outputs": [],
   "source": [
    "# while i < 10:\n",
    "    # print(i)\n",
    "# 항상 i가 작아서 무한루프를 탄다-위에서 9라고 나타내줌\n",
    "# 조건을 주어야한다."
   ]
  },
  {
   "cell_type": "code",
   "execution_count": 15,
   "id": "20d00c25-27fc-4219-9f9e-6658a0415b11",
   "metadata": {},
   "outputs": [
    {
     "name": "stdout",
     "output_type": "stream",
     "text": [
      "0\n",
      "1\n",
      "2\n",
      "3\n",
      "4\n",
      "5\n",
      "6\n",
      "7\n",
      "8\n",
      "9\n"
     ]
    }
   ],
   "source": [
    "j = 0\n",
    "while j < 10:\n",
    "    print(j)\n",
    "    j += 1\n",
    "    # 변화하는 조건이 필요함\n",
    "    # 초기화도 필요"
   ]
  },
  {
   "cell_type": "code",
   "execution_count": 7,
   "id": "34f57461-63ca-49e3-accd-3511250af856",
   "metadata": {},
   "outputs": [
    {
     "name": "stdout",
     "output_type": "stream",
     "text": [
      "0\n",
      "1\n",
      "2\n",
      "3\n",
      "4\n"
     ]
    }
   ],
   "source": [
    "j = 0\n",
    "while j < 5: # 0,1,2,3,4\n",
    "    print(j) #0,1,2,3,4\n",
    "    j+=1 #1,2,3,4,5"
   ]
  },
  {
   "cell_type": "code",
   "execution_count": 8,
   "id": "3b1a663e-04dc-4c72-ab3b-657e29b3d9fb",
   "metadata": {},
   "outputs": [
    {
     "data": {
      "text/plain": [
       "5"
      ]
     },
     "execution_count": 8,
     "metadata": {},
     "output_type": "execute_result"
    }
   ],
   "source": [
    "# j값은?\n",
    "j"
   ]
  },
  {
   "cell_type": "code",
   "execution_count": 16,
   "id": "94547f42-9a9a-49f4-a38d-bdfc65bcd856",
   "metadata": {},
   "outputs": [
    {
     "name": "stdout",
     "output_type": "stream",
     "text": [
      "1\n",
      "2\n",
      "3\n",
      "4\n",
      "5\n"
     ]
    }
   ],
   "source": [
    "j = 0\n",
    "while j < 5:\n",
    "    j+=1\n",
    "    print(j)\n",
    "    # 위에와 값이 달라짐"
   ]
  },
  {
   "cell_type": "code",
   "execution_count": 27,
   "id": "3e81a860-13c5-408f-82d4-885fdbe0356b",
   "metadata": {},
   "outputs": [
    {
     "name": "stdout",
     "output_type": "stream",
     "text": [
      "a\n",
      "b\n",
      "c\n"
     ]
    }
   ],
   "source": [
    "characters = ['a', 'b', 'c']\n",
    "for ch in characters:\n",
    "    print(ch)"
   ]
  },
  {
   "cell_type": "code",
   "execution_count": 26,
   "id": "2ca4e9cb-0744-496f-81e2-98f4b0567ea4",
   "metadata": {},
   "outputs": [
    {
     "name": "stdout",
     "output_type": "stream",
     "text": [
      "a\n",
      "b\n",
      "c\n"
     ]
    }
   ],
   "source": [
    "# for문 while문으로 바꾸기\n",
    "ch = 0\n",
    "while ch < 3:\n",
    "    print(characters[ch])\n",
    "    ch += 1"
   ]
  },
  {
   "cell_type": "code",
   "execution_count": 28,
   "id": "4016b835-b651-4c20-8f74-9fcd8fc50892",
   "metadata": {},
   "outputs": [
    {
     "name": "stdout",
     "output_type": "stream",
     "text": [
      "a\n",
      "b\n",
      "c\n"
     ]
    }
   ],
   "source": [
    "# for문 while문으로 바꾸기2\n",
    "ch = 0\n",
    "while ch < len(characters):\n",
    "    print(characters[ch])\n",
    "    ch += 1\n",
    "# 리스트의 len()으로 들어가는 것이 더 정확하다."
   ]
  },
  {
   "cell_type": "markdown",
   "id": "80faea79-a2fc-479e-b1e0-b3164c8a1685",
   "metadata": {},
   "source": [
    "### 반복문의 제어\n",
    "- 의도치 않게 코드를 종료시킬 수 있기 때문에 되도록 사용하지 않는다.\n",
    "- break: 논리적으로 반복을 종료시키는 방법. break 시점을 잘 알아야 함.(중단하기)\n",
    "    - 어떤 내용을 확인하여 그것을 발견하면 종료하는 while문을 작성할 때 시용\n",
    "- else: 어떤 조건이 \"완전히\" 끝났을 때 한 번 더 실행하는 블록, break로 끝난 것과 구분할 수 있다.(brea 확인하기)\n",
    "    - while문이 모두 실행되었지만 발견하지 못하였을 때 while문이 실행\n",
    "- continue: 특정 조건을 건너뛰고 다음 조건을 수행함(건너뛰기)\n",
    "    - 반복문을 중단하고 싶지 않지만 몇몇 이유로 다음 반복을 건너뛰어야 할 때 사용"
   ]
  },
  {
   "cell_type": "markdown",
   "id": "82fdcb96-ffe0-4f84-8943-236430e25c04",
   "metadata": {},
   "source": [
    "#### range(): 숫자 시퀀스 생성하기\n",
    "- 리스트나 튜플 같은 자료구조를 생성하여 저장하지 않더라도 특정 범위 내에서 숫자 스트림 반환\n",
    "- 컴퓨터의 메모리를 전부 사용하지 않고, 프로그램의 충돌없이 아주 큰 범위를 생성 할 수 있게 해줌"
   ]
  },
  {
   "cell_type": "code",
   "execution_count": 2,
   "id": "37ef9978-182f-4a34-8203-5401c357bbb3",
   "metadata": {},
   "outputs": [
    {
     "name": "stdout",
     "output_type": "stream",
     "text": [
      "0\n",
      "1\n",
      "2\n",
      "3\n",
      "4\n"
     ]
    }
   ],
   "source": [
    "for i in range(10):\n",
    "    if i == 5: break\n",
    "    print(i)\n",
    "# 5에서 break여서 print를 안씀\n",
    "# i가 5일 때 break해라"
   ]
  },
  {
   "cell_type": "code",
   "execution_count": 30,
   "id": "97b16be0-5219-41a8-896f-5207e4e2f783",
   "metadata": {},
   "outputs": [
    {
     "name": "stdout",
     "output_type": "stream",
     "text": [
      "0\n",
      "1\n",
      "2\n",
      "3\n",
      "4\n"
     ]
    }
   ],
   "source": [
    "j =0\n",
    "while j <5: # 0, 1, 2, 3, 4\n",
    "    print(j)  # 0, 1, 2, 3, 4\n",
    "    if j ==4: break\n",
    "    j+=1  # 1, 2, 3, 4, 5\n",
    "# 만약 if문을 j += 1 밑에 쓴다면 하나가 덜 나오게 된다."
   ]
  },
  {
   "cell_type": "code",
   "execution_count": 19,
   "id": "4e8447be-4a8b-4328-b5a1-be2963370be0",
   "metadata": {},
   "outputs": [
    {
     "data": {
      "text/plain": [
       "4"
      ]
     },
     "execution_count": 19,
     "metadata": {},
     "output_type": "execute_result"
    }
   ],
   "source": [
    "j"
   ]
  },
  {
   "cell_type": "code",
   "execution_count": 34,
   "id": "71a885ac-5eb6-4999-966e-c49a0fd0865b",
   "metadata": {},
   "outputs": [
    {
     "name": "stdout",
     "output_type": "stream",
     "text": [
      "0\n",
      "1\n",
      "2\n",
      "3\n",
      "4\n"
     ]
    }
   ],
   "source": [
    "j =0\n",
    "while j <5: # 0, 1, 2, 3, 4\n",
    "    print(j)  # 0, 1, 2, 3, 4\n",
    "    if j ==4: break\n",
    "    j+=1  # 1, 2, 3, 4, 5\n",
    "else:\n",
    "    print(\"\")"
   ]
  },
  {
   "cell_type": "code",
   "execution_count": 33,
   "id": "a9b8083f-cb0c-4c20-bd78-ff80ee47da91",
   "metadata": {},
   "outputs": [
    {
     "name": "stdout",
     "output_type": "stream",
     "text": [
      "0\n",
      "1\n",
      "2\n",
      "3\n",
      "4\n",
      "5\n",
      "6\n",
      "7\n",
      "8\n",
      "9\n",
      "ended\n"
     ]
    }
   ],
   "source": [
    "for i in range(10):\n",
    "    if i == 16: \n",
    "        break\n",
    "    print(i)\n",
    "else:\n",
    "    print(\"ended\")\n",
    "# print로 나온 것인지 break로 나온 것인지 정확하게 구분하기 위해\n",
    "# 9까지 다 찍고 출력이 됨\n",
    "# else는 for과 맞춰서 써준다"
   ]
  },
  {
   "cell_type": "code",
   "execution_count": 32,
   "id": "08676da9-f729-45e7-9a9c-ea334461f043",
   "metadata": {},
   "outputs": [
    {
     "name": "stdout",
     "output_type": "stream",
     "text": [
      "0\n",
      "1\n",
      "2\n",
      "3\n",
      "4\n",
      "5\n"
     ]
    }
   ],
   "source": [
    "for i in range(10):\n",
    "    if i == 6: \n",
    "        break\n",
    "    print(i)\n",
    "else:\n",
    "    print(\"ended\")\n",
    "\n",
    "# 6까지 안나오고 출력됨\n",
    "# 10까지 도는 for문에서 i가 6이라면 if문에 따름, 그게 아니라면 else로 따라진다."
   ]
  },
  {
   "cell_type": "code",
   "execution_count": 36,
   "id": "a5f8a3ab-2a97-4ad4-aa3d-5e738b601f61",
   "metadata": {},
   "outputs": [
    {
     "name": "stdout",
     "output_type": "stream",
     "text": [
      "0\n",
      "1\n",
      "2\n",
      "3\n",
      "4\n",
      "5\n",
      "7\n",
      "8\n",
      "9\n",
      "ended\n"
     ]
    }
   ],
   "source": [
    "for i in range(10):\n",
    "    if i == 6: \n",
    "        continue\n",
    "    print(i)\n",
    "else:\n",
    "    print(\"ended\")\n",
    "# continue를 사용하여 6만 제외하고 출력"
   ]
  },
  {
   "cell_type": "markdown",
   "id": "c18ad036-2ace-4644-ad72-668be5ab5ee7",
   "metadata": {},
   "source": [
    "### 구구단 \n",
    "- 1. for, while 선택한 뒤, n단을 입력받아서 n단을 출력한다.\n",
    "    - 출력: ===3단===\n",
    "            3 x 1 = 3\n",
    "            3 x 2 = 6\n",
    "            ...\n",
    "            3 x 9 = 27\n",
    "- 2. 1단 ~ n단까지 출력한다.\n",
    "- 3. 시작단부터, 끝단 둘다 입력 받을 것\n",
    "    - 예: 4 - 7단\n",
    "    - 시작단이 끝단보다 작을 때 어떻게 처리할지\n",
    "- 4. 프로그램으로 만든다.\n",
    "    - 1) n단 2) 1-n단 3) n-m단\n",
    "    - 3번 ->n, m->...\n",
    "    - 메뉴에 없는 선택 처리"
   ]
  },
  {
   "cell_type": "code",
   "execution_count": 40,
   "id": "e3cc1f70-1a41-4774-a5bd-e8d6d538b7c6",
   "metadata": {},
   "outputs": [
    {
     "data": {
      "text/plain": [
       "'\\n===3단===\\n3 x 1 = 3\\n3 x 2 = 6\\n ...\\n3 x 9 = 27\\n'"
      ]
     },
     "execution_count": 40,
     "metadata": {},
     "output_type": "execute_result"
    }
   ],
   "source": [
    "\"\"\"\n",
    "===3단===\n",
    "3 x 1 = 3\n",
    "3 x 2 = 6\n",
    " ...\n",
    "3 x 9 = 27\n",
    "\"\"\""
   ]
  },
  {
   "cell_type": "code",
   "execution_count": 41,
   "id": "86c7da78-bcf2-458e-86f6-a9b41360a980",
   "metadata": {},
   "outputs": [
    {
     "name": "stdin",
     "output_type": "stream",
     "text": [
      "단을 입력하시오: 7\n"
     ]
    },
    {
     "name": "stdout",
     "output_type": "stream",
     "text": [
      "== 7 단===\n",
      "7 x 1 = 7\n",
      "7 x 2 = 14\n",
      "7 x 3 = 21\n",
      "7 x 4 = 28\n",
      "7 x 5 = 35\n",
      "7 x 6 = 42\n",
      "7 x 7 = 49\n",
      "7 x 8 = 56\n",
      "7 x 9 = 63\n"
     ]
    }
   ],
   "source": [
    "n = int(input('단을 입력하시오:'))\n",
    "print(\"==\",n,\"단===\")\n",
    "for i in range(1,10):\n",
    "    print(n,'x',i,'=',n*i)\n",
    "# ,를 이용하면 오답이나 다름 없음"
   ]
  },
  {
   "cell_type": "code",
   "execution_count": 4,
   "id": "e6c0c5c0-70f4-4fbc-a067-8954bd52d8b9",
   "metadata": {},
   "outputs": [
    {
     "name": "stdin",
     "output_type": "stream",
     "text": [
      "단을 입력하시오: 8\n"
     ]
    },
    {
     "name": "stdout",
     "output_type": "stream",
     "text": [
      "==8단===\n",
      "8 x 1 = 8\n",
      "8 x 2 = 16\n",
      "8 x 3 = 24\n",
      "8 x 4 = 32\n",
      "8 x 5 = 40\n",
      "8 x 6 = 48\n",
      "8 x 7 = 56\n",
      "8 x 8 = 64\n",
      "8 x 9 = 72\n"
     ]
    }
   ],
   "source": [
    "# 1번- for 이용\n",
    "n = int(input('단을 입력하시오:'))\n",
    "print(f'=={n}단===')\n",
    "for i in range(1,10):\n",
    "    print(f'{n} x {i} = {n*i}')"
   ]
  },
  {
   "cell_type": "code",
   "execution_count": 34,
   "id": "a87cb1ba-c1d0-4276-90bc-1f945efa1826",
   "metadata": {},
   "outputs": [
    {
     "name": "stdin",
     "output_type": "stream",
     "text": [
      "단을 입력하시오: 9\n"
     ]
    },
    {
     "name": "stdout",
     "output_type": "stream",
     "text": [
      "==9단===\n",
      "9 x 1 = 9\n",
      "9 x 2 = 18\n",
      "9 x 3 = 27\n",
      "9 x 4 = 36\n",
      "9 x 5 = 45\n",
      "9 x 6 = 54\n",
      "9 x 7 = 63\n",
      "9 x 8 = 72\n",
      "9 x 9 = 81\n"
     ]
    }
   ],
   "source": [
    "# 1번- while 이용\n",
    "n = int(input('단을 입력하시오:'))\n",
    "result = 0\n",
    "i = 1\n",
    "print(f'=={n}단===')\n",
    "while i < 10:\n",
    "    result = n * i\n",
    "    print(f'{n} x {i} = {n*i}')\n",
    "    i+=1\n",
    "    \n",
    "    "
   ]
  },
  {
   "cell_type": "code",
   "execution_count": 36,
   "id": "653e4cc5-d1a3-4591-ae46-bc3f8636e989",
   "metadata": {
    "collapsed": true,
    "jupyter": {
     "outputs_hidden": true
    },
    "tags": []
   },
   "outputs": [
    {
     "name": "stdin",
     "output_type": "stream",
     "text": [
      "몇 단까지 출력할지 입력하시오: 9\n"
     ]
    },
    {
     "name": "stdout",
     "output_type": "stream",
     "text": [
      "===1단===\n",
      "1 x 1 = 9\n",
      "1 x 2 = 18\n",
      "1 x 3 = 27\n",
      "1 x 4 = 36\n",
      "1 x 5 = 45\n",
      "1 x 6 = 54\n",
      "1 x 7 = 63\n",
      "1 x 8 = 72\n",
      "1 x 9 = 81\n",
      "===2단===\n",
      "2 x 1 = 9\n",
      "2 x 2 = 18\n",
      "2 x 3 = 27\n",
      "2 x 4 = 36\n",
      "2 x 5 = 45\n",
      "2 x 6 = 54\n",
      "2 x 7 = 63\n",
      "2 x 8 = 72\n",
      "2 x 9 = 81\n",
      "===3단===\n",
      "3 x 1 = 9\n",
      "3 x 2 = 18\n",
      "3 x 3 = 27\n",
      "3 x 4 = 36\n",
      "3 x 5 = 45\n",
      "3 x 6 = 54\n",
      "3 x 7 = 63\n",
      "3 x 8 = 72\n",
      "3 x 9 = 81\n",
      "===4단===\n",
      "4 x 1 = 9\n",
      "4 x 2 = 18\n",
      "4 x 3 = 27\n",
      "4 x 4 = 36\n",
      "4 x 5 = 45\n",
      "4 x 6 = 54\n",
      "4 x 7 = 63\n",
      "4 x 8 = 72\n",
      "4 x 9 = 81\n",
      "===5단===\n",
      "5 x 1 = 9\n",
      "5 x 2 = 18\n",
      "5 x 3 = 27\n",
      "5 x 4 = 36\n",
      "5 x 5 = 45\n",
      "5 x 6 = 54\n",
      "5 x 7 = 63\n",
      "5 x 8 = 72\n",
      "5 x 9 = 81\n",
      "===6단===\n",
      "6 x 1 = 9\n",
      "6 x 2 = 18\n",
      "6 x 3 = 27\n",
      "6 x 4 = 36\n",
      "6 x 5 = 45\n",
      "6 x 6 = 54\n",
      "6 x 7 = 63\n",
      "6 x 8 = 72\n",
      "6 x 9 = 81\n",
      "===7단===\n",
      "7 x 1 = 9\n",
      "7 x 2 = 18\n",
      "7 x 3 = 27\n",
      "7 x 4 = 36\n",
      "7 x 5 = 45\n",
      "7 x 6 = 54\n",
      "7 x 7 = 63\n",
      "7 x 8 = 72\n",
      "7 x 9 = 81\n",
      "===8단===\n",
      "8 x 1 = 9\n",
      "8 x 2 = 18\n",
      "8 x 3 = 27\n",
      "8 x 4 = 36\n",
      "8 x 5 = 45\n",
      "8 x 6 = 54\n",
      "8 x 7 = 63\n",
      "8 x 8 = 72\n",
      "8 x 9 = 81\n",
      "===9단===\n",
      "9 x 1 = 9\n",
      "9 x 2 = 18\n",
      "9 x 3 = 27\n",
      "9 x 4 = 36\n",
      "9 x 5 = 45\n",
      "9 x 6 = 54\n",
      "9 x 7 = 63\n",
      "9 x 8 = 72\n",
      "9 x 9 = 81\n"
     ]
    }
   ],
   "source": [
    "# 2번\n",
    "n = int(input(\"몇 단까지 출력할지 입력하시오:\"))\n",
    "for i in range(1,n+1):\n",
    "    print(f'==={i}단===')\n",
    "    for j in range(1,10):\n",
    "        print(f'{i} x {j} = {n * j}')"
   ]
  },
  {
   "cell_type": "code",
   "execution_count": 46,
   "id": "735d35f5-03c1-4f09-a259-a9a7bbf633f1",
   "metadata": {
    "collapsed": true,
    "jupyter": {
     "outputs_hidden": true
    },
    "tags": []
   },
   "outputs": [
    {
     "name": "stdin",
     "output_type": "stream",
     "text": [
      "시작단을 입력하시오: 8\n",
      "끝단을 입력하시오: 9\n"
     ]
    },
    {
     "name": "stdout",
     "output_type": "stream",
     "text": [
      "===8단===\n",
      "8 x 1 = 8\n",
      "8 x 2 = 16\n",
      "8 x 3 = 24\n",
      "8 x 4 = 32\n",
      "8 x 5 = 40\n",
      "8 x 6 = 48\n",
      "8 x 7 = 56\n",
      "8 x 8 = 64\n",
      "8 x 9 = 72\n",
      "===9단===\n",
      "9 x 1 = 9\n",
      "9 x 2 = 18\n",
      "9 x 3 = 27\n",
      "9 x 4 = 36\n",
      "9 x 5 = 45\n",
      "9 x 6 = 54\n",
      "9 x 7 = 63\n",
      "9 x 8 = 72\n",
      "9 x 9 = 81\n"
     ]
    }
   ],
   "source": [
    "# 3번\n",
    "start = int(input(\"시작단을 입력하시오:\"))\n",
    "end = int(input(\"끝단을 입력하시오:\"))\n",
    "if start > end:\n",
    "    for i in range(end, start+1):\n",
    "        print(f'==={i}단===')\n",
    "        for j in range(1,10):\n",
    "            print(f'{i} x {j} = {i * j}')\n",
    "else:\n",
    "    for i in range(start, end +1):\n",
    "        print(f'==={i}단===')\n",
    "        for j in range(1,10):\n",
    "            print(f'{i} x {j} = {i * j}')\n",
    "        \n",
    "    "
   ]
  },
  {
   "cell_type": "code",
   "execution_count": 5,
   "id": "5a72a689-eedc-4dcf-9e41-7d5211163121",
   "metadata": {},
   "outputs": [
    {
     "name": "stdout",
     "output_type": "stream",
     "text": [
      "1. n단 출력하기 2. 1 ~ n단 출력하기 3. n ~ m단 출력하기\n"
     ]
    },
    {
     "name": "stdin",
     "output_type": "stream",
     "text": [
      "원하는 작업을 입력하시오: 1\n",
      "단을 입력하시오: 2\n"
     ]
    },
    {
     "name": "stdout",
     "output_type": "stream",
     "text": [
      "===2단===\n",
      "2x1=2\n",
      "2x2=4\n",
      "2x3=6\n",
      "2x4=8\n",
      "2x5=10\n",
      "2x6=12\n",
      "2x7=14\n",
      "2x8=16\n",
      "2x9=18\n"
     ]
    }
   ],
   "source": [
    "# 4번\n",
    "while True:\n",
    "    print(\"1. n단 출력하기 2. 1 ~ n단 출력하기 3. n ~ m단 출력하기\")\n",
    "    num = int(input(\"원하는 작업을 입력하시오:\"))\n",
    "    \n",
    "    if num == 1:\n",
    "        dan = int(input(\"단을 입력하시오:\"))\n",
    "        print(f'==={dan}단===')\n",
    "        for i in range(1,10):\n",
    "            print(f'{dan}x{i}={dan*i}')\n",
    "        break\n",
    "    elif num ==2:\n",
    "        dan = int(input(\"단을 입력하시오:\"))\n",
    "        for i in range(1, dan + 1):\n",
    "            print(f'==={i}단===')\n",
    "            for j in range(1,10):\n",
    "                print(f'{i}x{j}={i*j}')\n",
    "        break\n",
    "    elif num == 3:\n",
    "        start = int(input(\"시작단을 입력하시오:\"))\n",
    "        end = int(input(\"끝단을 입력하시오:\"))\n",
    "        if start > end:\n",
    "            for i in range(end, start+1):\n",
    "                print(f'==={i}단===')\n",
    "                for j in range(1,10):\n",
    "                    print(f'{i}x{j}={i*j}')\n",
    "        else:\n",
    "            for i in range(start, end+1):\n",
    "                print(f'==={i}단===')\n",
    "                for j in range(1,10):\n",
    "                    print(f'{i}x{j}={i*j}')\n",
    "            break\n",
    "    else:\n",
    "        print(\"숫자 1,2,3 중 다시 선택해주십시오\")"
   ]
  },
  {
   "cell_type": "markdown",
   "id": "ced52151-d650-4b7b-80b6-d48ece742e25",
   "metadata": {},
   "source": [
    "### print formatting\n",
    "- 1. f string\n",
    "    - f, F 둘다 사용 가능\n",
    "    - f'{var}'\n",
    "- 2. format\n",
    "    - '{}'.format(var)\n",
    "- 3. %\n",
    "    - ' %type ' % var\n",
    "- print('', a, '', b)\n",
    "- 1,2번 추천함"
   ]
  },
  {
   "cell_type": "code",
   "execution_count": 42,
   "id": "43aec8bc-92bd-4b7b-b376-24ad3a47028e",
   "metadata": {},
   "outputs": [
    {
     "name": "stdout",
     "output_type": "stream",
     "text": [
      "나의 이름은 lee!!!\n"
     ]
    }
   ],
   "source": [
    "name = 'lee'\n",
    "print(f'나의 이름은 {name}!!!')"
   ]
  },
  {
   "cell_type": "code",
   "execution_count": 43,
   "id": "f7c08b77-cfc6-42d3-bd7e-8be37793bbf1",
   "metadata": {},
   "outputs": [
    {
     "name": "stdout",
     "output_type": "stream",
     "text": [
      "너의 이름은 lee ???\n"
     ]
    }
   ],
   "source": [
    "print('너의 이름은 {} ???'.format(name))"
   ]
  },
  {
   "cell_type": "code",
   "execution_count": 44,
   "id": "aa2f079b-315a-4ea2-8438-cd1582c7d539",
   "metadata": {},
   "outputs": [
    {
     "name": "stdout",
     "output_type": "stream",
     "text": [
      "나의 이름은 lee입니다.\n"
     ]
    }
   ],
   "source": [
    "print('나의 이름은 %s입니다.' % name)"
   ]
  },
  {
   "cell_type": "code",
   "execution_count": 46,
   "id": "e585beee-c5a9-4262-9686-6f65f404d0d3",
   "metadata": {},
   "outputs": [
    {
     "name": "stdout",
     "output_type": "stream",
     "text": [
      "나의 이름은 name='lee'!!!\n"
     ]
    }
   ],
   "source": [
    "name = 'lee'\n",
    "print(f'나의 이름은 {name=}!!!')\n",
    "# 변수 이름까지 같이 출력됨 (=)"
   ]
  },
  {
   "cell_type": "code",
   "execution_count": 49,
   "id": "806fb61f-0eff-44b1-a3e4-ab7b588b5980",
   "metadata": {},
   "outputs": [
    {
     "name": "stdout",
     "output_type": "stream",
     "text": [
      "너의 이름은 l ???\n"
     ]
    }
   ],
   "source": [
    "print('너의 이름은 {:.1s} ???'.format(name))\n",
    "# 소수점 출력 시 활용"
   ]
  },
  {
   "cell_type": "markdown",
   "id": "38304cf2-afb9-4773-b43b-25344dda0585",
   "metadata": {},
   "source": [
    "### NLTK: Corpus\n",
    "- 다양한 종류의 코퍼스가 있다. (테마가 있다)\n",
    "- 더 다양한 언어 분석이 가능하다\n",
    "\n",
    "- 종류\n",
    "    - gutenberg\n",
    "    - brown\n",
    "    - inaugural\n",
    "- 함수\n",
    "    - words()\n",
    "    - sents()\n",
    "    - fileids()\n",
    "    - raw()"
   ]
  },
  {
   "cell_type": "code",
   "execution_count": 50,
   "id": "73708b5d-4446-4e79-9a63-4d256e5da03f",
   "metadata": {},
   "outputs": [
    {
     "data": {
      "text/plain": [
       "True"
      ]
     },
     "execution_count": 50,
     "metadata": {},
     "output_type": "execute_result"
    }
   ],
   "source": [
    "import nltk\n",
    "from nltk.corpus import gutenberg\n",
    "nltk.download('gutenberg', quiet = True)\n"
   ]
  },
  {
   "cell_type": "code",
   "execution_count": 51,
   "id": "7ea8410b-ba29-4bd7-ad17-ce7b2fb3f0e7",
   "metadata": {},
   "outputs": [
    {
     "data": {
      "text/plain": [
       "<PlaintextCorpusReader in 'C:\\\\Users\\\\user\\\\AppData\\\\Roaming\\\\nltk_data\\\\corpora\\\\gutenberg'>"
      ]
     },
     "execution_count": 51,
     "metadata": {},
     "output_type": "execute_result"
    }
   ],
   "source": [
    "gutenberg"
   ]
  },
  {
   "cell_type": "code",
   "execution_count": 50,
   "id": "909e3e4b-c0ac-45df-b14e-33c255de9e0b",
   "metadata": {},
   "outputs": [
    {
     "data": {
      "text/plain": [
       "['[', 'Emma', 'by', 'Jane', 'Austen', '1816', ']', ...]"
      ]
     },
     "execution_count": 50,
     "metadata": {},
     "output_type": "execute_result"
    }
   ],
   "source": [
    "gutenberg.words()\n",
    "# tokens 아님"
   ]
  },
  {
   "cell_type": "code",
   "execution_count": 56,
   "id": "0a307644-9062-4452-aee9-c68b0aac796f",
   "metadata": {},
   "outputs": [
    {
     "data": {
      "text/plain": [
       "['austen-emma.txt',\n",
       " 'austen-persuasion.txt',\n",
       " 'austen-sense.txt',\n",
       " 'bible-kjv.txt',\n",
       " 'blake-poems.txt',\n",
       " 'bryant-stories.txt',\n",
       " 'burgess-busterbrown.txt',\n",
       " 'carroll-alice.txt',\n",
       " 'chesterton-ball.txt',\n",
       " 'chesterton-brown.txt',\n",
       " 'chesterton-thursday.txt',\n",
       " 'edgeworth-parents.txt',\n",
       " 'melville-moby_dick.txt',\n",
       " 'milton-paradise.txt',\n",
       " 'shakespeare-caesar.txt',\n",
       " 'shakespeare-hamlet.txt',\n",
       " 'shakespeare-macbeth.txt',\n",
       " 'whitman-leaves.txt']"
      ]
     },
     "execution_count": 56,
     "metadata": {},
     "output_type": "execute_result"
    }
   ],
   "source": [
    "gutenberg.fileids()\n",
    "# 테마를 fileids로 찾기"
   ]
  },
  {
   "cell_type": "code",
   "execution_count": 62,
   "id": "1bd7a68f-c5ca-4d73-adaa-3d66d0c68100",
   "metadata": {},
   "outputs": [
    {
     "data": {
      "text/plain": [
       "['[', 'Emma', 'by', 'Jane', 'Austen', '1816', ']', ...]"
      ]
     },
     "execution_count": 62,
     "metadata": {},
     "output_type": "execute_result"
    }
   ],
   "source": [
    "gutenberg.words(['austen-emma.txt'])"
   ]
  },
  {
   "cell_type": "code",
   "execution_count": 53,
   "id": "5c419925-e305-4893-97bc-fb109c558b8f",
   "metadata": {},
   "outputs": [
    {
     "data": {
      "text/plain": [
       "'\\nausten-emma | 글자 수 = 12개, 단어 수 = 14개, 문장 수 = 15개\\n...\\n'"
      ]
     },
     "execution_count": 53,
     "metadata": {},
     "output_type": "execute_result"
    }
   ],
   "source": [
    "# 구텐버그의 각 파일을 돌아가면서 글자 수, 단어 수, 문장 수를 출력합니다.\n",
    "\"\"\"\n",
    "austen-emma | 글자 수 = 12개, 단어 수 = 14개, 문장 수 = 15개\n",
    "...\n",
    "\"\"\""
   ]
  },
  {
   "cell_type": "code",
   "execution_count": 67,
   "id": "0cb0c8da-5015-44aa-aede-0bf41a2f7bca",
   "metadata": {},
   "outputs": [
    {
     "name": "stdout",
     "output_type": "stream",
     "text": [
      "글자 수 = 154883개, 단어 수 = 4250개, 문장 수 = 711215개\n"
     ]
    }
   ],
   "source": [
    "for files in gutenberg.fileids():\n",
    "    word_num = len(gutenberg.words(files))\n",
    "    sent_num = len(gutenberg.sents(files))\n",
    "    raw_num = len(gutenberg.raw(files))\n",
    "    \n",
    "print(f'글자 수 = {word_num}개, 단어 수 = {sent_num}개, 문장 수 = {raw_num}개')\n",
    "# range로 돌을 필요 없음"
   ]
  },
  {
   "cell_type": "code",
   "execution_count": 68,
   "id": "d4b4e650-d09d-44ff-96f8-8fb144096ba9",
   "metadata": {
    "collapsed": true,
    "jupyter": {
     "outputs_hidden": true
    },
    "tags": []
   },
   "outputs": [
    {
     "name": "stderr",
     "output_type": "stream",
     "text": [
      "[nltk_data] Downloading collection 'book'\n",
      "[nltk_data]    | \n",
      "[nltk_data]    | Downloading package abc to\n",
      "[nltk_data]    |     C:\\Users\\user\\AppData\\Roaming\\nltk_data...\n",
      "[nltk_data]    |   Package abc is already up-to-date!\n",
      "[nltk_data]    | Downloading package brown to\n",
      "[nltk_data]    |     C:\\Users\\user\\AppData\\Roaming\\nltk_data...\n",
      "[nltk_data]    |   Package brown is already up-to-date!\n",
      "[nltk_data]    | Downloading package chat80 to\n",
      "[nltk_data]    |     C:\\Users\\user\\AppData\\Roaming\\nltk_data...\n",
      "[nltk_data]    |   Package chat80 is already up-to-date!\n",
      "[nltk_data]    | Downloading package cmudict to\n",
      "[nltk_data]    |     C:\\Users\\user\\AppData\\Roaming\\nltk_data...\n",
      "[nltk_data]    |   Package cmudict is already up-to-date!\n",
      "[nltk_data]    | Downloading package conll2000 to\n",
      "[nltk_data]    |     C:\\Users\\user\\AppData\\Roaming\\nltk_data...\n",
      "[nltk_data]    |   Package conll2000 is already up-to-date!\n",
      "[nltk_data]    | Downloading package conll2002 to\n",
      "[nltk_data]    |     C:\\Users\\user\\AppData\\Roaming\\nltk_data...\n",
      "[nltk_data]    |   Package conll2002 is already up-to-date!\n",
      "[nltk_data]    | Downloading package dependency_treebank to\n",
      "[nltk_data]    |     C:\\Users\\user\\AppData\\Roaming\\nltk_data...\n",
      "[nltk_data]    |   Package dependency_treebank is already up-to-date!\n",
      "[nltk_data]    | Downloading package genesis to\n",
      "[nltk_data]    |     C:\\Users\\user\\AppData\\Roaming\\nltk_data...\n",
      "[nltk_data]    |   Package genesis is already up-to-date!\n",
      "[nltk_data]    | Downloading package gutenberg to\n",
      "[nltk_data]    |     C:\\Users\\user\\AppData\\Roaming\\nltk_data...\n",
      "[nltk_data]    |   Package gutenberg is already up-to-date!\n",
      "[nltk_data]    | Downloading package ieer to\n",
      "[nltk_data]    |     C:\\Users\\user\\AppData\\Roaming\\nltk_data...\n",
      "[nltk_data]    |   Package ieer is already up-to-date!\n",
      "[nltk_data]    | Downloading package inaugural to\n",
      "[nltk_data]    |     C:\\Users\\user\\AppData\\Roaming\\nltk_data...\n",
      "[nltk_data]    |   Package inaugural is already up-to-date!\n",
      "[nltk_data]    | Downloading package movie_reviews to\n",
      "[nltk_data]    |     C:\\Users\\user\\AppData\\Roaming\\nltk_data...\n",
      "[nltk_data]    |   Package movie_reviews is already up-to-date!\n",
      "[nltk_data]    | Downloading package nps_chat to\n",
      "[nltk_data]    |     C:\\Users\\user\\AppData\\Roaming\\nltk_data...\n",
      "[nltk_data]    |   Package nps_chat is already up-to-date!\n",
      "[nltk_data]    | Downloading package names to\n",
      "[nltk_data]    |     C:\\Users\\user\\AppData\\Roaming\\nltk_data...\n",
      "[nltk_data]    |   Package names is already up-to-date!\n",
      "[nltk_data]    | Downloading package ppattach to\n",
      "[nltk_data]    |     C:\\Users\\user\\AppData\\Roaming\\nltk_data...\n",
      "[nltk_data]    |   Package ppattach is already up-to-date!\n",
      "[nltk_data]    | Downloading package reuters to\n",
      "[nltk_data]    |     C:\\Users\\user\\AppData\\Roaming\\nltk_data...\n",
      "[nltk_data]    |   Package reuters is already up-to-date!\n",
      "[nltk_data]    | Downloading package senseval to\n",
      "[nltk_data]    |     C:\\Users\\user\\AppData\\Roaming\\nltk_data...\n",
      "[nltk_data]    |   Package senseval is already up-to-date!\n",
      "[nltk_data]    | Downloading package state_union to\n",
      "[nltk_data]    |     C:\\Users\\user\\AppData\\Roaming\\nltk_data...\n",
      "[nltk_data]    |   Package state_union is already up-to-date!\n",
      "[nltk_data]    | Downloading package stopwords to\n",
      "[nltk_data]    |     C:\\Users\\user\\AppData\\Roaming\\nltk_data...\n",
      "[nltk_data]    |   Package stopwords is already up-to-date!\n",
      "[nltk_data]    | Downloading package swadesh to\n",
      "[nltk_data]    |     C:\\Users\\user\\AppData\\Roaming\\nltk_data...\n",
      "[nltk_data]    |   Package swadesh is already up-to-date!\n",
      "[nltk_data]    | Downloading package timit to\n",
      "[nltk_data]    |     C:\\Users\\user\\AppData\\Roaming\\nltk_data...\n",
      "[nltk_data]    |   Package timit is already up-to-date!\n",
      "[nltk_data]    | Downloading package treebank to\n",
      "[nltk_data]    |     C:\\Users\\user\\AppData\\Roaming\\nltk_data...\n",
      "[nltk_data]    |   Package treebank is already up-to-date!\n",
      "[nltk_data]    | Downloading package toolbox to\n",
      "[nltk_data]    |     C:\\Users\\user\\AppData\\Roaming\\nltk_data...\n",
      "[nltk_data]    |   Package toolbox is already up-to-date!\n",
      "[nltk_data]    | Downloading package udhr to\n",
      "[nltk_data]    |     C:\\Users\\user\\AppData\\Roaming\\nltk_data...\n",
      "[nltk_data]    |   Package udhr is already up-to-date!\n",
      "[nltk_data]    | Downloading package udhr2 to\n",
      "[nltk_data]    |     C:\\Users\\user\\AppData\\Roaming\\nltk_data...\n",
      "[nltk_data]    |   Package udhr2 is already up-to-date!\n",
      "[nltk_data]    | Downloading package unicode_samples to\n",
      "[nltk_data]    |     C:\\Users\\user\\AppData\\Roaming\\nltk_data...\n",
      "[nltk_data]    |   Package unicode_samples is already up-to-date!\n",
      "[nltk_data]    | Downloading package webtext to\n",
      "[nltk_data]    |     C:\\Users\\user\\AppData\\Roaming\\nltk_data...\n",
      "[nltk_data]    |   Package webtext is already up-to-date!\n",
      "[nltk_data]    | Downloading package wordnet to\n",
      "[nltk_data]    |     C:\\Users\\user\\AppData\\Roaming\\nltk_data...\n",
      "[nltk_data]    |   Package wordnet is already up-to-date!\n",
      "[nltk_data]    | Downloading package wordnet_ic to\n",
      "[nltk_data]    |     C:\\Users\\user\\AppData\\Roaming\\nltk_data...\n",
      "[nltk_data]    |   Package wordnet_ic is already up-to-date!\n",
      "[nltk_data]    | Downloading package words to\n",
      "[nltk_data]    |     C:\\Users\\user\\AppData\\Roaming\\nltk_data...\n",
      "[nltk_data]    |   Package words is already up-to-date!\n",
      "[nltk_data]    | Downloading package maxent_treebank_pos_tagger to\n",
      "[nltk_data]    |     C:\\Users\\user\\AppData\\Roaming\\nltk_data...\n",
      "[nltk_data]    |   Package maxent_treebank_pos_tagger is already up-\n",
      "[nltk_data]    |       to-date!\n",
      "[nltk_data]    | Downloading package maxent_ne_chunker to\n",
      "[nltk_data]    |     C:\\Users\\user\\AppData\\Roaming\\nltk_data...\n",
      "[nltk_data]    |   Package maxent_ne_chunker is already up-to-date!\n",
      "[nltk_data]    | Downloading package universal_tagset to\n",
      "[nltk_data]    |     C:\\Users\\user\\AppData\\Roaming\\nltk_data...\n",
      "[nltk_data]    |   Package universal_tagset is already up-to-date!\n",
      "[nltk_data]    | Downloading package punkt to\n",
      "[nltk_data]    |     C:\\Users\\user\\AppData\\Roaming\\nltk_data...\n",
      "[nltk_data]    |   Package punkt is already up-to-date!\n",
      "[nltk_data]    | Downloading package book_grammars to\n",
      "[nltk_data]    |     C:\\Users\\user\\AppData\\Roaming\\nltk_data...\n",
      "[nltk_data]    |   Package book_grammars is already up-to-date!\n",
      "[nltk_data]    | Downloading package city_database to\n",
      "[nltk_data]    |     C:\\Users\\user\\AppData\\Roaming\\nltk_data...\n",
      "[nltk_data]    |   Package city_database is already up-to-date!\n",
      "[nltk_data]    | Downloading package tagsets to\n",
      "[nltk_data]    |     C:\\Users\\user\\AppData\\Roaming\\nltk_data...\n",
      "[nltk_data]    |   Package tagsets is already up-to-date!\n",
      "[nltk_data]    | Downloading package panlex_swadesh to\n",
      "[nltk_data]    |     C:\\Users\\user\\AppData\\Roaming\\nltk_data...\n",
      "[nltk_data]    |   Package panlex_swadesh is already up-to-date!\n",
      "[nltk_data]    | Downloading package averaged_perceptron_tagger to\n",
      "[nltk_data]    |     C:\\Users\\user\\AppData\\Roaming\\nltk_data...\n",
      "[nltk_data]    |   Package averaged_perceptron_tagger is already up-\n",
      "[nltk_data]    |       to-date!\n",
      "[nltk_data]    | \n",
      "[nltk_data]  Done downloading collection book\n"
     ]
    },
    {
     "data": {
      "text/plain": [
       "True"
      ]
     },
     "execution_count": 68,
     "metadata": {},
     "output_type": "execute_result"
    }
   ],
   "source": [
    "# nltk.book text1 - 9\n",
    "from nltk.book import *\n",
    "nltk.download('book')"
   ]
  },
  {
   "cell_type": "code",
   "execution_count": 69,
   "id": "d659318e-3ff5-4fc5-bf0b-75f86341d2a4",
   "metadata": {},
   "outputs": [],
   "source": [
    "texts = [text1, ...]\n",
    "#1. text1-9 => str 'text1'\n",
    "#2. 'text1'에 기능을 부여한다. getattr(library, string_name)"
   ]
  },
  {
   "cell_type": "code",
   "execution_count": 71,
   "id": "3ac5e415-cfe4-414a-b9c0-d507fd37a7e6",
   "metadata": {},
   "outputs": [],
   "source": [
    "# text1 vs. 'text1'"
   ]
  },
  {
   "cell_type": "code",
   "execution_count": 72,
   "id": "ab3e61b1-e6d9-4821-b9c2-ad9791303258",
   "metadata": {},
   "outputs": [
    {
     "data": {
      "text/plain": [
       "[<Text: Moby Dick by Herman Melville 1851>,\n",
       " <Text: Sense and Sensibility by Jane Austen 1811>,\n",
       " <Text: The Book of Genesis>,\n",
       " <Text: Inaugural Address Corpus>,\n",
       " <Text: Chat Corpus>,\n",
       " <Text: Monty Python and the Holy Grail>,\n",
       " <Text: Wall Street Journal>,\n",
       " <Text: Personals Corpus>,\n",
       " <Text: The Man Who Was Thursday by G . K . Chesterton 1908>]"
      ]
     },
     "execution_count": 72,
     "metadata": {},
     "output_type": "execute_result"
    }
   ],
   "source": [
    "texts = [getattr(nltk.book, f'text{i}') for i in range(1, 10)]\n",
    "texts"
   ]
  },
  {
   "cell_type": "code",
   "execution_count": 74,
   "id": "f6ba85cf-3a09-4e12-a740-41034a98e866",
   "metadata": {},
   "outputs": [
    {
     "data": {
      "text/plain": [
       "<Text: Moby Dick by Herman Melville 1851>"
      ]
     },
     "execution_count": 74,
     "metadata": {},
     "output_type": "execute_result"
    }
   ],
   "source": [
    "texts[0]"
   ]
  },
  {
   "cell_type": "code",
   "execution_count": 82,
   "id": "1b8ea591-5beb-4715-a22d-ba0bc7a7506b",
   "metadata": {},
   "outputs": [],
   "source": [
    "corpus1 = gutenberg.words(fileids='whitman-leaves.txt')\n",
    "fdist = nltk.FreqDist([w.lower() for w in corpus1])"
   ]
  },
  {
   "cell_type": "code",
   "execution_count": 83,
   "id": "1f459ef3-713e-4853-9597-18535a634492",
   "metadata": {},
   "outputs": [
    {
     "data": {
      "text/plain": [
       "28"
      ]
     },
     "execution_count": 83,
     "metadata": {},
     "output_type": "execute_result"
    }
   ],
   "source": [
    "fdist['tree']"
   ]
  },
  {
   "cell_type": "markdown",
   "id": "e30f75b5-0230-481e-9efe-53e2bbdc0916",
   "metadata": {},
   "source": [
    "### Brown\n",
    "- categories()\n"
   ]
  },
  {
   "cell_type": "code",
   "execution_count": 8,
   "id": "eb278901-d85a-4cff-b471-d2d18dbcce2d",
   "metadata": {},
   "outputs": [
    {
     "name": "stderr",
     "output_type": "stream",
     "text": [
      "[nltk_data] Downloading package brown to\n",
      "[nltk_data]     C:\\Users\\user\\AppData\\Roaming\\nltk_data...\n",
      "[nltk_data]   Package brown is already up-to-date!\n"
     ]
    }
   ],
   "source": [
    "# from nltk.corpus import brown\n",
    "nltk.download('brown')\n",
    "brown_corpus = nltk.corpus.brown"
   ]
  },
  {
   "cell_type": "code",
   "execution_count": 79,
   "id": "89205023-2a63-4ff8-abd4-4398b7902046",
   "metadata": {},
   "outputs": [
    {
     "data": {
      "text/plain": [
       "<CategorizedTaggedCorpusReader in 'C:\\\\Users\\\\user\\\\AppData\\\\Roaming\\\\nltk_data\\\\corpora\\\\brown'>"
      ]
     },
     "execution_count": 79,
     "metadata": {},
     "output_type": "execute_result"
    }
   ],
   "source": [
    "brown_corpus"
   ]
  },
  {
   "cell_type": "code",
   "execution_count": 56,
   "id": "120f6e62-2a92-46ad-b3dc-58fd56d71708",
   "metadata": {},
   "outputs": [
    {
     "data": {
      "text/plain": [
       "['adventure',\n",
       " 'belles_lettres',\n",
       " 'editorial',\n",
       " 'fiction',\n",
       " 'government',\n",
       " 'hobbies',\n",
       " 'humor',\n",
       " 'learned',\n",
       " 'lore',\n",
       " 'mystery',\n",
       " 'news',\n",
       " 'religion',\n",
       " 'reviews',\n",
       " 'romance',\n",
       " 'science_fiction']"
      ]
     },
     "execution_count": 56,
     "metadata": {},
     "output_type": "execute_result"
    }
   ],
   "source": [
    "brown_corpus.categories()"
   ]
  },
  {
   "cell_type": "code",
   "execution_count": 9,
   "id": "76a1ab19-a3c2-42a3-b7a3-967b1c31afff",
   "metadata": {},
   "outputs": [
    {
     "data": {
      "text/plain": [
       "['It', 'was', 'among', 'these', 'that', 'Hinkle', ...]"
      ]
     },
     "execution_count": 9,
     "metadata": {},
     "output_type": "execute_result"
    }
   ],
   "source": [
    "brown_corpus.words(categories = 'humor')\n",
    "# 변수명 지정해주기\n",
    "# humor에 관한 corpus가 뜸\n",
    "# 위에 있는 것으로 변수명 지정"
   ]
  },
  {
   "cell_type": "code",
   "execution_count": 11,
   "id": "49c9703b-08cc-4be6-a496-ab7af0cf9f51",
   "metadata": {},
   "outputs": [],
   "source": [
    "humor = brown_corpus.words(categories = 'humor')"
   ]
  },
  {
   "cell_type": "code",
   "execution_count": 12,
   "id": "2dddd405-8ade-404a-b991-db2428958c14",
   "metadata": {},
   "outputs": [
    {
     "name": "stdout",
     "output_type": "stream",
     "text": [
      "can 17\n",
      "could 33\n",
      "may 8\n",
      "migt 0\n",
      "will 13\n",
      "would 56\n"
     ]
    }
   ],
   "source": [
    "# modal verbs의 쓰임\n",
    "modals = ['can', 'could', 'may', 'migt', 'will', 'would']\n",
    "fdist_brown = nltk.FreqDist([w.lower() for w in humor])\n",
    "for verb in modals:\n",
    "    print(verb, fdist_brown[verb])\n",
    "# modals 안에 있는 것들이 humor에서 얼마나 나오는지 알 수 있음"
   ]
  },
  {
   "cell_type": "markdown",
   "id": "639a4352-e57a-43e4-9941-8044dfd876fd",
   "metadata": {
    "tags": []
   },
   "source": [
    "### conditional frequency distribution(CFD)\n",
    "- 조건이 붙은 fdist"
   ]
  },
  {
   "cell_type": "code",
   "execution_count": 13,
   "id": "470854fa-1c50-419f-a793-a6819016de50",
   "metadata": {},
   "outputs": [],
   "source": [
    "cfd = nltk.ConditionalFreqDist(\n",
    "    # genre에 따른 fdist\n",
    "    (genre, word)\n",
    "    for genre in brown_corpus.categories()\n",
    "    for word in brown_corpus.words(categories = genre)\n",
    ")"
   ]
  },
  {
   "cell_type": "code",
   "execution_count": 92,
   "id": "fb7b77a3-1ec0-4283-95dc-0f8678751d6e",
   "metadata": {},
   "outputs": [
    {
     "data": {
      "text/plain": [
       "FreqDist({'.': 4057, ',': 3488, 'the': 3370, 'and': 1622, 'a': 1354, 'of': 1322, 'to': 1309, '``': 998, \"''\": 995, 'was': 914, ...})"
      ]
     },
     "execution_count": 92,
     "metadata": {},
     "output_type": "execute_result"
    }
   ],
   "source": [
    "cfd['adventure']"
   ]
  },
  {
   "cell_type": "code",
   "execution_count": 93,
   "id": "abcd6b70-a0f6-45a7-91ff-5c62bf83a549",
   "metadata": {},
   "outputs": [
    {
     "data": {
      "text/plain": [
       "3370"
      ]
     },
     "execution_count": 93,
     "metadata": {},
     "output_type": "execute_result"
    }
   ],
   "source": [
    "cfd['adventure']['the']"
   ]
  },
  {
   "cell_type": "code",
   "execution_count": 94,
   "id": "6dbb8d43-7293-4deb-bbe1-3c36cfbd3196",
   "metadata": {},
   "outputs": [
    {
     "data": {
      "text/plain": [
       "[('.', 4057),\n",
       " (',', 3488),\n",
       " ('the', 3370),\n",
       " ('and', 1622),\n",
       " ('a', 1354),\n",
       " ('of', 1322),\n",
       " ('to', 1309),\n",
       " ('``', 998),\n",
       " (\"''\", 995),\n",
       " ('was', 914)]"
      ]
     },
     "execution_count": 94,
     "metadata": {},
     "output_type": "execute_result"
    }
   ],
   "source": [
    "cfd['adventure'].most_common(10)"
   ]
  },
  {
   "cell_type": "code",
   "execution_count": 96,
   "id": "e5296eb8-6ec7-4143-9cfc-610960a43794",
   "metadata": {},
   "outputs": [
    {
     "name": "stdout",
     "output_type": "stream",
     "text": [
      "                 can could   may  migt  will would \n",
      "     adventure    46   151     5     0    50   191 \n",
      "belles_lettres   246   213   207     0   236   392 \n",
      "     editorial   121    56    74     0   233   180 \n"
     ]
    }
   ],
   "source": [
    "cfd.tabulate(conditions=brown_corpus.categories()[:3], samples=modals)"
   ]
  },
  {
   "cell_type": "code",
   "execution_count": 6,
   "id": "be5fdc46-aadf-4428-ba8d-28f6cbb48a98",
   "metadata": {},
   "outputs": [
    {
     "name": "stdout",
     "output_type": "stream",
     "text": [
      "[3, 2, 1, 0]\n"
     ]
    }
   ],
   "source": [
    "# 6-1 연습문제: for문으로 리스트[3,2,1,0]를 출력\n",
    "aa = []\n",
    "for i in range(0,4):\n",
    "    aa.append(i)\n",
    "for i in range (len(aa)):\n",
    "    if i == len(aa)-1:\n",
    "        print(aa[::-1])\n",
    "    \n",
    "    "
   ]
  },
  {
   "cell_type": "code",
   "execution_count": 5,
   "id": "84c9bb27-9ec8-457f-9642-6f6f19d4f9a8",
   "metadata": {},
   "outputs": [
    {
     "name": "stdout",
     "output_type": "stream",
     "text": [
      "oops\n"
     ]
    }
   ],
   "source": [
    "#6-2 연습문제: \n",
    "guess_me = 7\n",
    "number = 1\n",
    "\n",
    "while True:\n",
    "    if guess_me < number:\n",
    "        print(\"too low\")\n",
    "        number+=1\n",
    "    elif guess_me > number:\n",
    "        print(\"oops\")\n",
    "        number+=1\n",
    "        break\n",
    "    else:\n",
    "        print(\"found it\")\n",
    "        break"
   ]
  },
  {
   "cell_type": "code",
   "execution_count": 6,
   "id": "fc2cb568-110f-487c-b178-58ea2714c862",
   "metadata": {},
   "outputs": [
    {
     "name": "stdout",
     "output_type": "stream",
     "text": [
      "too low\n",
      "too low\n",
      "too low\n",
      "too low\n",
      "too low\n",
      "too low\n",
      "too low\n",
      "too low\n",
      "too low\n",
      "too low\n"
     ]
    }
   ],
   "source": [
    "# 6-3 연습문제\n",
    "guess_me = 5\n",
    "for i in range(10):\n",
    "    if number < guess_me:\n",
    "        print(\"too low\")\n",
    "    elif number > guess_me:\n",
    "        print(\"oops\")\n",
    "        break\n",
    "    else:\n",
    "        print(\"found it\")\n",
    "        break"
   ]
  },
  {
   "cell_type": "code",
   "execution_count": null,
   "id": "49893cbd-beb9-4fa0-859b-ba1af14f8d4a",
   "metadata": {},
   "outputs": [],
   "source": []
  }
 ],
 "metadata": {
  "kernelspec": {
   "display_name": "Python 3 (ipykernel)",
   "language": "python",
   "name": "python3"
  },
  "language_info": {
   "codemirror_mode": {
    "name": "ipython",
    "version": 3
   },
   "file_extension": ".py",
   "mimetype": "text/x-python",
   "name": "python",
   "nbconvert_exporter": "python",
   "pygments_lexer": "ipython3",
   "version": "3.9.7"
  }
 },
 "nbformat": 4,
 "nbformat_minor": 5
}
