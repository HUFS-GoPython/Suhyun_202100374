{
 "cells": [
  {
   "cell_type": "markdown",
   "id": "5d5fa744-b2a3-4831-832d-74e303e33a4c",
   "metadata": {},
   "source": [
    "## 프로그래밍이란?\n",
    "- programing: 프로그래밍 언어를 사용하여 프로그램을 개발하는 것.\n",
    "- program: 일련의 작업을 자동화하는 것.\n",
    "- python: 프로그래밍 언어 중 하나. 인간이 컴퓨터에게 작업을 명령하기 위해 사용하는 컴퓨터가 이해할 수 있는 언어.\n",
    "- programing language: 프로그램을 개발할 때 사용하는 도구.\n",
    "- 인간이 원하는 것을 컴퓨터에게 명령할 때, 사용하는 콤퓨터가 이해할 수 있는 언어.\n",
    "## 프로그래밍의 의의?\n",
    "- 논리적인 사고를 할 수 있다.\n",
    "## 파이썬의 의의?\n",
    "- 쉽고 간결하며, 라이브러리가 많다.\n" 
   ]
  },
  {
   "cell_type": "markdown",
   "id": "6d2b9ee4-bdc0-474d-aadc-c9aac3261bad",
   "metadata": {
    "tags": []
   },
   "source": [
    "## Ch2. Data: Types, Values, Variables, and Names"
   ]
  },
  {
   "cell_type": "code",
   "execution_count": 3,
   "id": "5dd78d20-b0a3-481d-8b61-3ae833a2d9ff",
   "metadata": {},
   "outputs": [],
   "source": [
    "a = 2"
   ]
  },
  {
   "cell_type": "markdown",
   "id": "af273d25-24f2-4025-91f3-90a8d0e82e18",
   "metadata": {},
   "source": [
    "- markdown=m+\n",
    "- 변수 | variable(i.e.a): 특정 값을 저장하는 공간, 컴퓨터 언어의 핵심개념\n",
    "- 값 | value: 2\n",
    "- 자료형| type: 2가 어떤 타입인가?\n",
    "- 할당하다 | assign: 2를 a에 넣는 과정\n",
    "    - a가 2다? a == 2 (equal) 할당과 같다는 다르다.\n",
    "    - 즉, a = 2는 a라는 변수에 2를 대입한 것이고, a == 2는 a가 2와 같다는 것이다.\n",
    "    - 변수는 장소가 아니라 이름이다.\n",
    "    - 두 개 이상의 변수 이름에 동시에 값을 지정할 수 있다. 예) cat = dog = cow = 1\n"
   ]
  },
  {
   "cell_type": "code",
   "execution_count": 4,
   "id": "636860eb-99fc-4e8c-a042-72fe82e9320d",
   "metadata": {},
   "outputs": [
    {
     "data": {
      "text/plain": [
       "2"
      ]
     },
     "execution_count": 4,
     "metadata": {},
     "output_type": "execute_result"
    }
   ],
   "source": [
    "a"
   ]
  },
  {
   "cell_type": "code",
   "execution_count": 5,
   "id": "3f7f09c5-1a95-4395-8758-f71a39ca8f5e",
   "metadata": {},
   "outputs": [
    {
     "data": {
      "text/plain": [
       "True"
      ]
     },
     "execution_count": 5,
     "metadata": {},
     "output_type": "execute_result"
    }
   ],
   "source": [
    "a == 2"
   ]
  },
  {
   "cell_type": "markdown",
   "id": "a2e13043-a478-41f6-a0d0-432aa8ceb0a4",
   "metadata": {},
   "source": [
    "### 변수의 타입\n",
    "- boolean(불리언: True, False)-`bool`\n",
    "- integer(정수: 1, 2, 3, 4, ...)-`int`\n",
    "- floating point(부동 소수점: 1.0, 2.0, 0.45, ...)-`float`\n",
    "- string(문자열: \"\" 안에 써야함 \"apple\")-`str`"
   ]
  },
  {
   "cell_type": "code",
   "execution_count": 7,
   "id": "06aa928e-1a92-4b1a-bdf9-ef030afddad8",
   "metadata": {},
   "outputs": [],
   "source": [
    "num = 4"
   ]
  },
  {
   "cell_type": "code",
   "execution_count": 8,
   "id": "5fce8706-2bfb-4e93-99b5-b85a05b4dda4",
   "metadata": {},
   "outputs": [
    {
     "name": "stdout",
     "output_type": "stream",
     "text": [
      "4\n"
     ]
    }
   ],
   "source": [
    "print(num)"
   ]
  },
  {
   "cell_type": "code",
   "execution_count": 9,
   "id": "f5fa8a23-c98b-4af0-b82c-9634a36a6d69",
   "metadata": {},
   "outputs": [
    {
     "data": {
      "text/plain": [
       "int"
      ]
     },
     "execution_count": 9,
     "metadata": {},
     "output_type": "execute_result"
    }
   ],
   "source": [
    "type(num)"
   ]
  },
  {
   "cell_type": "code",
   "execution_count": 10,
   "id": "25ba7593-84ef-4b34-8e85-0e41cdd88b9e",
   "metadata": {},
   "outputs": [
    {
     "data": {
      "text/plain": [
       "float"
      ]
     },
     "execution_count": 10,
     "metadata": {},
     "output_type": "execute_result"
    }
   ],
   "source": [
    "type(1.0)"
   ]
  },
  {
   "cell_type": "code",
   "execution_count": 11,
   "id": "03fa2a17-07e7-4384-a521-68f29bbb48be",
   "metadata": {},
   "outputs": [
    {
     "data": {
      "text/plain": [
       "bool"
      ]
     },
     "execution_count": 11,
     "metadata": {},
     "output_type": "execute_result"
    }
   ],
   "source": [
    "type(a==2)"
   ]
  },
  {
   "cell_type": "code",
   "execution_count": 12,
   "id": "c915119e-c736-44df-82d2-c3dd215d4260",
   "metadata": {},
   "outputs": [
    {
     "name": "stdout",
     "output_type": "stream",
     "text": [
      "my name\n"
     ]
    }
   ],
   "source": [
    "name = \"my name\"\n",
    "print(name)"
   ]
  },
  {
   "cell_type": "code",
   "execution_count": 13,
   "id": "3dacd3ac-f681-42ef-a57b-217db8cc5421",
   "metadata": {},
   "outputs": [
    {
     "data": {
      "text/plain": [
       "str"
      ]
     },
     "execution_count": 13,
     "metadata": {},
     "output_type": "execute_result"
    }
   ],
   "source": [
    "type(name)"
   ]
  },
  {
   "cell_type": "code",
   "execution_count": 14,
   "id": "3b14f8f7-de0f-4a3a-b49e-1aebf8a80a6c",
   "metadata": {},
   "outputs": [
    {
     "name": "stdout",
     "output_type": "stream",
     "text": [
      "I'm Sam\n",
      "I'm Sam\n"
     ]
    }
   ],
   "source": [
    "# 변수명으로 인식, 없는 변수 => 에러 my_name\n",
    "# single quote 안에 single quite를 문자로 인식\n",
    "# I'm Sam\n",
    "\n",
    "# 1. \\ 사용\n",
    "print('I\\'m Sam')\n",
    "\n",
    "#2. \"\"사용\n",
    "print(\"I'm Sam\")\n"
   ]
  },
  {
   "cell_type": "markdown",
   "id": "5cda14af-908e-4a88-b168-6292a73133ca",
   "metadata": {},
   "source": [
    "## 변수명 정하기\n",
    "- 소문자(a~z), 대문자(A~Z), 숫자(0~9), 언더바(_) 사용한다.\n",
    "    -예: 'name', 'my_name'\n",
    "    -불가능한 예: 'my-name', '3name'\n",
    "- 변수명으로 사용할 수 없는 케이스\n",
    "    1. 숫자로 시작할 수 없다.\n",
    "    2. 예약어는 사용할 수 없다."
   ]
  },
  {
   "cell_type": "code",
   "execution_count": 17,
   "id": "1b9ac27e-ee93-4844-82d8-afed037f46bc",
   "metadata": {},
   "outputs": [
    {
     "data": {
      "text/plain": [
       "'Lee'"
      ]
     },
     "execution_count": 17,
     "metadata": {},
     "output_type": "execute_result"
    }
   ],
   "source": [
    "name = 'Lee'\n",
    "name"
   ]
  },
  {
   "cell_type": "code",
   "execution_count": 26,
   "id": "5d8a326f-5409-40eb-b6ed-f1eefbb72d97",
   "metadata": {},
   "outputs": [],
   "source": [
    "# 숫자는 변수명 맨 앞에 올 수 없다. 예: 3name = kim "
   ]
  },
  {
   "cell_type": "code",
   "execution_count": 27,
   "id": "22eb2186-312a-470a-937e-34398db05002",
   "metadata": {},
   "outputs": [],
   "source": [
    "# 예약어는 변수명으로 사용할 수 없다.\n",
    "- 예: def = \"Hwang\", 즉 def, False, True 등은 예약어이므로 변수명으로 사용하면 안된다."
   ]
  },
  {
   "cell_type": "markdown",
   "id": "4817998f-27eb-4662-9c7f-eb89e8efa826",
   "metadata": {},
   "source": [
    "- 주의할 점 (특별한 용도가 있어서 일반적으로 사용하지 않는 변수명 타입)\n",
    "    1. 언더바로 시작하는 변수명\n",
    "        예: _name\n",
    "    2. 언더바가 2개 있는 변수명\n",
    "        예: _name_\n",
    "    3. 대문자로 시작하는 변수명\n",
    "        예: Car\n",
    "    4. 전체가 대문자인 변수명\n",
    "        예: CAR\n",
    "        \n",
    "    "
   ]
  },
  {
   "cell_type": "code",
   "execution_count": 22,
   "id": "39fc9921-f591-4bfe-8c91-d07e089911c5",
   "metadata": {},
   "outputs": [],
   "source": [
    "# number != Number\n",
    "word1 = 'number'\n",
    "word2 = 'Number'"
   ]
  },
  {
   "cell_type": "code",
   "execution_count": 23,
   "id": "71710904-b9d1-452d-81b0-5bb8e5928a14",
   "metadata": {},
   "outputs": [
    {
     "data": {
      "text/plain": [
       "False"
      ]
     },
     "execution_count": 23,
     "metadata": {},
     "output_type": "execute_result"
    }
   ],
   "source": [
    "word1 == word2 # 대소문자 구분한다."
   ]
  },
  {
   "cell_type": "code",
   "execution_count": 24,
   "id": "ab68d663-91ef-437e-b810-f99902a902a7",
   "metadata": {},
   "outputs": [
    {
     "data": {
      "text/plain": [
       "True"
      ]
     },
     "execution_count": 24,
     "metadata": {},
     "output_type": "execute_result"
    }
   ],
   "source": [
    "word1 != word2"
   ]
  },
  {
   "cell_type": "code",
   "execution_count": 28,
   "id": "e1953426-d302-4bc1-9b64-c90d41bf54cb",
   "metadata": {},
   "outputs": [
    {
     "name": "stdout",
     "output_type": "stream",
     "text": [
      "\n",
      "Here is a list of the Python keywords.  Enter any keyword to get more help.\n",
      "\n",
      "False               break               for                 not\n",
      "None                class               from                or\n",
      "True                continue            global              pass\n",
      "__peg_parser__      def                 if                  raise\n",
      "and                 del                 import              return\n",
      "as                  elif                in                  try\n",
      "assert              else                is                  while\n",
      "async               except              lambda              with\n",
      "await               finally             nonlocal            yield\n",
      "\n"
     ]
    }
   ],
   "source": [
    "help(\"keywords\") #예약어 알려줌"
   ]
  },
  {
   "cell_type": "markdown",
   "id": "42caa0b4-0f2a-46da-9894-8bf4fe5f98b5",
   "metadata": {},
   "source": [
    "### 할당하기\n",
    "- 수학에서는 =가 양변이 같음을 의미하는데, 프로그램에서는 할당을 의미한다.\n",
    "    예: `name = 'Lee'`\n",
    "    - Lee라는 값을 name에 넣는 것.\n",
    "- 오른쪽에 있는 모든 것은 값을 가져야 한다. (\"초기화\")\n",
    "- 오른쪽의 값을 왼쪽에 할당한다.\n",
    "- 예) , y = x + 5를 계산 => x = 4라고 할당해주기 => y = x + 5 => y = 9가 나온다.\n",
    "- 처음부터 y = x + 5로 프로그램을 시작하면 변수 x에 값이 없으므로 오류가 발생한다.\n"
   ]
  },
  {
   "cell_type": "code",
   "execution_count": 30,
   "id": "c543d34d-0e1f-44f4-bca6-f5ffa35ca459",
   "metadata": {},
   "outputs": [],
   "source": [
    "car = 'hyundai'"
   ]
  },
  {
   "cell_type": "code",
   "execution_count": 31,
   "id": "cd7c1c28-9698-495c-bdd6-126064183140",
   "metadata": {},
   "outputs": [],
   "source": [
    "kia = 'kia' #값을 초기화 해주는 것=> 가능\n",
    "truck = kia  # 없는 값이기 때문에 안됨-오류가 나타남. "
   ]
  },
  {
   "cell_type": "code",
   "execution_count": 32,
   "id": "57a19363-1d09-42f3-9afa-747059b3caaa",
   "metadata": {},
   "outputs": [
    {
     "name": "stdout",
     "output_type": "stream",
     "text": [
      "2 12\n"
     ]
    }
   ],
   "source": [
    "x = 2 \n",
    "y = x + 10 # name 'x' is not defined\n",
    "print(x,y)"
   ]
  },
  {
   "cell_type": "code",
   "execution_count": 33,
   "id": "ec745ea3-21f8-45b4-b558-99959ba47b8b",
   "metadata": {},
   "outputs": [
    {
     "data": {
      "text/plain": [
       "str"
      ]
     },
     "execution_count": 33,
     "metadata": {},
     "output_type": "execute_result"
    }
   ],
   "source": [
    "type(car) "
   ]
  },
  {
   "cell_type": "code",
   "execution_count": 34,
   "id": "e637043f-b07c-4095-a7ef-199db1362f39",
   "metadata": {},
   "outputs": [],
   "source": [
    "# str car = 'kia'\n",
    "car = 'kia'"
   ]
  },
  {
   "cell_type": "code",
   "execution_count": 35,
   "id": "5e1afe41-62cd-4afd-a129-e783d8dafe47",
   "metadata": {},
   "outputs": [
    {
     "data": {
      "text/plain": [
       "'kia'"
      ]
     },
     "execution_count": 35,
     "metadata": {},
     "output_type": "execute_result"
    }
   ],
   "source": [
    "car #hyundai가 아닌 kia로 나옴, 변수명 헷갈리지 않게 설정하기\n",
    "# 변수 이름을 설정할 때 안좋은 예: a, b, c, ... 알파벳 하나로 설정하는 것/ num1, num2, num3, ... 하나의 변수 이름에 숫자로 나누기 등은 헷갈릴 수 있음. \n",
    "# 의미 있는 이름으로 선언해야한다."
   ]
  },
  {
   "cell_type": "code",
   "execution_count": null,
   "id": "cdf095d3-7eb6-4ec3-8628-8469180233de",
   "metadata": {},
   "outputs": [],
   "source": []
  }
 ],
 "metadata": {
  "kernelspec": {
   "display_name": "Python 3 (ipykernel)",
   "language": "python",
   "name": "python3"
  },
  "language_info": {
   "codemirror_mode": {
    "name": "ipython",
    "version": 3
   },
   "file_extension": ".py",
   "mimetype": "text/x-python",
   "name": "python",
   "nbconvert_exporter": "python",
   "pygments_lexer": "ipython3",
   "version": "3.9.7"
  }
 },
 "nbformat": 4,
 "nbformat_minor": 5
}
" # Ch02 연습문제\n",
" #1. 정수 99를 변수 prince에 할당하고 출력해보기 \n",
" prince = 99 \n",
" print(prince) \n",
" #2. 값 5는 어떤 타입인가? \n",
" type(5) \n",
" #3. 값 2.0은 어떤 타입인가? \n",
" type(2.0) \n",
" #4. 표현식 5 + 2.0은 어떤 타입인가? \n",
" type(5 +2.0)"
