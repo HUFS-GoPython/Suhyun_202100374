{
 "cells": [
  {
   "cell_type": "code",
   "execution_count": 1,
   "id": "c57148be-ba46-409a-a2bd-1f4c30e983f8",
   "metadata": {},
   "outputs": [
    {
     "name": "stdin",
     "output_type": "stream",
     "text": [
      " hello world\n"
     ]
    },
    {
     "name": "stdout",
     "output_type": "stream",
     "text": [
      "{'h': ['h'], 'd': ['d'], 'o': ['o', 'o'], 'r': ['r'], 'w': ['w'], 'l': ['l', 'l', 'l'], 'e': ['e']}\n"
     ]
    }
   ],
   "source": [
    "#project1-1\n",
    "\"\"\"\n",
    "input(텍스트 입력받고 소문자로 변환)\n",
    "\n",
    "for 텍스트 셋의 문자 돌면서:\n",
    "    문자가 알파벳이면 {문자: [문자] * 문자 개수}\n",
    "endfor\n",
    "\n",
    "딕셔너리 출력\n",
    "\"\"\"\n",
    "text = input().lower()\n",
    "final_dict = {char: [char] * (text.count(char)) for char in set(text) if char.isalpha()}\n",
    "print(final_dict)\n"
   ]
  },
  {
   "cell_type": "code",
   "execution_count": 1,
   "id": "7427bc65-e5ff-44d1-ab56-9ea87a878732",
   "metadata": {},
   "outputs": [
    {
     "name": "stdout",
     "output_type": "stream",
     "text": [
      "['aha', 'bib', 'bob', 'boob', 'bub', 'civic', 'dad', 'deed', 'deified', 'did', 'dud', 'eke', 'ere', 'eve', 'ewe', 'eye', 'gag', 'gig', 'hah', 'huh', 'kayak', 'kook', 'level', 'madam', 'minim', 'mom', 'mum', 'noon', 'nun', 'oho', 'pap', 'peep', 'pep', 'pip', 'poop', 'pop', 'pullup', 'pup', 'radar', 'redder', 'refer', 'rotor', 'sagas', 'sees', 'sexes', 'shahs', 'sis', 'solos', 'sos', 'stats', 'stets', 'tat', 'tenet', 'tit', 'toot', 'tot', 'tut', 'wow']\n"
     ]
    }
   ],
   "source": [
    "#project1-2\n",
    "\"\"\"\n",
    "파일 오픈:\n",
    "    파일 내용을 공백 단위로 나눈 단어에 알파벳만 남겨진(특수문자 제거한) 리스트\n",
    "\n",
    "for 파일 리스트의 단어 돌면서:\n",
    "    단어 길이가 1보다 크고, 회문인 단어만 리스트로\n",
    "endfor\n",
    "\n",
    "회문 리스트 출력\n",
    "\"\"\"\n",
    "with open('C:/Users/user/Desktop/dictionary.txt', 'rt', encoding='UTF8') as f:\n",
    "    dict_file = [''.join([char for char in WORD if char.isalpha()]) for WORD in f.read().split()]\n",
    "palindrome = [WORD for WORD in dict_file if (len(WORD) > 1) and (WORD == WORD[::-1])]\n",
    "print(palindrome)\n"
   ]
  },
  {
   "cell_type": "code",
   "execution_count": 7,
   "id": "a24f93f4-364a-474a-9edc-66637fc00b18",
   "metadata": {},
   "outputs": [],
   "source": [
    "from collections import defaultdict"
   ]
  },
  {
   "cell_type": "markdown",
   "id": "b1755722-7acb-4500-a237-781325348405",
   "metadata": {},
   "source": [
    "### defaultdict\n",
    "- 값이 없으면 0으로 설정될 수 있게 해주는 딕셔너리\n",
    "- defaultdict(list) #[] - 빈 리스트"
   ]
  },
  {
   "cell_type": "code",
   "execution_count": 77,
   "id": "54933f5f-b990-44a6-be8b-5e183b4352f4",
   "metadata": {},
   "outputs": [],
   "source": [
    "letter ='defaultdict'\n",
    "empty = {} # a : [a, a]\n",
    "for ch in letter:\n",
    "    #if empty[ch] = 0\n",
    "    #else 값을 넣어라\n",
    "    empty.setdefault(ch, 0) # a(키)가 없으면 기본값으로 0을 넣어라\n",
    "    empty[ch] +=1 # 키에 1을 넣는 것임"
   ]
  },
  {
   "cell_type": "code",
   "execution_count": 78,
   "id": "49394c8f-05c3-439e-9bab-b40753f30df1",
   "metadata": {},
   "outputs": [
    {
     "data": {
      "text/plain": [
       "{'d': 2, 'e': 1, 'f': 1, 'a': 1, 'u': 1, 'l': 1, 't': 2, 'i': 1, 'c': 1}"
      ]
     },
     "execution_count": 78,
     "metadata": {},
     "output_type": "execute_result"
    }
   ],
   "source": [
    "empty"
   ]
  },
  {
   "cell_type": "code",
   "execution_count": 79,
   "id": "74cd4f01-359a-4164-a104-15c80dee2729",
   "metadata": {},
   "outputs": [
    {
     "data": {
      "text/plain": [
       "defaultdict(int,\n",
       "            {'d': 2,\n",
       "             'e': 1,\n",
       "             'f': 1,\n",
       "             'a': 1,\n",
       "             'u': 1,\n",
       "             'l': 1,\n",
       "             't': 2,\n",
       "             'i': 1,\n",
       "             'c': 1})"
      ]
     },
     "execution_count": 79,
     "metadata": {},
     "output_type": "execute_result"
    }
   ],
   "source": [
    "# defaultdict 이용했을 때 더ㅓ 짧게 코드를 짤 수 있음\n",
    "empty2 = defaultdict(int)\n",
    "for ch in letter:\n",
    "    empty2[ch] +=1\n",
    "empty2"
   ]
  },
  {
   "cell_type": "markdown",
   "id": "065791fb-6523-4719-a24f-d8a90a030184",
   "metadata": {},
   "source": [
    "## Object & Class\n",
    "- 객체? 실제적인 물건, 개념\n",
    "- 속성, 행동을 가지는 개념\n",
    "- 자동차\n",
    "    - 속성: 엔진, 브랜드, 가격, 색상, 이름, ..=> 변수\n",
    "    - 행동: 나가다, 정지하다, 좌회전, 우회전 => 매서드 (함수)\n",
    "- 고양이\n",
    "    - 속성: 종류, 이름, 컬러, 몸무게, 성별, ..\n",
    "    - 행동: 짖다, 뛰다, 째려보다, ..\n",
    "- 사전\n",
    "    - 속성: 글자 수, 시작 글자, 출현 빈도수, ..\n",
    "    - 행동: 추가하다, 제외하다, ..\n",
    "- 관련 짓는 방법\n",
    "    - 사람이 상점에 가서 물건을 샀다./ 사람 상점 물건 (3가지 객체로 나타냄)\n",
    "    - 사람(이름, 돈-속성)    상점(제고, 이익, 고객명단)     물건(브랜드, 이름, 가격)\n",
    "    - 사다              회원등록, 팔다, 수익계산\n",
    "- 객체 사용하는 이유: 코드 재사용 수월"
   ]
  },
  {
   "cell_type": "markdown",
   "id": "6cf45b69-b830-4a59-b27a-eb1f4df058f6",
   "metadata": {},
   "source": [
    "### 클래스\n",
    "- 객체가 가져야 할 기본 정보를 담은 코드\n",
    "- 설계도, 틀, 프레임워크\n",
    "- 붕어빵의 틀\n",
    "- 붕어빵 == 인스턴스\n",
    "- `class Car:`\n",
    "    - 클래스명은 카멜표기법을 쓴다.(언더바 안쓰고)"
   ]
  },
  {
   "cell_type": "code",
   "execution_count": 85,
   "id": "964335cc-4898-4e1e-bffb-0f21c77ba3e6",
   "metadata": {},
   "outputs": [
    {
     "data": {
      "text/plain": [
       "<__main__.Car at 0x2083a895490>"
      ]
     },
     "execution_count": 85,
     "metadata": {},
     "output_type": "execute_result"
    }
   ],
   "source": [
    "# 정의\n",
    "class Car:\n",
    "    pass # 비어있다\n",
    "# 선언 (괄호 꼭 쓸 것)\n",
    "car1 = Car()\n",
    "car1\n",
    "# Car에 속성이나 변수 아무것도 없는 상태\n",
    "# class-같은 속성을 가지고 있는 객체\n",
    "# 코드를 더 효율적으로 쓰기 위해 만듦- 서로 다른 속성을 하나로 만들 수 있으므로"
   ]
  },
  {
   "cell_type": "code",
   "execution_count": 81,
   "id": "49a449e6-829f-479e-8c0a-cfca43f1c892",
   "metadata": {},
   "outputs": [
    {
     "data": {
      "text/plain": [
       "<__main__.Car at 0x2083c284460>"
      ]
     },
     "execution_count": 81,
     "metadata": {},
     "output_type": "execute_result"
    }
   ],
   "source": [
    "car2 = Car()\n",
    "car2\n",
    "# 다른 곳에 저장되어 있으나 type은 같음"
   ]
  },
  {
   "cell_type": "code",
   "execution_count": 82,
   "id": "23d22d08-e4d1-4bdb-a930-971dd5b33f5c",
   "metadata": {},
   "outputs": [
    {
     "data": {
      "text/plain": [
       "__main__.Car"
      ]
     },
     "execution_count": 82,
     "metadata": {},
     "output_type": "execute_result"
    }
   ],
   "source": [
    "type(car2) # nltk.book type==Text (클래스)"
   ]
  },
  {
   "cell_type": "code",
   "execution_count": 17,
   "id": "0f645656-b4e4-4b25-8df1-c9eead396de4",
   "metadata": {},
   "outputs": [],
   "source": [
    "car1.brand = 'mercedes'\n",
    "car2.brand = 'kia'"
   ]
  },
  {
   "cell_type": "code",
   "execution_count": 18,
   "id": "c2ecfb28-0bc7-4631-b8cc-3725f5539422",
   "metadata": {},
   "outputs": [
    {
     "name": "stdout",
     "output_type": "stream",
     "text": [
      "mercedes\n",
      "kia\n"
     ]
    }
   ],
   "source": [
    "for car in [car1, car2]:\n",
    "    print(car.brand)"
   ]
  },
  {
   "cell_type": "code",
   "execution_count": 86,
   "id": "384eab42-bbb8-44bf-bace-2b6fc626d704",
   "metadata": {},
   "outputs": [],
   "source": [
    "class Car:\n",
    "    brand = 'mercedes'\n",
    "    # 속성 정해줌\n",
    "car3 = Car()\n",
    "# brand name을 정해줌"
   ]
  },
  {
   "cell_type": "code",
   "execution_count": 87,
   "id": "35af520b-df26-4f87-83e2-d937e6c49fa5",
   "metadata": {},
   "outputs": [
    {
     "data": {
      "text/plain": [
       "'mercedes'"
      ]
     },
     "execution_count": 87,
     "metadata": {},
     "output_type": "execute_result"
    }
   ],
   "source": [
    "car3.brand\n",
    "# 이미 브랜드가 정해져있음"
   ]
  },
  {
   "cell_type": "code",
   "execution_count": 91,
   "id": "1880d82b-5736-4786-884a-82fed44ccd3a",
   "metadata": {},
   "outputs": [],
   "source": [
    "# 다양한 속성을 원한다.\n",
    "class Car:\n",
    "    def __init__(self, brand): # 속성을 초기화하는 함수(self == my_car)\n",
    "        # 첫 번째는 항상 예외없이 self\n",
    "        self.brand = brand # 초기화 한 것임, self == instance"
   ]
  },
  {
   "cell_type": "code",
   "execution_count": 93,
   "id": "1a94c4a0-cb1a-4869-8d34-0beaeb08d9c4",
   "metadata": {},
   "outputs": [
    {
     "data": {
      "text/plain": [
       "'toyota'"
      ]
     },
     "execution_count": 93,
     "metadata": {},
     "output_type": "execute_result"
    }
   ],
   "source": [
    "my_car = Car(brand = 'toyota')\n",
    "my_car.brand"
   ]
  },
  {
   "cell_type": "code",
   "execution_count": 103,
   "id": "dd8467de-cc77-4a40-90a4-5ad44fa63756",
   "metadata": {},
   "outputs": [],
   "source": [
    "class Car:\n",
    "    def __init__(self, brand, model, color):\n",
    "        self.brand = brand\n",
    "        self.model = model\n",
    "        self.color = color\n",
    "my_morning = Car('kia', 'morning', 'black')\n",
    "# 순서대로 하면 바로 써도 됨\n",
    "# 3개 설정했으면 밑에도 3개로"
   ]
  },
  {
   "cell_type": "code",
   "execution_count": 100,
   "id": "d8fcf1d9-6101-47c5-a64c-3682a9ff2a4c",
   "metadata": {},
   "outputs": [
    {
     "data": {
      "text/plain": [
       "'black'"
      ]
     },
     "execution_count": 100,
     "metadata": {},
     "output_type": "execute_result"
    }
   ],
   "source": [
    "my_morning.color"
   ]
  },
  {
   "cell_type": "code",
   "execution_count": 101,
   "id": "ff18deb9-545b-46a0-afed-9c62462fa3eb",
   "metadata": {},
   "outputs": [
    {
     "data": {
      "text/plain": [
       "'morning'"
      ]
     },
     "execution_count": 101,
     "metadata": {},
     "output_type": "execute_result"
    }
   ],
   "source": [
    "my_morning.model"
   ]
  },
  {
   "cell_type": "code",
   "execution_count": 102,
   "id": "9d5657c6-a948-4df6-a2bd-e74136a96a1a",
   "metadata": {},
   "outputs": [
    {
     "data": {
      "text/plain": [
       "'kia'"
      ]
     },
     "execution_count": 102,
     "metadata": {},
     "output_type": "execute_result"
    }
   ],
   "source": [
    "my_morning.brand"
   ]
  },
  {
   "cell_type": "code",
   "execution_count": 107,
   "id": "98a732d5-4d20-407c-bb08-2018cbc91b37",
   "metadata": {},
   "outputs": [],
   "source": [
    "# 색 바꾸기\n",
    "my_morning.color = 'white' # 이 객체에 대해서만 속성 바꾸기"
   ]
  },
  {
   "cell_type": "code",
   "execution_count": 106,
   "id": "39de8f21-4c89-4dc3-9dc7-4919ebd822bc",
   "metadata": {},
   "outputs": [
    {
     "data": {
      "text/plain": [
       "'white'"
      ]
     },
     "execution_count": 106,
     "metadata": {},
     "output_type": "execute_result"
    }
   ],
   "source": [
    "my_morning.color"
   ]
  },
  {
   "cell_type": "code",
   "execution_count": 108,
   "id": "867c8aef-1256-40ae-877e-b1c1435c284d",
   "metadata": {},
   "outputs": [
    {
     "data": {
      "text/plain": [
       "'yellow'"
      ]
     },
     "execution_count": 108,
     "metadata": {},
     "output_type": "execute_result"
    }
   ],
   "source": [
    "my_sorento = Car('kia', 'sorento', 'yellow')\n",
    "my_sorento.color"
   ]
  },
  {
   "cell_type": "code",
   "execution_count": 114,
   "id": "703ace36-950f-4044-ad09-0b4db2182248",
   "metadata": {},
   "outputs": [],
   "source": [
    "class Car:\n",
    "    def __init__(self, brand, model, color):\n",
    "        self.brand = brand\n",
    "        # self.brand= 어떤 객체가 만들어지더라도 가져갈 브랜드명\n",
    "        # brand = 객체 생성 시 설정되는 브랜드명 (처음에 들어오는 값)\n",
    "        self.model = model\n",
    "        self.color = color\n",
    "    \n",
    "    # action 정의하기- 매소드로 한다\n",
    "    def drive(self):\n",
    "        # 내차 (브랜드=모닝)이 움직인다.\n",
    "        # 인자가 필요없어도 self 쓰기\n",
    "        print(f'내차(브랜드={self.brand})가 움직인다.')\n",
    "        # print('차가 움직인다.')\n",
    "        \n",
    "    def stop(self):\n",
    "        print('차가 멈춘다.')\n",
    "        \n",
    "    def change_color(self):\n",
    "        # self.color -> 'pink' 바꾼다\n",
    "        self.color = 'pink'\n",
    "my_morning = Car('kia', 'morning', 'black')"
   ]
  },
  {
   "cell_type": "code",
   "execution_count": 115,
   "id": "a0406d4a-2759-40e0-a765-22ecd42811e5",
   "metadata": {},
   "outputs": [
    {
     "data": {
      "text/plain": [
       "'black'"
      ]
     },
     "execution_count": 115,
     "metadata": {},
     "output_type": "execute_result"
    }
   ],
   "source": [
    "my_morning.color"
   ]
  },
  {
   "cell_type": "code",
   "execution_count": 112,
   "id": "1ae847f9-41b5-4611-81b9-6d6b598db705",
   "metadata": {},
   "outputs": [
    {
     "name": "stdout",
     "output_type": "stream",
     "text": [
      "내차(브랜드=kia)가 움직인다.\n"
     ]
    }
   ],
   "source": [
    "my_morning.drive() # 함수를 실행하는 것이므로 () 필요"
   ]
  },
  {
   "cell_type": "code",
   "execution_count": 124,
   "id": "814e48e4-794c-4201-9e39-1aa30097654e",
   "metadata": {},
   "outputs": [],
   "source": [
    "class Car:\n",
    "    def __init__(self, brand, model= None, color='orange'):\n",
    "        self.brand = brand\n",
    "        # self.brand= 어떤 객체가 만들어지더라도 가져갈 브랜드명\n",
    "        # brand = 개테 생성 시 설정되는 브랜드명 (처음에 들어오는 값)\n",
    "        self.model = model\n",
    "        self.color = color\n",
    "        \n",
    "        # model 기본적으로는 값을 안 받아도 되게 설정하기\n",
    "        \n",
    "    # action 정의하기\n",
    "    def drive(self):\n",
    "        print(f'내차(브랜드={self.brand})가 움직인다.')\n",
    "    \n",
    "    def stop(self):\n",
    "        print('차가 멈춘다.')\n",
    "    \n",
    "    def change_color(self, color):\n",
    "        self.color = 'pink'\n",
    "        self.color = color\n",
    "        # 입력되는 컬러로 설정하기\n",
    "        \n",
    "my_morning = Car('kia')\n",
    "#my_morning.change_color('blue')"
   ]
  },
  {
   "cell_type": "code",
   "execution_count": 125,
   "id": "48d83f03-e8bc-49c0-8948-65ad3ff74c62",
   "metadata": {},
   "outputs": [],
   "source": [
    "my_morning.model\n",
    "# 안뜨는게 맞음"
   ]
  },
  {
   "cell_type": "code",
   "execution_count": 126,
   "id": "a47248bf-9627-4274-a7d1-43cead840caa",
   "metadata": {},
   "outputs": [
    {
     "data": {
      "text/plain": [
       "'orange'"
      ]
     },
     "execution_count": 126,
     "metadata": {},
     "output_type": "execute_result"
    }
   ],
   "source": [
    "my_morning.color"
   ]
  },
  {
   "cell_type": "code",
   "execution_count": 128,
   "id": "d2a2f1ca-730a-4835-ac4f-db3e9893b5ee",
   "metadata": {},
   "outputs": [],
   "source": [
    "#my_morning.color('입력값')"
   ]
  },
  {
   "cell_type": "markdown",
   "id": "7c146fe5-f29e-4cf7-bb82-ea2035254190",
   "metadata": {},
   "source": [
    "### getter, setter\n",
    "- 캡슐화, 정보 은닉\n",
    "- 클래스 외부에서 변수 접근을 응이하지\n",
    "- public -> private (자바)/ 파이썬은 없음"
   ]
  },
  {
   "cell_type": "code",
   "execution_count": 49,
   "id": "d29bb38c-124f-4bea-b9bf-e64a73e41443",
   "metadata": {},
   "outputs": [],
   "source": [
    "#1. 틀에서 변수를 바꾸는 것\n",
    "#2. 인스턴스에서 변수를 바꾸는 것"
   ]
  },
  {
   "cell_type": "code",
   "execution_count": 50,
   "id": "2a725a77-5fbd-4b8e-85fd-3e4421a04d52",
   "metadata": {},
   "outputs": [],
   "source": [
    "class Fruit:\n",
    "    color = 'red'"
   ]
  },
  {
   "cell_type": "code",
   "execution_count": 51,
   "id": "e1de8a7e-a47e-46d0-aa82-f7835329e41b",
   "metadata": {},
   "outputs": [
    {
     "data": {
      "text/plain": [
       "'red'"
      ]
     },
     "execution_count": 51,
     "metadata": {},
     "output_type": "execute_result"
    }
   ],
   "source": [
    "apple = Fruit()\n",
    "apple.color"
   ]
  },
  {
   "cell_type": "code",
   "execution_count": 52,
   "id": "8e4f3777-41c4-4bba-8598-c6f70c4682c7",
   "metadata": {},
   "outputs": [],
   "source": [
    "Fruit.color = 'puple'"
   ]
  },
  {
   "cell_type": "code",
   "execution_count": 53,
   "id": "2b1f7e86-613e-4367-bff5-336c609673d3",
   "metadata": {},
   "outputs": [
    {
     "data": {
      "text/plain": [
       "'puple'"
      ]
     },
     "execution_count": 53,
     "metadata": {},
     "output_type": "execute_result"
    }
   ],
   "source": [
    "orange = Fruit()\n",
    "orange.color"
   ]
  },
  {
   "cell_type": "code",
   "execution_count": 129,
   "id": "2b08aa08-c976-4b8c-be09-591278599549",
   "metadata": {},
   "outputs": [],
   "source": [
    "class Car:\n",
    "    def __init__(self, input_brand):\n",
    "        self. brand = input_brand\n",
    "    \n",
    "    def get_brand(self):\n",
    "        # 원래 변수명에 접근하도록\n",
    "        print('from the getter')\n",
    "        return self.brand\n",
    "    \n",
    "    def set_brand(self, input_brand):\n",
    "        # 변수명을 바꾸는 작업\n",
    "        print('from the setter')\n",
    "        self.brand = input_brand"
   ]
  },
  {
   "cell_type": "code",
   "execution_count": 130,
   "id": "e25181b6-271e-44fd-bee1-1c2e8c11f407",
   "metadata": {},
   "outputs": [
    {
     "data": {
      "text/plain": [
       "'toyota'"
      ]
     },
     "execution_count": 130,
     "metadata": {},
     "output_type": "execute_result"
    }
   ],
   "source": [
    "ex = Car('toyota')\n",
    "ex.brand"
   ]
  },
  {
   "cell_type": "code",
   "execution_count": 131,
   "id": "a6f37394-0e26-4836-9bea-424a505d42d0",
   "metadata": {},
   "outputs": [
    {
     "name": "stdout",
     "output_type": "stream",
     "text": [
      "from the getter\n"
     ]
    },
    {
     "data": {
      "text/plain": [
       "'toyota'"
      ]
     },
     "execution_count": 131,
     "metadata": {},
     "output_type": "execute_result"
    }
   ],
   "source": [
    "ex.get_brand()"
   ]
  },
  {
   "cell_type": "code",
   "execution_count": 132,
   "id": "94e2723e-c43f-43d5-82e1-b81aa486886b",
   "metadata": {},
   "outputs": [
    {
     "name": "stdout",
     "output_type": "stream",
     "text": [
      "from the setter\n"
     ]
    }
   ],
   "source": [
    "ex.set_brand('mazuda')"
   ]
  },
  {
   "cell_type": "code",
   "execution_count": 133,
   "id": "ed71115f-6a1f-4b8e-a020-835bb732693a",
   "metadata": {},
   "outputs": [
    {
     "data": {
      "text/plain": [
       "'mazuda'"
      ]
     },
     "execution_count": 133,
     "metadata": {},
     "output_type": "execute_result"
    }
   ],
   "source": [
    "ex.brand"
   ]
  },
  {
   "cell_type": "code",
   "execution_count": 134,
   "id": "6fb4831c-359c-47bb-9bce-7686e71b8c84",
   "metadata": {},
   "outputs": [
    {
     "name": "stdout",
     "output_type": "stream",
     "text": [
      "from the getter\n"
     ]
    },
    {
     "data": {
      "text/plain": [
       "'mazuda'"
      ]
     },
     "execution_count": 134,
     "metadata": {},
     "output_type": "execute_result"
    }
   ],
   "source": [
    "ex.get_brand()"
   ]
  },
  {
   "cell_type": "code",
   "execution_count": 64,
   "id": "c602da49-03d3-4484-9e13-fb5289c37f20",
   "metadata": {},
   "outputs": [],
   "source": [
    "Car.brand = 'bmw'"
   ]
  },
  {
   "cell_type": "code",
   "execution_count": 135,
   "id": "0faadcbf-6b56-40bb-86e4-add781dbe0b3",
   "metadata": {},
   "outputs": [
    {
     "data": {
      "text/plain": [
       "'toyota'"
      ]
     },
     "execution_count": 135,
     "metadata": {},
     "output_type": "execute_result"
    }
   ],
   "source": [
    "a = Car('toyota')\n",
    "a.brand"
   ]
  },
  {
   "cell_type": "code",
   "execution_count": 136,
   "id": "01bea862-3e09-40cc-a20f-86a05424ed95",
   "metadata": {},
   "outputs": [
    {
     "name": "stdout",
     "output_type": "stream",
     "text": [
      "from the getter\n"
     ]
    },
    {
     "data": {
      "text/plain": [
       "'toyota'"
      ]
     },
     "execution_count": 136,
     "metadata": {},
     "output_type": "execute_result"
    }
   ],
   "source": [
    "a.get_brand()"
   ]
  },
  {
   "cell_type": "markdown",
   "id": "702ecaa0-ca26-4825-a082-5a2c9ab8bd39",
   "metadata": {},
   "source": [
    "### 2.\n"
   ]
  },
  {
   "cell_type": "code",
   "execution_count": 138,
   "id": "886821d1-dd5a-4955-af57-04319f0306ec",
   "metadata": {},
   "outputs": [
    {
     "data": {
      "text/plain": [
       "'kia'"
      ]
     },
     "execution_count": 138,
     "metadata": {},
     "output_type": "execute_result"
    }
   ],
   "source": [
    "class Car:\n",
    "    def __init__(self,input_brand):\n",
    "        self.hidden_brand = input_brand\n",
    "        \n",
    "    def get_brand(self):\n",
    "        return self.hidden_brand\n",
    "   \n",
    "    # 내가 사용한 변수명\n",
    "    def set_brand(self,input_brand):\n",
    "        self.hidden_brand = input_brand\n",
    "        \n",
    "    brand = property(get_brand, set_brand)\n",
    "c = Car('kia')\n",
    "c.brand"
   ]
  },
  {
   "cell_type": "code",
   "execution_count": 69,
   "id": "3785d59e-ad7b-43d8-9186-8f075b0be958",
   "metadata": {},
   "outputs": [],
   "source": [
    "c.brand = 'hyundai'"
   ]
  },
  {
   "cell_type": "code",
   "execution_count": 71,
   "id": "438478df-ec18-4170-a48c-c576e459b69c",
   "metadata": {},
   "outputs": [],
   "source": [
    "Car.hidden_brand = 'toyota'"
   ]
  },
  {
   "cell_type": "code",
   "execution_count": 72,
   "id": "5ca517e8-161a-4730-b6a6-eb74cd17e1ff",
   "metadata": {},
   "outputs": [],
   "source": [
    "Car.brand = 'aa'"
   ]
  },
  {
   "cell_type": "markdown",
   "id": "7beaa623-0008-4bd1-8504-9bf1e1234e53",
   "metadata": {},
   "source": [
    "## 3."
   ]
  },
  {
   "cell_type": "code",
   "execution_count": 6,
   "id": "91150033-32ea-428a-8e00-3b00687f1717",
   "metadata": {},
   "outputs": [
    {
     "name": "stdout",
     "output_type": "stream",
     "text": [
      "kia\n",
      "lamborghini\n"
     ]
    }
   ],
   "source": [
    "# decorator : @...\n",
    "class Car :\n",
    "    def __init__(self, input_brand) :\n",
    "        self.hidden_brand = input_brand\n",
    "        \n",
    "    @property\n",
    "    def brand(self) : \n",
    "        return self.hidden_brand\n",
    "    \n",
    "    @brand.setter\n",
    "    def brand(self, input_brand) :\n",
    "        self.hidden_brand = input_brand\n",
    "        \n",
    "c = Car('kia')\n",
    "print(c.brand)\n",
    "\n",
    "c.brand = 'lamborghini'\n",
    "print(c.brand)"
   ]
  },
  {
   "cell_type": "markdown",
   "id": "528588e0-0d09-4165-af39-7cfb64ea634b",
   "metadata": {},
   "source": [
    "## 4."
   ]
  },
  {
   "cell_type": "code",
   "execution_count": 14,
   "id": "bf308110-b537-4b51-b700-e4cc79a5047c",
   "metadata": {},
   "outputs": [
    {
     "ename": "TypeError",
     "evalue": "descriptor 'setter' for 'property' objects doesn't apply to a 'function' object",
     "output_type": "error",
     "traceback": [
      "\u001b[1;31m---------------------------------------------------------------------------\u001b[0m",
      "\u001b[1;31mTypeError\u001b[0m                                 Traceback (most recent call last)",
      "\u001b[1;32m~\\AppData\\Local\\Temp/ipykernel_9308/3084792667.py\u001b[0m in \u001b[0;36m<module>\u001b[1;34m\u001b[0m\n\u001b[1;32m----> 1\u001b[1;33m \u001b[1;32mclass\u001b[0m \u001b[0mCar\u001b[0m\u001b[1;33m:\u001b[0m\u001b[1;33m\u001b[0m\u001b[1;33m\u001b[0m\u001b[0m\n\u001b[0m\u001b[0;32m      2\u001b[0m     \u001b[1;32mdef\u001b[0m \u001b[0m__init__\u001b[0m\u001b[1;33m(\u001b[0m\u001b[0mself\u001b[0m\u001b[1;33m,\u001b[0m \u001b[0minput_brand\u001b[0m\u001b[1;33m)\u001b[0m\u001b[1;33m:\u001b[0m\u001b[1;33m\u001b[0m\u001b[1;33m\u001b[0m\u001b[0m\n\u001b[0;32m      3\u001b[0m         \u001b[0mself\u001b[0m\u001b[1;33m.\u001b[0m\u001b[0m__brand\u001b[0m \u001b[1;33m=\u001b[0m \u001b[0minput_brand\u001b[0m\u001b[1;33m\u001b[0m\u001b[1;33m\u001b[0m\u001b[0m\n\u001b[0;32m      4\u001b[0m \u001b[1;33m\u001b[0m\u001b[0m\n\u001b[0;32m      5\u001b[0m     \u001b[1;33m@\u001b[0m\u001b[0mproperty\u001b[0m\u001b[1;33m\u001b[0m\u001b[1;33m\u001b[0m\u001b[0m\n",
      "\u001b[1;32m~\\AppData\\Local\\Temp/ipykernel_9308/3084792667.py\u001b[0m in \u001b[0;36mCar\u001b[1;34m()\u001b[0m\n\u001b[0;32m      8\u001b[0m \u001b[1;33m\u001b[0m\u001b[0m\n\u001b[0;32m      9\u001b[0m     \u001b[1;33m@\u001b[0m\u001b[0mproperty\u001b[0m\u001b[1;33m.\u001b[0m\u001b[0msetter\u001b[0m\u001b[1;33m\u001b[0m\u001b[1;33m\u001b[0m\u001b[0m\n\u001b[1;32m---> 10\u001b[1;33m     \u001b[1;32mdef\u001b[0m \u001b[0mbrand\u001b[0m\u001b[1;33m(\u001b[0m\u001b[0mself\u001b[0m\u001b[1;33m,\u001b[0m \u001b[0minput_brand\u001b[0m\u001b[1;33m)\u001b[0m\u001b[1;33m:\u001b[0m\u001b[1;33m\u001b[0m\u001b[1;33m\u001b[0m\u001b[0m\n\u001b[0m\u001b[0;32m     11\u001b[0m         \u001b[0mself\u001b[0m\u001b[1;33m.\u001b[0m\u001b[0m__brand\u001b[0m \u001b[1;33m=\u001b[0m \u001b[0minput_brand\u001b[0m\u001b[1;33m\u001b[0m\u001b[1;33m\u001b[0m\u001b[0m\n\u001b[0;32m     12\u001b[0m \u001b[1;33m\u001b[0m\u001b[0m\n",
      "\u001b[1;31mTypeError\u001b[0m: descriptor 'setter' for 'property' objects doesn't apply to a 'function' object"
     ]
    }
   ],
   "source": [
    "class Car:\n",
    "    def __init__(self, input_brand):\n",
    "        self.__brand = input_brand\n",
    "   \n",
    "    @property\n",
    "    def brand(self):\n",
    "        return self.__brand\n",
    "    \n",
    "    @property.setter\n",
    "    def brand(self, input_brand):\n",
    "        self.__brand = input_brand\n",
    "        \n",
    "c = Car('bb')\n",
    "c.__brand\n",
    "# self.__ 변수명으로 접근할 수 없다."
   ]
  },
  {
   "cell_type": "code",
   "execution_count": 12,
   "id": "ed84dd43-08d4-4184-a534-0cf91757fa77",
   "metadata": {},
   "outputs": [
    {
     "data": {
      "text/plain": [
       "'aa'"
      ]
     },
     "execution_count": 12,
     "metadata": {},
     "output_type": "execute_result"
    }
   ],
   "source": [
    "c.brand"
   ]
  },
  {
   "cell_type": "code",
   "execution_count": 76,
   "id": "2828f6fd-307e-4989-a2d6-7c6f193c6112",
   "metadata": {},
   "outputs": [
    {
     "data": {
      "text/plain": [
       "14"
      ]
     },
     "execution_count": 76,
     "metadata": {},
     "output_type": "execute_result"
    }
   ],
   "source": [
    "class Circle:\n",
    "    def __init__(self, radius):\n",
    "        self.radius = radius\n",
    "    @property\n",
    "    def diameter(self):\n",
    "        return self.radius * 2\n",
    "c = Circle(7)\n",
    "c.diameter"
   ]
  },
  {
   "cell_type": "code",
   "execution_count": 13,
   "id": "7fc27d86-39ad-4709-a880-0d119c07ff14",
   "metadata": {},
   "outputs": [],
   "source": [
    "class Car:\n",
    "    def __init__(self, input_brand):\n",
    "        self. brand = input_brand\n",
    "    def get_brand(self):\n",
    "        print('from the getter')\n",
    "        return self.brand\n",
    "    \n",
    "    def set_brand(self, input_brand):\n",
    "        print('from the setter')\n",
    "        self.brand = input_brand"
   ]
  },
  {
   "cell_type": "markdown",
   "id": "e2400a3d-65c7-4083-b0d9-d8d0a57fcdff",
   "metadata": {},
   "source": [
    "### 실습\n",
    "- 객체: 메모장 (노트),                        메모\n",
    "- 변수: 제목, 페이지번호, 메모                 글귀\n",
    "- 매서드: 추가, 삭제, 페이지번호               쓰기, 지우기\n",
    "- getter, setter 메모장 제목에 설정하기\n",
    "- '메모' 객체에 글귀를 추가한다\n",
    "- '메모장' 객체에 메모 추가\n",
    "- '페이지 번호가 늘어난다.\n",
    "- 메모를 삭제하려면 페이지번호가 줄어들고\n",
    "- 페이지가 300을 넘으면 메모 추가 못하게 막기\n",
    "- 페이지 번호로 메모 찾기"
   ]
  }
 ],
 "metadata": {
  "kernelspec": {
   "display_name": "Python 3 (ipykernel)",
   "language": "python",
   "name": "python3"
  },
  "language_info": {
   "codemirror_mode": {
    "name": "ipython",
    "version": 3
   },
   "file_extension": ".py",
   "mimetype": "text/x-python",
   "name": "python",
   "nbconvert_exporter": "python",
   "pygments_lexer": "ipython3",
   "version": "3.9.7"
  }
 },
 "nbformat": 4,
 "nbformat_minor": 5
}
