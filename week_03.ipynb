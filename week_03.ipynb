{
 "cells": [
  {
   "cell_type": "markdown",
   "id": "1579810d-78eb-4556-a335-02cddb1e3262",
   "metadata": {},
   "source": [
    "## 중첩조건문\n",
    "- nested conditional\n",
    "- if 블록 안에 또다른 if 블록이 있는 경우\n",
    "- 들여쓰기로 논리를 구분한다."
   ]
  },
  {
   "cell_type": "code",
   "execution_count": 1,
   "id": "76a2bdef-e617-4069-9231-87af5bfd7337",
   "metadata": {},
   "outputs": [
    {
     "name": "stdout",
     "output_type": "stream",
     "text": [
      "Block B\n"
     ]
    }
   ],
   "source": [
    "x = 0\n",
    "y = 1\n",
    "if x == y:\n",
    "    print(\"Block A\")\n",
    "else:\n",
    "    if x < y:\n",
    "        print(\"Block B\")\n",
    "    else:\n",
    "        print(\"Block C\")\n",
    "# 안좋은 예1"
   ]
  },
  {
   "cell_type": "code",
   "execution_count": 2,
   "id": "c7151c5f-8acc-4866-87ee-ca50842c0696",
   "metadata": {},
   "outputs": [
    {
     "name": "stdout",
     "output_type": "stream",
     "text": [
      "Block c\n"
     ]
    }
   ],
   "source": [
    "if x > 0:\n",
    "    if x < 10:\n",
    "        print(\"Block A\")\n",
    "    else:\n",
    "        print(\"Block B\")\n",
    "else:\n",
    "    print(\"Block c\")\n",
    "    \n",
    "# 안좋은 예2  "
   ]
  },
  {
   "cell_type": "code",
   "execution_count": 2,
   "id": "a077a88d-36ab-4066-9303-f1870a88e836",
   "metadata": {},
   "outputs": [
    {
     "name": "stdout",
     "output_type": "stream",
     "text": [
      "block b\n"
     ]
    }
   ],
   "source": [
    "x = 0\n",
    "y = 1\n",
    "if x == y:\n",
    "    print(\"block a\")\n",
    "elif x < y:\n",
    "    print(\"block b\")\n",
    "else:\n",
    "    print(\"block c\")"
   ]
  },
  {
   "cell_type": "code",
   "execution_count": 3,
   "id": "cc7376a2-c2dc-4dce-b89a-79e92a358898",
   "metadata": {},
   "outputs": [
    {
     "name": "stdout",
     "output_type": "stream",
     "text": [
      "block b\n",
      "block b\n"
     ]
    }
   ],
   "source": [
    "# 방법 1\n",
    "if (x > 0) and (x < 10): # 논리연산자 / 괄호 사용해도 되고 안해도 됨\n",
    "    print(\"block a\")\n",
    "else:\n",
    "    print(\"block b\")\n",
    "    \n",
    "# 방법 2-파이썬에서만 가능\n",
    "if 0 < x < 10:\n",
    "    print(\"block a\")\n",
    "else:\n",
    "    print(\"block b\") "
   ]
  },
  {
   "cell_type": "markdown",
   "id": "a84574ce-a058-4ff7-912e-d2d53d7e2f9a",
   "metadata": {},
   "source": [
    "### 논리연산자\n",
    "- 비교연산자가 여러번 사용될 때 사용하는 것\n",
    "- and, or, not\n",
    "    - A and B: A도 참이고, B도 참일 때 True (&로도 사용함)\n",
    "        - 예: A & B\n",
    "    - A or B: A 혹은 B, 둘중 하나만 참이면 True\n",
    "        - 예: A|B\n",
    "    - not A: A가 False -> True, True -> False\n",
    "- 비교연산자의 괄호는 가독성을 위해 (optional)\n",
    "- 파이썬에서만 가능한 표현: 0 < x < 10\n",
    "    - 파이썬 외에는 논리연산자 사용하기"
   ]
  },
  {
   "cell_type": "markdown",
   "id": "89a8e2ea-9865-4d0a-833a-0f15a6262911",
   "metadata": {},
   "source": [
    "### True, False\n",
    "- \"만약 a가 참이라면, ...\"\n",
    "- a = True"
   ]
  },
  {
   "cell_type": "code",
   "execution_count": 9,
   "id": "514bcb65-7ce5-40e9-9f97-36935ced5eca",
   "metadata": {},
   "outputs": [
    {
     "name": "stdout",
     "output_type": "stream",
     "text": [
      "\n",
      "\n"
     ]
    }
   ],
   "source": [
    "if a == True:\n",
    "    print() # 틀림\n",
    "\n",
    "if a:\n",
    "    print()"
   ]
  },
  {
   "cell_type": "markdown",
   "id": "0e0129b3-3a3c-4b4a-b068-a0fe3b758b7a",
   "metadata": {},
   "source": [
    "### in\n",
    "- membership operator\n",
    "- 어떤 요소가 그 안에 있는지 확인하고 싶다\n",
    "- 비슷한 조건이 여러번 반복될 때 사용 가능"
   ]
  },
  {
   "cell_type": "code",
   "execution_count": 24,
   "id": "900dc091-a44f-408f-b26a-4cdc0becbc9a",
   "metadata": {},
   "outputs": [
    {
     "name": "stdout",
     "output_type": "stream",
     "text": [
      "no\n"
     ]
    }
   ],
   "source": [
    "letter = 'k'\n",
    "# letter이 모음인지 확인하고 싶다: a,e,i,o,u\n",
    "# if letter == 'a' or letter == 'e' ...\n",
    "\n",
    "if letter in ['a','e','i','o','u']: # 리스트 요소에 letter와 일치하는 것이 있는가\n",
    "    print(\"yes\")\n",
    "else:\n",
    "    print(\"no\")\n"
   ]
  },
  {
   "cell_type": "code",
   "execution_count": 13,
   "id": "a871e927-ed18-41a0-96cc-4d9ddff5147f",
   "metadata": {},
   "outputs": [
    {
     "name": "stdout",
     "output_type": "stream",
     "text": [
      "yes\n"
     ]
    }
   ],
   "source": [
    "letter = 'i'\n",
    "# letter이 모음인지 확인하고 싶다: a,e,i,o,u\n",
    "# if letter == 'a' or letter == 'e' ...\n",
    "\n",
    "if letter in ['a','e','i','o','u']: # 리스트 요소에 letter와 일치하는 것이 있는가\n",
    "    print(\"yes\")\n",
    "else:\n",
    "    print(\"no\")\n"
   ]
  },
  {
   "cell_type": "code",
   "execution_count": 17,
   "id": "de111c92-b738-451c-be57-dd2b9dc0aa7e",
   "metadata": {},
   "outputs": [
    {
     "name": "stdout",
     "output_type": "stream",
     "text": [
      "yes\n"
     ]
    }
   ],
   "source": [
    "letter = 'k'\n",
    "# letter이 모음인지 확인하고 싶다: a,e,i,o,u\n",
    "# if letter == 'a' or letter == 'e' ...\n",
    "\n",
    "if letter not in ['a','e','i','o','u']: # 리스트 요소에 letter와 일치하는 것이 있는가\n",
    "    print(\"yes\")\n",
    "# 있냐를 물을 때는 in, 없냐를 물을 때는 not in\n",
    "else:\n",
    "    print(\"no\")"
   ]
  },
  {
   "cell_type": "code",
   "execution_count": 26,
   "id": "7f256195-4391-494c-b715-3c08251ca411",
   "metadata": {},
   "outputs": [
    {
     "name": "stdout",
     "output_type": "stream",
     "text": [
      "No\n"
     ]
    }
   ],
   "source": [
    "word = 'abcde'\n",
    "# word에 모음이 있는지 확인 1번\n",
    "\n",
    "if word in ['a', 'e', 'i', 'o', 'u']:\n",
    "    print(\"Yes\")\n",
    "else:\n",
    "    print(\"No\")"
   ]
  },
  {
   "cell_type": "code",
   "execution_count": 27,
   "id": "7a4f78a9-3503-461a-a8d3-9b06121a8d3b",
   "metadata": {},
   "outputs": [
    {
     "name": "stdout",
     "output_type": "stream",
     "text": [
      "Yes\n"
     ]
    }
   ],
   "source": [
    "vowel = 'a', 'e', 'i', 'o', 'u'\n",
    "# word에 모음이 있는지 확인 1번\n",
    "# 튜플을 이용한 것\n",
    "\n",
    "if \"a\" or \"e\" or \"i\" or \"o\" or \"u\" in word:\n",
    "    print(\"Yes\")\n",
    "else:\n",
    "    print(\"No\")"
   ]
  },
  {
   "cell_type": "code",
   "execution_count": 25,
   "id": "a9557e6f-a848-4c44-b178-6b19c8403131",
   "metadata": {},
   "outputs": [
    {
     "name": "stdout",
     "output_type": "stream",
     "text": [
      "No\n"
     ]
    }
   ],
   "source": [
    "word = 'a', 'b', 'c', 'd','e'\n",
    "# word에 모음이 있는지 확인 2번\n",
    "\n",
    "if word in  ['a','e','i','o','u']:\n",
    "    print(\"Yes\")\n",
    "else:\n",
    "    print(\"No\")\n",
    "\n",
    "# 이러한 방법들이 틀리다는 것만 이해하기"
   ]
  },
  {
   "cell_type": "code",
   "execution_count": 5,
   "id": "29bb0ea6-db89-4e0b-89b5-964e8d1484d3",
   "metadata": {},
   "outputs": [
    {
     "name": "stdout",
     "output_type": "stream",
     "text": [
      "No\n"
     ]
    }
   ],
   "source": [
    "word = 'abcde'\n",
    "# word에 모음이 있는지 확인 3번\n",
    "\n",
    "if word in ['a','e','i','o','u']:\n",
    "    print(\"Yes\")\n",
    "else:\n",
    "    print(\"No\")"
   ]
  },
  {
   "cell_type": "code",
   "execution_count": 3,
   "id": "e2b03b44-2f52-45c5-82c0-1465b02d452f",
   "metadata": {},
   "outputs": [
    {
     "name": "stdout",
     "output_type": "stream",
     "text": [
      "No\n"
     ]
    }
   ],
   "source": [
    "word = 'abcde'\n",
    "if word in ['a','b','c','d','e']: #abcde == a, b, ...(이것이 a인지 b인지를 나타내는 것으로 맞지 않음)\n",
    "    print(\"Yes\")\n",
    "else:\n",
    "    print(\"No\")"
   ]
  },
  {
   "cell_type": "code",
   "execution_count": 7,
   "id": "b5741c35-18ad-497d-83d5-042297458cd2",
   "metadata": {},
   "outputs": [],
   "source": [
    "# for look => pass"
   ]
  },
  {
   "cell_type": "markdown",
   "id": "e577e9f0-e28d-42d1-99ba-1a1356ce65bd",
   "metadata": {},
   "source": [
    "### 바다코끼리 연산자\n",
    "- walrus operator\n",
    "- 할당과 테스트를 동시에 하는 기능\n",
    "- :="
   ]
  },
  {
   "cell_type": "code",
   "execution_count": 8,
   "id": "295e4206-2f19-467c-8fca-179233b8af2b",
   "metadata": {},
   "outputs": [
    {
     "data": {
      "text/plain": [
       "'blashblashblashblashblashblashblashblashblashblashblashblashblashblashblashblashblashblashblashblashblashblashblashblashblashblashblashblashblashblashblashblashblashblashblashblashblashblashblashblashblashblashblashblashblashblashblashblashblashblash'"
      ]
     },
     "execution_count": 8,
     "metadata": {},
     "output_type": "execute_result"
    }
   ],
   "source": [
    "tweet_limit = 200\n",
    "tweet_string = 'blash' *50 #공백없이 스트링 4*50개\n",
    "tweet_string"
   ]
  },
  {
   "cell_type": "code",
   "execution_count": 9,
   "id": "74e5ce33-74d9-4d8b-ba85-9961ff7e874d",
   "metadata": {},
   "outputs": [
    {
     "name": "stdout",
     "output_type": "stream",
     "text": [
      "불가능\n"
     ]
    }
   ],
   "source": [
    "diff = tweet_limit - len(tweet_string) # tweet_string이 tweet_limit을 넘는지 안넘는지가 궁금 / difference -> diff\n",
    "if diff > 0:\n",
    "    print(\"가능\")\n",
    "else:\n",
    "    print(\"불가능\")\n",
    "# len은 글자수를 셈"
   ]
  },
  {
   "cell_type": "code",
   "execution_count": 21,
   "id": "ca868859-295c-445f-aae2-c3a86739fc09",
   "metadata": {},
   "outputs": [
    {
     "name": "stdout",
     "output_type": "stream",
     "text": [
      "불가능\n"
     ]
    }
   ],
   "source": [
    "tweet_limit = 200\n",
    "tweet_string = 'blash' *50\n",
    "if diff := tweet_limit - len(tweet_string) > 0:\n",
    "    print(\"가능\")\n",
    "else:\n",
    "    print(\"불가능\")\n",
    "# 할당과 테스트를 동시에 - 한 줄에 쓸 수 있음"
   ]
  },
  {
   "cell_type": "markdown",
   "id": "1b401689-ad5e-46a4-a5b3-f0905d1f47c3",
   "metadata": {},
   "source": [
    "### Quiz\n",
    "- 윤년을 구하는 코드를 짜보자\n",
    "    - 연도가 4로 나누어떨어지면 윤년\n",
    "    - 100으로 나누어떨어지면 안된다\n",
    "    - 400으로 나누어떨어지면 된다\n",
    "- year을 입력받는다.\n",
    "- 출력= '{}년은 윤년입니다.'/ \"{}년은 윤년이 아닙니다.\""
   ]
  },
  {
   "cell_type": "code",
   "execution_count": 18,
   "id": "a173c57c-70ae-4976-9132-2b3b4620e0e5",
   "metadata": {},
   "outputs": [
    {
     "name": "stdin",
     "output_type": "stream",
     "text": [
      "연도를 입력하시오: 2020\n"
     ]
    },
    {
     "name": "stdout",
     "output_type": "stream",
     "text": [
      "2020년은 윤년입니다\n"
     ]
    }
   ],
   "source": [
    "year = int(input(\"연도를 입력하시오:\"))\n",
    "if (year % 4 == 0) and (year % 100 != 0) or (year % 400 == 0):\n",
    "    print(f'{year}년은 윤년입니다')\n",
    "else:\n",
    "    print(f'{year}년은 윤년이 아닙니다')"
   ]
  },
  {
   "cell_type": "code",
   "execution_count": 10,
   "id": "129e5e3d-100f-48af-9a54-10ea24589edf",
   "metadata": {},
   "outputs": [],
   "source": [
    "# 중첨 if문은 피하기!"
   ]
  },
  {
   "cell_type": "markdown",
   "id": "44a7ed9c-e5c8-49c2-bfa0-8afaf3a1c8af",
   "metadata": {},
   "source": [
    "## String | 문자열\n",
    "- str type\n",
    "- 시스템에서 가장 작은 단위 (a가 시스템에서 차지하는 크기가 작다)\n",
    "- 불변적인 성격을 가짐 (immutable)\n",
    "    - 'abcd' -> b -> a 바꿀 수 없다\n",
    "- 문법: '', \"\" 감싸면 모두 문자열\n",
    "    - 예: '24' -> 문자열임\n",
    "- ''' OR \"\"\" => 주석\n",
    "- 형 변환은 str()\n",
    "\n",
    "## Escape character | 이스케이프문자\n",
    "- 눈에 보이는 대로 인식되지 않는 문자열\n",
    "- 문법: \\ + <character>\n",
    "- \\n, \\t, \\b, \\ '\n",
    "- print()함수 쓰지 않으면 형태가 출력은 된다\n",
    "- '\\n' 출력은 어떻게?\n",
    "    - \\\\n\n",
    "    - r'' (raw string)\n",
    "- 문자열을 바꾸는 것이 아니라 표면상의 형태를 말하는 것\n",
    "    - 그 내용은 변하지 않음"
   ]
  },
  {
   "cell_type": "code",
   "execution_count": 28,
   "id": "79697402-1379-4284-85e6-5e96521e913a",
   "metadata": {},
   "outputs": [
    {
     "name": "stdout",
     "output_type": "stream",
     "text": [
      "hello\\tworld I\\'m a boy\n"
     ]
    }
   ],
   "source": [
    "sent = r'hello\\tworld I\\'m a boy'\n",
    "print(sent)"
   ]
  },
  {
   "cell_type": "code",
   "execution_count": 29,
   "id": "2a0ab08d-e03a-4709-b7e0-fe62d08e88e3",
   "metadata": {},
   "outputs": [
    {
     "data": {
      "text/plain": [
       "\"hello\\\\tworld I\\\\'m a boy\""
      ]
     },
     "execution_count": 29,
     "metadata": {},
     "output_type": "execute_result"
    }
   ],
   "source": [
    "sent"
   ]
  },
  {
   "cell_type": "code",
   "execution_count": 30,
   "id": "20038aac-6078-4907-93f1-80f7f5f40228",
   "metadata": {},
   "outputs": [
    {
     "name": "stdout",
     "output_type": "stream",
     "text": [
      "hellworld I'm a boy\n"
     ]
    }
   ],
   "source": [
    "print('hello\\bworld I\\'m a boy')"
   ]
  },
  {
   "cell_type": "markdown",
   "id": "a9433310-e97a-4280-bf6b-654230e77912",
   "metadata": {},
   "source": [
    "### 연산\n",
    "- concatenation (+)\n",
    "    - '' + '' => 붙이기\n",
    "- 복제 (*)\n",
    "    - '' * 4 => 4번 반복"
   ]
  },
  {
   "cell_type": "code",
   "execution_count": 31,
   "id": "761fdbe6-4616-4411-a1d8-2caeae6f06c0",
   "metadata": {},
   "outputs": [
    {
     "data": {
      "text/plain": [
       "'brainbrain'"
      ]
     },
     "execution_count": 31,
     "metadata": {},
     "output_type": "execute_result"
    }
   ],
   "source": [
    "word = 'brain' # 공백 없이 붙는다\n",
    "word + word"
   ]
  },
  {
   "cell_type": "code",
   "execution_count": 32,
   "id": "3117217e-3def-4ca1-92e3-f4fc65fb585b",
   "metadata": {},
   "outputs": [
    {
     "data": {
      "text/plain": [
       "'brainbrainbrainbrain'"
      ]
     },
     "execution_count": 32,
     "metadata": {},
     "output_type": "execute_result"
    }
   ],
   "source": [
    "word * 4"
   ]
  },
  {
   "cell_type": "code",
   "execution_count": 33,
   "id": "e6ab478d-0e72-491e-9763-bd17d2a4e798",
   "metadata": {},
   "outputs": [
    {
     "data": {
      "text/plain": [
       "'My name isSuhyun'"
      ]
     },
     "execution_count": 33,
     "metadata": {},
     "output_type": "execute_result"
    }
   ],
   "source": [
    "\"My name is\" + \"Suhyun\""
   ]
  },
  {
   "cell_type": "code",
   "execution_count": 34,
   "id": "e05d7eab-15de-4a78-bf4b-d6619430f593",
   "metadata": {},
   "outputs": [
    {
     "name": "stdout",
     "output_type": "stream",
     "text": [
      "SuSuSuSuHyunHyunHyunKwon\n"
     ]
    }
   ],
   "source": [
    "start = 'Su' * 4\n",
    "middle ='Hyun' * 3\n",
    "end = 'Kwon'\n",
    "print(start + middle + end)"
   ]
  },
  {
   "cell_type": "markdown",
   "id": "34e31959-9aba-41bf-857d-5141e4d6e8c9",
   "metadata": {},
   "source": [
    "### Slicing\n",
    "- 지정 범위의 문자열을 추출하는 것\n",
    "- 문법: 대괄호 + 오프셋 이용 [offset]\n",
    "    - [start:end:step]\n",
    "- 오프셋은 0부터 시작\n",
    "- start 포함, end 불포함 (크거나 같고, 작다)\n",
    "- 0일 경우 생략한다.\n",
    "    - 예: ~4까지 출력하라 [:5]\n",
    "    - 처음부터 끝까지 2스텝씩 => [::2]\n",
    "    - 처음부터 끝까지 역순으로 찍기 => [::-1]\n",
    "- 오프셋은 거꾸로도 가능하다\n",
    "0 1 2 ..\n",
    "h e l l o\n",
    "-5     -1"
   ]
  },
  {
   "cell_type": "code",
   "execution_count": 36,
   "id": "7fea7297-b2fb-4f38-86d9-85b97b6cd0fb",
   "metadata": {},
   "outputs": [],
   "source": [
    "# 처음부터 끝까지 [:]\n",
    "# 끝까지 [start:]\n",
    "# 처음부터 (end-1)오프셋까지 [:end] \n",
    "# start부터 (end-1)까지 [start:end]\n",
    "# step 만큼 문자를 건너뛰면서, start부터 (end-1)까지 [start:end:step]"
   ]
  },
  {
   "cell_type": "code",
   "execution_count": 37,
   "id": "1b22802f-0be2-428c-8381-aab6ee25f65a",
   "metadata": {},
   "outputs": [
    {
     "data": {
      "text/plain": [
       "'e'"
      ]
     },
     "execution_count": 37,
     "metadata": {},
     "output_type": "execute_result"
    }
   ],
   "source": [
    "sent = r'hello\\tworld I\\'m a boy'\n",
    "sent[1] # 2번째 글자 - 0부터 시작한다는 것을 알 수 있음"
   ]
  },
  {
   "cell_type": "code",
   "execution_count": 38,
   "id": "605a65cd-48f5-47d3-87b1-13387e960c35",
   "metadata": {},
   "outputs": [
    {
     "data": {
      "text/plain": [
       "'l'"
      ]
     },
     "execution_count": 38,
     "metadata": {},
     "output_type": "execute_result"
    }
   ],
   "source": [
    "sent[3:4] # 3만 나옴 - 4는 포함되지 않는다는 것을 알 수 있음\n",
    "# 3이상 4 미만"
   ]
  },
  {
   "cell_type": "code",
   "execution_count": 39,
   "id": "e3acc044-816f-4d5f-afd2-d402a24609cb",
   "metadata": {},
   "outputs": [
    {
     "data": {
      "text/plain": [
       "('hell', 'hell', 'hello')"
      ]
     },
     "execution_count": 39,
     "metadata": {},
     "output_type": "execute_result"
    }
   ],
   "source": [
    "# 처음부터 4까지\n",
    "sent[0:4], sent[:4], sent[:5]\n",
    "# sent[:5]가 맞음 - 0은 생략"
   ]
  },
  {
   "cell_type": "code",
   "execution_count": 40,
   "id": "4599bacf-cd13-422a-a41c-f2fe074cc223",
   "metadata": {},
   "outputs": [
    {
     "data": {
      "text/plain": [
       "11"
      ]
     },
     "execution_count": 40,
     "metadata": {},
     "output_type": "execute_result"
    }
   ],
   "source": [
    "sent2 = 'hello world'\n",
    "len(sent2) # length (공백까지 포함한다)"
   ]
  },
  {
   "cell_type": "code",
   "execution_count": 46,
   "id": "3a0b013e-fc56-4071-9917-746b4bf28afc",
   "metadata": {},
   "outputs": [
    {
     "data": {
      "text/plain": [
       "10"
      ]
     },
     "execution_count": 46,
     "metadata": {},
     "output_type": "execute_result"
    }
   ],
   "source": [
    "sent2_1 = 'helloworld'\n",
    "len(sent2_1) # 위와 비교하여 공백을 포함한다는 것을 확인할 수 있음"
   ]
  },
  {
   "cell_type": "code",
   "execution_count": 41,
   "id": "ebf0e23d-6974-4070-9f17-4b93cb1c0e4d",
   "metadata": {},
   "outputs": [
    {
     "data": {
      "text/plain": [
       "'hlotol \\\\maby'"
      ]
     },
     "execution_count": 41,
     "metadata": {},
     "output_type": "execute_result"
    }
   ],
   "source": [
    "# 처음부터 끝까지 2 스템씩 출력하기\n",
    "sent[::2]"
   ]
  },
  {
   "cell_type": "code",
   "execution_count": 42,
   "id": "780b76df-e9b5-4c00-8b5c-57facd904dc1",
   "metadata": {},
   "outputs": [
    {
     "data": {
      "text/plain": [
       "'olleh'"
      ]
     },
     "execution_count": 42,
     "metadata": {},
     "output_type": "execute_result"
    }
   ],
   "source": [
    "hello = 'hello'\n",
    "hello[::-1] # 역순으로 나타내기"
   ]
  },
  {
   "cell_type": "code",
   "execution_count": 43,
   "id": "ac69e9be-8b36-424e-b9a3-41698a2fc621",
   "metadata": {},
   "outputs": [
    {
     "data": {
      "text/plain": [
       "'l'"
      ]
     },
     "execution_count": 43,
     "metadata": {},
     "output_type": "execute_result"
    }
   ],
   "source": [
    "hello[2]"
   ]
  },
  {
   "cell_type": "code",
   "execution_count": 44,
   "id": "9ae691d7-b416-4566-b9db-cf6143d504e9",
   "metadata": {},
   "outputs": [
    {
     "ename": "TypeError",
     "evalue": "'str' object does not support item assignment",
     "output_type": "error",
     "traceback": [
      "\u001b[1;31m---------------------------------------------------------------------------\u001b[0m",
      "\u001b[1;31mTypeError\u001b[0m                                 Traceback (most recent call last)",
      "\u001b[1;32m~\\AppData\\Local\\Temp/ipykernel_10084/506355540.py\u001b[0m in \u001b[0;36m<module>\u001b[1;34m\u001b[0m\n\u001b[1;32m----> 1\u001b[1;33m \u001b[0mhello\u001b[0m\u001b[1;33m[\u001b[0m\u001b[1;36m2\u001b[0m\u001b[1;33m]\u001b[0m \u001b[1;33m=\u001b[0m \u001b[1;34m'L'\u001b[0m \u001b[1;31m# error-불변 타입이므로 바꿀 수 없음\u001b[0m\u001b[1;33m\u001b[0m\u001b[1;33m\u001b[0m\u001b[0m\n\u001b[0m\u001b[0;32m      2\u001b[0m \u001b[0mhello\u001b[0m\u001b[1;33m\u001b[0m\u001b[1;33m\u001b[0m\u001b[0m\n",
      "\u001b[1;31mTypeError\u001b[0m: 'str' object does not support item assignment"
     ]
    }
   ],
   "source": [
    "hello[2] = 'L' # error-불변 타입이므로 바꿀 수 없음\n",
    "hello"
   ]
  },
  {
   "cell_type": "markdown",
   "id": "a4d5a429-9548-4276-96b2-7a3f51d45875",
   "metadata": {},
   "source": [
    "### NLTK\n",
    "- natural Language toolkit\n",
    "- 교육용으로 개발된 자연어처리 패키지\n",
    "- 코퍼스 제공하는데 어떤 처리가 되어 있다.\n",
    "    - 토크나이즈, 파싱, 태깅, ..."
   ]
  },
  {
   "cell_type": "code",
   "execution_count": 48,
   "id": "900c22b6-6278-4dcb-8350-5070768ddc79",
   "metadata": {},
   "outputs": [],
   "source": [
    "# !pip install nltk"
   ]
  },
  {
   "cell_type": "code",
   "execution_count": 49,
   "id": "71f40e81-91f6-41ba-96dd-8b73f9658f18",
   "metadata": {
    "collapsed": true,
    "jupyter": {
     "outputs_hidden": true
    },
    "tags": []
   },
   "outputs": [
    {
     "name": "stderr",
     "output_type": "stream",
     "text": [
      "[nltk_data] Downloading collection 'book'\n",
      "[nltk_data]    | \n",
      "[nltk_data]    | Downloading package abc to\n",
      "[nltk_data]    |     C:\\Users\\user\\AppData\\Roaming\\nltk_data...\n",
      "[nltk_data]    |   Package abc is already up-to-date!\n",
      "[nltk_data]    | Downloading package brown to\n",
      "[nltk_data]    |     C:\\Users\\user\\AppData\\Roaming\\nltk_data...\n",
      "[nltk_data]    |   Package brown is already up-to-date!\n",
      "[nltk_data]    | Downloading package chat80 to\n",
      "[nltk_data]    |     C:\\Users\\user\\AppData\\Roaming\\nltk_data...\n",
      "[nltk_data]    |   Package chat80 is already up-to-date!\n",
      "[nltk_data]    | Downloading package cmudict to\n",
      "[nltk_data]    |     C:\\Users\\user\\AppData\\Roaming\\nltk_data...\n",
      "[nltk_data]    |   Package cmudict is already up-to-date!\n",
      "[nltk_data]    | Downloading package conll2000 to\n",
      "[nltk_data]    |     C:\\Users\\user\\AppData\\Roaming\\nltk_data...\n",
      "[nltk_data]    |   Package conll2000 is already up-to-date!\n",
      "[nltk_data]    | Downloading package conll2002 to\n",
      "[nltk_data]    |     C:\\Users\\user\\AppData\\Roaming\\nltk_data...\n",
      "[nltk_data]    |   Package conll2002 is already up-to-date!\n",
      "[nltk_data]    | Downloading package dependency_treebank to\n",
      "[nltk_data]    |     C:\\Users\\user\\AppData\\Roaming\\nltk_data...\n",
      "[nltk_data]    |   Package dependency_treebank is already up-to-date!\n",
      "[nltk_data]    | Downloading package genesis to\n",
      "[nltk_data]    |     C:\\Users\\user\\AppData\\Roaming\\nltk_data...\n",
      "[nltk_data]    |   Package genesis is already up-to-date!\n",
      "[nltk_data]    | Downloading package gutenberg to\n",
      "[nltk_data]    |     C:\\Users\\user\\AppData\\Roaming\\nltk_data...\n",
      "[nltk_data]    |   Package gutenberg is already up-to-date!\n",
      "[nltk_data]    | Downloading package ieer to\n",
      "[nltk_data]    |     C:\\Users\\user\\AppData\\Roaming\\nltk_data...\n",
      "[nltk_data]    |   Package ieer is already up-to-date!\n",
      "[nltk_data]    | Downloading package inaugural to\n",
      "[nltk_data]    |     C:\\Users\\user\\AppData\\Roaming\\nltk_data...\n",
      "[nltk_data]    |   Package inaugural is already up-to-date!\n",
      "[nltk_data]    | Downloading package movie_reviews to\n",
      "[nltk_data]    |     C:\\Users\\user\\AppData\\Roaming\\nltk_data...\n",
      "[nltk_data]    |   Package movie_reviews is already up-to-date!\n",
      "[nltk_data]    | Downloading package nps_chat to\n",
      "[nltk_data]    |     C:\\Users\\user\\AppData\\Roaming\\nltk_data...\n",
      "[nltk_data]    |   Package nps_chat is already up-to-date!\n",
      "[nltk_data]    | Downloading package names to\n",
      "[nltk_data]    |     C:\\Users\\user\\AppData\\Roaming\\nltk_data...\n",
      "[nltk_data]    |   Package names is already up-to-date!\n",
      "[nltk_data]    | Downloading package ppattach to\n",
      "[nltk_data]    |     C:\\Users\\user\\AppData\\Roaming\\nltk_data...\n",
      "[nltk_data]    |   Package ppattach is already up-to-date!\n",
      "[nltk_data]    | Downloading package reuters to\n",
      "[nltk_data]    |     C:\\Users\\user\\AppData\\Roaming\\nltk_data...\n",
      "[nltk_data]    |   Package reuters is already up-to-date!\n",
      "[nltk_data]    | Downloading package senseval to\n",
      "[nltk_data]    |     C:\\Users\\user\\AppData\\Roaming\\nltk_data...\n",
      "[nltk_data]    |   Package senseval is already up-to-date!\n",
      "[nltk_data]    | Downloading package state_union to\n",
      "[nltk_data]    |     C:\\Users\\user\\AppData\\Roaming\\nltk_data...\n",
      "[nltk_data]    |   Package state_union is already up-to-date!\n",
      "[nltk_data]    | Downloading package stopwords to\n",
      "[nltk_data]    |     C:\\Users\\user\\AppData\\Roaming\\nltk_data...\n",
      "[nltk_data]    |   Package stopwords is already up-to-date!\n",
      "[nltk_data]    | Downloading package swadesh to\n",
      "[nltk_data]    |     C:\\Users\\user\\AppData\\Roaming\\nltk_data...\n",
      "[nltk_data]    |   Package swadesh is already up-to-date!\n",
      "[nltk_data]    | Downloading package timit to\n",
      "[nltk_data]    |     C:\\Users\\user\\AppData\\Roaming\\nltk_data...\n",
      "[nltk_data]    |   Package timit is already up-to-date!\n",
      "[nltk_data]    | Downloading package treebank to\n",
      "[nltk_data]    |     C:\\Users\\user\\AppData\\Roaming\\nltk_data...\n",
      "[nltk_data]    |   Package treebank is already up-to-date!\n",
      "[nltk_data]    | Downloading package toolbox to\n",
      "[nltk_data]    |     C:\\Users\\user\\AppData\\Roaming\\nltk_data...\n",
      "[nltk_data]    |   Package toolbox is already up-to-date!\n",
      "[nltk_data]    | Downloading package udhr to\n",
      "[nltk_data]    |     C:\\Users\\user\\AppData\\Roaming\\nltk_data...\n",
      "[nltk_data]    |   Package udhr is already up-to-date!\n",
      "[nltk_data]    | Downloading package udhr2 to\n",
      "[nltk_data]    |     C:\\Users\\user\\AppData\\Roaming\\nltk_data...\n",
      "[nltk_data]    |   Package udhr2 is already up-to-date!\n",
      "[nltk_data]    | Downloading package unicode_samples to\n",
      "[nltk_data]    |     C:\\Users\\user\\AppData\\Roaming\\nltk_data...\n",
      "[nltk_data]    |   Package unicode_samples is already up-to-date!\n",
      "[nltk_data]    | Downloading package webtext to\n",
      "[nltk_data]    |     C:\\Users\\user\\AppData\\Roaming\\nltk_data...\n",
      "[nltk_data]    |   Package webtext is already up-to-date!\n",
      "[nltk_data]    | Downloading package wordnet to\n",
      "[nltk_data]    |     C:\\Users\\user\\AppData\\Roaming\\nltk_data...\n",
      "[nltk_data]    |   Package wordnet is already up-to-date!\n",
      "[nltk_data]    | Downloading package wordnet_ic to\n",
      "[nltk_data]    |     C:\\Users\\user\\AppData\\Roaming\\nltk_data...\n",
      "[nltk_data]    |   Package wordnet_ic is already up-to-date!\n",
      "[nltk_data]    | Downloading package words to\n",
      "[nltk_data]    |     C:\\Users\\user\\AppData\\Roaming\\nltk_data...\n",
      "[nltk_data]    |   Package words is already up-to-date!\n",
      "[nltk_data]    | Downloading package maxent_treebank_pos_tagger to\n",
      "[nltk_data]    |     C:\\Users\\user\\AppData\\Roaming\\nltk_data...\n",
      "[nltk_data]    |   Package maxent_treebank_pos_tagger is already up-\n",
      "[nltk_data]    |       to-date!\n",
      "[nltk_data]    | Downloading package maxent_ne_chunker to\n",
      "[nltk_data]    |     C:\\Users\\user\\AppData\\Roaming\\nltk_data...\n",
      "[nltk_data]    |   Package maxent_ne_chunker is already up-to-date!\n",
      "[nltk_data]    | Downloading package universal_tagset to\n",
      "[nltk_data]    |     C:\\Users\\user\\AppData\\Roaming\\nltk_data...\n",
      "[nltk_data]    |   Package universal_tagset is already up-to-date!\n",
      "[nltk_data]    | Downloading package punkt to\n",
      "[nltk_data]    |     C:\\Users\\user\\AppData\\Roaming\\nltk_data...\n",
      "[nltk_data]    |   Package punkt is already up-to-date!\n",
      "[nltk_data]    | Downloading package book_grammars to\n",
      "[nltk_data]    |     C:\\Users\\user\\AppData\\Roaming\\nltk_data...\n",
      "[nltk_data]    |   Package book_grammars is already up-to-date!\n",
      "[nltk_data]    | Downloading package city_database to\n",
      "[nltk_data]    |     C:\\Users\\user\\AppData\\Roaming\\nltk_data...\n",
      "[nltk_data]    |   Package city_database is already up-to-date!\n",
      "[nltk_data]    | Downloading package tagsets to\n",
      "[nltk_data]    |     C:\\Users\\user\\AppData\\Roaming\\nltk_data...\n",
      "[nltk_data]    |   Package tagsets is already up-to-date!\n",
      "[nltk_data]    | Downloading package panlex_swadesh to\n",
      "[nltk_data]    |     C:\\Users\\user\\AppData\\Roaming\\nltk_data...\n",
      "[nltk_data]    |   Package panlex_swadesh is already up-to-date!\n",
      "[nltk_data]    | Downloading package averaged_perceptron_tagger to\n",
      "[nltk_data]    |     C:\\Users\\user\\AppData\\Roaming\\nltk_data...\n",
      "[nltk_data]    |   Package averaged_perceptron_tagger is already up-\n",
      "[nltk_data]    |       to-date!\n",
      "[nltk_data]    | \n",
      "[nltk_data]  Done downloading collection book\n"
     ]
    },
    {
     "data": {
      "text/plain": [
       "True"
      ]
     },
     "execution_count": 49,
     "metadata": {},
     "output_type": "execute_result"
    }
   ],
   "source": [
    "import nltk\n",
    "nltk.download('book')"
   ]
  },
  {
   "cell_type": "code",
   "execution_count": 50,
   "id": "8db7c374-c7b3-47c8-b202-2cf636e8245d",
   "metadata": {},
   "outputs": [
    {
     "name": "stdout",
     "output_type": "stream",
     "text": [
      "*** Introductory Examples for the NLTK Book ***\n",
      "Loading text1, ..., text9 and sent1, ..., sent9\n",
      "Type the name of the text or sentence to view it.\n",
      "Type: 'texts()' or 'sents()' to list the materials.\n",
      "text1: Moby Dick by Herman Melville 1851\n",
      "text2: Sense and Sensibility by Jane Austen 1811\n",
      "text3: The Book of Genesis\n",
      "text4: Inaugural Address Corpus\n",
      "text5: Chat Corpus\n",
      "text6: Monty Python and the Holy Grail\n",
      "text7: Wall Street Journal\n",
      "text8: Personals Corpus\n",
      "text9: The Man Who Was Thursday by G . K . Chesterton 1908\n"
     ]
    }
   ],
   "source": [
    "from nltk import book"
   ]
  },
  {
   "cell_type": "code",
   "execution_count": 51,
   "id": "57158cf8-05c6-4540-8376-c80c0a22b3b8",
   "metadata": {},
   "outputs": [],
   "source": [
    "# 다음부터는 import로 사용 nltk 다운은 한 번 받은걸로 끝!"
   ]
  },
  {
   "cell_type": "code",
   "execution_count": 52,
   "id": "2f01da07-6171-4646-8788-7514ce6be218",
   "metadata": {},
   "outputs": [],
   "source": [
    "moby = book.text1"
   ]
  },
  {
   "cell_type": "code",
   "execution_count": 55,
   "id": "0f41bb5f-48e1-4931-a5b5-cc980f931575",
   "metadata": {},
   "outputs": [
    {
     "data": {
      "text/plain": [
       "['[',\n",
       " 'Moby',\n",
       " 'Dick',\n",
       " 'by',\n",
       " 'Herman',\n",
       " 'Melville',\n",
       " '1851',\n",
       " ']',\n",
       " 'ETYMOLOGY',\n",
       " '.']"
      ]
     },
     "execution_count": 55,
     "metadata": {},
     "output_type": "execute_result"
    }
   ],
   "source": [
    "moby.tokens[:10] # 단어에 접근\n",
    "# 너무 길어서 10개로 끊어주기"
   ]
  },
  {
   "cell_type": "code",
   "execution_count": 56,
   "id": "022b5232-43bf-4fdc-aa1c-f12d5b520596",
   "metadata": {},
   "outputs": [
    {
     "data": {
      "text/plain": [
       "260819"
      ]
     },
     "execution_count": 56,
     "metadata": {},
     "output_type": "execute_result"
    }
   ],
   "source": [
    "# 총 길이(단어)\n",
    "len(moby.tokens)"
   ]
  },
  {
   "cell_type": "code",
   "execution_count": 57,
   "id": "8eb9433c-df5d-482c-ab93-04cc7b283886",
   "metadata": {},
   "outputs": [
    {
     "data": {
      "text/plain": [
       "'\\n토큰? 프로그래밍에서 정의하는 단어\\n    \"I\\'m a boy.\" i\\'m, i am, i \\'m\\n'"
      ]
     },
     "execution_count": 57,
     "metadata": {},
     "output_type": "execute_result"
    }
   ],
   "source": [
    "\"\"\"\n",
    "토큰? 프로그래밍에서 정의하는 단어\n",
    "    \"I'm a boy.\" i'm, i am, i 'm\n",
    "\"\"\""
   ]
  },
  {
   "cell_type": "code",
   "execution_count": 60,
   "id": "70eb2c9f-f44e-4d0c-ae74-21002ccc5467",
   "metadata": {
    "collapsed": true,
    "jupyter": {
     "outputs_hidden": true
    },
    "tags": []
   },
   "outputs": [
    {
     "data": {
      "text/plain": [
       "{'soul',\n",
       " 'Dismal',\n",
       " 'immemorially',\n",
       " 'recently',\n",
       " 'spent',\n",
       " 'squatted',\n",
       " 'throne',\n",
       " 'dumps',\n",
       " 'skilful',\n",
       " 'frenzy',\n",
       " 'forgive',\n",
       " 'COFFIN',\n",
       " 'Matter',\n",
       " 'repassing',\n",
       " 'cramped',\n",
       " 'pulsations',\n",
       " 'smoothed',\n",
       " 'whatsoever',\n",
       " 'swell',\n",
       " 'impaling',\n",
       " 'YARD',\n",
       " 'beefsteaks',\n",
       " 'sluggishly',\n",
       " 'facilitating',\n",
       " 'incongruity',\n",
       " 'Blind',\n",
       " 'respiration',\n",
       " 'Elephants',\n",
       " 'plainest',\n",
       " 'questionings',\n",
       " 'CRUISE',\n",
       " 'shipping',\n",
       " 'AS',\n",
       " 'blackling',\n",
       " 'stores',\n",
       " 'belly',\n",
       " 'tyro',\n",
       " 'humanity',\n",
       " 'stamped',\n",
       " 'Keep',\n",
       " 'pensive',\n",
       " 'BLACKSTONE',\n",
       " 'sport',\n",
       " 'retained',\n",
       " 'unlettered',\n",
       " 'efficient',\n",
       " 'invited',\n",
       " 'sing',\n",
       " 'pagoda',\n",
       " 'have',\n",
       " 'infancy',\n",
       " 'Unicorn',\n",
       " 'capricious',\n",
       " 'Reference',\n",
       " 'pond',\n",
       " 'wales',\n",
       " 'ceti',\n",
       " 'virtue',\n",
       " 'sells',\n",
       " 'twitched',\n",
       " 'crop',\n",
       " 'hove',\n",
       " 'Cinque',\n",
       " 'soars',\n",
       " 'bowlines',\n",
       " 'didst',\n",
       " 'Wellington',\n",
       " 'cruellest',\n",
       " 'gleamed',\n",
       " 'rudeness',\n",
       " 'attestation',\n",
       " 'bounteous',\n",
       " 'spheres',\n",
       " 'Consequently',\n",
       " 'harbor',\n",
       " 'defilements',\n",
       " 'interior',\n",
       " 'Postscript',\n",
       " 'butts',\n",
       " 'regardings',\n",
       " 'ruffled',\n",
       " 'treading',\n",
       " 'evanescent',\n",
       " 'Hem',\n",
       " 'Lackaday',\n",
       " 'oversailed',\n",
       " 'inscrutable',\n",
       " 'Sagittarius',\n",
       " 'cheerfully',\n",
       " 'positively',\n",
       " 'At',\n",
       " 'snugly',\n",
       " 'LIE',\n",
       " 'couriers',\n",
       " 'Wet',\n",
       " 'loins',\n",
       " 'transcendent',\n",
       " 'slaughtering',\n",
       " 'extracted',\n",
       " 'strokes',\n",
       " 'flukes',\n",
       " 'lees',\n",
       " 'chiselled',\n",
       " 'but',\n",
       " 'foibles',\n",
       " 'Seated',\n",
       " 'A',\n",
       " 'commence',\n",
       " 'phrensy',\n",
       " 'makes',\n",
       " 'charcoal',\n",
       " 'comes',\n",
       " 'strung',\n",
       " 'royal',\n",
       " 'mathematically',\n",
       " 'cholera',\n",
       " 'whitest',\n",
       " 'heartily',\n",
       " 'stature',\n",
       " 'declining',\n",
       " 'boot',\n",
       " 'Securing',\n",
       " 'slow',\n",
       " 'offering',\n",
       " 'COILS',\n",
       " 'triumphal',\n",
       " 'redoubted',\n",
       " 'placidity',\n",
       " 'anywhere',\n",
       " 'lament',\n",
       " 'losing',\n",
       " 'pauselessly',\n",
       " 'Coronation',\n",
       " 'starry',\n",
       " 'Ere',\n",
       " 'prick',\n",
       " 'avenues',\n",
       " 'catcher',\n",
       " 'swinging',\n",
       " 'supervision',\n",
       " 'Octavo',\n",
       " 'project',\n",
       " 'Cannibal',\n",
       " 'ranges',\n",
       " 'convalescing',\n",
       " 'Versailles',\n",
       " 'stages',\n",
       " 'pell',\n",
       " 'tried',\n",
       " 'provinces',\n",
       " 'succeeds',\n",
       " 'sustained',\n",
       " 'stalwart',\n",
       " 'happily',\n",
       " 'lanyard',\n",
       " 'glossy',\n",
       " 'valuable',\n",
       " 'rush',\n",
       " 'candidate',\n",
       " 'whetstones',\n",
       " 'heat',\n",
       " 'osseous',\n",
       " 'all',\n",
       " 'parallel',\n",
       " 'species',\n",
       " 'sometimes',\n",
       " 'construction',\n",
       " 'traits',\n",
       " 'denizen',\n",
       " 'unrivalled',\n",
       " 'bells',\n",
       " 'figure',\n",
       " 'genus',\n",
       " 'forger',\n",
       " 'Lavater',\n",
       " 'delicious',\n",
       " 'sterns',\n",
       " 'upraising',\n",
       " 'panic',\n",
       " 'sittin',\n",
       " 'redolent',\n",
       " 'Booble',\n",
       " 'freckles',\n",
       " 'flinty',\n",
       " 'beseeching',\n",
       " 'thwack',\n",
       " 'nearing',\n",
       " 'dealers',\n",
       " 'altering',\n",
       " 'toilings',\n",
       " 'clearness',\n",
       " 'investing',\n",
       " 'necessitates',\n",
       " 'its',\n",
       " 'remembrances',\n",
       " 'rifled',\n",
       " 'cypher',\n",
       " 'rifle',\n",
       " 'refused',\n",
       " 'woracious',\n",
       " 'bressed',\n",
       " 'By',\n",
       " 'grant',\n",
       " 'Duodecimo',\n",
       " 'merrier',\n",
       " 'alleged',\n",
       " 'intimacy',\n",
       " 'bite',\n",
       " 'Pictures',\n",
       " 'lounged',\n",
       " 'repose',\n",
       " 'drinks',\n",
       " 'regions',\n",
       " 'amusing',\n",
       " 'Deliverer',\n",
       " 'star',\n",
       " 'Fill',\n",
       " 'sleepe',\n",
       " 'Salisbury',\n",
       " 'articulated',\n",
       " 'operas',\n",
       " 'stiver',\n",
       " 'involve',\n",
       " 'shakes',\n",
       " 'trustworthy',\n",
       " 'ape',\n",
       " 'Joy',\n",
       " 'rigorous',\n",
       " 'crotch',\n",
       " 'bolt',\n",
       " 'redoubled',\n",
       " 'returns',\n",
       " 'lingered',\n",
       " 'gam',\n",
       " 'heroically',\n",
       " 'captive',\n",
       " 'blight',\n",
       " '108',\n",
       " 'vivifying',\n",
       " 'Rarmai',\n",
       " 'bankers',\n",
       " 'wading',\n",
       " 'Among',\n",
       " 'tufts',\n",
       " 'turkeys',\n",
       " 'altogether',\n",
       " 'fling',\n",
       " 'introduced',\n",
       " 'overlooking',\n",
       " 'fruit',\n",
       " 'pursue',\n",
       " 'wittiness',\n",
       " 'SEBOND',\n",
       " 'Boone',\n",
       " 'deviations',\n",
       " 'moved',\n",
       " 'natives',\n",
       " 'loath',\n",
       " 'swooping',\n",
       " 'unsubstantial',\n",
       " 'block',\n",
       " 'barely',\n",
       " 'needlessly',\n",
       " 'razors',\n",
       " 'improving',\n",
       " 'weaving',\n",
       " 'fortitude',\n",
       " 'unflinching',\n",
       " 'prouder',\n",
       " 'generally',\n",
       " 'recalled',\n",
       " 'straight',\n",
       " 'Probably',\n",
       " 'Gall',\n",
       " 'avast',\n",
       " 'conceivable',\n",
       " 'embraces',\n",
       " 'Let',\n",
       " 'measured',\n",
       " 'fatality',\n",
       " 'refrained',\n",
       " 'cabinets',\n",
       " 'consult',\n",
       " 'reposes',\n",
       " 'postpone',\n",
       " 'Angels',\n",
       " 'look',\n",
       " 'skiff',\n",
       " 'parcelling',\n",
       " 'bubbles',\n",
       " 'aside',\n",
       " 'Aristotle',\n",
       " 'feverish',\n",
       " 'indirect',\n",
       " 'hearsed',\n",
       " 'gangs',\n",
       " 'seat',\n",
       " 'drives',\n",
       " 'anatomical',\n",
       " 'moreover',\n",
       " 'irradiate',\n",
       " 'spiralling',\n",
       " 'crest',\n",
       " 'twelve',\n",
       " 'agent',\n",
       " 'parade',\n",
       " 'mislead',\n",
       " 'renowned',\n",
       " 'Pippin',\n",
       " 'insist',\n",
       " 'affrights',\n",
       " 'chiseled',\n",
       " 'carpets',\n",
       " 'racing',\n",
       " 'Roanoke',\n",
       " 'snooze',\n",
       " 'Froissart',\n",
       " 'casual',\n",
       " 'shocks',\n",
       " 'convalescence',\n",
       " 'Tis',\n",
       " 'drooping',\n",
       " 'disembowelments',\n",
       " 'Saturday',\n",
       " 'Turn',\n",
       " 'tornadoes',\n",
       " 'honed',\n",
       " 'tingling',\n",
       " 'be',\n",
       " 'Hygiene',\n",
       " 'symbols',\n",
       " 'occult',\n",
       " 'satisfy',\n",
       " 'anguish',\n",
       " 'stowage',\n",
       " 'mockingly',\n",
       " 'sufferings',\n",
       " 'ungraduated',\n",
       " 'Steelkilt',\n",
       " 'smothered',\n",
       " 'fringing',\n",
       " 'principles',\n",
       " 'frolic',\n",
       " 'departing',\n",
       " 'WITH',\n",
       " 'tiller',\n",
       " 'disinterested',\n",
       " 'engine',\n",
       " 'untasted',\n",
       " 'ass',\n",
       " 'Pitchpoling',\n",
       " 'celebrated',\n",
       " 'sovereignest',\n",
       " 'Irish',\n",
       " '8',\n",
       " 'purposely',\n",
       " 'admonished',\n",
       " 'individually',\n",
       " 'grow',\n",
       " 'World',\n",
       " 'pettiness',\n",
       " 'lumber',\n",
       " 'used',\n",
       " 'staves',\n",
       " 'leewardings',\n",
       " 'incorporated',\n",
       " 'Fish',\n",
       " 'barbarians',\n",
       " '35',\n",
       " 'kiss',\n",
       " 'manhandle',\n",
       " 'unfractioned',\n",
       " 'intrepidly',\n",
       " 'Barrens',\n",
       " 'portion',\n",
       " 'valley',\n",
       " 'explanation',\n",
       " 'please',\n",
       " 'lighthouse',\n",
       " 'Sandwich',\n",
       " 'appellation',\n",
       " 'Egyptians',\n",
       " 'Temperance',\n",
       " 'captured',\n",
       " 'Sure',\n",
       " 'spoiling',\n",
       " 'Gulf',\n",
       " 'continued',\n",
       " 'Surgeon',\n",
       " 'TRUCKS',\n",
       " 'once',\n",
       " 'rail',\n",
       " 'steward',\n",
       " 'LIFE',\n",
       " 'quilt',\n",
       " 'jeeringly',\n",
       " 'cutting',\n",
       " 'Walks',\n",
       " 'eminence',\n",
       " 'windlass',\n",
       " 'junior',\n",
       " 'ratifying',\n",
       " 'metropolitan',\n",
       " 'vapour',\n",
       " 'allurements',\n",
       " 'carlines',\n",
       " 'stair',\n",
       " 'unsuspected',\n",
       " 'explanatory',\n",
       " 'wardrobe',\n",
       " 'approaching',\n",
       " 'pride',\n",
       " 'growing',\n",
       " 'unvexed',\n",
       " 'Whaleman',\n",
       " 'rounder',\n",
       " 'humbly',\n",
       " 'toasted',\n",
       " 'hither',\n",
       " 'exercise',\n",
       " 'imported',\n",
       " 'tightly',\n",
       " 'Orient',\n",
       " 'Making',\n",
       " 'vine',\n",
       " 'Slave',\n",
       " 'pillaged',\n",
       " 'hero',\n",
       " 'round',\n",
       " 'devout',\n",
       " 'touchy',\n",
       " 'earthquakes',\n",
       " 'style',\n",
       " 'MATE',\n",
       " 'cable',\n",
       " 'Cowper',\n",
       " 'wert',\n",
       " 'themselves',\n",
       " 'helmet',\n",
       " 'explored',\n",
       " 'easiest',\n",
       " 'fishers',\n",
       " 'darker',\n",
       " 'rex',\n",
       " 'ringing',\n",
       " 'holiest',\n",
       " 'Browne',\n",
       " 'polished',\n",
       " 'Dick',\n",
       " 'anger',\n",
       " 'get',\n",
       " 'condensation',\n",
       " 'symptom',\n",
       " 'Wood',\n",
       " 'Porpoises',\n",
       " 'unprofitable',\n",
       " 'ruptured',\n",
       " 'Sal',\n",
       " 'Gifted',\n",
       " 'blew',\n",
       " 'loneliness',\n",
       " 'blinding',\n",
       " 'healed',\n",
       " 'Snodhead',\n",
       " 'begin',\n",
       " 'Langsdorff',\n",
       " 'leap',\n",
       " 'halfspent',\n",
       " 'balmed',\n",
       " 'indebted',\n",
       " 'Upper',\n",
       " 'breathless',\n",
       " 'sulphur',\n",
       " 'barbarian',\n",
       " 'reverential',\n",
       " 'Small',\n",
       " 'sensation',\n",
       " 'puzzling',\n",
       " 'unbent',\n",
       " 'concocted',\n",
       " 'facing',\n",
       " 'workmanlike',\n",
       " 'lightness',\n",
       " 'Knight',\n",
       " 'gangway',\n",
       " 'tost',\n",
       " 'loses',\n",
       " 'difficulty',\n",
       " 'vapours',\n",
       " '74',\n",
       " 'chinks',\n",
       " 'willing',\n",
       " 'foster',\n",
       " 'Rinaldini',\n",
       " 'boilers',\n",
       " 'marling',\n",
       " 'convey',\n",
       " 'adventurous',\n",
       " 'hare',\n",
       " 'more',\n",
       " 'goaded',\n",
       " 'quits',\n",
       " 'central',\n",
       " 'arrowy',\n",
       " 'bundles',\n",
       " 'belonged',\n",
       " 'printing',\n",
       " '3d',\n",
       " 'reddened',\n",
       " 'Freely',\n",
       " 'circulates',\n",
       " 'superstitiousness',\n",
       " 'reasonableness',\n",
       " 'snowhowdahed',\n",
       " 'disciple',\n",
       " 'quarantine',\n",
       " 'drown',\n",
       " 'flitting',\n",
       " 'tinkling',\n",
       " 'Life',\n",
       " 'castaways',\n",
       " 'marshalled',\n",
       " 'stems',\n",
       " 'county',\n",
       " 'pastiles',\n",
       " 'voyaged',\n",
       " 'repeated',\n",
       " 'clefts',\n",
       " 'reckless',\n",
       " 'crackled',\n",
       " 'perception',\n",
       " 'compile',\n",
       " 'purplish',\n",
       " 'scythes',\n",
       " 'unsaid',\n",
       " 'earliest',\n",
       " 'sciences',\n",
       " 'coasts',\n",
       " 'wealthiest',\n",
       " 'Miguel',\n",
       " 'thro',\n",
       " 'little',\n",
       " 'vibrate',\n",
       " 'mustn',\n",
       " 'credit',\n",
       " 'hard',\n",
       " 'slices',\n",
       " 'ability',\n",
       " 'pulling',\n",
       " 'conflicts',\n",
       " 'overwhelmed',\n",
       " 'presentiment',\n",
       " 'spirits',\n",
       " 'job',\n",
       " 'accompanied',\n",
       " 'gardens',\n",
       " 'treadle',\n",
       " 'shutter',\n",
       " 'phrenologists',\n",
       " 'coffined',\n",
       " 'visit',\n",
       " 'greenness',\n",
       " 'ceremonies',\n",
       " 'superficially',\n",
       " 'nonce',\n",
       " 'donning',\n",
       " 'ridge',\n",
       " 'befriended',\n",
       " 'wedge',\n",
       " 'imponderable',\n",
       " 'Almost',\n",
       " 'Philippine',\n",
       " 'Ifs',\n",
       " 'spike',\n",
       " 'number',\n",
       " 'Teneriffe',\n",
       " 'dividing',\n",
       " 'Rokovoko',\n",
       " 'Oars',\n",
       " 'infants',\n",
       " 'across',\n",
       " 'numbered',\n",
       " 'Sullenly',\n",
       " 'brood',\n",
       " 'bubbling',\n",
       " 'minor',\n",
       " 'vows',\n",
       " 'brushing',\n",
       " 'arctic',\n",
       " 'flake',\n",
       " 'prescient',\n",
       " 'actually',\n",
       " 'stumbling',\n",
       " 'application',\n",
       " 'field',\n",
       " 'observations',\n",
       " 'vibrations',\n",
       " 'overclouded',\n",
       " 'DAVENANT',\n",
       " 'feeds',\n",
       " 'instigation',\n",
       " 'midmost',\n",
       " 'bespattering',\n",
       " 'spending',\n",
       " 'baulks',\n",
       " 'liars',\n",
       " 'harems',\n",
       " 'cheery',\n",
       " 'rouse',\n",
       " 'sling',\n",
       " 'horseback',\n",
       " 'undoubted',\n",
       " 'maidens',\n",
       " 'tell',\n",
       " 'aggregations',\n",
       " 'affection',\n",
       " 'band',\n",
       " 'reiterating',\n",
       " 'Nod',\n",
       " 'stooping',\n",
       " 'treasures',\n",
       " 'amaze',\n",
       " 'sweat',\n",
       " 'Tail',\n",
       " 'mastering',\n",
       " 'Sleeping',\n",
       " 'Doubloon',\n",
       " 'countersinkers',\n",
       " 'Words',\n",
       " 'genealogies',\n",
       " 'skewer',\n",
       " 'slanderin',\n",
       " 'carcases',\n",
       " 'throwing',\n",
       " 'tufted',\n",
       " 'Von',\n",
       " 'Banks',\n",
       " 'daintiest',\n",
       " 'refuge',\n",
       " 'glue',\n",
       " 'scamp',\n",
       " 'Isaiah',\n",
       " 'aint',\n",
       " 'invested',\n",
       " 'irresistible',\n",
       " 'cadence',\n",
       " 'conquered',\n",
       " 'belongs',\n",
       " 'freebooting',\n",
       " 'theory',\n",
       " 'bulkhead',\n",
       " 'Fashioned',\n",
       " 'elemental',\n",
       " 'firmament',\n",
       " 'capsizings',\n",
       " 'ottomans',\n",
       " 'torsoes',\n",
       " 'stabs',\n",
       " 'check',\n",
       " 'nutmeg',\n",
       " 'BY',\n",
       " 'whelmings',\n",
       " 'swallow',\n",
       " 'undulated',\n",
       " 'tortoise',\n",
       " 'lull',\n",
       " 'profane',\n",
       " 'acquiesced',\n",
       " 'allow',\n",
       " 'did',\n",
       " 'goods',\n",
       " '180',\n",
       " 'basement',\n",
       " 'preserved',\n",
       " 'happened',\n",
       " 'bravest',\n",
       " 'weighing',\n",
       " 'whip',\n",
       " 'uneasiness',\n",
       " 'nipper',\n",
       " 'relying',\n",
       " 'spurrings',\n",
       " 'comb',\n",
       " 'peculiar',\n",
       " 'signifies',\n",
       " 'delineate',\n",
       " 'fog',\n",
       " 'bitters',\n",
       " 'squatting',\n",
       " 'deadreckoning',\n",
       " 'parricide',\n",
       " 'sanely',\n",
       " 'prayer',\n",
       " 'dissent',\n",
       " 'creamed',\n",
       " 'intensely',\n",
       " 'pikes',\n",
       " 'tattered',\n",
       " 'equal',\n",
       " 'plug',\n",
       " 'ebon',\n",
       " 'deprecating',\n",
       " 'transactions',\n",
       " 'stuffed',\n",
       " 'Innkeeper',\n",
       " 'complexioned',\n",
       " 'nervous',\n",
       " 'cunning',\n",
       " 'hintings',\n",
       " 'incrustations',\n",
       " 'darted',\n",
       " 'complimentary',\n",
       " 'code',\n",
       " 'gore',\n",
       " 'v',\n",
       " 'shabbily',\n",
       " 'cannon',\n",
       " 'Whisper',\n",
       " 'JEFFERSON',\n",
       " 'relatively',\n",
       " 'welding',\n",
       " 'colour',\n",
       " 'schooners',\n",
       " 'hobbling',\n",
       " 'abound',\n",
       " 'intertwisting',\n",
       " 'higgledy',\n",
       " 'safely',\n",
       " 'alarm',\n",
       " 'tracings',\n",
       " 'chargers',\n",
       " 'RICHARD',\n",
       " 'honouring',\n",
       " 'science',\n",
       " '135',\n",
       " 'fleeces',\n",
       " 'others',\n",
       " 'Little',\n",
       " 'posterity',\n",
       " 'threatened',\n",
       " 'mountaineers',\n",
       " 'displayed',\n",
       " 'import',\n",
       " 'Marchant',\n",
       " 'inflexible',\n",
       " 'recovery',\n",
       " 'blisteringly',\n",
       " 'Brute',\n",
       " 'masts',\n",
       " 'cloudy',\n",
       " 'dinning',\n",
       " 'manage',\n",
       " 'rusty',\n",
       " 'interrupt',\n",
       " 'Bibliographical',\n",
       " 'drippings',\n",
       " 'horrifying',\n",
       " 'Whale',\n",
       " 'comely',\n",
       " 'joists',\n",
       " 'unto',\n",
       " 'spreads',\n",
       " 'precaution',\n",
       " 'bulky',\n",
       " 'advances',\n",
       " 'labors',\n",
       " 'village',\n",
       " 'robbed',\n",
       " 'disobedience',\n",
       " 'wondrous',\n",
       " 'Admiral',\n",
       " 'infesting',\n",
       " 'tranquillize',\n",
       " 'term',\n",
       " 'battle',\n",
       " 'decency',\n",
       " 'executed',\n",
       " 'modifies',\n",
       " 'lucifers',\n",
       " 'burns',\n",
       " 'skin',\n",
       " 'ruin',\n",
       " '275th',\n",
       " 'Strictly',\n",
       " 'stealing',\n",
       " 'comply',\n",
       " 'caution',\n",
       " 'cashier',\n",
       " 'pit',\n",
       " 'Verdes',\n",
       " 'quadrupeds',\n",
       " 'admire',\n",
       " 'diabolical',\n",
       " 'confoundedly',\n",
       " 'doomed',\n",
       " 'whales',\n",
       " 'maggots',\n",
       " 'outlandishness',\n",
       " 'Unconsciously',\n",
       " 'confines',\n",
       " 'Englishman',\n",
       " 'necessitated',\n",
       " 'helpless',\n",
       " 'sooth',\n",
       " 'Puritanic',\n",
       " 'afresh',\n",
       " 'gloss',\n",
       " 'cymballing',\n",
       " 'decidedly',\n",
       " 'sinker',\n",
       " 'unintelligence',\n",
       " 'Burst',\n",
       " 'oilpainting',\n",
       " 'blisters',\n",
       " 'bantam',\n",
       " 'chock',\n",
       " 'carried',\n",
       " 'forget',\n",
       " 'facetious',\n",
       " 'spile',\n",
       " 'lovely',\n",
       " 'preparations',\n",
       " 'machinery',\n",
       " 'applied',\n",
       " 'Spain',\n",
       " 'jet',\n",
       " ',--\"',\n",
       " 'pine',\n",
       " 'productive',\n",
       " 'disordered',\n",
       " 'bud',\n",
       " 'message',\n",
       " 'incontinently',\n",
       " 'mishaps',\n",
       " 'quicksand',\n",
       " 'clumsily',\n",
       " 'nap',\n",
       " 'soothing',\n",
       " 'Volcano',\n",
       " 'witcheries',\n",
       " 'churchyard',\n",
       " 'puff',\n",
       " 'intervened',\n",
       " 'place',\n",
       " 'unnearable',\n",
       " 'topmaul',\n",
       " 'lancet',\n",
       " 'exploding',\n",
       " 'systematized',\n",
       " 'breedeth',\n",
       " 'foreseeing',\n",
       " 'tin',\n",
       " 'reading',\n",
       " 'Muezzin',\n",
       " 'Honour',\n",
       " 'superhuman',\n",
       " 'adroitly',\n",
       " 'Highland',\n",
       " 'Daniel',\n",
       " 'fictitious',\n",
       " 'Oft',\n",
       " 'collaring',\n",
       " 'glances',\n",
       " 'stranger',\n",
       " 'cruise',\n",
       " 'embayed',\n",
       " 'breath',\n",
       " 'Oh',\n",
       " 'captains',\n",
       " 'Helm',\n",
       " 'event',\n",
       " 'Immemorial',\n",
       " 'Great',\n",
       " 'CIRCUMNAVIGATION',\n",
       " 'shallop',\n",
       " 'Should',\n",
       " 'sanctity',\n",
       " 'hall',\n",
       " 'accurately',\n",
       " 'nooses',\n",
       " 'unload',\n",
       " 'besmoked',\n",
       " 'quills',\n",
       " 'You',\n",
       " 'MOUNTED',\n",
       " 'halls',\n",
       " 'discharge',\n",
       " 'And',\n",
       " 'thoroughfares',\n",
       " 'header',\n",
       " 'Matsmai',\n",
       " 'time',\n",
       " 'outblown',\n",
       " 'oozy',\n",
       " 'sentimentalist',\n",
       " 'transformed',\n",
       " 'deplored',\n",
       " 'subtile',\n",
       " 'skill',\n",
       " 'Shaster',\n",
       " 'speedy',\n",
       " 'grudge',\n",
       " 'Amsterdam',\n",
       " 'fangs',\n",
       " 'memorable',\n",
       " 'rend',\n",
       " 'desperadoes',\n",
       " 'literal',\n",
       " 'Thrusting',\n",
       " 'Post',\n",
       " 'Manilla',\n",
       " 'reposing',\n",
       " 'curvicues',\n",
       " 'coats',\n",
       " 'settlers',\n",
       " 'SPOUTING',\n",
       " 'handy',\n",
       " 'Grampus',\n",
       " 'dubiously',\n",
       " 'forked',\n",
       " 'Upharsin',\n",
       " 'implicit',\n",
       " 'impotent',\n",
       " 'immersed',\n",
       " 'comforts',\n",
       " 'Oahu',\n",
       " 'forewarnings',\n",
       " 'against',\n",
       " 'flame',\n",
       " 'groupings',\n",
       " 'friends',\n",
       " 'Base',\n",
       " 'spademan',\n",
       " 'Buffalo',\n",
       " 'streets',\n",
       " 'expression',\n",
       " 'intemperately',\n",
       " 'literature',\n",
       " 'majestical',\n",
       " 'palms',\n",
       " 'Twas',\n",
       " '39',\n",
       " 'controllable',\n",
       " 'Ports',\n",
       " 'ancestry',\n",
       " 'Cistern',\n",
       " 'Sciences',\n",
       " 'drat',\n",
       " 'Fleece',\n",
       " 'pinmoney',\n",
       " 'mission',\n",
       " 'sleepy',\n",
       " 'stumps',\n",
       " 'dragging',\n",
       " 'superiority',\n",
       " 'Sell',\n",
       " 'reward',\n",
       " 'homes',\n",
       " 'unfinished',\n",
       " 'fastidious',\n",
       " 'popular',\n",
       " 'thinkest',\n",
       " 'abstract',\n",
       " 'Algerine',\n",
       " 'PILGRIM',\n",
       " 'stone',\n",
       " 'recklessly',\n",
       " 'couple',\n",
       " 'fireside',\n",
       " 'solve',\n",
       " 'pasteboard',\n",
       " 'LEVIATHAN',\n",
       " 'pike',\n",
       " 'peak',\n",
       " 'chace',\n",
       " 'vale',\n",
       " 'Nose',\n",
       " 'reduced',\n",
       " 'originated',\n",
       " 'athirst',\n",
       " 'acquiescence',\n",
       " 'territorial',\n",
       " 'oppose',\n",
       " 'unfulfilments',\n",
       " 'roly',\n",
       " 'ANCHORS',\n",
       " 'base',\n",
       " 'reiterated',\n",
       " 'dams',\n",
       " 'choked',\n",
       " 'bronze',\n",
       " 'noblemen',\n",
       " 'sympathy',\n",
       " 'REV',\n",
       " 'mythologies',\n",
       " 'Fe',\n",
       " 'artists',\n",
       " 'artificial',\n",
       " 'Floundered',\n",
       " 'repent',\n",
       " ...}"
      ]
     },
     "execution_count": 60,
     "metadata": {},
     "output_type": "execute_result"
    }
   ],
   "source": [
    "# 중복되는 단어들을 걸러내자\n",
    "set(moby.tokens)\n",
    "# set "
   ]
  },
  {
   "cell_type": "markdown",
   "id": "400af902-83ba-48b4-94b2-07367786a74d",
   "metadata": {},
   "source": [
    "- set\n",
    "    - {a, b, c, ...}\n",
    "    - 중복 불가능 # 중복되는 것을 걸러내어 하나로 나타내줌\n",
    "    - 수학의 집합과 동일한 개념\n",
    "    - 순서 없음\n",
    "- list\n",
    "    - [a, b, c]\n",
    "    - 중복 가능"
   ]
  },
  {
   "cell_type": "code",
   "execution_count": 61,
   "id": "a2d3a2b6-699a-40f6-9084-bf15c4945b27",
   "metadata": {},
   "outputs": [
    {
     "data": {
      "text/plain": [
       "{'benz', 'kia', 'porsche'}"
      ]
     },
     "execution_count": 61,
     "metadata": {},
     "output_type": "execute_result"
    }
   ],
   "source": [
    "cars = ['kia', 'benz', 'porsche','kia']\n",
    "set(cars)"
   ]
  },
  {
   "cell_type": "code",
   "execution_count": 63,
   "id": "db1a92c6-c574-4ce8-9e4c-db9466696ee9",
   "metadata": {},
   "outputs": [
    {
     "data": {
      "text/plain": [
       "19317"
      ]
     },
     "execution_count": 63,
     "metadata": {},
     "output_type": "execute_result"
    }
   ],
   "source": [
    "# 중복 없는 단어 수\n",
    "len(set(moby.tokens))\n",
    "# len이 수를 세어줌/ set이 중복되는 것을 하나로 나타내줌"
   ]
  },
  {
   "cell_type": "code",
   "execution_count": 64,
   "id": "148161e0-e771-4a40-8ca6-2bec6d970b6d",
   "metadata": {},
   "outputs": [
    {
     "data": {
      "text/plain": [
       "0.07406285585022564"
      ]
     },
     "execution_count": 64,
     "metadata": {},
     "output_type": "execute_result"
    }
   ],
   "source": [
    "# lexical diversity\n",
    "len(set(moby.tokens)) / len(moby.tokens)"
   ]
  },
  {
   "cell_type": "code",
   "execution_count": 65,
   "id": "dc3ce243-4811-4924-b906-d103f771251a",
   "metadata": {},
   "outputs": [
    {
     "data": {
      "text/plain": [
       "['benz', 'kia', 'kia', 'porsche']"
      ]
     },
     "execution_count": 65,
     "metadata": {},
     "output_type": "execute_result"
    }
   ],
   "source": [
    "# 오름차순, 내림차순 정렬\n",
    "cars = ['kia', 'benz', 'porsche','kia']\n",
    "sorted(cars)"
   ]
  },
  {
   "cell_type": "code",
   "execution_count": 67,
   "id": "9b7ad55f-7cb7-4aa9-9f0c-d845bef6ce5e",
   "metadata": {},
   "outputs": [
    {
     "data": {
      "text/plain": [
       "['porsche', 'kia', 'kia', 'benz']"
      ]
     },
     "execution_count": 67,
     "metadata": {},
     "output_type": "execute_result"
    }
   ],
   "source": [
    "sorted(cars, reverse = True)\n",
    "# reverse = True를 사용하면 반대로 나타내줌"
   ]
  },
  {
   "cell_type": "code",
   "execution_count": 68,
   "id": "30826078-b145-4df3-b99b-8a6d6ab01016",
   "metadata": {},
   "outputs": [
    {
     "data": {
      "text/plain": [
       "['zoology',\n",
       " 'zones',\n",
       " 'zoned',\n",
       " 'zone',\n",
       " 'zodiac',\n",
       " 'zig',\n",
       " 'zephyr',\n",
       " 'zeal',\n",
       " 'zay',\n",
       " 'zag']"
      ]
     },
     "execution_count": 68,
     "metadata": {},
     "output_type": "execute_result"
    }
   ],
   "source": [
    "# mobydick 정렬하기\n",
    "from nltk import book\n",
    "moby = book.text1\n",
    "sorted(set(moby.tokens))\n",
    "# 문자 부호가 문장(a,b,c, ...)보다 앞에 나옴, 이후 숫자, 대문자와 소문자가 다른데 대문자가 먼저임\n",
    "sorted(set(moby.tokens), reverse = True)[:10] #너무 많으니 코드 올리 때: \n"
   ]
  },
  {
   "cell_type": "markdown",
   "id": "f3c4ac77-1c69-4eb4-ab8f-d276e904b846",
   "metadata": {},
   "source": [
    "### Quiz 1.\n",
    "- text9에서 lexical diversity 계산하기\n",
    "- text6에서 중복없는 셋 내림차순 정렬하기\n",
    "    - a. 앞에서 단어 10개 추출하기\n",
    "    - b. 조건문 연습: 'z'가 있으면 대문자로 바꾸기, 'z'가 없는데 4자 이상이면 끝 글자 대문자로 바꾸기"
   ]
  },
  {
   "cell_type": "code",
   "execution_count": 69,
   "id": "592d566e-d558-42d4-b0b4-d80e1591a44d",
   "metadata": {},
   "outputs": [
    {
     "data": {
      "text/plain": [
       "0.0983485761345412"
      ]
     },
     "execution_count": 69,
     "metadata": {},
     "output_type": "execute_result"
    }
   ],
   "source": [
    "# Quiz1-1\n",
    "from nltk import book\n",
    "pro = book.text9\n",
    "len(set(pro.tokens)) / len(pro.tokens)"
   ]
  },
  {
   "cell_type": "code",
   "execution_count": 70,
   "id": "3f701829-8df3-4b28-a395-dbe68fa38115",
   "metadata": {},
   "outputs": [
    {
     "name": "stdout",
     "output_type": "stream",
     "text": [
      "['zoosh', 'zoop', 'zoo', 'zone', 'zhiv', 'yourself', 'yours', 'your', 'young', 'you']\n",
      "ZOOSH\n",
      "ZOOP\n",
      "ZOO\n",
      "ZONE\n",
      "ZHIV\n",
      "yourselF\n",
      "yourS\n",
      "youR\n",
      "younG\n",
      "you\n"
     ]
    }
   ],
   "source": [
    "# Quiz1-2\n",
    "pro6 = book.text6\n",
    "pro6_t = sorted(set(pro6), reverse = True)[:10]\n",
    "print(pro6_t)\n",
    "\n",
    "for i in pro6_t:\n",
    "    if 'z' in i:\n",
    "        result = i.upper()\n",
    "        print(result)\n",
    "    elif len(i) >= 4:\n",
    "        print(i[:-1], end=\"\")\n",
    "        result = i[-1].upper()\n",
    "        print(result)\n",
    "    else:\n",
    "        print(i)"
   ]
  },
  {
   "cell_type": "markdown",
   "id": "4cee69e0-a300-4fbe-bd24-5aa849c3f917",
   "metadata": {},
   "source": [
    "### Quiz 2.\n",
    "- 주민등록번호, 휴대폰 번호, 이메일 입력받는다.\n",
    "    - 주민번호, 휴대폰은 숫자만 입력 (-없다)\n",
    "    - 이메일은 아이디만 입력(@뒷부분 없음)\n",
    "- 출력:\n",
    "    -\"당신은 {}년 {}월 {}일 출생의 {남성/여성}입니다.\"\n",
    "    -휴대폰 번호: {} #하이픈으로 연결하기\n",
    "    - 이메일 주소: {아이디}@gmail.com"
   ]
  },
  {
   "cell_type": "code",
   "execution_count": 1,
   "id": "30c69039-d809-4d1e-90ea-16e1d8cd8ff2",
   "metadata": {},
   "outputs": [
    {
     "name": "stdin",
     "output_type": "stream",
     "text": [
      "주민등록번호를 입력하시오(하이픈 제외): 0212094000000\n",
      "휴대폰 번호를 입력하시오(하이픈 제외): 01012345678\n",
      "이메일을 입력하시오(아이디만 입력): kwon129\n"
     ]
    },
    {
     "name": "stdout",
     "output_type": "stream",
     "text": [
      "당신은 2002년 12월 09일 출생의 여성입니다.\n",
      "010-1234-5678\n",
      "kwon129@naver.com\n"
     ]
    }
   ],
   "source": [
    "jumin = input(\"주민등록번호를 입력하시오(하이픈 제외):\")\n",
    "phone = input(\"휴대폰 번호를 입력하시오(하이픈 제외):\")\n",
    "email = input(\"이메일을 입력하시오(아이디만 입력):\")\n",
    "month = jumin[2:4]\n",
    "day = jumin[4:6]\n",
    "\n",
    "if jumin[6] == '1':\n",
    "    year = int(jumin[:2]) + 1900\n",
    "    print(f'당신은 {year}년 {month}월 {day}일 출생의 남성입니다.')\n",
    "elif jumin[6] == '3':\n",
    "    year = int(jumin[:2]) + 2000\n",
    "    print(f'당신은 {year}년 {month}월 {day}일 출생의 남성입니다.')\n",
    "elif jumin[6] == '2':\n",
    "    year = int(jumin[:2]) + 1900\n",
    "    print(f'당신은 {year}년 {month}월 {day}일 출생의 여성입니다.')\n",
    "elif jumin[6] == '4':\n",
    "    year = int(jumin[:2]) + 2000\n",
    "    print(f'당신은 {year}년 {month}월 {day}일 출생의 여성입니다.')   \n",
    "else:\n",
    "    print(\"다시 입력하시오\")\n",
    "\n",
    "print(phone[:3]+'-'+phone[3:7]+'-'+phone[7:])\n",
    "print(email + '@naver.com')"
   ]
  },
  {
   "cell_type": "code",
   "execution_count": null,
   "id": "70dbd996-ca6b-491d-ba9d-9c426e55bc4f",
   "metadata": {},
   "outputs": [],
   "source": []
  }
 ],
 "metadata": {
  "kernelspec": {
   "display_name": "Python 3 (ipykernel)",
   "language": "python",
   "name": "python3"
  },
  "language_info": {
   "codemirror_mode": {
    "name": "ipython",
    "version": 3
   },
   "file_extension": ".py",
   "mimetype": "text/x-python",
   "name": "python",
   "nbconvert_exporter": "python",
   "pygments_lexer": "ipython3",
   "version": "3.9.7"
  }
 },
 "nbformat": 4,
 "nbformat_minor": 5
}
